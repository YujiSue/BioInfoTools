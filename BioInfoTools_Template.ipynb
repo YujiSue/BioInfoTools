{
  "nbformat": 4,
  "nbformat_minor": 0,
  "metadata": {
    "colab": {
      "name": "BioInfoTools Template.ipynb",
      "provenance": [],
      "collapsed_sections": [],
      "authorship_tag": "ABX9TyOFiUThzD5S/eQXS/q1Yfzk",
      "include_colab_link": true
    },
    "kernelspec": {
      "name": "python3",
      "display_name": "Python 3"
    }
  },
  "cells": [
    {
      "cell_type": "markdown",
      "metadata": {
        "id": "view-in-github",
        "colab_type": "text"
      },
      "source": [
        "<a href=\"https://colab.research.google.com/github/YujiSue/BioInfoTools/blob/master/BioInfoTools_Template.ipynb\" target=\"_parent\"><img src=\"https://colab.research.google.com/assets/colab-badge.svg\" alt=\"Open In Colab\"/></a>"
      ]
    },
    {
      "cell_type": "markdown",
      "metadata": {
        "id": "ynOt-N9e7a4p",
        "colab_type": "text"
      },
      "source": [
        "# Installation and usage of [BioInfoTools](https://github.com/YujiSue/BioInfoTools) on Google Colab."
      ]
    },
    {
      "cell_type": "markdown",
      "metadata": {
        "id": "N7LD1IzVUbSi",
        "colab_type": "text"
      },
      "source": [
        "\n",
        "## 1. Install the requierd libraries   \n",
        "### (i) Execute the below cell."
      ]
    },
    {
      "cell_type": "code",
      "metadata": {
        "id": "A3rW4pP_T8Wo",
        "colab_type": "code",
        "colab": {}
      },
      "source": [
        "!wget https://raw.githubusercontent.com/YujiSue/slib/master/include/sconfig.h\n",
        "!wget https://raw.githubusercontent.com/YujiSue/slib/master/include/sobj.h\n",
        "!wget https://raw.githubusercontent.com/YujiSue/Lemegeton/master/Goetia.h\n",
        "!wget https://raw.githubusercontent.com/YujiSue/Lemegeton/master/Goetia.cpp\n",
        "!g++ -std=c++11 -Wall -O2 -o ./Goetia Goetia.cpp\n",
        "\n",
        "import os\n",
        "os.system('./Goetia -sOAI')\n",
        "!sudo cp ./sconfig.h /usr/local/include/slib\n",
        "!sudo cp ./sobj.h /usr/local/include/slib"
      ],
      "execution_count": null,
      "outputs": []
    },
    {
      "cell_type": "markdown",
      "metadata": {
        "id": "ZSsHKTPDUzrV",
        "colab_type": "text"
      },
      "source": [
        "## 2. Install the applications \n",
        "### (i) Check the apps which to use on the right panel.   \n",
        "### (ii) Execute the cell."
      ]
    },
    {
      "cell_type": "code",
      "metadata": {
        "id": "AQudXWXMTQBm",
        "colab_type": "code",
        "colab": {}
      },
      "source": [
        "#@title ## Select apps\n",
        "Install_GenomeConverter = False #@param {type:\"boolean\"}\n",
        "Install_GenomeExtract = False #@param {type:\"boolean\"}\n",
        "Install_GFFParser = False #@param {type:\"boolean\"}\n",
        "Install_AnnotDBMake = False #@param {type:\"boolean\"}\n",
        "C_elegansDB = False #@param {type:\"boolean\"}\n",
        "H_sapiensDB = False #@param {type:\"boolean\"}\n",
        "Install_BioAnnotation = False #@param {type:\"boolean\"}\n",
        "Install_VariantDetect = False #@param {type:\"boolean\"}\n",
        "Install_GeneMapSVG = False #@param {type:\"boolean\"}\n",
        "!mkdir -p src\n",
        "!mkdir -p app\n",
        "if (Install_GenomeConverter):\n",
        "  os.system('wget https://raw.githubusercontent.com/YujiSue/BioInfoTools/master/GenomeConverter/GenomeConverter.cpp -o ./src/GenomeConverter.cpp')\n",
        "  os.system('g++ -std=c++11 -I/usr/local/include/slib -L/usr/local/lib -O2 -o ./app/GenomeConverter GenomeConverter.cpp -lsobj -lsbioinfo -lsapp')\n",
        "if (Install_GenomeExtract):\n",
        "  os.system('wget https://raw.githubusercontent.com/YujiSue/BioInfoTools/master/GenomeExtract/GenomeExtract.cpp -o ./src/GenomeExtract.cpp')\n",
        "  os.system('g++ -std=c++11 -I/usr/local/include/slib -L/usr/local/lib -O2 -o ./app/GenomeExtract GenomeExtract.cpp -lsobj -lsbioinfo -lsapp')\n",
        "if (Install_GFFParser):\n",
        "  os.system('wget https://raw.githubusercontent.com/YujiSue/BioInfoTools/master/GFFParser/GFFParser.cpp -o ./src/GFFParser.cpp')\n",
        "  os.system('g++ -std=c++11 -I/usr/local/include/slib -L/usr/local/lib -O2 -o ./app/GFFParser GFFParser.cpp -lsobj -lsbioinfo -lsapp')\n",
        "if (Install_AnnotDBMake):\n",
        "  os.system('wget https://raw.githubusercontent.com/YujiSue/BioInfoTools/master/AnnotDBMake/AnnotDBMake.cpp -o ./src/AnnotDBMake.cpp')\n",
        "  os.system('g++ -std=c++11 -I/usr/local/include/slib -L/usr/local/lib -O2 -o ./app/AnnotDBMake AnnotDBMake.cpp -lsobj -lsbioinfo -lsapp')\n",
        "\n",
        "\n"
      ],
      "execution_count": null,
      "outputs": []
    },
    {
      "cell_type": "markdown",
      "metadata": {
        "id": "YgNMS__cTzLc",
        "colab_type": "text"
      },
      "source": [
        "# 3 Usage of each app"
      ]
    },
    {
      "cell_type": "markdown",
      "metadata": {
        "id": "dubeh9XA81z6",
        "colab_type": "text"
      },
      "source": [
        "## 3-1. GenomeConverter\n",
        "(I) Download the genomic sequence (fasta format) from database sites such as [NCBI Refseq](https://www.ncbi.nlm.nih.gov/refseq/), or upload the sequence data on your computer according to the [google colab's manual](https://colab.research.google.com/notebooks/io.ipynb#scrollTo=eikfzi8ZT_rW).  \n"
      ]
    },
    {
      "cell_type": "code",
      "metadata": {
        "id": "iv5d5RUI8_-n",
        "colab_type": "code",
        "colab": {}
      },
      "source": [
        "## Example1 (H.sapiens)\n"
      ],
      "execution_count": null,
      "outputs": []
    },
    {
      "cell_type": "code",
      "metadata": {
        "id": "d2Obz4oe9Fg3",
        "colab_type": "code",
        "colab": {}
      },
      "source": [
        "## Example2 (C.elegans)\n",
        "!curl -O ftp://ftp.wormbase.org/pub/wormbase/species/c_elegans/PRJNA13758/sequence/genomic/c_elegans.PRJNA13758.WS274.genomic.fa.gz\n",
        "!gzip -d c_elegans.PRJNA13758.WS274.genomic.fa.gz"
      ],
      "execution_count": null,
      "outputs": []
    },
    {
      "cell_type": "markdown",
      "metadata": {
        "id": "zoHkOeA0-Jum",
        "colab_type": "text"
      },
      "source": [
        "(II) Execute the following command.\n",
        "You can find the \"nematode.bin\" on \n",
        "\n",
        "\n",
        "\n",
        "\n"
      ]
    },
    {
      "cell_type": "code",
      "metadata": {
        "id": "f-5VRnRzM4bX",
        "colab_type": "code",
        "colab": {}
      },
      "source": [
        "./GenomeConverter -l -s \"C. elegans\" -r WS274 -o nematode.bin c_elegans.PRJNA13758.WS274.genomic.fa"
      ],
      "execution_count": null,
      "outputs": []
    },
    {
      "cell_type": "markdown",
      "metadata": {
        "id": "L9g5N84a-J_U",
        "colab_type": "text"
      },
      "source": [
        "### 3-2. GenomeExtract"
      ]
    },
    {
      "cell_type": "markdown",
      "metadata": {
        "id": "dxgu2zEj-KP3",
        "colab_type": "text"
      },
      "source": [
        ""
      ]
    },
    {
      "cell_type": "code",
      "metadata": {
        "id": "ku0N90xe-fLr",
        "colab_type": "code",
        "colab": {}
      },
      "source": [
        ""
      ],
      "execution_count": null,
      "outputs": []
    }
  ]
}