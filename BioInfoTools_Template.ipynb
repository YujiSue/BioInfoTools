{
  "nbformat": 4,
  "nbformat_minor": 0,
  "metadata": {
    "colab": {
      "name": "BioInfoTools_Template.ipynb",
      "provenance": [],
      "collapsed_sections": [
        "lOVAFsuuqFEJ",
        "sMR0-9xwqSQl",
        "9FPooEBxI0nI",
        "HfocWqchod6A",
        "7CgNTT19okz_",
        "I3kNwXkRoldj",
        "pokeYokoE3BD",
        "2hq2fdlAE3Pz",
        "b_bNuVYhE4UX",
        "HXfY9DVHFBhT",
        "iS7DOEM9FgMU",
        "57zVmcBnFBz2",
        "MSGiw5GbKWHV",
        "WzHy98GlMopg",
        "0sS5Zvb6Mo4M"
      ],
      "authorship_tag": "ABX9TyPMV3BRAqKnKzggzjeZkiPP",
      "include_colab_link": true
    },
    "kernelspec": {
      "name": "python3",
      "display_name": "Python 3"
    }
  },
  "cells": [
    {
      "cell_type": "markdown",
      "metadata": {
        "id": "view-in-github",
        "colab_type": "text"
      },
      "source": [
        "<a href=\"https://colab.research.google.com/github/YujiSue/BioInfoTools/blob/master/BioInfoTools_Template.ipynb\" target=\"_parent\"><img src=\"https://colab.research.google.com/assets/colab-badge.svg\" alt=\"Open In Colab\"/></a>"
      ]
    },
    {
      "cell_type": "markdown",
      "metadata": {
        "id": "lOVAFsuuqFEJ"
      },
      "source": [
        "# About this note\n",
        "This note is the templates to use my C++ bioinformatics apps on the Google Colab.  "
      ]
    },
    {
      "cell_type": "markdown",
      "metadata": {
        "id": "sMR0-9xwqSQl"
      },
      "source": [
        "# Procedures\n",
        "1. Install the required libraries.  \n",
        "\\* The installed libraries will be deleted at the termination of this session.  \n",
        "Please execute this step every time you start a new session on the Google Colab.  \n",
        "  \n",
        "2. Install each app by executing the commands described on each section."
      ]
    },
    {
      "cell_type": "markdown",
      "metadata": {
        "id": "qCr2AZY7OzZF"
      },
      "source": [
        "# Installation of required libraries\n"
      ]
    },
    {
      "cell_type": "code",
      "metadata": {
        "id": "tlB_pq-T9Uxq"
      },
      "source": [
        "!wget https://raw.githubusercontent.com/YujiSue/slib/master/include/sconfig.h\n",
        "!wget https://raw.githubusercontent.com/YujiSue/slib/master/include/sobj.h\n",
        "!wget https://raw.githubusercontent.com/YujiSue/Lemegeton/master/Goetia.h\n",
        "!wget https://raw.githubusercontent.com/YujiSue/Lemegeton/master/Goetia.cpp\n",
        "!g++ -std=c++11 -Wall -O2 -o ./Goetia Goetia.cpp\n",
        "import os\n",
        "os.environ['PATH'] += ':/usr/local/lib' \n",
        "os.environ['LD_LIBRARY_PATH'] += ':/usr/local/lib'\n",
        "os.system('./Goetia -sOAI')"
      ],
      "execution_count": null,
      "outputs": []
    },
    {
      "cell_type": "markdown",
      "metadata": {
        "id": "64E92VECCOOJ"
      },
      "source": [
        "#GenomeConverter"
      ]
    },
    {
      "cell_type": "markdown",
      "metadata": {
        "id": "SJ1MQcawDQ24"
      },
      "source": [
        "##  Installation\n",
        "Execute the following commands.\n"
      ]
    },
    {
      "cell_type": "code",
      "metadata": {
        "id": "cZ0FP6I3DNIE"
      },
      "source": [
        "!mkdir -p Codes\n",
        "!wget https://raw.githubusercontent.com/YujiSue/BioInfoTools/master/GenomeConverter/GenomeConverter.cpp -O Codes/GenomeConverter.cpp\n",
        "!g++ -std=c++11 -I/usr/local/include/slib -L/usr/local/lib -O2 -o GenomeConverter Codes/GenomeConverter.cpp -lsapp -lsbioinfo -lsobj -lcurl"
      ],
      "execution_count": null,
      "outputs": []
    },
    {
      "cell_type": "markdown",
      "metadata": {
        "id": "jNvG4KYqDTF1"
      },
      "source": [
        "## Usage example (H.sapiens)"
      ]
    },
    {
      "cell_type": "code",
      "metadata": {
        "id": "__m8ttNPDVUv",
        "outputId": "88a9749a-a614-4148-cdfc-33d14941864e",
        "colab": {
          "base_uri": "https://localhost:8080/",
          "height": 124
        }
      },
      "source": [
        "# Download and expand reference fasta\n",
        "!curl -O ftp://ftp.ncbi.nlm.nih.gov/genomes/all/GCF/000/001/405/GCF_000001405.39_GRCh38.p13/GCF_000001405.39_GRCh38.p13_genomic.fna.gz\n",
        "!gzip -d GCF_000001405.39_GRCh38.p13_genomic.fna.gz\n",
        "# Execute app\n",
        "!./GenomeConverter -l -s \"H. sapiens\" -r GRCh38.p13 -o human.bin GCF_000001405.39_GRCh38.p13_genomic.fna"
      ],
      "execution_count": null,
      "outputs": [
        {
          "output_type": "stream",
          "text": [
            "  % Total    % Received % Xferd  Average Speed   Time    Time     Time  Current\n",
            "                                 Dload  Upload   Total   Spent    Left  Speed\n",
            "100  920M  100  920M    0     0   155M      0  0:00:05  0:00:05 --:--:--  172M\n",
            "loading 'GCF_000001405.39_GRCh38.p13_genomic.fna'\n",
            "exporting... 'human.bin'\n",
            "Completed.\n"
          ],
          "name": "stdout"
        }
      ]
    },
    {
      "cell_type": "markdown",
      "metadata": {
        "id": "9FPooEBxI0nI"
      },
      "source": [
        "## Usage example (C.elegans)"
      ]
    },
    {
      "cell_type": "code",
      "metadata": {
        "id": "jcH1ZdMqLQHi",
        "outputId": "d96c2c71-e992-4916-afc8-4b5ec6f32523",
        "colab": {
          "base_uri": "https://localhost:8080/",
          "height": 124
        }
      },
      "source": [
        "# Download and expand reference fasta\n",
        "!curl -O ftp://ftp.wormbase.org/pub/wormbase/species/c_elegans/sequence/genomic/c_elegans.PRJNA13758.current.genomic.fa.gz\n",
        "!gzip -d c_elegans.PRJNA13758.current.genomic.fa.gz\n",
        "# Execute app\n",
        "!./GenomeConverter -l -s \"C. elegans\" -r WS274 -o nematode.bin c_elegans.PRJNA13758.current.genomic.fa"
      ],
      "execution_count": null,
      "outputs": [
        {
          "output_type": "stream",
          "text": [
            "  % Total    % Received % Xferd  Average Speed   Time    Time     Time  Current\n",
            "                                 Dload  Upload   Total   Spent    Left  Speed\n",
            "100 27.7M  100 27.7M    0     0  39.2M      0 --:--:-- --:--:-- --:--:-- 39.2M\n",
            "loading 'c_elegans.PRJNA13758.current.genomic.fa'\n",
            "exporting... 'nematode.bin'\n",
            "Completed.\n"
          ],
          "name": "stdout"
        }
      ]
    },
    {
      "cell_type": "markdown",
      "metadata": {
        "id": "HfocWqchod6A"
      },
      "source": [
        "# GenomeExtract"
      ]
    },
    {
      "cell_type": "markdown",
      "metadata": {
        "id": "7CgNTT19okz_"
      },
      "source": [
        "##  Installation\n",
        "Execute the following commands."
      ]
    },
    {
      "cell_type": "code",
      "metadata": {
        "id": "0dLfnLJQolSk"
      },
      "source": [
        "!mkdir -p Codes\n",
        "!wget https://raw.githubusercontent.com/YujiSue/BioInfoTools/master/GenomeExtract/GenomeExtract.cpp -O Codes/GenomeExtract.cpp\n",
        "!g++ -std=c++11 -I/usr/local/include/slib -L/usr/local/lib -O2 -o GenomeExtract Codes/GenomeExtract.cpp -lsapp -lsbioinfo -lsobj -lcurl"
      ],
      "execution_count": null,
      "outputs": []
    },
    {
      "cell_type": "markdown",
      "metadata": {
        "id": "I3kNwXkRoldj"
      },
      "source": [
        "## Usage example\n",
        "* Prepare the encoded genomic sequence file using the GenomeConverter."
      ]
    },
    {
      "cell_type": "code",
      "metadata": {
        "id": "D-UDOktcolnF",
        "outputId": "971d6a26-3cdc-45da-b645-193f94cbb574",
        "colab": {
          "base_uri": "https://localhost:8080/",
          "height": 55
        }
      },
      "source": [
        "# Execute app\n",
        "!./GenomeExtract -r human.bin --rev 17:7687000..7687550"
      ],
      "execution_count": null,
      "outputs": [
        {
          "output_type": "stream",
          "text": [
            "GATGGGATTGGGGTTTTCCCCTCCCATGTGCTCAAGACTGGCGCTAAAAGTTTTGAGCTTCTCAAAAGTCTAGAGCCACCGTCCAGGGAGCAGGTAGCTGCTGGGCTCCGGGGACACTTTGCGTTCGGGCTGGGAGCGTGCTTTCCACGACGGTGACACGCTTCCCTGGATTGGGTAAGCTCCTGACTGAACTTGATGAGTCCTCTCTGAGTCACGGGCTCTCGGCTCCGTGTATTTTCAGCTCGGGAAAATCGCTGGGGCTGGGGGTGGGGCAGAGGGGACTTAGCGAGTTTGGGGGTGAGTGGGATGGAAGCTTGGCTAGAGGGATCATCATAGGAGTTGCATTGTTGGGAGACCTGGGTGTAGATGATGGGGATGTTAGGACCATCCGAACTCAAAGTTGAACGCCTAGGCAGAGGAGTGGAGCTTTGGGGAACCTTGAGCCGGCCTAAAGCGTACTTCTTTGCACATCCACCCGGTGCTGGGCGTAGGGAATCCCTGAAATAAAAGATGCACAAAGCATTGAGGTCTGAGACTTTTGGATCTCGAAA\n"
          ],
          "name": "stdout"
        }
      ]
    },
    {
      "cell_type": "markdown",
      "metadata": {
        "id": "7kZ1J6mAE0wX"
      },
      "source": [
        "# GFFParser"
      ]
    },
    {
      "cell_type": "markdown",
      "metadata": {
        "id": "pokeYokoE3BD"
      },
      "source": [
        "##  Installation\n",
        "Execute the following commands."
      ]
    },
    {
      "cell_type": "code",
      "metadata": {
        "id": "IqxXn0fkE3Hv"
      },
      "source": [
        "!mkdir -p Codes\n",
        "!wget https://raw.githubusercontent.com/YujiSue/BioInfoTools/master/GFFParser/GFFParser.cpp -O Codes/GFFParser.cpp\n",
        "!g++ -std=c++11 -I/usr/local/include/slib -L/usr/local/lib -O2 -o GFFParser Codes/GFFParser.cpp -lsapp -lsbioinfo -lsobj -lcurl"
      ],
      "execution_count": null,
      "outputs": []
    },
    {
      "cell_type": "markdown",
      "metadata": {
        "id": "2hq2fdlAE3Pz"
      },
      "source": [
        "## Usage example (H.sapiens)"
      ]
    },
    {
      "cell_type": "code",
      "metadata": {
        "id": "3JtkAcWRE3XL",
        "outputId": "af65b9d1-23be-49eb-e3ee-afb27bf58cbe",
        "colab": {
          "base_uri": "https://localhost:8080/",
          "height": 1000
        }
      },
      "source": [
        "#Download gff3 file\n",
        "!curl -O ftp://ftp.ensembl.org/pub/release-99/gff3/homo_sapiens/Homo_sapiens.GRCh38.99.chr.gff3.gz\n",
        "!gzip -d Homo_sapiens.GRCh38.99.chr.gff3.gz\n",
        "!./GFFParser Homo_sapiens.GRCh38.99.chr.gff3    "
      ],
      "execution_count": null,
      "outputs": [
        {
          "output_type": "stream",
          "text": [
            "  % Total    % Received % Xferd  Average Speed   Time    Time     Time  Current\n",
            "                                 Dload  Upload   Total   Spent    Left  Speed\n",
            "100 39.3M  100 39.3M    0     0  11.2M      0  0:00:03  0:00:03 --:--:-- 11.2M\n",
            "gzip: Homo_sapiens.GRCh38.99.chr.gff3 already exists; do you wish to overwrite (y or n)? y\n",
            "havana\tgene\t[\"description\",\"logic_name\",\"ID\",\"gene_id\",\"biotype\",\"version\"]\n",
            "havana\tthree_prime_UTR\t[\"Parent\"]\n",
            "havana\tunconfirmed_transcript\t[\"ID\",\"Parent\",\"tag\",\"Name\",\"biotype\",\"transcript_support_level\",\"version\",\"transcript_id\"]\n",
            "havana\tC_gene_segment\t[\"ID\",\"Parent\",\"tag\",\"Name\",\"biotype\",\"transcript_support_level\",\"version\",\"transcript_id\"]\n",
            "havana\tV_gene_segment\t[\"ID\",\"Parent\",\"tag\",\"Name\",\"biotype\",\"transcript_support_level\",\"version\",\"transcript_id\"]\n",
            "havana\tsnoRNA\t[\"ID\",\"Parent\",\"tag\",\"Name\",\"biotype\",\"transcript_support_level\",\"version\",\"transcript_id\"]\n",
            "havana\tpseudogenic_transcript\t[\"ID\",\"Parent\",\"tag\",\"Name\",\"biotype\",\"transcript_support_level\",\"version\",\"transcript_id\"]\n",
            "havana\tvaultRNA_primary_transcript\t[\"ID\",\"Parent\",\"tag\",\"Name\",\"biotype\",\"transcript_support_level\",\"version\",\"transcript_id\"]\n",
            "havana\tfive_prime_UTR\t[\"Parent\"]\n",
            "havana\tCDS\t[\"protein_id\",\"Parent\"]\n",
            "havana\tD_gene_segment\t[\"ID\",\"Parent\",\"tag\",\"Name\",\"biotype\",\"transcript_support_level\",\"version\",\"transcript_id\"]\n",
            "havana\tpseudogene\t[\"description\",\"logic_name\",\"ID\",\"gene_id\",\"biotype\",\"version\"]\n",
            "havana\tncRNA_gene\t[\"description\",\"logic_name\",\"ID\",\"gene_id\",\"biotype\",\"version\"]\n",
            "havana\tsnRNA\t[\"ID\",\"Parent\",\"tag\",\"Name\",\"biotype\",\"version\",\"transcript_id\",\"transcript_support_level\"]\n",
            "havana\tmRNA\t[\"ID\",\"Parent\",\"tag\",\"Name\",\"biotype\",\"version\",\"transcript_id\",\"transcript_support_level\",\"ccdsid\"]\n",
            "havana\tJ_gene_segment\t[\"ID\",\"Parent\",\"tag\",\"Name\",\"biotype\",\"transcript_support_level\",\"version\",\"transcript_id\"]\n",
            "havana\tscRNA\t[\"ID\",\"Parent\",\"tag\",\"Name\",\"biotype\",\"transcript_support_level\",\"version\",\"transcript_id\"]\n",
            "havana\tlnc_RNA\t[\"ID\",\"Parent\",\"tag\",\"Name\",\"biotype\",\"transcript_support_level\",\"version\",\"transcript_id\"]\n",
            "havana\texon\t[\"Parent\",\"constitutive\",\"ensembl_end_phase\",\"exon_id\",\"Name\",\"ensembl_phase\",\"rank\",\"version\"]\n",
            "ensembl\tgene\t[\"description\",\"logic_name\",\"ID\",\"gene_id\",\"biotype\",\"version\"]\n",
            "ensembl\ttRNA\t[\"ID\",\"Parent\",\"tag\",\"Name\",\"biotype\",\"transcript_support_level\",\"version\",\"transcript_id\"]\n",
            "ensembl\tthree_prime_UTR\t[\"Parent\"]\n",
            "ensembl\tunconfirmed_transcript\t[\"ID\",\"Parent\",\"Name\",\"biotype\",\"transcript_support_level\",\"version\",\"transcript_id\",\"tag\"]\n",
            "ensembl\tsnoRNA\t[\"ID\",\"Parent\",\"tag\",\"Name\",\"biotype\",\"transcript_support_level\",\"version\",\"transcript_id\"]\n",
            "ensembl\tfive_prime_UTR\t[\"Parent\"]\n",
            "ensembl\tCDS\t[\"protein_id\",\"Parent\"]\n",
            "ensembl\tpseudogenic_transcript\t[\"ID\",\"Parent\",\"tag\",\"Name\",\"biotype\",\"transcript_support_level\",\"version\",\"transcript_id\"]\n",
            "ensembl\tncRNA\t[\"ID\",\"Parent\",\"tag\",\"Name\",\"biotype\",\"transcript_support_level\",\"version\",\"transcript_id\"]\n",
            "ensembl\tpseudogene\t[\"description\",\"logic_name\",\"ID\",\"gene_id\",\"biotype\",\"version\"]\n",
            "ensembl\tncRNA_gene\t[\"description\",\"logic_name\",\"ID\",\"gene_id\",\"biotype\",\"version\"]\n",
            "ensembl\tsnRNA\t[\"ID\",\"Parent\",\"tag\",\"Name\",\"biotype\",\"transcript_support_level\",\"version\",\"transcript_id\"]\n",
            "ensembl\trRNA\t[\"ID\",\"Parent\",\"tag\",\"Name\",\"biotype\",\"transcript_support_level\",\"version\",\"transcript_id\"]\n",
            "ensembl\tmRNA\t[\"ID\",\"Parent\",\"ccdsid\",\"tag\",\"Name\",\"biotype\",\"transcript_support_level\",\"version\",\"transcript_id\"]\n",
            "ensembl\tscRNA\t[\"ID\",\"Parent\",\"tag\",\"Name\",\"biotype\",\"transcript_support_level\",\"version\",\"transcript_id\"]\n",
            "ensembl\texon\t[\"Parent\",\"constitutive\",\"ensembl_end_phase\",\"exon_id\",\"Name\",\"ensembl_phase\",\"rank\",\"version\"]\n",
            "ensembl\tlnc_RNA\t[\"ID\",\"Parent\",\"tag\",\"Name\",\"biotype\",\"transcript_support_level\",\"version\",\"transcript_id\"]\n",
            "ensembl_havana\tgene\t[\"description\",\"logic_name\",\"ID\",\"gene_id\",\"biotype\",\"version\"]\n",
            "ensembl_havana\tncRNA_gene\t[\"description\",\"logic_name\",\"ID\",\"gene_id\",\"biotype\",\"version\"]\n",
            "ensembl_havana\tpseudogene\t[\"description\",\"logic_name\",\"ID\",\"gene_id\",\"biotype\",\"version\"]\n",
            "ensembl_havana\tthree_prime_UTR\t[\"Parent\"]\n",
            "ensembl_havana\tunconfirmed_transcript\t[\"ID\",\"Parent\",\"tag\",\"Name\",\"biotype\",\"transcript_support_level\",\"version\",\"transcript_id\"]\n",
            "ensembl_havana\tC_gene_segment\t[\"ID\",\"Parent\",\"Name\",\"biotype\",\"transcript_support_level\",\"version\",\"transcript_id\"]\n",
            "ensembl_havana\tmRNA\t[\"ID\",\"Parent\",\"ccdsid\",\"tag\",\"Name\",\"biotype\",\"transcript_support_level\",\"version\",\"transcript_id\"]\n",
            "ensembl_havana\tV_gene_segment\t[\"ID\",\"Parent\",\"tag\",\"Name\",\"biotype\",\"transcript_support_level\",\"version\",\"transcript_id\"]\n",
            "ensembl_havana\tCDS\t[\"protein_id\",\"Parent\"]\n",
            "ensembl_havana\tpseudogenic_transcript\t[\"ID\",\"Parent\",\"tag\",\"Name\",\"biotype\",\"transcript_support_level\",\"version\",\"transcript_id\"]\n",
            "ensembl_havana\tfive_prime_UTR\t[\"Parent\"]\n",
            "ensembl_havana\texon\t[\"Parent\",\"constitutive\",\"ensembl_end_phase\",\"exon_id\",\"Name\",\"ensembl_phase\",\"rank\",\"version\"]\n",
            "ensembl_havana\tlnc_RNA\t[\"ID\",\"Parent\",\"Name\",\"biotype\",\"transcript_support_level\",\"version\",\"transcript_id\",\"tag\"]\n",
            "mirbase\tncRNA_gene\t[\"description\",\"logic_name\",\"ID\",\"gene_id\",\"biotype\",\"version\"]\n",
            "mirbase\tmiRNA\t[\"ID\",\"Parent\",\"tag\",\"Name\",\"biotype\",\"transcript_support_level\",\"version\",\"transcript_id\"]\n",
            "mirbase\texon\t[\"Parent\",\"constitutive\",\"ensembl_end_phase\",\"exon_id\",\"Name\",\"ensembl_phase\",\"rank\",\"version\"]\n",
            "insdc\tgene\t[\"description\",\"logic_name\",\"ID\",\"gene_id\",\"biotype\",\"version\"]\n",
            "insdc\tncRNA_gene\t[\"description\",\"logic_name\",\"ID\",\"gene_id\",\"biotype\",\"version\"]\n",
            "Ensembl\tchromosome\t[\"ID\",\"Alias\"]\n",
            "havana_tagene\tncRNA_gene\t[\"description\",\"logic_name\",\"ID\",\"gene_id\",\"biotype\",\"version\"]\n",
            "havana_tagene\tlnc_RNA\t[\"ID\",\"Parent\",\"tag\",\"Name\",\"biotype\",\"version\",\"transcript_id\",\"transcript_support_level\"]\n",
            "havana_tagene\texon\t[\"Parent\",\"constitutive\",\"ensembl_end_phase\",\"exon_id\",\"Name\",\"ensembl_phase\",\"rank\",\"version\"]\n",
            ".\tbiological_region\t[\"logic_name\",\"external_name\"]\n",
            "ensembl_havana_tagene\tlnc_RNA\t[\"ID\",\"Parent\",\"tag\",\"Name\",\"biotype\",\"version\",\"transcript_id\",\"transcript_support_level\"]\n",
            "ensembl_havana_tagene\texon\t[\"Parent\",\"constitutive\",\"ensembl_end_phase\",\"exon_id\",\"Name\",\"ensembl_phase\",\"rank\",\"version\"]\n"
          ],
          "name": "stdout"
        }
      ]
    },
    {
      "cell_type": "markdown",
      "metadata": {
        "id": "b_bNuVYhE4UX"
      },
      "source": [
        "# AnnotDBMaker"
      ]
    },
    {
      "cell_type": "markdown",
      "metadata": {
        "id": "HXfY9DVHFBhT"
      },
      "source": [
        "## Installation of main program"
      ]
    },
    {
      "cell_type": "code",
      "metadata": {
        "id": "Nf4A65OVFBr_"
      },
      "source": [
        "!mkdir -p Codes\n",
        "!wget https://raw.githubusercontent.com/YujiSue/BioInfoTools/master/GenomeExtract/GenomeExtract.cpp -O Codes/GenomeExtract.cpp\n",
        "!g++ -std=c++11 -I/usr/local/include/slib -L/usr/local/lib -O2 -o GFFParser Codes/GFFParser.cpp -lsapp -lsbioinfo -lsobj -lcurl"
      ],
      "execution_count": null,
      "outputs": []
    },
    {
      "cell_type": "markdown",
      "metadata": {
        "id": "iS7DOEM9FgMU"
      },
      "source": [
        "## Installation of plugin"
      ]
    },
    {
      "cell_type": "code",
      "metadata": {
        "id": "DYjJx_CNFhuj"
      },
      "source": [
        "## Human\n",
        "!wget https://raw.githubusercontent.com/YujiSue/BioInfoTools/master/GenomeExtract/GenomeExtract.cpp -O Codes/GenomeExtract.cpp\n",
        "!g++ -std=c++11 -I/usr/local/include/slib -L/usr/local/lib -O2 -o GFFParser Codes/GFFParser.cpp -lsapp -lsbioinfo -lsobj -lcurl"
      ],
      "execution_count": null,
      "outputs": []
    },
    {
      "cell_type": "code",
      "metadata": {
        "id": "4eJkbk3oFrLy"
      },
      "source": [
        "## Nematode\n",
        "!wget https://raw.githubusercontent.com/YujiSue/BioInfoTools/master/GenomeExtract/GenomeExtract.cpp -O Codes/GenomeExtract.cpp\n",
        "!g++ -std=c++11 -I/usr/local/include/slib -L/usr/local/lib -O2 -o GFFParser Codes/GFFParser.cpp -lsapp -lsbioinfo -lsobj -lcurl"
      ],
      "execution_count": null,
      "outputs": []
    },
    {
      "cell_type": "markdown",
      "metadata": {
        "id": "57zVmcBnFBz2"
      },
      "source": [
        "## Usage example\n",
        "* Prepare the encoded g"
      ]
    },
    {
      "cell_type": "code",
      "metadata": {
        "id": "vCccA2BpKYAI"
      },
      "source": [
        ""
      ],
      "execution_count": null,
      "outputs": []
    },
    {
      "cell_type": "markdown",
      "metadata": {
        "id": "p6OM3aYxKM3J"
      },
      "source": [
        "# BioAnnotation"
      ]
    },
    {
      "cell_type": "markdown",
      "metadata": {
        "id": "UogfWauQKqwW"
      },
      "source": [
        "##  Installation\n",
        "Execute the following commands."
      ]
    },
    {
      "cell_type": "code",
      "metadata": {
        "id": "mxZB819VKq-D"
      },
      "source": [
        "!mkdir -p Codes\n",
        "!wget https://raw.githubusercontent.com/YujiSue/BioInfoTools/master/BioAnnotation/BioAnnotation.cpp -O Codes/BioAnnotation.cpp\n",
        "!g++ -std=c++11 -I/usr/local/include/slib -L/usr/local/lib -O2 -o BioAnnotation Codes/BioAnnotation.cpp -lsapp -lsbioinfo -lsobj -lcurl"
      ],
      "execution_count": null,
      "outputs": []
    },
    {
      "cell_type": "markdown",
      "metadata": {
        "id": "rGZU_sR8KrDq"
      },
      "source": [
        "## Usage example\n",
        "* Prepare the database for annotation by AnnotDBMake"
      ]
    },
    {
      "cell_type": "code",
      "metadata": {
        "id": "0YpOE-4cKrKf"
      },
      "source": [
        "!./BioAnnotation -d human.db -f gene -t pos TP53"
      ],
      "execution_count": null,
      "outputs": []
    },
    {
      "cell_type": "markdown",
      "metadata": {
        "id": "MSGiw5GbKWHV"
      },
      "source": [
        "# GeneMapSVG"
      ]
    },
    {
      "cell_type": "markdown",
      "metadata": {
        "id": "WzHy98GlMopg"
      },
      "source": [
        "##  Installation\n",
        "Execute the following commands."
      ]
    },
    {
      "cell_type": "code",
      "metadata": {
        "id": "kiyExshCMoxh"
      },
      "source": [
        "!mkdir -p Codes\n",
        "!wget https://raw.githubusercontent.com/YujiSue/BioInfoTools/master/GeneMapSVG/GeneMapSVG.cpp -O Codes/GeneMapSVG.cpp\n",
        "!wget https://raw.githubusercontent.com/YujiSue/BioInfoTools/master/GeneMapSVG/MakeMap.cpp -O Codes/MakeMap.cpp\n",
        "!wget https://raw.githubusercontent.com/YujiSue/BioInfoTools/master/GeneMapSVG/MakeMap.h -O Codes/MakeMap.h\n",
        "!g++ -std=c++11 -I/usr/local/include/slib -I./Codes -L/usr/local/lib -O2 -o GeneMapSVG Codes/GeneMapSVG.cpp Codes/MakeMap.cpp -lsapp -lsbioinfo -lsobj -lcurl"
      ],
      "execution_count": null,
      "outputs": []
    },
    {
      "cell_type": "markdown",
      "metadata": {
        "id": "0sS5Zvb6Mo4M"
      },
      "source": [
        "## Usage example\n",
        "* Prepare the database for annotation by AnnotDBMake"
      ]
    },
    {
      "cell_type": "code",
      "metadata": {
        "id": "mp3HZnVIMo-f"
      },
      "source": [
        ""
      ],
      "execution_count": null,
      "outputs": []
    },
    {
      "cell_type": "markdown",
      "metadata": {
        "id": "xs9H1vgyKc_F"
      },
      "source": [
        "# VariantDetect"
      ]
    },
    {
      "cell_type": "markdown",
      "metadata": {
        "id": "5yh3HR5WNYgp"
      },
      "source": [
        "##  Installation\n",
        "Execute the following commands."
      ]
    },
    {
      "cell_type": "code",
      "metadata": {
        "id": "kJaI9L0pNYnD"
      },
      "source": [
        "!mkdir -p Codes\n",
        "!wget https://raw.githubusercontent.com/YujiSue/BioInfoTools/master/VariantDetect/VariantDetect.cpp -O Codes/VariantDetect.cpp\n",
        "!wget https://raw.githubusercontent.com/YujiSue/BioInfoTools/master/VariantDetect/VarAnalyzer.cpp -O Codes/VarAnalyzer.cpp\n",
        "!wget https://raw.githubusercontent.com/YujiSue/BioInfoTools/master/VariantDetect/VarAnalyzer.h -O Codes/VarAnalyzer.h\n",
        "!wget https://raw.githubusercontent.com/YujiSue/BioInfoTools/master/VariantDetect/VarSearch.cpp -O Codes/VarSearch.cpp\n",
        "!g++ -std=c++11 -I/usr/local/include/slib -I./Codes -L/usr/local/lib -O2 -o VariantDetect Codes/VarAnalyzer.cpp Codes/VariantDetect.cpp Codes/VarSearch.cpp -lsapp -lsbioinfo -lsobj -lcurl"
      ],
      "execution_count": null,
      "outputs": []
    },
    {
      "cell_type": "markdown",
      "metadata": {
        "id": "PlAavVeuNYsg"
      },
      "source": [
        "## Usage example\n",
        "* Prepare the database for annotation by AnnotDBMake"
      ]
    },
    {
      "cell_type": "code",
      "metadata": {
        "id": "3DdWoBGANYy0"
      },
      "source": [
        ""
      ],
      "execution_count": null,
      "outputs": []
    }
  ]
}