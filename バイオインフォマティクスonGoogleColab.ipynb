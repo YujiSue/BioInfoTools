{
  "cells": [
    {
      "cell_type": "markdown",
      "metadata": {
        "id": "view-in-github",
        "colab_type": "text"
      },
      "source": [
        "<a href=\"https://colab.research.google.com/github/YujiSue/BioInfoTools/blob/master/%E3%83%90%E3%82%A4%E3%82%AA%E3%82%A4%E3%83%B3%E3%83%95%E3%82%A9%E3%83%9E%E3%83%86%E3%82%A3%E3%82%AF%E3%82%B9onGoogleColab.ipynb\" target=\"_parent\"><img src=\"https://colab.research.google.com/assets/colab-badge.svg\" alt=\"Open In Colab\"/></a>"
      ]
    },
    {
      "cell_type": "markdown",
      "metadata": {
        "id": "lOVAFsuuqFEJ"
      },
      "source": [
        "# このノートブックについて\n",
        "このノートは作者が研究用にC++で書いたバイオインフォマティクス関連のプログラムを、Google Colab上で利用するためのものです。  \n",
        "  \n",
        "Google Colabについての詳しい説明は、[トップページ](https://colab.research.google.com/notebooks/intro.ipynb)を参照してください。"
      ]
    },
    {
      "cell_type": "markdown",
      "metadata": {
        "id": "-zSJYDmH6ATp"
      },
      "source": [
        "# 使用方法\n",
        "まず手順１に従ってライブラリをインストールします。  \n",
        "続けて手順２-Xに従って、自分の使用したいアプリをインストールします。  \n",
        "最後に使用例を参考に、パラメータを設定して実行します。  \n",
        "詳細は、下記の各手順を参照してください。  \n",
        "  \n",
        "<font color=\"red\">※注意  \n",
        "ライブラリと各アプリは、いずれもお使いのコンピュータではなく、Googleのシステム上にインストールされます。  \n",
        "一定時間が経過すると、インストールしたアプリなどはリセットされてしまいますので、再度インストールが必要となります。  \n",
        "詳しくは[Google ColabのFAQ](https://research.google.com/colaboratory/faq.html)を参照してください</font>"
      ]
    },
    {
      "cell_type": "markdown",
      "metadata": {
        "id": "qCr2AZY7OzZF"
      },
      "source": [
        "## 手順１ 必要なライブラリのインストール\n",
        "下セルを実行してください。"
      ]
    },
    {
      "cell_type": "code",
      "execution_count": null,
      "metadata": {
        "cellView": "form",
        "colab": {
          "base_uri": "https://localhost:8080/"
        },
        "id": "zPSyBgjb-Lce",
        "outputId": "bafdcb6c-8665-4f7b-ef95-86e9534d5584"
      },
      "outputs": [
        {
          "output_type": "stream",
          "name": "stdout",
          "text": [
            "Archive:  /usr/local/include/slib.zip\n",
            "  inflating: /usr/local/include/slib/sconfig.h  \n",
            "  inflating: /usr/local/include/slib/curl/stdcheaders.h  \n",
            "  inflating: /usr/local/include/slib/smath.h  \n",
            "  inflating: /usr/local/include/slib/sbioinfo.h  \n",
            "  inflating: /usr/local/include/slib/sapp.h  \n",
            "  inflating: /usr/local/include/slib/curl/system.h  \n",
            "  inflating: /usr/local/include/slib/curl/urlapi.h  \n",
            "  inflating: /usr/local/include/slib/crypto/sha.h  \n",
            "  inflating: /usr/local/include/slib/snet/snet.h  \n",
            "  inflating: /usr/local/include/slib/sbasic.h  \n",
            "  inflating: /usr/local/include/slib/crypto/endian.h  \n",
            "  inflating: /usr/local/include/slib/sio/sfile.h  \n",
            "  inflating: /usr/local/include/slib/crypto/md5.h  \n",
            "  inflating: /usr/local/include/slib/sobj.h  \n",
            "  inflating: /usr/local/include/slib/sapp/scuiapp.h  \n",
            "  inflating: /usr/local/include/slib/sqlite/sqlite3.h  \n",
            "  inflating: /usr/local/include/slib/sio/sio.h  \n",
            "  inflating: /usr/local/include/slib/sutil/sxml.h  \n",
            "  inflating: /usr/local/include/slib/sapp/scvapp.h  \n",
            "  inflating: /usr/local/include/slib/snet/smail.h  \n",
            "  inflating: /usr/local/include/slib/curl/multi.h  \n",
            "  inflating: /usr/local/include/slib/curl/mprintf.h  \n",
            "  inflating: /usr/local/include/slib/sapp/snodeapp.h  \n",
            "  inflating: /usr/local/include/slib/sutil/sutil.h  \n",
            "  inflating: /usr/local/include/slib/sapp/sappbasic.h  \n",
            "  inflating: /usr/local/include/slib/sapp/sglapp.h  \n",
            "  inflating: /usr/local/include/slib/curl/curlver.h  \n",
            "  inflating: /usr/local/include/slib/curl/typecheck-gcc.h  \n",
            "  inflating: /usr/local/include/slib/sutil/sthread.h  \n",
            "  inflating: /usr/local/include/slib/curl/curl.h  \n",
            "  inflating: /usr/local/include/slib/zlib/inflate.h  \n",
            "  inflating: /usr/local/include/slib/curl/easy.h  \n",
            "  inflating: /usr/local/include/slib/sutil/sdocument.h  \n",
            "  inflating: /usr/local/include/slib/sutil/sjson.h  \n",
            "  inflating: /usr/local/include/slib/sutil/ssearch.h  \n",
            "  inflating: /usr/local/include/slib/sutil/sannotation.h  \n",
            "  inflating: /usr/local/include/slib/sutil/ssys.h  \n",
            "  inflating: /usr/local/include/slib/sutil/schrono.h  \n",
            "  inflating: /usr/local/include/slib/sutil/sdb.h  \n",
            "  inflating: /usr/local/include/slib/zlib/zutil.h  \n",
            "  inflating: /usr/local/include/slib/zlib/zconf.h  \n",
            "  inflating: /usr/local/include/slib/zlib/inffixed.h  \n",
            "  inflating: /usr/local/include/slib/zlib/gzguts.h  \n",
            "  inflating: /usr/local/include/slib/sapp/cvui.h  \n",
            "  inflating: /usr/local/include/slib/sobj/svoid.h  \n",
            "  inflating: /usr/local/include/slib/sobj/sstring.h  \n",
            "  inflating: /usr/local/include/slib/sobj/sset.h  \n",
            "  inflating: /usr/local/include/slib/zlib/deflate.h  \n",
            "  inflating: /usr/local/include/slib/sutil/scode.h  \n",
            "  inflating: /usr/local/include/slib/sobj/stext.h  \n",
            "  inflating: /usr/local/include/slib/sobj/sfunc.h  \n",
            "  inflating: /usr/local/include/slib/sobj/sobject.h  \n",
            "  inflating: /usr/local/include/slib/sobj/stable.h  \n",
            "  inflating: /usr/local/include/slib/sobj/snumber.h  \n",
            "  inflating: /usr/local/include/slib/zlib/zlib.h  \n",
            "  inflating: /usr/local/include/slib/sobj/sdate.h  \n",
            "  inflating: /usr/local/include/slib/libjpeg/jversion.h  \n",
            "  inflating: /usr/local/include/slib/sobj/snode.h  \n",
            "  inflating: /usr/local/include/slib/libjpeg/jinclude.h  \n",
            "  inflating: /usr/local/include/slib/zlib/inffast.h  \n",
            "  inflating: /usr/local/include/slib/zlib/trees.h  \n",
            "  inflating: /usr/local/include/slib/sobj/sdict.h  \n",
            "  inflating: /usr/local/include/slib/sobj/sdata.h  \n",
            "  inflating: /usr/local/include/slib/libjpeg/jdhuff.h  \n",
            "  inflating: /usr/local/include/slib/sobj/sarray.h  \n",
            "  inflating: /usr/local/include/slib/libjpeg/jconfig.h  \n",
            "  inflating: /usr/local/include/slib/libjpeg/jchuff.h  \n",
            "  inflating: /usr/local/include/slib/libjpeg/jmorecfg.h  \n",
            "  inflating: /usr/local/include/slib/zlib/crc32.h  \n",
            "  inflating: /usr/local/include/slib/libjpeg/jpegint.h  \n",
            "  inflating: /usr/local/include/slib/zlib/inftrees.h  \n",
            "  inflating: /usr/local/include/slib/smedia/smovie.h  \n",
            "  inflating: /usr/local/include/slib/libjpeg/jmemsys.h  \n",
            "  inflating: /usr/local/include/slib/libpng/pngconf.h  \n",
            "  inflating: /usr/local/include/slib/libjpeg/jdct.h  \n",
            "  inflating: /usr/local/include/slib/smedia/smedia.h  \n",
            "  inflating: /usr/local/include/slib/smedia/spaint.h  \n",
            "  inflating: /usr/local/include/slib/libpng/pnginfo.h  \n",
            "  inflating: /usr/local/include/slib/libpng/pngstruct.h  \n",
            "  inflating: /usr/local/include/slib/smedia/smedio.h  \n",
            "  inflating: /usr/local/include/slib/libjpeg/jpeglib.h  \n",
            "  inflating: /usr/local/include/slib/smedia/scv.h  \n",
            "  inflating: /usr/local/include/slib/smedia/spixel.h  \n",
            "  inflating: /usr/local/include/slib/smedia/simage.h  \n",
            "  inflating: /usr/local/include/slib/libpng/pngpriv.h  \n",
            "  inflating: /usr/local/include/slib/smedia/sfigure.h  \n",
            "  inflating: /usr/local/include/slib/smath/mathbasic.h  \n",
            "  inflating: /usr/local/include/slib/smedia/sgraphic.h  \n",
            "  inflating: /usr/local/include/slib/libpng/config.h  \n",
            "  inflating: /usr/local/include/slib/libtiff/tiffvers.h  \n",
            "  inflating: /usr/local/include/slib/smath/smath.h  \n",
            "  inflating: /usr/local/include/slib/libtiff/tiffio.hxx  \n",
            "  inflating: /usr/local/include/slib/smath/stat.h  \n",
            "  inflating: /usr/local/include/slib/smath/snumeric.h  \n",
            "  inflating: /usr/local/include/slib/libtiff/tiffiop.h  \n",
            "  inflating: /usr/local/include/slib/smath/la.h  \n",
            "  inflating: /usr/local/include/slib/smath/calc.h  \n",
            "  inflating: /usr/local/include/slib/libtiff/uvcode.h  \n",
            "  inflating: /usr/local/include/slib/smath/comp.h  \n",
            "  inflating: /usr/local/include/slib/libjpeg/jerror.h  \n",
            "  inflating: /usr/local/include/slib/smath/frac.h  \n",
            "  inflating: /usr/local/include/slib/libtiff/tif_predict.h  \n",
            "  inflating: /usr/local/include/slib/libtiff/tiffio.h  \n",
            "  inflating: /usr/local/include/slib/libtiff/tif_config.wince.h  \n",
            "  inflating: /usr/local/include/slib/smath/geom.h  \n",
            "  inflating: /usr/local/include/slib/libpng/pnglibconf.h  \n",
            "  inflating: /usr/local/include/slib/libpng/png.h  \n",
            "  inflating: /usr/local/include/slib/libtiff/tiff.h  \n",
            "  inflating: /usr/local/include/slib/libtiff/tif_fax3.h  \n",
            "  inflating: /usr/local/include/slib/libpng/pngdebug.h  \n",
            "  inflating: /usr/local/include/slib/sbasic/sutf8.h  \n",
            "  inflating: /usr/local/include/slib/sbasic/region.h  \n",
            "  inflating: /usr/local/include/slib/libtiff/tiffconf.h  \n",
            "  inflating: /usr/local/include/slib/sbasic/zone.h  \n",
            "  inflating: /usr/local/include/slib/sbasic/style.h  \n",
            "  inflating: /usr/local/include/slib/sbasic/time.h  \n",
            "  inflating: /usr/local/include/slib/libtiff/tif_config.h  \n",
            "  inflating: /usr/local/include/slib/sbasic/set.h  \n",
            "  inflating: /usr/local/include/slib/libtiff/tiffconf.wince.h  \n",
            "  inflating: /usr/local/include/slib/libtiff/t4.h  \n",
            "  inflating: /usr/local/include/slib/sbasic/mapiter.h  \n",
            "  inflating: /usr/local/include/slib/libtiff/tif_config.vc.h  \n",
            "  inflating: /usr/local/include/slib/sbasic/string.h  \n",
            "  inflating: /usr/local/include/slib/sbasic/ptr.h  \n",
            "  inflating: /usr/local/include/slib/sbasic/range.h  \n",
            "  inflating: /usr/local/include/slib/sbasic/node.h  \n",
            "  inflating: /usr/local/include/slib/libtiff/tif_dir.h  \n",
            "  inflating: /usr/local/include/slib/sbasic/list.h  \n",
            "  inflating: /usr/local/include/slib/sbasic/memory.h  \n",
            "  inflating: /usr/local/include/slib/sbasic/listiter.h  \n",
            "  inflating: /usr/local/include/slib/sbasic/map.h  \n",
            "  inflating: /usr/local/include/slib/sbasic/cyciter.h  \n",
            "  inflating: /usr/local/include/slib/libtiff/tiffconf.vc.h  \n",
            "  inflating: /usr/local/include/slib/sbasic/char.h  \n",
            "  inflating: /usr/local/include/slib/sbasic/locale.h  \n",
            "  inflating: /usr/local/include/slib/sbasic/fixedarray.h  \n",
            "  inflating: /usr/local/include/slib/sbasic/cyclearray .h  \n",
            "  inflating: /usr/local/include/slib/sbioinfo/sngs.h  \n",
            "  inflating: /usr/local/include/slib/sbasic/arrayiter.h  \n",
            "  inflating: /usr/local/include/slib/sbasic/biarray.h  \n",
            "  inflating: /usr/local/include/slib/sbasic/array.h  \n",
            "  inflating: /usr/local/include/slib/sbasic/area.h  \n",
            "  inflating: /usr/local/include/slib/sbioinfo/svarutil.h  \n",
            "  inflating: /usr/local/include/slib/sbioinfo/sprimer.h  \n",
            "  inflating: /usr/local/include/slib/sbioinfo/sfastq.h  \n",
            "  inflating: /usr/local/include/slib/sbioinfo/sbseqio.h  \n",
            "  inflating: /usr/local/include/slib/sbioinfo/sgf.h  \n",
            "  inflating: /usr/local/include/slib/sbioinfo/svariant.h  \n",
            "  inflating: /usr/local/include/slib/sbioinfo/sbalign.h  \n",
            "  inflating: /usr/local/include/slib/sbasic/exception.h  \n",
            "  inflating: /usr/local/include/slib/sbioinfo/sbioinfoutil.h  \n",
            "  inflating: /usr/local/include/slib/sbioinfo/sbioseq.h  \n",
            "  inflating: /usr/local/include/slib/sbioinfo/sbsequtil.h  \n",
            "  inflating: /usr/local/include/slib/sbioinfo/sbseqedit.h  \n",
            "  inflating: /usr/local/include/slib/sbioinfo/sbsearch.h  \n",
            "  inflating: /usr/local/include/slib/sbioinfo/sbannot.h  \n",
            "  inflating: /usr/local/include/slib/sbioinfo/sbioinfo.h  \n",
            "  inflating: /usr/local/include/slib/sbioinfo/sbam.h  \n"
          ]
        }
      ],
      "source": [
        "#@title 実行するとライブラリをインストールします\n",
        "import os\n",
        "import subprocess\n",
        "os.environ['PATH'] += ':/usr/local/lib' \n",
        "os.environ['LD_LIBRARY_PATH'] += ':/usr/local/lib'\n",
        "\n",
        "!wget -q \"https://drive.google.com/uc?export=download&id=1PJyHsoOLymWUXS2jpyxwd_UOXj0tTDp9\" -O /usr/local/include/slib.zip\n",
        "!unzip /usr/local/include/slib.zip -d /usr/local/include\n",
        "!rm /usr/local/include/slib.zip\n",
        "!wget -q \"https://drive.google.com/uc?export=download&id=1B0bNiD18uRNNkW_KyHUq0lx3RSRoembi\" -O /usr/local/lib/libsobj.so\n",
        "!wget -q \"https://drive.google.com/uc?export=download&id=1B2pqWpEkKULhGZ7kZxf0uzLq8BWpzGXJ\" -O /usr/local/lib/libsbioinfo.so\n",
        "!wget -q \"https://drive.google.com/uc?export=download&id=1B5JmaL4NxXQqDQRwQahTu0-NwbyXFK1Y\" -O /usr/local/lib/libsapp.so\n"
      ]
    },
    {
      "cell_type": "markdown",
      "metadata": {
        "id": "g86ajGAR9Ez9"
      },
      "source": [
        "## 手順２ 各アプリのインストールと使用\n",
        "\n"
      ]
    },
    {
      "cell_type": "markdown",
      "metadata": {
        "id": "HCw7WAngD8m9"
      },
      "source": [
        "### 使用するアプリの選択"
      ]
    },
    {
      "cell_type": "markdown",
      "metadata": {
        "id": "HwtS7wpnD2QF"
      },
      "source": [
        "* **_[GenomeConverter](#gen-conv)_**: ゲノム配列をバイナリ化したファイルを作成するアプリ。バイナリ化したゲノム配列は、作者の他のアプリで使用します。  \n",
        "  \n",
        "* **_[GenomeExtract](#gen-ext)_**: GenomeConverterで作成したファイルを使って、任意の位置のゲノム配列を取得するアプリ。  \n",
        "  \n",
        "* **_[GFFParser](#gffp)_**: GFF3フォーマットの構造を確認するためのアプリ。作者は主にAnnotDBMakerのプラグイン作成時に使用しました。\n",
        "  \n",
        "* **_[AnnotDBMaker](#annot-make)_**: アノテーション用のsqlite3形式のデータベースを作成するアプリ。使用するには個々の生物種ごとのデータセットに合わせたプラグインが必要です（※現時点ではヒト用と線虫用のみ公開中）。  \n",
        "  \n",
        "* **_[BioAnnotation](#bio-annot)_**: AnnotDBMakerで作成したデータベースファイルをもとに、指定された領域の遺伝子、転写産物、既知変異のアノテーション情報などを取得するアプリ。逆引き（遺伝子名→ゲノム位置など）も可能です。\n",
        "\n",
        "* **_[GeneMapSVG](#gen-map)_**: 指定したゲノム領域について、遺伝子、転写産物の構造、変異位置などをグラフィカルに表した画像ファイル(svg)を作成するアプリ。\n",
        "\n",
        "* **_[VariantDetect](#var-det)_**: 塩基配列、とくにサンガーシーケンスの結果から、SNPや欠失など、変異の種類と位置を検出するアプリ。"
      ]
    },
    {
      "cell_type": "markdown",
      "metadata": {
        "id": "64E92VECCOOJ"
      },
      "source": [
        "<a name=\"gen-conv\"></a>\n",
        "### 手順２-１ GenomeConverterを使う"
      ]
    },
    {
      "cell_type": "markdown",
      "metadata": {
        "id": "SJ1MQcawDQ24"
      },
      "source": [
        "####インストール\n",
        "下セルを実行してください。\n"
      ]
    },
    {
      "cell_type": "code",
      "execution_count": null,
      "metadata": {
        "cellView": "form",
        "colab": {
          "base_uri": "https://localhost:8080/"
        },
        "id": "cZ0FP6I3DNIE",
        "outputId": "ea975bcd-524b-4d7f-c928-6e27b6caf4c7"
      },
      "outputs": [
        {
          "output_type": "stream",
          "name": "stdout",
          "text": [
            "--2022-02-07 01:06:40--  https://raw.githubusercontent.com/YujiSue/BioInfoTools/master/GenomeConverter/GenomeConverter.cpp\n",
            "Resolving raw.githubusercontent.com (raw.githubusercontent.com)... 185.199.108.133, 185.199.110.133, 185.199.111.133, ...\n",
            "Connecting to raw.githubusercontent.com (raw.githubusercontent.com)|185.199.108.133|:443... connected.\n",
            "HTTP request sent, awaiting response... 200 OK\n",
            "Length: 4364 (4.3K) [text/plain]\n",
            "Saving to: ‘Codes/GenomeConverter.cpp’\n",
            "\n",
            "\r          Codes/Gen   0%[                    ]       0  --.-KB/s               \rCodes/GenomeConvert 100%[===================>]   4.26K  --.-KB/s    in 0s      \n",
            "\n",
            "2022-02-07 01:06:40 (38.0 MB/s) - ‘Codes/GenomeConverter.cpp’ saved [4364/4364]\n",
            "\n"
          ]
        }
      ],
      "source": [
        "#@title 実行するとアプリがインストールされます\n",
        "!mkdir -p Codes\n",
        "!wget https://raw.githubusercontent.com/YujiSue/BioInfoTools/master/GenomeConverter/GenomeConverter.cpp -O Codes/GenomeConverter.cpp\n",
        "!g++ -std=c++11 -I/usr/local/include/slib -L/usr/local/lib -O2 -o GenomeConverter Codes/GenomeConverter.cpp -lsapp -lsbioinfo -lsobj -lcurl"
      ]
    },
    {
      "cell_type": "markdown",
      "metadata": {
        "id": "fJX3Is8wzYER"
      },
      "source": [
        "#### 使用方法\n",
        "下セルのパラメータ入力欄に必要事項を記入して、実行してください。  \n",
        "\n",
        "> FASTAファイル：ゲノムファイルのパスを入力してください。\n",
        "\n",
        "> 出力ファイル：作成するファイルの保存用ファイル名を入力してください。   \n",
        "\n",
        "> 種名（オプション）：種名を入力してください。  \n",
        "\n",
        "> バージョン（オプション）：ゲノムのバージョンを入力してください。 \n",
        "\n",
        "> リンケージグループのみ対象（オプション）：チェックを入れると、染色体（リンケージグループ）として扱われている配列のみを対象とします。 "
      ]
    },
    {
      "cell_type": "code",
      "execution_count": null,
      "metadata": {
        "cellView": "form",
        "id": "Y8V5tcRL0INw"
      },
      "outputs": [],
      "source": [
        "#@markdown ####パラメータ  \n",
        "FASTAファイル = '' #@param {type:'string'}\n",
        "出力ファイル = '' #@param {type:'string'}\n",
        "#@markdown >（オプション）\n",
        "種名 = '' #@param {type:'string'}\n",
        "バージョン = '' #@param {type:'string'}\n",
        "リンケージグループのみ対象 = False #@param {type:'boolean'}\n",
        "\n",
        "cmd = './GenomeConverter' + ' -o \"'+ 出力ファイル + '\"'\n",
        "if リンケージグループのみ対象:\n",
        "  cmd = cmd + ' -l'\n",
        "if 種名 != '':\n",
        "  cmd = cmd + ' -s \"' + 種名 + '\"'\n",
        "if バージョン != '':\n",
        "  cmd = cmd + ' -r \"' + バージョン + '\"'\n",
        "cmd = cmd + ' \"' + FASTAファイル + '\"'\n",
        "output = subprocess.check_output(cmd, shell=True, text=True)\n",
        "print(output)"
      ]
    },
    {
      "cell_type": "markdown",
      "metadata": {
        "id": "jNvG4KYqDTF1"
      },
      "source": [
        "#### 使用例 (H.sapiens)"
      ]
    },
    {
      "cell_type": "markdown",
      "metadata": {
        "id": "npq1tgZNHCWb"
      },
      "source": [
        "i. ゲノム配列(FASTA形式)をダウンロードして展開します。"
      ]
    },
    {
      "cell_type": "code",
      "execution_count": null,
      "metadata": {
        "id": "JRD8OhU9HFXw"
      },
      "outputs": [],
      "source": [
        "!curl -O ftp://ftp.ncbi.nlm.nih.gov/genomes/all/GCF/000/001/405/GCF_000001405.39_GRCh38.p13/GCF_000001405.39_GRCh38.p13_genomic.fna.gz\n",
        "!gzip -d GCF_000001405.39_GRCh38.p13_genomic.fna.gz"
      ]
    },
    {
      "cell_type": "markdown",
      "metadata": {
        "id": "c-utcTD2HHgp"
      },
      "source": [
        "ii. パラメータを入力してアプリを実行します。\n",
        "\n",
        "> ファイル\"GCF_000001405.39_GRCh38.p13_genomic.fna\"  \n",
        "> を以下の設定で変換します。  \n",
        "> 種名：H. sapiens  \n",
        "> バージョン：GRCh38.p13  \n",
        "> 染色体（リンケージグループ）のみを対象  \n",
        "> \"human.bin\"として保存  "
      ]
    },
    {
      "cell_type": "code",
      "execution_count": null,
      "metadata": {
        "cellView": "form",
        "colab": {
          "base_uri": "https://localhost:8080/"
        },
        "id": "zYLWtSMT3E0e",
        "outputId": "eb20372c-0d58-42ef-a5b9-535e2c217b42"
      },
      "outputs": [
        {
          "name": "stdout",
          "output_type": "stream",
          "text": [
            "Loading... 'GCF_000001405.39_GRCh38.p13_genomic.fna'\n",
            "\u001b[0m\u001b[31msio error! [#17]: File not exist error.\n",
            "> \"GCF_000001405.39_GRCh38.p13_genomic.fna\" does not exist.\n",
            " @ '_open'\n",
            " in { '../src/sio/sfile.cpp' l.77 }\u001b[0m\u001b[39m\u001b[49m\u001b[0m\u001b[39m\u001b[49m\n",
            "Exporting... 'humanFull.bin'\n",
            "Completed.\n",
            "\n"
          ]
        }
      ],
      "source": [
        "#@markdown ####パラメータ  \n",
        "FASTAファイル = 'GCF_000001405.39_GRCh38.p13_genomic.fna' #@param {type:'string'}\n",
        "出力ファイル = 'humanFull.bin' #@param {type:'string'}\n",
        "#@markdown >（オプション）\n",
        "種名 = 'H. sapiens' #@param {type:'string'}\n",
        "バージョン = 'GRCh38.p13' #@param {type:'string'}\n",
        "リンケージグループのみ対象 = False #@param {type:'boolean'}\n",
        "\n",
        "cmd = './GenomeConverter' + ' -o \"'+ 出力ファイル + '\"'\n",
        "if リンケージグループのみ対象:\n",
        "  cmd = cmd + ' -l'\n",
        "if 種名 != '':\n",
        "  cmd = cmd + ' -s \"' + 種名 + '\"'\n",
        "if バージョン != '':\n",
        "  cmd = cmd + ' -r \"' + バージョン + '\"'\n",
        "cmd = cmd + ' \"' + FASTAファイル + '\"'\n",
        "output = subprocess.check_output(cmd, shell=True, text=True)\n",
        "print(output)"
      ]
    },
    {
      "cell_type": "markdown",
      "metadata": {
        "id": "9FPooEBxI0nI"
      },
      "source": [
        "#### 使用例 (C.elegans)"
      ]
    },
    {
      "cell_type": "markdown",
      "metadata": {
        "id": "ySUg9i-mIHAu"
      },
      "source": [
        "i. ゲノム配列(FASTA形式)をダウンロードして展開します。"
      ]
    },
    {
      "cell_type": "code",
      "execution_count": null,
      "metadata": {
        "colab": {
          "base_uri": "https://localhost:8080/"
        },
        "id": "WK-psvXGIH2v",
        "outputId": "797d5e10-68d1-4c12-8731-bbc2db73e5a7"
      },
      "outputs": [
        {
          "output_type": "stream",
          "name": "stdout",
          "text": [
            "  % Total    % Received % Xferd  Average Speed   Time    Time     Time  Current\n",
            "                                 Dload  Upload   Total   Spent    Left  Speed\n",
            "100 27.7M  100 27.7M    0     0  11.4M      0  0:00:02  0:00:02 --:--:-- 11.4M\n",
            "gzip: /content/c_elegans.PRJNA13758.WS283.genomic.fa already exists; do you wish to overwrite (y or n)? ^C\n"
          ]
        }
      ],
      "source": [
        "!curl -O ftp://ftp.wormbase.org/pub/wormbase/species/c_elegans/sequence/genomic/c_elegans.PRJNA13758.WS283.genomic.fa.gz\n",
        "!gzip -d /content/c_elegans.PRJNA13758.WS283.genomic.fa.gz"
      ]
    },
    {
      "cell_type": "markdown",
      "metadata": {
        "id": "pCI9rd93IJgt"
      },
      "source": [
        "ii. パラメータを入力してアプリを実行します。\n",
        "\n",
        "この例では、線虫ゲノムのFASTAファイル  \n",
        "\"c_elegans.PRJNA13758.current.genomic.fa\"  \n",
        "を以下の設定で変換します。  \n",
        "> 種名：C. elegans  \n",
        "> バージョン：WS274  \n",
        "> \"nematode.bin\"として保存   "
      ]
    },
    {
      "cell_type": "code",
      "execution_count": null,
      "metadata": {
        "cellView": "form",
        "colab": {
          "base_uri": "https://localhost:8080/"
        },
        "id": "KtOI8hcuK4FX",
        "outputId": "1b5d0335-7d3a-4db0-fdca-48c1d169397d"
      },
      "outputs": [
        {
          "output_type": "stream",
          "name": "stdout",
          "text": [
            "Loading... '/content/c_elegans.PRJNA13758.WS283.genomic.fa'\n",
            "Exporting... 'nematode.bin'\n",
            "Completed.\n",
            "\n"
          ]
        }
      ],
      "source": [
        "import os\n",
        "import subprocess\n",
        "#@markdown ####パラメータ  \n",
        "FASTAファイル = '/content/c_elegans.PRJNA13758.WS283.genomic.fa' #@param {type:'string'}\n",
        "出力ファイル = 'nematode.bin' #@param {type:'string'}\n",
        "#@markdown >（オプション）\n",
        "種名 = 'C.elegans' #@param {type:'string'}\n",
        "バージョン = 'WS283' #@param {type:'string'}\n",
        "リンケージグループのみ対象 = False #@param {type:'boolean'}\n",
        "\n",
        "cmd = './GenomeConverter' + ' -o \"'+ 出力ファイル + '\"'\n",
        "if リンケージグループのみ対象:\n",
        "  cmd = cmd + ' -l'\n",
        "if 種名 != '':\n",
        "  cmd = cmd + ' -s \"' + 種名 + '\"'\n",
        "if バージョン != '':\n",
        "  cmd = cmd + ' -r \"' + バージョン + '\"'\n",
        "cmd = cmd + ' \"' + FASTAファイル + '\"'\n",
        "output = subprocess.check_output(cmd, shell=True, text=True)\n",
        "print(output)"
      ]
    },
    {
      "cell_type": "markdown",
      "metadata": {
        "id": "2f33Bl-JbaIJ"
      },
      "source": [
        "#### コマンドライン（CUI）アプリとして使用する場合\n",
        "以下のヘルプを参照に、コマンドを実行してください。"
      ]
    },
    {
      "cell_type": "code",
      "execution_count": null,
      "metadata": {
        "cellView": "form",
        "colab": {
          "base_uri": "https://localhost:8080/"
        },
        "id": "rjfXeyO6bcOi",
        "outputId": "37ddf3a4-f815-409e-c60e-164427cc1bb7"
      },
      "outputs": [
        {
          "name": "stdout",
          "output_type": "stream",
          "text": [
            "============================================================\n",
            "GenomeConverter v1.2.0\n",
            "Copyright (c) 2015 Yuji Suehiro. All rights reserved. \n",
            "MIT license.\n",
            ". . . . . . . . . . . . . . . . . . . . . . . . . . . . . . \n",
            "\n",
            "Usage:\n",
            "  GenomeConverter -o 'output' \u001b[3m\u001b[39minput(s)\u001b[0m\u001b[39m\u001b[49m\u001b[0m\u001b[39m\u001b[49m { -l } { -s name } { -r version }\n",
            ". . . . . . . . . . . . . . . . . . . . . . . . . . . . . . \n",
            "\n",
            "[Option]\n",
            "  --linkage/-l        :  Select only linkaged sequence.\n",
            "  --out/-o            : \u001b[0m\u001b[31m*\u001b[0m\u001b[39m\u001b[49m\u001b[0m\u001b[39m\u001b[49mOutput file path.\n",
            "  --refver/-r         :  Reference version.\n",
            "  --species/-s        :  Species.\n",
            "\n",
            "  --help/-H           : Show help.\n",
            "  --version/-V        : Show version.\n",
            "  --info/-I           : Show app information.\n",
            "\n",
            "\u001b[0m\u001b[31m  * Required option.\u001b[0m\u001b[39m\u001b[49m\u001b[0m\u001b[39m\u001b[49m\n",
            "\u001b[0m\u001b[34m  # Choose one of the options.\u001b[0m\u001b[39m\u001b[49m\u001b[0m\u001b[39m\u001b[49m\n",
            "============================================================\n"
          ]
        }
      ],
      "source": [
        "#@title 実行するとヘルプを表示\n",
        "!./GenomeConverter --help"
      ]
    },
    {
      "cell_type": "markdown",
      "metadata": {
        "id": "HfocWqchod6A"
      },
      "source": [
        "<a name=\"gen-ext\"></a>\n",
        "### 手順２-２ GenomeExtractを使う\n",
        "<font color=\"red\">※注意  \n",
        "このアプリを使用するには、GenomeConverterを使って作成したゲノム配列のバイナリファイルが必要です。</font>  "
      ]
    },
    {
      "cell_type": "markdown",
      "metadata": {
        "id": "7CgNTT19okz_"
      },
      "source": [
        "#### インストール方法\n",
        "下セルを実行してください。"
      ]
    },
    {
      "cell_type": "code",
      "execution_count": null,
      "metadata": {
        "colab": {
          "base_uri": "https://localhost:8080/"
        },
        "id": "0dLfnLJQolSk",
        "outputId": "71f3c246-bf21-4361-a84b-fb8e12cab5b8"
      },
      "outputs": [
        {
          "output_type": "stream",
          "name": "stdout",
          "text": [
            "--2022-02-07 01:09:51--  https://raw.githubusercontent.com/YujiSue/BioInfoTools/master/GenomeExtract/GenomeExtract.cpp\n",
            "Resolving raw.githubusercontent.com (raw.githubusercontent.com)... 185.199.108.133, 185.199.109.133, 185.199.110.133, ...\n",
            "Connecting to raw.githubusercontent.com (raw.githubusercontent.com)|185.199.108.133|:443... connected.\n",
            "HTTP request sent, awaiting response... 200 OK\n",
            "Length: 2957 (2.9K) [text/plain]\n",
            "Saving to: ‘Codes/GenomeExtract.cpp’\n",
            "\n",
            "Codes/GenomeExtract 100%[===================>]   2.89K  --.-KB/s    in 0s      \n",
            "\n",
            "2022-02-07 01:09:51 (28.1 MB/s) - ‘Codes/GenomeExtract.cpp’ saved [2957/2957]\n",
            "\n"
          ]
        }
      ],
      "source": [
        "!mkdir -p Codes\n",
        "!wget https://raw.githubusercontent.com/YujiSue/BioInfoTools/master/GenomeExtract/GenomeExtract.cpp -O Codes/GenomeExtract.cpp\n",
        "!g++ -std=c++11 -I/usr/local/include/slib -L/usr/local/lib -O2 -o GenomeExtract Codes/GenomeExtract.cpp -lsapp -lsbioinfo -lsobj -lcurl"
      ]
    },
    {
      "cell_type": "markdown",
      "metadata": {
        "id": "j2lVa0m5BMEk"
      },
      "source": [
        "#### 使用方法\n",
        "下セルのパラメータ入力欄に必要事項を記入して、実行してください。  \n",
        "\n",
        "> リファレンス：GenomeConverterで作成したファイル名を入力してください。  \n",
        "\n",
        "> 位置情報：「染色体名:開始位置-終了位置」の形式で入力してください。  \n",
        "\n",
        "> 相補鎖を取得：相補配列を取得したい場合はチェックを入れてください。  \n",
        "\n",
        "> 出力形式：リストの中から選択してください。  \n",
        "\n",
        "\n"
      ]
    },
    {
      "cell_type": "code",
      "execution_count": null,
      "metadata": {
        "cellView": "form",
        "id": "6wy6wejkB2YV"
      },
      "outputs": [],
      "source": [
        "#@markdown ####パラメータ  \n",
        "リファレンス = '' #@param {type:'string'}\n",
        "位置情報 = '' #@param {type:'string'}\n",
        "相補鎖を取得 = False #@param {type:'boolean'}\n",
        "出力形式 = 'fa' #@param ['txt', 'fa']\n",
        "cmd = './GenomeExtract' + ' -r \"'+リファレンス + '\" -f '+ 出力形式\n",
        "if 相補鎖を取得:\n",
        "  cmd = cmd + ' --rev'\n",
        "cmd = cmd + ' \"' + 位置情報 + '\"'\n",
        "output = subprocess.check_output(cmd, shell=True, text=True)\n",
        "print(output)"
      ]
    },
    {
      "cell_type": "markdown",
      "metadata": {
        "id": "I3kNwXkRoldj"
      },
      "source": [
        "#### 使用例 (H.sapiens)\n",
        "<font color=\"red\">※GenomeConverterで作成したファイル名が\"human.bin\"の場合です。</font>  \n",
        "  \n",
        "> 17番染色体の7670kから1kbの範囲について、相補鎖配列をFASTA形式で出力します。"
      ]
    },
    {
      "cell_type": "code",
      "execution_count": null,
      "metadata": {
        "cellView": "form",
        "id": "UeGyuCkWLRzZ"
      },
      "outputs": [],
      "source": [
        "#@markdown ####パラメータ  \n",
        "リファレンス = 'humanFull.bin' #@param {type:'string'}\n",
        "位置情報 = '17:7670001..7671000' #@param {type:'string'}\n",
        "相補鎖を取得 = True #@param {type:'boolean'}\n",
        "出力形式 = 'fa' #@param ['txt', 'fa']\n",
        "cmd = './GenomeExtract' + ' -r \"'+リファレンス + '\" -f '+ 出力形式\n",
        "if 相補鎖を取得:\n",
        "  cmd = cmd + ' --rev'\n",
        "cmd = cmd + ' \"' + 位置情報 + '\"'\n",
        "output = subprocess.check_output(cmd, shell=True, text=True)\n",
        "print(output)"
      ]
    },
    {
      "cell_type": "markdown",
      "metadata": {
        "id": "_Lv9yz7-d-MJ"
      },
      "source": [
        "#### 使用例 (C.elegans)\n",
        "<font color=\"red\">※GenomeConverterで作成したファイル名が\"nematode.bin\"の場合です。</font>   \n",
        "\n",
        "> 染色体IIIの1234567から1234789までの範囲について、配列をTXT形式で出力します。"
      ]
    },
    {
      "cell_type": "code",
      "execution_count": null,
      "metadata": {
        "cellView": "form",
        "id": "4eDItNefGUPs"
      },
      "outputs": [],
      "source": [
        "#@markdown ####パラメータ  \n",
        "リファレンス = 'nematode.bin' #@param {type:'string'}\n",
        "位置情報 = 'III:3990461..3991490' #@param {type:'string'}\n",
        "相補鎖を取得 = False #@param {type:'boolean'}\n",
        "出力形式 = 'txt' #@param ['txt', 'fa']\n",
        "cmd = './GenomeExtract' + ' -r \"'+リファレンス + '\" -f '+ 出力形式\n",
        "if 相補鎖を取得:\n",
        "  cmd = cmd + ' --rev'\n",
        "cmd = cmd + ' \"' + 位置情報 + '\"'\n",
        "output = subprocess.check_output(cmd, shell=True, text=True)\n",
        "print(output)"
      ]
    },
    {
      "cell_type": "markdown",
      "metadata": {
        "id": "-4aX-LGUchhv"
      },
      "source": [
        "#### コマンドライン（CUI）アプリとして使用する場合\n",
        "以下のヘルプを参照に、コマンドを実行してください。"
      ]
    },
    {
      "cell_type": "code",
      "execution_count": null,
      "metadata": {
        "id": "LKlpFAoKcjXz"
      },
      "outputs": [],
      "source": [
        "!./GenomeExtract --help"
      ]
    },
    {
      "cell_type": "markdown",
      "metadata": {
        "id": "7kZ1J6mAE0wX"
      },
      "source": [
        "<a name=\"gffp\"></a>\n",
        "### 手順２-３ GFFParserを使う"
      ]
    },
    {
      "cell_type": "markdown",
      "metadata": {
        "id": "pokeYokoE3BD"
      },
      "source": [
        "####  インストール方法\n",
        "下セルを実行してください。"
      ]
    },
    {
      "cell_type": "code",
      "execution_count": null,
      "metadata": {
        "id": "IqxXn0fkE3Hv",
        "colab": {
          "base_uri": "https://localhost:8080/"
        },
        "outputId": "4094a334-979c-4bce-d5f2-7d3d644fd226"
      },
      "outputs": [
        {
          "output_type": "stream",
          "name": "stdout",
          "text": [
            "--2022-02-03 01:48:30--  https://raw.githubusercontent.com/YujiSue/BioInfoTools/master/GFFParser/GFFParser.cpp\n",
            "Resolving raw.githubusercontent.com (raw.githubusercontent.com)... 185.199.109.133, 185.199.110.133, 185.199.108.133, ...\n",
            "Connecting to raw.githubusercontent.com (raw.githubusercontent.com)|185.199.109.133|:443... connected.\n",
            "HTTP request sent, awaiting response... 200 OK\n",
            "Length: 1778 (1.7K) [text/plain]\n",
            "Saving to: ‘Codes/GFFParser.cpp’\n",
            "\n",
            "\rCodes/GFFParser.cpp   0%[                    ]       0  --.-KB/s               \rCodes/GFFParser.cpp 100%[===================>]   1.74K  --.-KB/s    in 0s      \n",
            "\n",
            "2022-02-03 01:48:31 (31.5 MB/s) - ‘Codes/GFFParser.cpp’ saved [1778/1778]\n",
            "\n"
          ]
        }
      ],
      "source": [
        "!mkdir -p Codes\n",
        "!wget https://raw.githubusercontent.com/YujiSue/BioInfoTools/master/GFFParser/GFFParser.cpp -O Codes/GFFParser.cpp\n",
        "!g++ -std=c++11 -I/usr/local/include/slib -L/usr/local/lib -O2 -o GFFParser Codes/GFFParser.cpp -lsapp -lsbioinfo -lsobj -lcurl"
      ]
    },
    {
      "cell_type": "markdown",
      "metadata": {
        "id": "ex_NiBG2pCVe"
      },
      "source": [
        "#### 使用方法\n",
        "下セルのパラメータ入力欄に必要事項を記入して、実行してください。  \n",
        "\n",
        "> GFFファイル：解析対象のGFFファイルパスを入力してください。  "
      ]
    },
    {
      "cell_type": "code",
      "execution_count": null,
      "metadata": {
        "cellView": "form",
        "id": "5W-OTkqTpIUE"
      },
      "outputs": [],
      "source": [
        "#@markdown ####パラメータ  \n",
        "GFFファイル = '' #@param {type:'string'}\n",
        "\n",
        "cmd = './GFFParser \"' + GFFファイル + '\"'\n",
        "output = subprocess.check_output(cmd, shell=True, text=True)\n",
        "print(output)"
      ]
    },
    {
      "cell_type": "markdown",
      "metadata": {
        "id": "2hq2fdlAE3Pz"
      },
      "source": [
        "#### 使用例 (H.sapiens)"
      ]
    },
    {
      "cell_type": "markdown",
      "metadata": {
        "id": "G67ZH6OWJOvP"
      },
      "source": [
        "1. gff3 ファイルをダウンロードして展開します。"
      ]
    },
    {
      "cell_type": "code",
      "execution_count": null,
      "metadata": {
        "id": "WkQDt2iFJSPa"
      },
      "outputs": [],
      "source": [
        "!curl -O ftp://ftp.ensembl.org/pub/release-99/gff3/homo_sapiens/Homo_sapiens.GRCh38.99.chr.gff3.gz\n",
        "!gzip -d Homo_sapiens.GRCh38.99.chr.gff3.gz"
      ]
    },
    {
      "cell_type": "markdown",
      "metadata": {
        "id": "yOir3axIJVF-"
      },
      "source": [
        "2.  アプリを実行してください。"
      ]
    },
    {
      "cell_type": "code",
      "execution_count": null,
      "metadata": {
        "cellView": "form",
        "colab": {
          "base_uri": "https://localhost:8080/"
        },
        "id": "khmuoBaMuzD5",
        "outputId": "376fce36-34da-4587-e6b3-49e5e78deceb"
      },
      "outputs": [
        {
          "name": "stdout",
          "output_type": "stream",
          "text": [
            "havana\tgene\t[\"description\",\"logic_name\",\"ID\",\"gene_id\",\"Name\",\"biotype\",\"version\"]\n",
            "havana\tthree_prime_UTR\t[\"Parent\"]\n",
            "havana\tunconfirmed_transcript\t[\"ID\",\"Parent\",\"tag\",\"Name\",\"biotype\",\"transcript_support_level\",\"version\",\"transcript_id\"]\n",
            "havana\tC_gene_segment\t[\"ID\",\"Parent\",\"tag\",\"Name\",\"biotype\",\"transcript_support_level\",\"version\",\"transcript_id\"]\n",
            "havana\tV_gene_segment\t[\"ID\",\"Parent\",\"tag\",\"Name\",\"biotype\",\"transcript_support_level\",\"version\",\"transcript_id\"]\n",
            "havana\tsnoRNA\t[\"ID\",\"Parent\",\"tag\",\"Name\",\"biotype\",\"transcript_support_level\",\"version\",\"transcript_id\"]\n",
            "havana\tpseudogenic_transcript\t[\"ID\",\"Parent\",\"tag\",\"Name\",\"biotype\",\"transcript_support_level\",\"version\",\"transcript_id\"]\n",
            "havana\tfive_prime_UTR\t[\"Parent\"]\n",
            "havana\tCDS\t[\"protein_id\",\"ID\",\"Parent\"]\n",
            "havana\tvaultRNA_primary_transcript\t[\"ID\",\"Parent\",\"tag\",\"Name\",\"biotype\",\"transcript_support_level\",\"version\",\"transcript_id\"]\n",
            "havana\tD_gene_segment\t[\"ID\",\"Parent\",\"tag\",\"Name\",\"biotype\",\"transcript_support_level\",\"version\",\"transcript_id\"]\n",
            "havana\tpseudogene\t[\"description\",\"logic_name\",\"ID\",\"gene_id\",\"Name\",\"biotype\",\"version\"]\n",
            "havana\tncRNA_gene\t[\"description\",\"logic_name\",\"ID\",\"gene_id\",\"Name\",\"biotype\",\"version\"]\n",
            "havana\tsnRNA\t[\"ID\",\"Parent\",\"tag\",\"Name\",\"biotype\",\"version\",\"transcript_id\",\"transcript_support_level\"]\n",
            "havana\tmRNA\t[\"ID\",\"Parent\",\"tag\",\"Name\",\"biotype\",\"version\",\"transcript_id\",\"transcript_support_level\",\"ccdsid\"]\n",
            "havana\tJ_gene_segment\t[\"ID\",\"Parent\",\"tag\",\"Name\",\"biotype\",\"transcript_support_level\",\"version\",\"transcript_id\"]\n",
            "havana\tscRNA\t[\"ID\",\"Parent\",\"tag\",\"Name\",\"biotype\",\"transcript_support_level\",\"version\",\"transcript_id\"]\n",
            "havana\tlnc_RNA\t[\"ID\",\"Parent\",\"tag\",\"Name\",\"biotype\",\"transcript_support_level\",\"version\",\"transcript_id\"]\n",
            "havana\texon\t[\"Parent\",\"constitutive\",\"ensembl_end_phase\",\"exon_id\",\"Name\",\"ensembl_phase\",\"rank\",\"version\"]\n",
            "ensembl\tgene\t[\"description\",\"logic_name\",\"ID\",\"gene_id\",\"Name\",\"biotype\",\"version\"]\n",
            "ensembl\ttRNA\t[\"ID\",\"Parent\",\"tag\",\"Name\",\"biotype\",\"transcript_support_level\",\"version\",\"transcript_id\"]\n",
            "ensembl\tthree_prime_UTR\t[\"Parent\"]\n",
            "ensembl\tunconfirmed_transcript\t[\"ID\",\"Parent\",\"Name\",\"biotype\",\"transcript_support_level\",\"version\",\"transcript_id\",\"tag\"]\n",
            "ensembl\tsnoRNA\t[\"ID\",\"Parent\",\"tag\",\"Name\",\"biotype\",\"transcript_support_level\",\"version\",\"transcript_id\"]\n",
            "ensembl\tfive_prime_UTR\t[\"Parent\"]\n",
            "ensembl\tCDS\t[\"protein_id\",\"ID\",\"Parent\"]\n",
            "ensembl\tpseudogenic_transcript\t[\"ID\",\"Parent\",\"tag\",\"Name\",\"biotype\",\"transcript_support_level\",\"version\",\"transcript_id\"]\n",
            "ensembl\tncRNA\t[\"ID\",\"Parent\",\"tag\",\"Name\",\"biotype\",\"transcript_support_level\",\"version\",\"transcript_id\"]\n",
            "ensembl\tncRNA_gene\t[\"description\",\"logic_name\",\"ID\",\"gene_id\",\"Name\",\"biotype\",\"version\"]\n",
            "ensembl\tpseudogene\t[\"description\",\"logic_name\",\"ID\",\"gene_id\",\"Name\",\"biotype\",\"version\"]\n",
            "ensembl\tsnRNA\t[\"ID\",\"Parent\",\"tag\",\"Name\",\"biotype\",\"transcript_support_level\",\"version\",\"transcript_id\"]\n",
            "ensembl\trRNA\t[\"ID\",\"Parent\",\"tag\",\"Name\",\"biotype\",\"transcript_support_level\",\"version\",\"transcript_id\"]\n",
            "ensembl\tmRNA\t[\"ID\",\"Parent\",\"ccdsid\",\"tag\",\"Name\",\"biotype\",\"transcript_support_level\",\"version\",\"transcript_id\"]\n",
            "ensembl\tscRNA\t[\"ID\",\"Parent\",\"tag\",\"Name\",\"biotype\",\"transcript_support_level\",\"version\",\"transcript_id\"]\n",
            "ensembl\texon\t[\"Parent\",\"constitutive\",\"ensembl_end_phase\",\"exon_id\",\"Name\",\"ensembl_phase\",\"rank\",\"version\"]\n",
            "ensembl\tlnc_RNA\t[\"ID\",\"Parent\",\"tag\",\"Name\",\"biotype\",\"transcript_support_level\",\"version\",\"transcript_id\"]\n",
            "ensembl_havana\tgene\t[\"description\",\"logic_name\",\"ID\",\"gene_id\",\"Name\",\"biotype\",\"version\"]\n",
            "ensembl_havana\tncRNA_gene\t[\"description\",\"logic_name\",\"ID\",\"gene_id\",\"Name\",\"biotype\",\"version\"]\n",
            "ensembl_havana\tthree_prime_UTR\t[\"Parent\"]\n",
            "ensembl_havana\tpseudogene\t[\"description\",\"logic_name\",\"ID\",\"gene_id\",\"Name\",\"biotype\",\"version\"]\n",
            "ensembl_havana\tunconfirmed_transcript\t[\"ID\",\"Parent\",\"tag\",\"Name\",\"biotype\",\"transcript_support_level\",\"version\",\"transcript_id\"]\n",
            "ensembl_havana\tC_gene_segment\t[\"ID\",\"Parent\",\"Name\",\"biotype\",\"transcript_support_level\",\"version\",\"transcript_id\"]\n",
            "ensembl_havana\tmRNA\t[\"ID\",\"Parent\",\"ccdsid\",\"tag\",\"Name\",\"biotype\",\"transcript_support_level\",\"version\",\"transcript_id\"]\n",
            "ensembl_havana\tV_gene_segment\t[\"ID\",\"Parent\",\"tag\",\"Name\",\"biotype\",\"transcript_support_level\",\"version\",\"transcript_id\"]\n",
            "ensembl_havana\tCDS\t[\"protein_id\",\"ID\",\"Parent\"]\n",
            "ensembl_havana\tfive_prime_UTR\t[\"Parent\"]\n",
            "ensembl_havana\tpseudogenic_transcript\t[\"ID\",\"Parent\",\"tag\",\"Name\",\"biotype\",\"transcript_support_level\",\"version\",\"transcript_id\"]\n",
            "ensembl_havana\texon\t[\"Parent\",\"constitutive\",\"ensembl_end_phase\",\"exon_id\",\"Name\",\"ensembl_phase\",\"rank\",\"version\"]\n",
            "ensembl_havana\tlnc_RNA\t[\"ID\",\"Parent\",\"Name\",\"biotype\",\"transcript_support_level\",\"version\",\"transcript_id\",\"tag\"]\n",
            "mirbase\tncRNA_gene\t[\"description\",\"logic_name\",\"ID\",\"gene_id\",\"Name\",\"biotype\",\"version\"]\n",
            "mirbase\tmiRNA\t[\"ID\",\"Parent\",\"tag\",\"Name\",\"biotype\",\"transcript_support_level\",\"version\",\"transcript_id\"]\n",
            "mirbase\texon\t[\"Parent\",\"constitutive\",\"ensembl_end_phase\",\"exon_id\",\"Name\",\"ensembl_phase\",\"rank\",\"version\"]\n",
            "insdc\tgene\t[\"description\",\"logic_name\",\"ID\",\"gene_id\",\"Name\",\"biotype\",\"version\"]\n",
            "insdc\tncRNA_gene\t[\"description\",\"logic_name\",\"ID\",\"gene_id\",\"Name\",\"biotype\",\"version\"]\n",
            "Ensembl\tchromosome\t[\"ID\",\"Alias\"]\n",
            "havana_tagene\tncRNA_gene\t[\"description\",\"logic_name\",\"ID\",\"gene_id\",\"Name\",\"biotype\",\"version\"]\n",
            "havana_tagene\tlnc_RNA\t[\"ID\",\"Parent\",\"tag\",\"Name\",\"biotype\",\"version\",\"transcript_id\",\"transcript_support_level\"]\n",
            "havana_tagene\texon\t[\"Parent\",\"constitutive\",\"ensembl_end_phase\",\"exon_id\",\"Name\",\"ensembl_phase\",\"rank\",\"version\"]\n",
            ".\tbiological_region\t[\"logic_name\",\"external_name\"]\n",
            "ensembl_havana_tagene\tlnc_RNA\t[\"ID\",\"Parent\",\"tag\",\"Name\",\"biotype\",\"version\",\"transcript_id\",\"transcript_support_level\"]\n",
            "ensembl_havana_tagene\texon\t[\"Parent\",\"constitutive\",\"ensembl_end_phase\",\"exon_id\",\"Name\",\"ensembl_phase\",\"rank\",\"version\"]\n",
            "\n"
          ]
        }
      ],
      "source": [
        "#@markdown ####パラメータ  \n",
        "GFFファイル = 'Homo_sapiens.GRCh38.99.chr.gff3' #@param {type:'string'}\n",
        "\n",
        "cmd = './GFFParser \"' + GFFファイル + '\"'\n",
        "output = subprocess.check_output(cmd, shell=True, text=True)\n",
        "print(output)"
      ]
    },
    {
      "cell_type": "markdown",
      "metadata": {
        "id": "eVg9UQTa_xmL"
      },
      "source": [
        "#### 使用例 (C.elehans)"
      ]
    },
    {
      "cell_type": "markdown",
      "metadata": {
        "id": "RRwQmdNQ_xmM"
      },
      "source": [
        "1. gff3 ファイルをダウンロードして展開します。"
      ]
    },
    {
      "cell_type": "code",
      "execution_count": null,
      "metadata": {
        "id": "pCH0neEJ_xmN",
        "colab": {
          "base_uri": "https://localhost:8080/"
        },
        "outputId": "621e35a9-76a6-4b7b-8ad5-7985dbaac60d"
      },
      "outputs": [
        {
          "output_type": "stream",
          "name": "stdout",
          "text": [
            "  % Total    % Received % Xferd  Average Speed   Time    Time     Time  Current\n",
            "                                 Dload  Upload   Total   Spent    Left  Speed\n",
            "100  726M  100  726M    0     0  98.9M      0  0:00:07  0:00:07 --:--:-- 99.8M\n"
          ]
        }
      ],
      "source": [
        "!curl -O ftp://ftp.wormbase.org/pub/wormbase/species/c_elegans/PRJNA13758/gff/c_elegans.PRJNA13758.WS283.annotations.gff3.gz -O \n",
        "!gzip -d c_elegans.PRJNA13758.WS283.annotations.gff3.gz"
      ]
    },
    {
      "cell_type": "markdown",
      "metadata": {
        "id": "VxJ44ZS7_xmN"
      },
      "source": [
        "2.  アプリを実行してください。"
      ]
    },
    {
      "cell_type": "code",
      "execution_count": null,
      "metadata": {
        "cellView": "form",
        "colab": {
          "base_uri": "https://localhost:8080/"
        },
        "id": "3jkdZCya_xmP",
        "outputId": "9b03b7b0-e5a9-4746-e77a-d0d61fa36117"
      },
      "outputs": [
        {
          "output_type": "stream",
          "name": "stdout",
          "text": [
            "Expr_pattern\treagent\t[\"Target\"]\n",
            "EMBL_nematode_cDNAs-BLAT\texpressed_sequence_match\t[\"own_sequence\",\"species\",\"ID\",\"Target\"]\n",
            "promoter\tpromoter\t[\"Name\"]\n",
            "BLAT_ncRNA_BEST\texpressed_sequence_match\t[\"own_sequence\",\"Target\",\"ID\"]\n",
            "Allele_Polymorphism\tSNP\t[\"variation\",\"exon_nr\",\"cdna_position\",\"vep_impact\",\"other_name\",\"strain\",\"hgvsg\",\"polymorphism\",\"public_name\",\"substitution\",\"consequence\",\"hgvsc\",\"codon_change\",\"cds_position\",\"hgvsp\",\"aa_position\",\"aachange\"]\n",
            "RNASeq_F_asymmetry\ttranscript_region\t[\"Name\"]\n",
            "mSplicer_orf\tCDS\t[\"ID\",\"status\"]\n",
            "miRanda\tbinding_site\t[\"Note\"]\n",
            "RepeatMasker\trepeat_region\t[\"Target\"]\n",
            "polyA_site\tpolyA_site\t[\"Name\"]\n",
            "BLAT_Caen_EST_OTHER\texpressed_sequence_match\t[\"species\",\"ID\",\"Target\"]\n",
            "Promoterome\tPCR_product\t[\"Name\"]\n",
            "BLAT_RST_OTHER\texpressed_sequence_match\t[\"own_sequence\",\"ID\",\"Target\"]\n",
            "SAGE_tag_most_three_prime\tSAGE_tag\t[\"gene\",\"transcript\",\"sequence\",\"count\"]\n",
            "BLAT_TC1_OTHER\tnucleotide_match\t[\"own_sequence\",\"ID\",\"Target\"]\n",
            "c_briggsae_LASTZ_NET\tconserved_region\t[\"Target\"]\n",
            "mGene\tCDS\t[\"ID\"]\n",
            "TEC_RED\tnucleotide_match\t[\"own_sequence\",\"Target\",\"multimapping\"]\n",
            "SAGE_tag_unambiguously_mapped\tSAGE_tag\t[\"gene\",\"transcript\",\"sequence\",\"count\"]\n",
            "Million_mutation\tpoint_mutation\t[\"strain\",\"variation\",\"public_name\",\"substitution\",\"hgvsg\",\"exon_nr\",\"cdna_position\",\"vep_impact\",\"consequence\",\"hgvsc\",\"codon_change\",\"cds_position\",\"hgvsp\",\"aa_position\",\"aachange\",\"polyphen\",\"sift\",\"intron_nr\"]\n",
            "Million_mutation\tinsertion_site\t[\"variation\",\"insertion\",\"vep_impact\",\"strain\",\"hgvsg\",\"public_name\",\"intron_nr\",\"consequence\",\"hgvsc\",\"exon_nr\",\"cdna_position\",\"aachange\",\"codon_change\",\"cds_position\",\"hgvsp\",\"aa_position\"]\n",
            "Million_mutation\ttandem_duplication\t[\"strain\",\"variation\",\"public_name\",\"insertion\",\"vep_impact\",\"hgvsg\",\"intron_nr\",\"consequence\",\"hgvsc\",\"exon_nr\",\"cdna_position\",\"aachange\",\"codon_change\",\"cds_position\",\"hgvsp\",\"aa_position\"]\n",
            "Million_mutation\tcomplex_substitution\t[\"variation\",\"insertion\",\"vep_impact\",\"strain\",\"hgvsg\",\"public_name\",\"intron_nr\",\"consequence\",\"hgvsc\",\"exon_nr\",\"cdna_position\",\"cds_position\",\"aa_position\",\"aachange\",\"codon_change\",\"hgvsp\"]\n",
            "Million_mutation\tdeletion\t[\"variation\",\"vep_impact\",\"strain\",\"hgvsg\",\"public_name\",\"intron_nr\",\"consequence\",\"hgvsc\",\"aachange\",\"codon_change\",\"exon_nr\",\"cdna_position\",\"cds_position\",\"hgvsp\",\"aa_position\"]\n",
            "ovolvulus_proteins-BLASTX\tprotein_match\t[\"Target\"]\n",
            "operon\toperon\t[\"Name\",\"genes\"]\n",
            "DNaseI_hypersensitive_site\tDNaseI_hypersensitive_site\t[\"Name\"]\n",
            "mSplicer_transcript\tCDS\t[\"ID\",\"status\"]\n",
            "celegans_proteins-BLASTX\tprotein_match\t[\"own_sequence\",\"Target\"]\n",
            "c_japonica_LASTZ_NET\tconserved_region\t[\"Target\"]\n",
            "CGH_allele_Polymorphism\tdeletion\t[\"variation\",\"exon_nr\",\"cdna_position\",\"vep_impact\",\"other_name\",\"strain\",\"hgvsg\",\"cds_position\",\"polymorphism\",\"public_name\",\"intron_nr\",\"consequence\",\"aa_position\",\"hgvsc\",\"aachange\",\"codon_change\",\"hgvsp\",\"insertion\"]\n",
            "PCoF_Million_mutation\tpoint_mutation\t[\"aachange\",\"variation\",\"codon_change\",\"exon_nr\",\"cdna_position\",\"vep_impact\",\"strain\",\"hgvsg\",\"polyphen\",\"cds_position\",\"hgvsp\",\"public_name\",\"substitution\",\"aa_position\",\"consequence\",\"hgvsc\",\"sift\",\"intron_nr\"]\n",
            "PCoF_Million_mutation\tinsertion_site\t[\"aachange\",\"variation\",\"insertion\",\"exon_nr\",\"codon_change\",\"cdna_position\",\"vep_impact\",\"strain\",\"hgvsg\",\"cds_position\",\"hgvsp\",\"public_name\",\"consequence\",\"hgvsc\",\"aa_position\",\"intron_nr\"]\n",
            "PCoF_Million_mutation\tcomplex_substitution\t[\"variation\",\"insertion\",\"exon_nr\",\"vep_impact\",\"strain\",\"hgvsg\",\"public_name\",\"consequence\",\"cdna_position\",\"cds_position\",\"intron_nr\",\"hgvsc\",\"aa_position\",\"aachange\",\"codon_change\",\"hgvsp\"]\n",
            "PCoF_Million_mutation\tdeletion\t[\"aachange\",\"variation\",\"codon_change\",\"exon_nr\",\"cdna_position\",\"vep_impact\",\"strain\",\"hgvsg\",\"cds_position\",\"hgvsp\",\"public_name\",\"intron_nr\",\"consequence\",\"hgvsc\",\"aa_position\"]\n",
            "NemaGENETAG_consortium\ttransposable_element_insertion_site\t[\"variation\",\"strain\",\"public_name\",\"other_name\"]\n",
            "Vancouver_fosmid\tnucleotide_match\t[\"Name\",\"known_name\"]\n",
            "UTRome\tthree_prime_UTR\t[\"Name\"]\n",
            "BLAT_Caen_mRNA_OTHER\texpressed_sequence_match\t[\"ID\",\"Target\",\"own_sequence\"]\n",
            "PCoF_Allele\tpoint_mutation\t[\"aachange\",\"variation\",\"codon_change\",\"exon_nr\",\"cdna_position\",\"vep_impact\",\"strain\",\"hgvsg\",\"polyphen\",\"cds_position\",\"hgvsp\",\"public_name\",\"substitution\",\"aa_position\",\"consequence\",\"hgvsc\",\"sift\",\"intron_nr\",\"other_name\",\"production_method\",\"engineered\"]\n",
            "PCoF_Allele\tinsertion_site\t[\"aachange\",\"variation\",\"insertion\",\"codon_change\",\"exon_nr\",\"cdna_position\",\"vep_impact\",\"strain\",\"production_method\",\"hgvsg\",\"cds_position\",\"hgvsp\",\"public_name\",\"consequence\",\"aa_position\",\"hgvsc\",\"engineered\",\"intron_nr\"]\n",
            "PCoF_Allele\tsubstitution\t[\"aachange\",\"variation\",\"codon_change\",\"exon_nr\",\"cdna_position\",\"vep_impact\",\"hgvsg\",\"cds_position\",\"hgvsp\",\"public_name\",\"substitution\",\"consequence\",\"hgvsc\",\"aa_position\",\"strain\",\"production_method\",\"engineered\",\"intron_nr\",\"other_name\"]\n",
            "PCoF_Allele\tcomplex_substitution\t[\"aachange\",\"variation\",\"insertion\",\"codon_change\",\"exon_nr\",\"cdna_position\",\"vep_impact\",\"strain\",\"production_method\",\"hgvsg\",\"cds_position\",\"hgvsp\",\"public_name\",\"engineered\",\"consequence\",\"hgvsc\",\"aa_position\",\"intron_nr\",\"other_name\"]\n",
            "PCoF_Allele\tdeletion\t[\"variation\",\"exon_nr\",\"cdna_position\",\"vep_impact\",\"hgvsg\",\"cds_position\",\"public_name\",\"intron_nr\",\"consequence\",\"hgvsc\",\"aa_position\",\"strain\",\"aachange\",\"codon_change\",\"production_method\",\"hgvsp\",\"engineered\",\"other_name\"]\n",
            "c_brenneri_LASTZ_NET\tconserved_region\t[\"Target\"]\n",
            "PCoF_CGH_allele\tdeletion\t[\"strain\",\"hgvsg\",\"variation\",\"exon_nr\",\"public_name\",\"vep_impact\",\"intron_nr\",\"consequence\",\"aachange\",\"codon_change\",\"cdna_position\",\"cds_position\",\"hgvsp\",\"hgvsc\",\"aa_position\"]\n",
            "dmelanogaster_proteins-BLASTX\tprotein_match\t[\"own_sequence\",\"Target\"]\n",
            "twinscan\tCDS\t[\"ID\"]\n",
            "c_remanei_LASTZ_NET\tconserved_region\t[\"Target\"]\n",
            "BLAT_EST_OTHER\texpressed_sequence_match\t[\"own_sequence\",\"ID\",\"Target\"]\n",
            "landmark\tgene\t[\"locus\",\"ID\"]\n",
            "BLAT_Caen_Trinity_BEST\texpressed_sequence_match\t[\"ID\",\"Target\"]\n",
            "ppacificus_proteins-BLASTX\tprotein_match\t[\"Target\"]\n",
            "RNASeq_reads\ttranscript_region\t[\"Name\"]\n",
            "BLAT_OST_BEST\texpressed_sequence_match\t[\"own_sequence\",\"ID\",\"Target\"]\n",
            "Transposon_ncRNA\texon\t[\"Parent\"]\n",
            "Transposon_ncRNA\tncRNA\t[\"Name\",\"ID\",\"Parent\"]\n",
            "dust\tlow_complexity_region\t[\"Name\"]\n",
            "TSS_region\tTSS_region\t[\"Name\"]\n",
            "RNASeq_R_asymmetry\ttranscript_region\t[\"Name\"]\n",
            "hsapiens_proteins-BLASTX\tprotein_match\t[\"own_sequence\",\"Target\"]\n",
            "BLAT_RST_BEST\texpressed_sequence_match\t[\"own_sequence\",\"ID\",\"Target\"]\n",
            "Allele\tpoint_mutation\t[\"aachange\",\"variation\",\"codon_change\",\"exon_nr\",\"cdna_position\",\"vep_impact\",\"strain\",\"hgvsg\",\"polyphen\",\"cds_position\",\"hgvsp\",\"public_name\",\"substitution\",\"aa_position\",\"consequence\",\"hgvsc\",\"sift\",\"intron_nr\",\"other_name\",\"production_method\",\"engineered\"]\n",
            "Allele\tinsertion_site\t[\"aachange\",\"variation\",\"insertion\",\"codon_change\",\"exon_nr\",\"cdna_position\",\"vep_impact\",\"strain\",\"production_method\",\"hgvsg\",\"cds_position\",\"hgvsp\",\"public_name\",\"consequence\",\"aa_position\",\"hgvsc\",\"engineered\",\"intron_nr\",\"other_name\"]\n",
            "Allele\tsequence_alteration\t[\"variation\",\"public_name\",\"strain\"]\n",
            "Allele\tsubstitution\t[\"aachange\",\"variation\",\"codon_change\",\"exon_nr\",\"cdna_position\",\"vep_impact\",\"hgvsg\",\"cds_position\",\"hgvsp\",\"public_name\",\"substitution\",\"consequence\",\"hgvsc\",\"aa_position\",\"strain\",\"production_method\",\"engineered\",\"intron_nr\",\"other_name\"]\n",
            "Allele\tcomplex_substitution\t[\"aachange\",\"variation\",\"insertion\",\"codon_change\",\"exon_nr\",\"cdna_position\",\"vep_impact\",\"strain\",\"production_method\",\"hgvsg\",\"cds_position\",\"hgvsp\",\"public_name\",\"engineered\",\"consequence\",\"hgvsc\",\"aa_position\",\"intron_nr\",\"other_name\"]\n",
            "Allele\tdeletion\t[\"variation\",\"exon_nr\",\"cdna_position\",\"vep_impact\",\"hgvsg\",\"cds_position\",\"public_name\",\"intron_nr\",\"consequence\",\"hgvsc\",\"aa_position\",\"strain\",\"aachange\",\"codon_change\",\"production_method\",\"hgvsp\",\"engineered\",\"other_name\"]\n",
            "Allele\ttransposable_element_insertion_site\t[\"variation\",\"strain\",\"public_name\",\"aachange\",\"insertion\",\"codon_change\",\"exon_nr\",\"cdna_position\",\"vep_impact\",\"hgvsg\",\"cds_position\",\"hgvsp\",\"intron_nr\",\"consequence\",\"hgvsc\",\"aa_position\",\"other_name\",\"polymorphism\",\"production_method\",\"engineered\"]\n",
            "TF_binding_site_region\tTF_binding_site\t[\"tf_name\",\"Name\",\"tf_id\"]\n",
            "cremanei_proteins-BLASTX\tprotein_match\t[\"Target\"]\n",
            "RNASEQ.Hillier.Aggregate\tCDS\t[\"ID\"]\n",
            "BLAT_mRNA_OTHER\texpressed_sequence_match\t[\"own_sequence\",\"ID\",\"Target\"]\n",
            "Genomic_canonical\tassembly_component\t[\"known_name\",\"Note\",\"Name\"]\n",
            "deprecated_operon\toperon\t[\"Name\",\"genes\"]\n",
            "BLAT_Trinity_OTHER\texpressed_sequence_match\t[\"own_sequence\",\"ID\",\"Target\"]\n",
            "PCoF_Allele_Polymorphism\tSNP\t[\"aachange\",\"variation\",\"codon_change\",\"exon_nr\",\"cdna_position\",\"vep_impact\",\"other_name\",\"strain\",\"hgvsg\",\"cds_position\",\"polymorphism\",\"hgvsp\",\"public_name\",\"substitution\",\"aa_position\",\"consequence\",\"hgvsc\"]\n",
            "cDNA_for_RNAi\texperimental_result_region\t[\"known_name\",\"Name\"]\n",
            "SAGE_tag_genomic_unique\tSAGE_tag\t[\"sequence\",\"count\",\"gene\"]\n",
            "translated_feature\tpolypeptide_motif\t[\"cds\",\"protein\",\"Note\",\"ID\",\"exons\",\"predictiontype\",\"range\"]\n",
            "scerevisiae_proteins-BLASTX\tprotein_match\t[\"own_sequence\",\"Target\"]\n",
            "BLAT_ncRNA_OTHER\texpressed_sequence_match\t[\"own_sequence\",\"ID\",\"Target\"]\n",
            "NEMBASE_cDNAs-BLAT\texpressed_sequence_match\t[\"own_sequence\",\"species\",\"ID\",\"Target\"]\n",
            "Chronogram\treagent\t[\"Target\"]\n",
            "interpolated_pmap_position\tgene\t[\"Note\",\"ID\",\"gmap\",\"status\"]\n",
            "WBPaper00056245\tlincRNA\t[\"Name\",\"ID\"]\n",
            "WBPaper00056245\texon\t[\"Parent\"]\n",
            "binding_site_region\tbinding_site\t[\"tf_name\",\"Name\",\"tf_id\"]\n",
            "RNAz\tncRNA\t[\"Name\",\"Note\"]\n",
            "WormBase\tgene\t[\"interpolated_map_position\",\"so_term_name\",\"ID\",\"curie\",\"Alias\",\"Name\",\"sequence_name\",\"biotype\",\"locus\"]\n",
            "WormBase\ttRNA\t[\"Name\",\"ID\",\"Parent\",\"locus\"]\n",
            "WormBase\tthree_prime_UTR\t[\"Parent\"]\n",
            "WormBase\tsnoRNA\t[\"ID\",\"Parent\",\"Name\",\"locus\"]\n",
            "WormBase\tpseudogenic_tRNA\t[\"Name\",\"ID\",\"Parent\"]\n",
            "WormBase\tCDS\t[\"wormpep\",\"prediction_status\",\"protein_id\",\"locus\",\"ID\",\"Parent\",\"uniprot_id\",\"Name\"]\n",
            "WormBase\tfive_prime_UTR\t[\"Parent\"]\n",
            "WormBase\tpseudogenic_transcript\t[\"Name\",\"ID\",\"Parent\",\"locus\"]\n",
            "WormBase\tcircular_ncRNA\t[\"Name\",\"ID\",\"Parent\"]\n",
            "WormBase\tpre_miRNA\t[\"Name\",\"locus\",\"ID\",\"Parent\"]\n",
            "WormBase\tpseudogenic_rRNA\t[\"Name\",\"ID\",\"Parent\"]\n",
            "WormBase\tncRNA\t[\"Name\",\"ID\",\"Parent\",\"locus\"]\n",
            "WormBase\tpiRNA\t[\"Name\",\"locus\",\"ID\",\"Parent\"]\n",
            "WormBase\tmiRNA\t[\"Name\",\"locus\",\"ID\",\"Parent\",\"matureType\",\"end_not_found\"]\n",
            "WormBase\tsnRNA\t[\"Name\",\"ID\",\"Parent\",\"locus\"]\n",
            "WormBase\trRNA\t[\"Name\",\"locus\",\"ID\",\"Parent\"]\n",
            "WormBase\tmRNA\t[\"wormpep\",\"locus\",\"ID\",\"Parent\",\"uniprot_id\",\"Name\"]\n",
            "WormBase\tlincRNA\t[\"Name\",\"locus\",\"ID\",\"Parent\"]\n",
            "WormBase\tnc_primary_transcript\t[\"Name\",\"ID\",\"Parent\",\"end_not_found\"]\n",
            "WormBase\tscRNA\t[\"Name\",\"locus\",\"ID\",\"Parent\"]\n",
            "WormBase\texon\t[\"Parent\"]\n",
            "WormBase\tmiRNA_primary_transcript\t[\"Name\",\"locus\",\"ID\",\"Parent\"]\n",
            "WormBase\tintron\t[\"Note\",\"Parent\"]\n",
            "WormBase\tantisense_RNA\t[\"Name\",\"ID\",\"Parent\"]\n",
            "BLAT_TC1_BEST\tnucleotide_match\t[\"own_sequence\",\"ID\",\"Target\"]\n",
            "inverted\tinverted_repeat\t[\"Name\"]\n",
            "SL1\tSL1_acceptor_site\t[\"Name\"]\n",
            "history\tprotein_coding_primary_transcript\t[\"Name\",\"ID\"]\n",
            "history\ttransposable_element\t[\"Name\"]\n",
            "history\tnc_primary_transcript\t[\"ID\",\"Name\"]\n",
            "history\tpseudogenic_transcript\t[\"Name\",\"ID\"]\n",
            "history\texon\t[\"Parent\"]\n",
            "RNAi_primary\tRNAi_reagent\t[\"history_name\",\"Target\",\"laboratory\"]\n",
            "BLAT_Nanopore_OTHER\texpressed_sequence_match\t[\"own_sequence\",\"ID\",\"Target\"]\n",
            "RNASeq\ttranscription_end_site\t[\"Name\"]\n",
            "RNASeq\tbase_call_error_correction\t[\"Name\"]\n",
            "RNASeq\tpossible_base_call_error\t[\"Name\"]\n",
            "segmental_duplication\tduplication\t[\"Name\"]\n",
            "tandem\ttandem_repeat\t[\"Name\"]\n",
            "cjaponica_proteins-BLASTX\tprotein_match\t[\"Target\"]\n",
            "TranscriptionallyActiveRegion\ttranscribed_fragment\t[\"Name\"]\n",
            "CGH_allele\tdeletion\t[\"strain\",\"hgvsg\",\"variation\",\"exon_nr\",\"public_name\",\"vep_impact\",\"intron_nr\",\"consequence\",\"aachange\",\"codon_change\",\"cdna_position\",\"cds_position\",\"hgvsp\",\"hgvsc\",\"aa_position\"]\n",
            "absolute_pmap_position\tgene\t[\"Note\",\"ID\",\"gmap\",\"status\"]\n",
            "Orfeome\tPCR_product\t[\"amplified\",\"Name\"]\n",
            "BLAT_Caen_mRNA_BEST\texpressed_sequence_match\t[\"ID\",\"Target\"]\n",
            "PicTar\tbinding_site\t[\"Note\"]\n",
            "UniProt-BLASTX\tprotein_match\t[\"own_sequence\",\"Target\"]\n",
            "PCoF_Variation_project\tpoint_mutation\t[\"aachange\",\"variation\",\"codon_change\",\"exon_nr\",\"cdna_position\",\"vep_impact\",\"strain\",\"hgvsg\",\"cds_position\",\"hgvsp\",\"public_name\",\"substitution\",\"consequence\",\"hgvsc\",\"aa_position\",\"polyphen\",\"sift\",\"intron_nr\",\"other_name\"]\n",
            "PCoF_Variation_project\tinsertion_site\t[\"aachange\",\"variation\",\"insertion\",\"exon_nr\",\"codon_change\",\"cdna_position\",\"vep_impact\",\"strain\",\"hgvsg\",\"cds_position\",\"hgvsp\",\"public_name\",\"consequence\",\"hgvsc\",\"aa_position\",\"intron_nr\"]\n",
            "PCoF_Variation_project\tdeletion\t[\"aachange\",\"variation\",\"codon_change\",\"exon_nr\",\"cdna_position\",\"vep_impact\",\"strain\",\"hgvsg\",\"cds_position\",\"hgvsp\",\"public_name\",\"consequence\",\"hgvsc\",\"aa_position\",\"intron_nr\"]\n",
            "BLAT_Caen_IsoSeq_BEST\texpressed_sequence_match\t[\"ID\",\"Target\"]\n",
            "GenePair_STS\tPCR_product\t[\"Name\",\"vendorID\"]\n",
            "Variation_project\tpoint_mutation\t[\"variation\",\"vep_impact\",\"other_name\",\"strain\",\"hgvsg\",\"public_name\",\"intron_nr\",\"substitution\",\"consequence\",\"hgvsc\",\"aachange\",\"codon_change\",\"exon_nr\",\"cdna_position\",\"cds_position\",\"hgvsp\",\"aa_position\",\"polyphen\",\"sift\"]\n",
            "Variation_project\tinsertion_site\t[\"variation\",\"insertion\",\"strain\",\"public_name\",\"aachange\",\"exon_nr\",\"codon_change\",\"cdna_position\",\"vep_impact\",\"hgvsg\",\"cds_position\",\"hgvsp\",\"consequence\",\"hgvsc\",\"aa_position\",\"intron_nr\"]\n",
            "Variation_project\tdeletion\t[\"variation\",\"vep_impact\",\"strain\",\"hgvsg\",\"public_name\",\"intron_nr\",\"consequence\",\"hgvsc\",\"exon_nr\",\"cdna_position\",\"aachange\",\"codon_change\",\"cds_position\",\"hgvsp\",\"aa_position\"]\n",
            "RNASeq_stranded\ttranscript_region\t[\"Name\"]\n",
            "RNASEQ.Hillier\tCDS\t[\"ID\"]\n",
            "regulatory_region\tregulatory_region\t[\"Name\",\"tf_name\",\"tf_id\"]\n",
            "BLAT_mRNA_BEST\texpressed_sequence_match\t[\"own_sequence\",\"ID\",\"Target\"]\n",
            "cisRed\tbinding_site\t[\"Note\"]\n",
            "PCoF_CGH_allele_Polymorphism\tdeletion\t[\"variation\",\"exon_nr\",\"cdna_position\",\"vep_impact\",\"other_name\",\"strain\",\"hgvsg\",\"cds_position\",\"polymorphism\",\"public_name\",\"intron_nr\",\"consequence\",\"aa_position\",\"hgvsc\",\"aachange\",\"codon_change\",\"hgvsp\",\"insertion\"]\n",
            "BLAT_OST_OTHER\texpressed_sequence_match\t[\"own_sequence\",\"ID\",\"Target\"]\n",
            "sratti_proteins-BLASTX\tprotein_match\t[\"Target\"]\n",
            "BLAT_EST_BEST\texpressed_sequence_match\t[\"own_sequence\",\"ID\",\"Target\"]\n",
            "jigsaw\tCDS\t[\"ID\"]\n",
            "cbrenneri_proteins-BLASTX\tprotein_match\t[\"Target\"]\n",
            "PCoF_NBP_knockout\tcomplex_substitution\t[\"variation\",\"insertion\",\"exon_nr\",\"cdna_position\",\"vep_impact\",\"hgvsg\",\"cds_position\",\"public_name\",\"intron_nr\",\"consequence\",\"hgvsc\",\"aa_position\",\"aachange\",\"codon_change\",\"hgvsp\",\"strain\"]\n",
            "PCoF_NBP_knockout\tdeletion\t[\"variation\",\"exon_nr\",\"cdna_position\",\"vep_impact\",\"hgvsg\",\"cds_position\",\"public_name\",\"intron_nr\",\"consequence\",\"hgvsc\",\"aa_position\",\"aachange\",\"codon_change\",\"hgvsp\",\"strain\",\"production_method\",\"engineered\"]\n",
            "cbriggsae_proteins-BLASTX\tprotein_match\t[\"Target\"]\n",
            "BLAT_Nanopore_BEST\texpressed_sequence_match\t[\"own_sequence\",\"ID\",\"Target\"]\n",
            "Variation_PCR\tPCR_product\t[\"Name\"]\n",
            "SAGE_tag\tSAGE_tag\t[\"sequence\",\"count\",\"gene\",\"transcript\"]\n",
            "SL2\tSL2_acceptor_site\t[\"Name\"]\n",
            "Oligo_set\treagent\t[\"Target\",\"Name\"]\n",
            "Polymorphism\tinsertion_site\t[\"variation\",\"insertion\",\"other_name\",\"strain\",\"polymorphism\",\"public_name\",\"vep_impact\",\"hgvsg\",\"intron_nr\",\"consequence\",\"hgvsc\"]\n",
            "Polymorphism\tdeletion\t[\"variation\",\"vep_impact\",\"other_name\",\"strain\",\"hgvsg\",\"polymorphism\",\"public_name\",\"intron_nr\",\"consequence\",\"hgvsc\"]\n",
            "dicistronic_mRNA\toperon\t[\"Name\",\"genes\"]\n",
            "GeneMarkHMM\tCDS\t[\"ID\"]\n",
            "Polysome_profiling\tmRNA_region\t[\"Name\"]\n",
            "polyA_signal_sequence\tpolyA_signal_sequence\t[\"Name\"]\n",
            "TF_binding_site\tTF_binding_site\t[\"tf_name\",\"Name\",\"tf_id\"]\n",
            "WormBase_transposon\tgene\t[\"so_term_name\",\"curie\",\"Name\",\"sequence_name\",\"biotype\",\"interpolated_map_position\",\"ID\",\"Alias\",\"locus\"]\n",
            "WormBase_transposon\ttransposable_element\t[\"Name\",\"Family\",\"ID\"]\n",
            "WormBase_transposon\tmRNA\t[\"Name\",\"ID\",\"Parent\"]\n",
            "WormBase_transposon\tpseudogenic_transcript\t[\"Name\",\"ID\",\"Parent\"]\n",
            "WormBase_transposon\texon\t[\"Parent\"]\n",
            "bmalayi_proteins-BLASTX\tprotein_match\t[\"Target\"]\n",
            "pmid18538569\tG_quartet\t[\"Target\"]\n",
            "BLAT_Caen_IsoSeq_OTHER\texpressed_sequence_match\t[\"ID\",\"Target\"]\n",
            "Mos_insertion_allele\ttransposable_element_insertion_site\t[\"variation\",\"public_name\",\"strain\"]\n",
            "Genefinder\tCDS\t[\"ID\"]\n",
            "Balanced_by_balancer\tbiological_region\t[\"Note\",\"balancer\",\"balancer_type\"]\n",
            "BLAT_Trinity_BEST\texpressed_sequence_match\t[\"own_sequence\",\"ID\",\"Target\"]\n",
            "KO_consortium\tpoint_mutation\t[\"variation\",\"codon_change\",\"exon_nr\",\"cdna_position\",\"vep_impact\",\"strain\",\"hgvsg\",\"cds_position\",\"hgvsp\",\"public_name\",\"substitution\",\"consequence\",\"hgvsc\",\"aa_position\",\"aachange\",\"polyphen\",\"sift\",\"intron_nr\"]\n",
            "KO_consortium\tcomplex_substitution\t[\"variation\",\"insertion\",\"strain\",\"public_name\",\"aachange\",\"codon_change\",\"exon_nr\",\"cdna_position\",\"vep_impact\",\"hgvsg\",\"cds_position\",\"hgvsp\",\"intron_nr\",\"consequence\",\"hgvsc\",\"aa_position\",\"other_name\"]\n",
            "KO_consortium\tdeletion\t[\"variation\",\"exon_nr\",\"cdna_position\",\"vep_impact\",\"strain\",\"hgvsg\",\"cds_position\",\"public_name\",\"intron_nr\",\"consequence\",\"hgvsc\",\"aa_position\",\"aachange\",\"codon_change\",\"hgvsp\",\"other_name\"]\n",
            "BLAT_Caen_EST_BEST\texpressed_sequence_match\t[\"species\",\"ID\",\"Target\"]\n",
            "RNASeq_splice\tintron\t[\"Name\"]\n",
            "enhancer\tenhancer\t[\"Name\"]\n",
            "BLAT_Caen_Trinity_OTHER\texpressed_sequence_match\t[\"ID\",\"Target\"]\n",
            "Genbank\tassembly_component\t[\"genbank\"]\n",
            "RNAi_secondary\tRNAi_reagent\t[\"history_name\",\"laboratory\",\"Target\"]\n",
            "Expr_profile\texperimental_result_region\t[\"Name\"]\n",
            "PCoF_KO_consortium\tpoint_mutation\t[\"aachange\",\"variation\",\"codon_change\",\"exon_nr\",\"cdna_position\",\"vep_impact\",\"strain\",\"hgvsg\",\"cds_position\",\"hgvsp\",\"public_name\",\"substitution\",\"consequence\",\"hgvsc\",\"aa_position\",\"polyphen\",\"sift\",\"intron_nr\"]\n",
            "PCoF_KO_consortium\tcomplex_substitution\t[\"aachange\",\"variation\",\"insertion\",\"codon_change\",\"exon_nr\",\"cdna_position\",\"vep_impact\",\"strain\",\"hgvsg\",\"cds_position\",\"hgvsp\",\"public_name\",\"intron_nr\",\"consequence\",\"hgvsc\",\"aa_position\",\"other_name\"]\n",
            "PCoF_KO_consortium\tdeletion\t[\"variation\",\"exon_nr\",\"cdna_position\",\"vep_impact\",\"strain\",\"hgvsg\",\"cds_position\",\"public_name\",\"intron_nr\",\"consequence\",\"hgvsc\",\"aa_position\",\"aachange\",\"codon_change\",\"hgvsp\",\"other_name\"]\n",
            "binding_site\tbinding_site\t[\"Name\",\"tf_name\",\"tf_id\"]\n",
            "NEMATODE.NET_cDNAs-BLAT\texpressed_sequence_match\t[\"own_sequence\",\"species\",\"ID\",\"Target\"]\n",
            "tmuris_proteins-BLASTX\tprotein_match\t[\"Target\"]\n",
            "Link\tassembly_component\t[\"known_name\",\"Name\"]\n",
            "histone_binding_site_region\thistone_binding_site\t[\"Name\"]\n",
            "mass_spec_genome\ttranslated_nucleotide_match\t[\"times_observed\",\"Note\",\"Target\",\"cds_matches\",\"protein_matches\"]\n",
            "NBP_knockout\tcomplex_substitution\t[\"variation\",\"insertion\",\"exon_nr\",\"cdna_position\",\"vep_impact\",\"hgvsg\",\"public_name\",\"consequence\",\"hgvsc\",\"cds_position\",\"intron_nr\",\"aa_position\",\"aachange\",\"codon_change\",\"hgvsp\",\"strain\"]\n",
            "NBP_knockout\tdeletion\t[\"variation\",\"vep_impact\",\"hgvsg\",\"public_name\",\"intron_nr\",\"consequence\",\"hgvsc\",\"exon_nr\",\"cdna_position\",\"cds_position\",\"aa_position\",\"aachange\",\"codon_change\",\"hgvsp\",\"strain\",\"production_method\",\"engineered\"]\n",
            "Variation_project_Polymorphism\tinsertion_site\t[\"strain\",\"variation\",\"polymorphism\",\"insertion\",\"public_name\",\"other_name\",\"hgvsg\",\"exon_nr\",\"cdna_position\",\"vep_impact\",\"consequence\",\"hgvsc\",\"intron_nr\",\"aachange\",\"codon_change\",\"cds_position\",\"hgvsp\",\"aa_position\",\"status\",\"rflp\"]\n",
            "Variation_project_Polymorphism\ttandem_duplication\t[\"strain\",\"variation\",\"polymorphism\",\"public_name\",\"other_name\",\"insertion\",\"vep_impact\",\"hgvsg\",\"intron_nr\",\"consequence\",\"hgvsc\",\"aachange\",\"codon_change\",\"exon_nr\",\"cdna_position\",\"cds_position\",\"hgvsp\",\"aa_position\"]\n",
            "Variation_project_Polymorphism\tSNP\t[\"strain\",\"variation\",\"polymorphism\",\"public_name\",\"substitution\",\"other_name\",\"hgvsg\",\"exon_nr\",\"cdna_position\",\"vep_impact\",\"consequence\",\"hgvsc\",\"intron_nr\",\"aachange\",\"codon_change\",\"polyphen\",\"cds_position\",\"hgvsp\",\"aa_position\",\"sift\",\"rflp\",\"status\"]\n",
            "Variation_project_Polymorphism\tcomplex_substitution\t[\"strain\",\"variation\",\"polymorphism\",\"insertion\",\"public_name\",\"other_name\",\"vep_impact\",\"hgvsg\",\"intron_nr\",\"consequence\",\"hgvsc\",\"exon_nr\",\"cdna_position\",\"aachange\",\"codon_change\",\"cds_position\",\"hgvsp\",\"aa_position\"]\n",
            "Variation_project_Polymorphism\tsubstitution\t[\"aachange\",\"variation\",\"codon_change\",\"exon_nr\",\"cdna_position\",\"vep_impact\",\"other_name\",\"strain\",\"hgvsg\",\"cds_position\",\"polymorphism\",\"hgvsp\",\"public_name\",\"substitution\",\"aa_position\",\"consequence\",\"hgvsc\",\"status\"]\n",
            "Variation_project_Polymorphism\tdeletion\t[\"strain\",\"variation\",\"polymorphism\",\"public_name\",\"other_name\",\"vep_impact\",\"hgvsg\",\"intron_nr\",\"consequence\",\"hgvsc\",\"exon_nr\",\"cdna_position\",\"aachange\",\"codon_change\",\"cds_position\",\"hgvsp\",\"aa_position\",\"rflp\",\"status\"]\n",
            "PCoF_Variation_project_Polymorphism\tinsertion_site\t[\"aachange\",\"variation\",\"insertion\",\"codon_change\",\"exon_nr\",\"cdna_position\",\"vep_impact\",\"other_name\",\"strain\",\"hgvsg\",\"cds_position\",\"polymorphism\",\"hgvsp\",\"public_name\",\"consequence\",\"aa_position\",\"hgvsc\",\"intron_nr\",\"rflp\",\"status\"]\n",
            "PCoF_Variation_project_Polymorphism\tSNP\t[\"aachange\",\"variation\",\"codon_change\",\"exon_nr\",\"cdna_position\",\"vep_impact\",\"other_name\",\"strain\",\"hgvsg\",\"polyphen\",\"cds_position\",\"polymorphism\",\"hgvsp\",\"public_name\",\"substitution\",\"consequence\",\"hgvsc\",\"aa_position\",\"sift\",\"intron_nr\",\"rflp\",\"status\"]\n",
            "PCoF_Variation_project_Polymorphism\tcomplex_substitution\t[\"aachange\",\"variation\",\"insertion\",\"codon_change\",\"exon_nr\",\"cdna_position\",\"vep_impact\",\"other_name\",\"strain\",\"hgvsg\",\"cds_position\",\"polymorphism\",\"hgvsp\",\"public_name\",\"consequence\",\"aa_position\",\"hgvsc\",\"intron_nr\"]\n",
            "PCoF_Variation_project_Polymorphism\tsubstitution\t[\"aachange\",\"variation\",\"codon_change\",\"exon_nr\",\"cdna_position\",\"vep_impact\",\"other_name\",\"strain\",\"hgvsg\",\"cds_position\",\"polymorphism\",\"hgvsp\",\"public_name\",\"substitution\",\"aa_position\",\"consequence\",\"hgvsc\",\"status\"]\n",
            "PCoF_Variation_project_Polymorphism\tdeletion\t[\"variation\",\"vep_impact\",\"other_name\",\"strain\",\"hgvsg\",\"polymorphism\",\"public_name\",\"intron_nr\",\"consequence\",\"hgvsc\",\"aachange\",\"codon_change\",\"exon_nr\",\"cdna_position\",\"cds_position\",\"hgvsp\",\"aa_position\",\"status\",\"rflp\"]\n",
            "\n"
          ]
        }
      ],
      "source": [
        "#@markdown ####パラメータ  \n",
        "GFFファイル = 'c_elegans.PRJNA13758.WS283.annotations.gff3' #@param {type:'string'}\n",
        "\n",
        "cmd = './GFFParser \"' + GFFファイル + '\"'\n",
        "output = subprocess.check_output(cmd, shell=True, text=True)\n",
        "print(output)"
      ]
    },
    {
      "cell_type": "markdown",
      "metadata": {
        "id": "dm4ertBbBrJd"
      },
      "source": [
        "#### コマンドライン（CUI）アプリとして使用する場合\n",
        "以下のヘルプを参照に、コマンドを実行してください。"
      ]
    },
    {
      "cell_type": "code",
      "execution_count": null,
      "metadata": {
        "colab": {
          "base_uri": "https://localhost:8080/"
        },
        "id": "serX5dKBBzrL",
        "outputId": "153df1f2-f222-46fd-c24c-6f8cb89fe3f7"
      },
      "outputs": [
        {
          "name": "stdout",
          "output_type": "stream",
          "text": [
            "============================================================\n",
            "GFFParser v1.1.0\n",
            "Copyright (c) 2015 Yuji Suehiro. All rights reserved. \n",
            "MIT license.\n",
            ". . . . . . . . . . . . . . . . . . . . . . . . . . . . . . \n",
            "\n",
            "Usage:\n",
            "  GFFParser \u001b[3m\u001b[39minput(.gff3)\u001b[0m\u001b[39m\u001b[49m\u001b[0m\u001b[39m\u001b[49m\n",
            ". . . . . . . . . . . . . . . . . . . . . . . . . . . . . . \n",
            "\n",
            "[Option]\n",
            "\n",
            "  --help/-H           : Show help.\n",
            "  --version/-V        : Show version.\n",
            "  --info/-I           : Show app information.\n",
            "\n",
            "\u001b[0m\u001b[31m  * Required option.\u001b[0m\u001b[39m\u001b[49m\u001b[0m\u001b[39m\u001b[49m\n",
            "\u001b[0m\u001b[34m  # Choose one of the options.\u001b[0m\u001b[39m\u001b[49m\u001b[0m\u001b[39m\u001b[49m\n",
            "============================================================\n"
          ]
        }
      ],
      "source": [
        "!./GFFParser --help"
      ]
    },
    {
      "cell_type": "markdown",
      "metadata": {
        "id": "b_bNuVYhE4UX"
      },
      "source": [
        "<a name=\"annot-make\"></a>\n",
        "### 手順２-４ AnnotDBMakerを使う\n",
        "<font color=\"red\">※注意  \n",
        "このアプリを使用するには、GenomeConverterを使って作成したゲノム配列のバイナリファイル、\n",
        "アノテーション情報が入ったGFF3ファイル、および各GFF3ファイルに対応したプラグインなどが必要です。</font>  "
      ]
    },
    {
      "cell_type": "markdown",
      "metadata": {
        "id": "HXfY9DVHFBhT"
      },
      "source": [
        "#### メインプログラムのインストール方法\n",
        "下のコードを実行してください。"
      ]
    },
    {
      "cell_type": "code",
      "execution_count": null,
      "metadata": {
        "colab": {
          "base_uri": "https://localhost:8080/"
        },
        "id": "Nf4A65OVFBr_",
        "outputId": "f9657aa9-1d3b-4d9d-cd2b-ea152d5b60ce"
      },
      "outputs": [
        {
          "output_type": "stream",
          "name": "stdout",
          "text": [
            "--2022-02-03 06:54:46--  https://raw.githubusercontent.com/YujiSue/BioInfoTools/master/AnnotDBMaker/AnnotDBMake.cpp\n",
            "Resolving raw.githubusercontent.com (raw.githubusercontent.com)... 185.199.110.133, 185.199.109.133, 185.199.111.133, ...\n",
            "Connecting to raw.githubusercontent.com (raw.githubusercontent.com)|185.199.110.133|:443... connected.\n",
            "HTTP request sent, awaiting response... 200 OK\n",
            "Length: 3352 (3.3K) [text/plain]\n",
            "Saving to: ‘Codes/AnnotDBMake.cpp’\n",
            "\n",
            "\rCodes/AnnotDBMake.c   0%[                    ]       0  --.-KB/s               \rCodes/AnnotDBMake.c 100%[===================>]   3.27K  --.-KB/s    in 0s      \n",
            "\n",
            "2022-02-03 06:54:46 (33.5 MB/s) - ‘Codes/AnnotDBMake.cpp’ saved [3352/3352]\n",
            "\n",
            "--2022-02-03 06:54:46--  https://raw.githubusercontent.com/YujiSue/BioInfoTools/master/AnnotDBMaker/DBMaker.cpp\n",
            "Resolving raw.githubusercontent.com (raw.githubusercontent.com)... 185.199.108.133, 185.199.109.133, 185.199.110.133, ...\n",
            "Connecting to raw.githubusercontent.com (raw.githubusercontent.com)|185.199.108.133|:443... connected.\n",
            "HTTP request sent, awaiting response... 200 OK\n",
            "Length: 5015 (4.9K) [text/plain]\n",
            "Saving to: ‘Codes/DBMaker.cpp’\n",
            "\n",
            "Codes/DBMaker.cpp   100%[===================>]   4.90K  --.-KB/s    in 0s      \n",
            "\n",
            "2022-02-03 06:54:46 (42.6 MB/s) - ‘Codes/DBMaker.cpp’ saved [5015/5015]\n",
            "\n",
            "--2022-02-03 06:54:46--  https://raw.githubusercontent.com/YujiSue/BioInfoTools/master/AnnotDBMaker/DBMaker.h\n",
            "Resolving raw.githubusercontent.com (raw.githubusercontent.com)... 185.199.108.133, 185.199.110.133, 185.199.111.133, ...\n",
            "Connecting to raw.githubusercontent.com (raw.githubusercontent.com)|185.199.108.133|:443... connected.\n",
            "HTTP request sent, awaiting response... 200 OK\n",
            "Length: 1494 (1.5K) [text/plain]\n",
            "Saving to: ‘Codes/DBMaker.h’\n",
            "\n",
            "Codes/DBMaker.h     100%[===================>]   1.46K  --.-KB/s    in 0s      \n",
            "\n",
            "2022-02-03 06:54:46 (20.6 MB/s) - ‘Codes/DBMaker.h’ saved [1494/1494]\n",
            "\n"
          ]
        }
      ],
      "source": [
        "!mkdir -p Codes\n",
        "!wget https://raw.githubusercontent.com/YujiSue/BioInfoTools/master/AnnotDBMaker/AnnotDBMake.cpp -O Codes/AnnotDBMake.cpp\n",
        "!wget https://raw.githubusercontent.com/YujiSue/BioInfoTools/master/AnnotDBMaker/DBMaker.cpp -O Codes/DBMaker.cpp\n",
        "!wget https://raw.githubusercontent.com/YujiSue/BioInfoTools/master/AnnotDBMaker/DBMaker.h -O Codes/DBMaker.h\n",
        "!g++ -std=c++11 -I/usr/local/include/slib -I. -L/usr/local/lib -O2 -o AnnotDBMake Codes/AnnotDBMake.cpp Codes/DBMaker.cpp -lsapp -lsbioinfo -lsobj -lcurl -ldl"
      ]
    },
    {
      "cell_type": "markdown",
      "metadata": {
        "id": "iS7DOEM9FgMU"
      },
      "source": [
        "#### プラグインのインストール方法\n",
        "<font color=\"red\">※既製は線虫とヒト用のみ</font>  \n",
        "\n"
      ]
    },
    {
      "cell_type": "markdown",
      "metadata": {
        "id": "HiA0cpo9n8t0"
      },
      "source": [
        "#####ヒト用\n",
        "下のコードを実行してください。"
      ]
    },
    {
      "cell_type": "code",
      "execution_count": null,
      "metadata": {
        "id": "DYjJx_CNFhuj"
      },
      "outputs": [],
      "source": [
        "## For human\n",
        "!wget https://raw.githubusercontent.com/YujiSue/BioInfoTools/master/AnnotDBMaker/HSDBMaker/HSDBMaker.cpp -O Codes/HSDBMaker.cpp\n",
        "!g++ -std=c++11 -I/usr/local/include/slib -fPIC -ldl -lpthread -O2 -c Codes/HSDBMaker.cpp\n",
        "!g++ -std=c++11 -shared -o human.plugin HSDBMaker.o\n",
        "!rm HSDBMaker.o"
      ]
    },
    {
      "cell_type": "markdown",
      "metadata": {
        "id": "jGw-MKVjoDik"
      },
      "source": [
        "#####線虫用\n",
        "下のコードを実行してください。"
      ]
    },
    {
      "cell_type": "code",
      "execution_count": null,
      "metadata": {
        "colab": {
          "base_uri": "https://localhost:8080/"
        },
        "id": "4eJkbk3oFrLy",
        "outputId": "ca4fd258-c67d-463b-853d-c0a8047d112a"
      },
      "outputs": [
        {
          "name": "stdout",
          "output_type": "stream",
          "text": [
            "--2022-02-03 00:48:33--  https://raw.githubusercontent.com/YujiSue/BioInfoTools/master/AnnotDBMaker/CEDBMaker/CEDBMaker.cpp\n",
            "Resolving raw.githubusercontent.com (raw.githubusercontent.com)... 185.199.108.133, 185.199.109.133, 185.199.110.133, ...\n",
            "Connecting to raw.githubusercontent.com (raw.githubusercontent.com)|185.199.108.133|:443... connected.\n",
            "HTTP request sent, awaiting response... 200 OK\n",
            "Length: 17852 (17K) [text/plain]\n",
            "Saving to: ‘Codes/CEDBMaker.cpp’\n",
            "\n",
            "\rCodes/CEDBMaker.cpp   0%[                    ]       0  --.-KB/s               \rCodes/CEDBMaker.cpp 100%[===================>]  17.43K  --.-KB/s    in 0s      \n",
            "\n",
            "2022-02-03 00:48:33 (68.3 MB/s) - ‘Codes/CEDBMaker.cpp’ saved [17852/17852]\n",
            "\n"
          ]
        }
      ],
      "source": [
        "## For nematode (C.elegans)\n",
        "!wget https://raw.githubusercontent.com/YujiSue/BioInfoTools/master/AnnotDBMaker/CEDBMaker/CEDBMaker.cpp -O Codes/CEDBMaker.cpp\n",
        "!g++ -std=c++11 -I/usr/local/include/slib -fPIC -ldl -lpthread -O2 -c Codes/CEDBMaker.cpp\n",
        "!g++ -std=c++11 -shared -o nematode.plugin CEDBMaker.o\n",
        "!rm CEDBMaker.o"
      ]
    },
    {
      "cell_type": "markdown",
      "metadata": {
        "id": "V-NQb7Unq8jU"
      },
      "source": [
        "#### 使用方法\n",
        "下セルのパラメータ入力欄に必要事項を記入して、実行してください。  \n",
        "\n",
        "> データベース名：出力するデータベースの名称を入力してください。  \n",
        "\n",
        "> 使用プラグイン：使用するプラグイン名を入力してください。  \n",
        "\n",
        "> リファレンス：GenomeConverterで作成したファイル名を入力してください。   \n",
        "\n",
        "> GFFファイル：必要に応じてGFF3ファイルを入力してください。   \n",
        "\n",
        "> その他のファイル：必要に応じてその他のファイル群を入力してください。   \n",
        "\n",
        "> 作成者：必要に応じて作成者名を入力してください。   \n",
        "\n",
        "> 種名：必要に応じて種名を入力してください。   \n",
        "\n",
        "> バージョン：：必要に応じてバージョン情報を入力してください。   "
      ]
    },
    {
      "cell_type": "code",
      "execution_count": null,
      "metadata": {
        "id": "dGuGm-ayq8ja"
      },
      "outputs": [],
      "source": [
        "#@markdown ####パラメータ \n",
        "データベース名 = '' #@param {type:'string'}\n",
        "使用プラグイン = '' #@param {type:'string'}\n",
        "リファレンス = '' #@param {type:'string'}\n",
        "#@markdown > (オプション)  \n",
        "GFFファイル = '' #@param {type:'string'}\n",
        "その他のファイル = '' #@param {type:'string'}\n",
        "作成者 = '' #@param {type:'string'}\n",
        "種名 = '' #@param {type:'string'}\n",
        "バージョン = '' #@param {type:'string'}\n",
        "\n",
        "cmd = './AnnotDBMake' + ' -r \"' + リファレンス + '\" -p '+使用プラグイン + ' -o ' + データベース名\n",
        "if GFFファイル != '':\n",
        "  cmd = cmd + ' -g \"' + GFFファイル + '\"'\n",
        "if その他のファイル != '':\n",
        "  cmd = cmd + ' -e \"' + その他のファイル + '\"'\n",
        "if 作成者 != '':\n",
        "  cmd = cmd + ' -c \"' + 作成者 + '\"'\n",
        "if 種名 != '':\n",
        "  cmd = cmd + ' -s \"' + 種名 + '\"'\n",
        "if バージョン != '':\n",
        "  cmd = cmd + ' -d \"' + バージョン + '\"'\n",
        "output = subprocess.check_output(cmd, shell=True, text=True)\n",
        "print(output)"
      ]
    },
    {
      "cell_type": "markdown",
      "metadata": {
        "id": "57zVmcBnFBz2"
      },
      "source": [
        "#### 使用例 (H.sapiens)\n"
      ]
    },
    {
      "cell_type": "markdown",
      "metadata": {
        "id": "-OZ0nSFbJsEz"
      },
      "source": [
        "i. gff3 ファイルをダウンロードして展開してください。"
      ]
    },
    {
      "cell_type": "code",
      "execution_count": null,
      "metadata": {
        "id": "W7rkk3bwJuwA"
      },
      "outputs": [],
      "source": [
        "!curl -O ftp://ftp.ensembl.org/pub/release-99/gff3/homo_sapiens/Homo_sapiens.GRCh38.99.chr.gff3.gz\n",
        "!gzip -d Homo_sapiens.GRCh38.99.chr.gff3.gz"
      ]
    },
    {
      "cell_type": "markdown",
      "metadata": {
        "id": "WNxe_XBAJxDJ"
      },
      "source": [
        "ii. パラメータを入力してアプリを実行してください。  \n",
        "  \n",
        "> \"Homo_sapiens.GRCh38.99.chr.gff3\"の情報から  \n",
        "> 上で作成したヒト用プラグイン\"human.plugin\"を使用して  \n",
        "> 以下の設定でアノテーション用データベースを作成します。  \n",
        "> バージョン：GRCh38.99  \n",
        "> 生物種：Homo sapiens  \n",
        "> \"human.db\"として保存"
      ]
    },
    {
      "cell_type": "code",
      "execution_count": null,
      "metadata": {
        "id": "EFPpbcmuvIJ1"
      },
      "outputs": [],
      "source": [
        "#@markdown ####パラメータ \n",
        "データベース名 = 'human.db' #@param {type:'string'}\n",
        "使用プラグイン = './human.plugin' #@param {type:'string'}\n",
        "リファレンス = 'human.bin' #@param {type:'string'}\n",
        "#@markdown > (オプション)  \n",
        "GFFファイル = 'Homo_sapiens.GRCh38.99.chr.gff3' #@param {type:'string'}\n",
        "その他のファイル = '' #@param {type:'string'}\n",
        "作成者 = 'Yuji Suehiro' #@param {type:'string'}\n",
        "種名 = 'Homo sapiens' #@param {type:'string'}\n",
        "バージョン = 'GRCh38.99' #@param {type:'string'}\n",
        "\n",
        "cmd = './AnnotDBMake' + ' -r \"' + リファレンス + '\" -p '+使用プラグイン + ' -o ' + データベース名\n",
        "if GFFファイル != '':\n",
        "  cmd = cmd + ' -g \"' + GFFファイル + '\"'\n",
        "if その他のファイル != '':\n",
        "  cmd = cmd + ' -e \"' + その他のファイル + '\"'\n",
        "if 作成者 != '':\n",
        "  cmd = cmd + ' -c \"' + 作成者 + '\"'\n",
        "if 種名 != '':\n",
        "  cmd = cmd + ' -s \"' + 種名 + '\"'\n",
        "if バージョン != '':\n",
        "  cmd = cmd + ' -d \"' + バージョン + '\"'\n",
        "\n",
        "output = subprocess.check_output(cmd, shell=True, text=True)\n",
        "print(output)"
      ]
    },
    {
      "cell_type": "markdown",
      "metadata": {
        "id": "sw57MYZpM0S7"
      },
      "source": [
        "#### 使用例 (C.elegans)\n",
        "※ あらかじめ GenomeConverter でエンコードしたゲノム、GFF3ファイル、および必要に応じてその他のデータセットを用意してください。  \n",
        "※ このアプリはプラグインを利用して、データベースファイルを作成します。各生物種用のデータセットに合わせたプラグインをあらかじめ作成してください。"
      ]
    },
    {
      "cell_type": "markdown",
      "metadata": {
        "id": "s9cegLPsNyw9"
      },
      "source": [
        "i. i. gff3 ファイル、その他必要なファイルをダウンロードして展開してください。"
      ]
    },
    {
      "cell_type": "code",
      "execution_count": null,
      "metadata": {
        "colab": {
          "base_uri": "https://localhost:8080/"
        },
        "id": "vHaT9Za8N50O",
        "outputId": "bf482384-08e8-4849-8456-e05bc030522a"
      },
      "outputs": [
        {
          "output_type": "stream",
          "name": "stdout",
          "text": [
            "  % Total    % Received % Xferd  Average Speed   Time    Time     Time  Current\n",
            "                                 Dload  Upload   Total   Spent    Left  Speed\n",
            "100  405k  100  405k    0     0  4406k      0 --:--:-- --:--:-- --:--:-- 4554k\n",
            "  % Total    % Received % Xferd  Average Speed   Time    Time     Time  Current\n",
            "                                 Dload  Upload   Total   Spent    Left  Speed\n",
            "100 2368k  100 2368k    0     0  20.4M      0 --:--:-- --:--:-- --:--:-- 20.4M\n",
            "--2022-02-03 02:27:30--  https://drive.google.com/uc?id=15aOf_MpCqHyFs7za8WzYM7nHySlpIBFN\n",
            "Resolving drive.google.com (drive.google.com)... 172.217.1.206, 2607:f8b0:4004:801::200e\n",
            "Connecting to drive.google.com (drive.google.com)|172.217.1.206|:443... connected.\n",
            "HTTP request sent, awaiting response... 302 Moved Temporarily\n",
            "Location: https://doc-0g-58-docs.googleusercontent.com/docs/securesc/ha0ro937gcuc7l7deffksulhg5h7mbp1/sgea185rc0mo6pag70dqqdckhq9lb2s7/1643855250000/00224333681524576421/*/15aOf_MpCqHyFs7za8WzYM7nHySlpIBFN [following]\n",
            "Warning: wildcards not supported in HTTP.\n",
            "--2022-02-03 02:27:30--  https://doc-0g-58-docs.googleusercontent.com/docs/securesc/ha0ro937gcuc7l7deffksulhg5h7mbp1/sgea185rc0mo6pag70dqqdckhq9lb2s7/1643855250000/00224333681524576421/*/15aOf_MpCqHyFs7za8WzYM7nHySlpIBFN\n",
            "Resolving doc-0g-58-docs.googleusercontent.com (doc-0g-58-docs.googleusercontent.com)... 172.217.13.225, 2607:f8b0:4004:809::2001\n",
            "Connecting to doc-0g-58-docs.googleusercontent.com (doc-0g-58-docs.googleusercontent.com)|172.217.13.225|:443... connected.\n",
            "HTTP request sent, awaiting response... 200 OK\n",
            "Length: 1233 (1.2K) [application/octet-stream]\n",
            "Saving to: ‘balance.txt’\n",
            "\n",
            "balance.txt         100%[===================>]   1.20K  --.-KB/s    in 0s      \n",
            "\n",
            "2022-02-03 02:27:30 (29.3 MB/s) - ‘balance.txt’ saved [1233/1233]\n",
            "\n"
          ]
        }
      ],
      "source": [
        "!curl -O ftp://ftp.wormbase.org/pub/wormbase/species/c_elegans/PRJNA13758/gff/c_elegans.PRJNA13758.WS283.annotations.gff3.gz\n",
        "!curl -O ftp://ftp.wormbase.org/pub/wormbase/species/c_elegans/PRJNA13758/annotation/geneIDs/c_elegans.PRJNA13758.WS283.geneIDs.txt.gz\n",
        "!curl -O ftp://ftp.wormbase.org/pub/wormbase/species/c_elegans/PRJNA13758/annotation/functional_descriptions/c_elegans.PRJNA13758.WS283.functional_descriptions.txt.gz\n",
        "!wget https://drive.google.com/uc?id=15aOf_MpCqHyFs7za8WzYM7nHySlpIBFN -O balance.txt\n",
        "!gzip -d c_elegans.PRJNA13758.WS283.annotations.gff3.gz\n",
        "!gzip -d c_elegans.PRJNA13758.WS283.geneIDs.txt.gz\n",
        "!gzip -d c_elegans.PRJNA13758.WS283.functional_descriptions.txt.gz"
      ]
    },
    {
      "cell_type": "markdown",
      "metadata": {
        "id": "k5GL_pOEN59V"
      },
      "source": [
        "ii. アプリを実行してください。\n",
        "  \n",
        "> \"c_elegans.PRJNA13758.WS274.annotations.gff3\"の情報から  \n",
        "> 上で作成したプラグイン\"nematode.plugin\"を使用して  \n",
        "> 以下の設定でアノテーション用データベースを作成します。   \n",
        "> バージョン：WS274  \n",
        "> 種名：Caenorhabditis elegans  \n",
        "> 追加ファイル：  \n",
        "> \"c_elegans.PRJNA13758.WS274.geneIDs.txt\"  \n",
        "> \"c_elegans.PRJNA13758.WS274.functional_descriptions.txt\".  \n",
        "> \"nematode.db\"として保存"
      ]
    },
    {
      "cell_type": "code",
      "execution_count": null,
      "metadata": {
        "id": "2oPh7Y4umuJf"
      },
      "outputs": [],
      "source": [
        "#@markdown ####パラメータ \n",
        "データベース名 = 'nematode.db' #@param {type:'string'}\n",
        "使用プラグイン = './nematode.plugin' #@param {type:'string'}\n",
        "リファレンス = 'nematode.bin' #@param {type:'string'}\n",
        "#@markdown > (オプション)  \n",
        "GFFファイル = 'c_elegans.PRJNA13758.WS283.annotations.gff3' #@param {type:'string'}\n",
        "その他のファイル = 'gene:c_elegans.PRJNA13758.WS283.geneIDs.txt,description:c_elegans.PRJNA13758.WS283.functional_descriptions.txt,balance:balance.txt' #@param {type:'string'}\n",
        "作成者 = 'Yuji Suehiro' #@param {type:'string'}\n",
        "種名 = 'Caenorhabditis elegans' #@param {type:'string'}\n",
        "バージョン = 'WS283' #@param {type:'string'}\n",
        "\n",
        "cmd = './AnnotDBMake' + ' -r \"' + リファレンス + '\" -p '+使用プラグイン + ' -o ' + データベース名\n",
        "if GFFファイル != '':\n",
        "  cmd = cmd + ' -g \"' + GFFファイル + '\"'\n",
        "if その他のファイル != '':\n",
        "  cmd = cmd + ' -e \"' + その他のファイル + '\"'\n",
        "if 作成者 != '':\n",
        "  cmd = cmd + ' -c \"' + 作成者 + '\"'\n",
        "if 種名 != '':\n",
        "  cmd = cmd + ' -s \"' + 種名 + '\"'\n",
        "if バージョン != '':\n",
        "  cmd = cmd + ' -d \"' + バージョン + '\"'\n",
        "output = subprocess.check_output(cmd, shell=True, text=True)\n",
        "print(output)"
      ]
    },
    {
      "cell_type": "code",
      "source": [
        "!/content/AnnotDBMake -r \"nematode.bin\" -p /content/nematode.plugin -o nematode.db -g \"c_elegans.PRJNA13758.WS283.annotations.gff3\" -e \"gene:c_elegans.PRJNA13758.WS283.geneIDs.txt,description:c_elegans.PRJNA13758.WS283.functional_descriptions.txt,balance:balance.txt\" -c \"Yuji Suehiro\" -s \"Caenorhabditis elegans\" -d \"WS283\""
      ],
      "metadata": {
        "id": "RRPZCT-umGK0"
      },
      "execution_count": null,
      "outputs": []
    },
    {
      "cell_type": "markdown",
      "metadata": {
        "id": "aW2ID7IUvOnM"
      },
      "source": [
        "#### コマンドライン（CUI）アプリとして使用する場合\n",
        "以下のヘルプを参照に、コマンドを実行してください。"
      ]
    },
    {
      "cell_type": "code",
      "execution_count": null,
      "metadata": {
        "id": "vCccA2BpKYAI"
      },
      "outputs": [],
      "source": [
        "!./AnnotDBMaker --help"
      ]
    },
    {
      "cell_type": "markdown",
      "metadata": {
        "id": "p6OM3aYxKM3J"
      },
      "source": [
        "<a name=\"bio-annot\"></a>\n",
        "### 手順２-５ BioAnnotationを使う\n",
        "<font color=\"red\">※注意  \n",
        "このアプリを使用するには、AnnotDBMakerを使って作成したアノテーション用データベースファイルが必要です。</font>  "
      ]
    },
    {
      "cell_type": "markdown",
      "metadata": {
        "id": "UogfWauQKqwW"
      },
      "source": [
        "#### インストール方法\n",
        "下セルを実行してください。"
      ]
    },
    {
      "cell_type": "code",
      "execution_count": null,
      "metadata": {
        "colab": {
          "background_save": true
        },
        "id": "mxZB819VKq-D",
        "outputId": "687defc0-36f0-4f4a-b8b0-df24cd0fa4fa"
      },
      "outputs": [
        {
          "name": "stdout",
          "output_type": "stream",
          "text": [
            "--2022-02-03 01:01:41--  https://raw.githubusercontent.com/YujiSue/BioInfoTools/master/BioAnnotation/BioAnnotation.cpp\n",
            "Resolving raw.githubusercontent.com (raw.githubusercontent.com)... 185.199.108.133, 185.199.109.133, 185.199.110.133, ...\n",
            "Connecting to raw.githubusercontent.com (raw.githubusercontent.com)|185.199.108.133|:443... connected.\n",
            "HTTP request sent, awaiting response... 200 OK\n",
            "Length: 7880 (7.7K) [text/plain]\n",
            "Saving to: ‘Codes/BioAnnotation.cpp’\n",
            "\n",
            "\rCodes/BioAnnotation   0%[                    ]       0  --.-KB/s               \rCodes/BioAnnotation 100%[===================>]   7.70K  --.-KB/s    in 0s      \n",
            "\n",
            "2022-02-03 01:01:41 (52.7 MB/s) - ‘Codes/BioAnnotation.cpp’ saved [7880/7880]\n",
            "\n"
          ]
        }
      ],
      "source": [
        "!mkdir -p Codes\n",
        "!wget https://raw.githubusercontent.com/YujiSue/BioInfoTools/master/BioAnnotation/BioAnnotation.cpp -O Codes/BioAnnotation.cpp\n",
        "!g++ -std=c++11 -I/usr/local/include/slib -L/usr/local/lib -O2 -o BioAnnotation Codes/BioAnnotation.cpp -lsapp -lsbioinfo -lsobj -lcurl"
      ]
    },
    {
      "cell_type": "markdown",
      "metadata": {
        "id": "EGiOiy1NxhsH"
      },
      "source": [
        "#### 使用方法\n",
        "下セルのパラメータ入力欄に必要事項を記入して、実行してください。  \n",
        "\n",
        "> データベース：AnnotDBMakerを使って作成したアノテーション用データベースファイルを入力してください。  \n",
        "\n",
        "> 入力情報：染色体位置情報や遺伝子名などを入力してください。  \n",
        "\n",
        "> 入力形式：入力情報の形式を選んでください。  \n",
        "> 出力形式：出力情報の形式を選んでください。  \n",
        "> <font color=\"blue\">* pos...染色体位置, gene...遺伝子名, trs...転写産物名, mut...変異アリル名</font>\n",
        "\n",
        "> 遺伝子名の表示形式：通称(name)か、遺伝子ID(id）か必要に応じて選択して下さい。  \n",
        "\n"
      ]
    },
    {
      "cell_type": "code",
      "execution_count": null,
      "metadata": {
        "cellView": "form",
        "id": "Hz5203Zxxl97"
      },
      "outputs": [],
      "source": [
        "#@markdown ####パラメータ \n",
        "データベース = '' #@param {type:'string'}\n",
        "入力情報 = '' #@param {type:'string'}\n",
        "入力形式 = 'pos' #@param ['pos', 'gene', 'trs', 'mut']\n",
        "出力形式 = 'gene'  #@param ['pos', 'gene', 'trs', 'mut']\n",
        "#@markdown > (オプション)  \n",
        "遺伝子名の表示形式 = ' '  #@param [' ', 'name', 'id']\n",
        "cmd = './BioAnnotation' + ' -d \"' + データベース + '\" -f '+入力形式 + ' -t ' + 出力形式\n",
        "if 遺伝子名の表示形式 != ' ':\n",
        "  cmd += ' -g ' + 遺伝子名の表示形式\n",
        "cmd += ' \"' + 入力情報 + '\"'\n",
        "output = subprocess.check_output(cmd, shell=True, text=True)\n",
        "print(output)"
      ]
    },
    {
      "cell_type": "markdown",
      "metadata": {
        "id": "rGZU_sR8KrDq"
      },
      "source": [
        "#### 使用例 (H.sapiens)\n",
        "  \n",
        "> データベース\"human.db\"をもとに、  \n",
        "> 17番染色体の7670k付近10kb圏内の遺伝子を取得します。"
      ]
    },
    {
      "cell_type": "code",
      "execution_count": null,
      "metadata": {
        "cellView": "form",
        "colab": {
          "base_uri": "https://localhost:8080/"
        },
        "id": "vopKhX_g0eR5",
        "outputId": "438ba45f-ed41-41e8-ae54-8da514541c90"
      },
      "outputs": [
        {
          "name": "stdout",
          "output_type": "stream",
          "text": [
            "17:7665001..7675000\t>>\tTP53\n",
            "\n"
          ]
        }
      ],
      "source": [
        "#@markdown ####パラメータ \n",
        "データベース = 'human.db' #@param {type:'string'}\n",
        "入力情報 = '' #@param {type:'string'}\n",
        "入力形式 = 'pos' #@param ['pos', 'gene', 'trs', 'mut']\n",
        "出力形式 = 'gene'  #@param ['pos', 'gene', 'trs', 'mut']\n",
        "#@markdown > (オプション)  \n",
        "遺伝子名の表示形式 = ' '  #@param [' ', 'name', 'id']\n",
        "\n",
        "cmd = './BioAnnotation' + ' -d \"' + データベース + '\" -f '+入力形式 + ' -t ' + 出力形式\n",
        "if 遺伝子名の表示形式 != ' ':\n",
        "  cmd += ' -g ' + 遺伝子名の表示形式\n",
        "cmd += ' \"' + 入力情報 + '\"'\n",
        "output = subprocess.check_output(cmd, shell=True, text=True)\n",
        "print(output)"
      ]
    },
    {
      "cell_type": "markdown",
      "metadata": {
        "id": "BaGCRdpGIXlZ"
      },
      "source": [
        "#### 使用例 (C.elegans)\n",
        "\n",
        "> データベース\"nematode.db\"をもとに、  \n",
        "> 遺伝子cep-1の変異を取得します。  "
      ]
    },
    {
      "cell_type": "code",
      "execution_count": null,
      "metadata": {
        "cellView": "form",
        "colab": {
          "base_uri": "https://localhost:8080/"
        },
        "id": "Wj5H--mO1knp",
        "outputId": "648e835d-540b-4083-ae77-4be03ff35f38"
      },
      "outputs": [
        {
          "name": "stdout",
          "output_type": "stream",
          "text": [
            "cep-1\t>>\tI:8324120..8328858(+)\n",
            "\n"
          ]
        }
      ],
      "source": [
        "#@markdown ####パラメータ \n",
        "データベース = 'nematode.db' #@param {type:'string'}\n",
        "入力情報 = 'cep-1' #@param {type:'string'}\n",
        "入力形式 = 'gene' #@param ['pos', 'gene', 'trs', 'mut']\n",
        "出力形式 = 'pos'  #@param ['pos', 'gene', 'trs', 'mut']\n",
        "#@markdown > (オプション)  \n",
        "遺伝子名の表示形式 = ' '  #@param [' ', 'name', 'id']\n",
        "\n",
        "cmd = './BioAnnotation' + ' -d \"' + データベース + '\" -f '+入力形式 + ' -t ' + 出力形式\n",
        "if 遺伝子名の表示形式 != ' ':\n",
        "  cmd += ' -g ' + 遺伝子名の表示形式\n",
        "cmd += ' \"' + 入力情報 + '\"'\n",
        "output = subprocess.check_output(cmd, shell=True, text=True)\n",
        "print(output)"
      ]
    },
    {
      "cell_type": "markdown",
      "metadata": {
        "id": "og38QDSYe3Cx"
      },
      "source": [
        "#### コマンドライン（CUI）アプリとして使用する場合\n",
        "以下のヘルプを参照に、コマンドを実行してください。"
      ]
    },
    {
      "cell_type": "code",
      "execution_count": null,
      "metadata": {
        "id": "CPK4zz_Fe42Z"
      },
      "outputs": [],
      "source": [
        "!./BioAnnotation --help"
      ]
    },
    {
      "cell_type": "markdown",
      "metadata": {
        "id": "MSGiw5GbKWHV"
      },
      "source": [
        "<a name=\"gen-map\"></a>\n",
        "### 手順２-６ GeneMapSVGを使う\n",
        "<font color=\"red\">※注意  \n",
        "このアプリを使用するには、GenomeConverterを使って作成したリファレンスファイルと、AnnotDBMakerを使って作成したアノテーション用データベースファイルが必要です。</font>  "
      ]
    },
    {
      "cell_type": "markdown",
      "metadata": {
        "id": "WzHy98GlMopg"
      },
      "source": [
        "####  インストール方法\n",
        "下セルを実行してください。"
      ]
    },
    {
      "cell_type": "code",
      "execution_count": null,
      "metadata": {
        "colab": {
          "background_save": true
        },
        "id": "kiyExshCMoxh",
        "outputId": "f6b2ba1f-120a-4699-a332-39b557887f5c"
      },
      "outputs": [
        {
          "name": "stdout",
          "output_type": "stream",
          "text": [
            "--2022-02-03 01:01:44--  https://raw.githubusercontent.com/YujiSue/BioInfoTools/master/GeneMapSVG/GeneMapSVG.cpp\n",
            "Resolving raw.githubusercontent.com (raw.githubusercontent.com)... 185.199.108.133, 185.199.109.133, 185.199.110.133, ...\n",
            "Connecting to raw.githubusercontent.com (raw.githubusercontent.com)|185.199.108.133|:443... connected.\n",
            "HTTP request sent, awaiting response... 200 OK\n",
            "Length: 4409 (4.3K) [text/plain]\n",
            "Saving to: ‘Codes/GeneMapSVG.cpp’\n",
            "\n",
            "Codes/GeneMapSVG.cp 100%[===================>]   4.31K  --.-KB/s    in 0s      \n",
            "\n",
            "2022-02-03 01:01:44 (37.0 MB/s) - ‘Codes/GeneMapSVG.cpp’ saved [4409/4409]\n",
            "\n",
            "--2022-02-03 01:01:44--  https://raw.githubusercontent.com/YujiSue/BioInfoTools/master/GeneMapSVG/MakeMap.cpp\n",
            "Resolving raw.githubusercontent.com (raw.githubusercontent.com)... 185.199.108.133, 185.199.109.133, 185.199.110.133, ...\n",
            "Connecting to raw.githubusercontent.com (raw.githubusercontent.com)|185.199.108.133|:443... connected.\n",
            "HTTP request sent, awaiting response... 200 OK\n",
            "Length: 9013 (8.8K) [text/plain]\n",
            "Saving to: ‘Codes/MakeMap.cpp’\n",
            "\n",
            "Codes/MakeMap.cpp   100%[===================>]   8.80K  --.-KB/s    in 0s      \n",
            "\n",
            "2022-02-03 01:01:44 (63.8 MB/s) - ‘Codes/MakeMap.cpp’ saved [9013/9013]\n",
            "\n",
            "--2022-02-03 01:01:44--  https://raw.githubusercontent.com/YujiSue/BioInfoTools/master/GeneMapSVG/MakeMap.h\n",
            "Resolving raw.githubusercontent.com (raw.githubusercontent.com)... 185.199.108.133, 185.199.109.133, 185.199.110.133, ...\n",
            "Connecting to raw.githubusercontent.com (raw.githubusercontent.com)|185.199.108.133|:443... connected.\n",
            "HTTP request sent, awaiting response... 200 OK\n",
            "Length: 831 [text/plain]\n",
            "Saving to: ‘Codes/MakeMap.h’\n",
            "\n",
            "Codes/MakeMap.h     100%[===================>]     831  --.-KB/s    in 0s      \n",
            "\n",
            "2022-02-03 01:01:44 (63.5 MB/s) - ‘Codes/MakeMap.h’ saved [831/831]\n",
            "\n"
          ]
        }
      ],
      "source": [
        "!mkdir -p Codes\n",
        "!wget https://raw.githubusercontent.com/YujiSue/BioInfoTools/master/GeneMapSVG/GeneMapSVG.cpp -O Codes/GeneMapSVG.cpp\n",
        "!wget https://raw.githubusercontent.com/YujiSue/BioInfoTools/master/GeneMapSVG/MakeMap.cpp -O Codes/MakeMap.cpp\n",
        "!wget https://raw.githubusercontent.com/YujiSue/BioInfoTools/master/GeneMapSVG/MakeMap.h -O Codes/MakeMap.h\n",
        "!g++ -std=c++11 -I/usr/local/include/slib -I./Codes -L/usr/local/lib -O2 -o GeneMapSVG Codes/GeneMapSVG.cpp Codes/MakeMap.cpp -lsapp -lsbioinfo -lsobj -lcurl"
      ]
    },
    {
      "cell_type": "markdown",
      "metadata": {
        "id": "SmxZXgX2WqyL"
      },
      "source": [
        "#### 使用方法\n",
        "下セルのパラメータ入力欄に必要事項を記入して、実行してください。  \n",
        "\n",
        "> 画像サイズ：生成する画像の幅(ピクセル)を入力してください。  \n",
        "\n",
        "> リファレンス：GenomeConverterで作成したファイル名を入力してください。   \n",
        "\n",
        "> アノテーション：AnnotDBMakerを使って作成したアノテーション用データベースファイルを入力してください。  \n",
        "\n",
        "> 対象範囲：対象範囲を入力してください。  \n",
        "> <font color=\"blue\">*形式は「染色体名：開始位置-終了位置」</font>\n",
        "\n",
        "> 出力ファイル名：生成する画像ファイル名を入力してください。  \n",
        "\n",
        "表示内容  \n",
        "> 遺伝子：遺伝子をボックスで表示させたい場合はチェックをつけてください。  \n",
        "\n",
        "> 転写産物：転写産物のエキソン/イントロン構造を表示させたい場合はチェックをつけてください。  \n",
        "\n",
        "> 変異：既知の変異アリルの位置を表示させたい場合はチェックをつけてください。  \n",
        "\n",
        "オプション  \n",
        "> オリジナル領域の表示：自分で定義した領域を図中に加えたい場合はチェックをつけてください。  \n",
        "\n",
        "> 名称：オリジナル領域の名称を入力してください。  \n",
        "> 位置：オリジナル領域の位置を入力してください。  \n",
        "> 色：オリジナル領域を表示させる色を選択してください。  \n"
      ]
    },
    {
      "cell_type": "code",
      "execution_count": null,
      "metadata": {
        "cellView": "form",
        "id": "Xu_Oa3UOWp9y"
      },
      "outputs": [],
      "source": [
        "from IPython.display import *\n",
        "#@markdown ###パラメータ \n",
        "画像サイズ =  #@param {type:'raw'}\n",
        "リファレンス = '' #@param {type:'string'}\n",
        "アノテーション = '' #@param {type:'string'}\n",
        "対象範囲 = '' #@param {type:'string'}\n",
        "出力ファイル名 = '' #@param {type:'string'}\n",
        "#@markdown ####表示内容\n",
        "遺伝子 = True #@param {type:'boolean'}\n",
        "転写産物 = True #@param {type:'boolean'}\n",
        "変異 = True #@param {type:'boolean'}\n",
        "#@markdown #####オプション\n",
        "オリジナル領域の表示 = False #@param {type:'boolean'}\n",
        "名称 = '' #@param {type:'string'}\n",
        "位置 = '' #@param {type:'string'}\n",
        "色 = 'black'  #@param [' ', 'black', 'red', 'blue', 'green']\n",
        "\n",
        "cmd = './GeneMapSVG -'\n",
        "if 遺伝子 == True:\n",
        "  cmd = cmd + 'g'\n",
        "if 転写産物 == True:\n",
        "  cmd = cmd + 't'\n",
        "if 変異 == True:\n",
        "  cmd = cmd + 'm'\n",
        "cmd = cmd + ' -r \"' + リファレンス +  '\" -a \"' + アノテーション + '\" -w ' + str(画像サイズ) + ' -p ' + 対象範囲 + ' -o \"' + 出力ファイル名 + '\"'\n",
        "if オリジナル領域の表示 == True:\n",
        "  cmd = cmd + ' --custom \"[{name='+名称+';pos='+位置+';col='+色+'}]\"'\n",
        "\n",
        "output = subprocess.check_output(cmd, shell=True, text=True)\n",
        "display_svg(SVG(出力ファイル名))"
      ]
    },
    {
      "cell_type": "markdown",
      "metadata": {
        "id": "0sS5Zvb6Mo4M"
      },
      "source": [
        "#### 使用例 (H.sapiens)\n",
        "  \n",
        "  > 染色体17の7660kから7690kまでが対象  \n",
        "  > 遺伝子と転写産物のマップに、\n",
        "  > SNP rs1042522 の位置をオリジナル指定で付加した図を、  \n",
        "  > 幅640pxのSVG画像として\"map_HS.svg\"に保存します。\n"
      ]
    },
    {
      "cell_type": "code",
      "execution_count": null,
      "metadata": {
        "cellView": "form",
        "id": "qrswO2ohiYVx"
      },
      "outputs": [],
      "source": [
        "from IPython.display import *\n",
        "#@markdown ###パラメータ \n",
        "画像サイズ = 640 #@param {type:'raw'}\n",
        "リファレンス = 'human.bin' #@param {type:'string'}\n",
        "アノテーション = 'human.db' #@param {type:'string'}\n",
        "対象範囲 = '17:7660001-7690000' #@param {type:'string'}\n",
        "出力ファイル名 = 'map_HS1.svg' #@param {type:'string'}\n",
        "#@markdown ####表示内容\n",
        "遺伝子 = True #@param {type:'boolean'}\n",
        "転写産物 = False #@param {type:'boolean'}\n",
        "変異 = False #@param {type:'boolean'}\n",
        "#@markdown #####オプション\n",
        "オリジナル領域の表示 = True #@param {type:'boolean'}\n",
        "名称 = 'rs1042522' #@param {type:'string'}\n",
        "位置 = '17:7676154-7676154' #@param {type:'string'}\n",
        "色 = 'blue' #@param [' ', 'black', 'red', 'blue', 'green']\n",
        "\n",
        "cmd = './GeneMapSVG -'\n",
        "if 遺伝子 == True:\n",
        "  cmd = cmd + 'g'\n",
        "if 転写産物 == True:\n",
        "  cmd = cmd + 't'\n",
        "if 変異 == True:\n",
        "  cmd = cmd + 'm'\n",
        "cmd = cmd + ' -r \"' + リファレンス +  '\" -a \"' + アノテーション + '\" -w ' + str(画像サイズ) + ' -p ' + 対象範囲 + ' -o \"' + 出力ファイル名 + '\"'\n",
        "if オリジナル領域の表示 == True:\n",
        "  cmd = cmd + ' --custom \"[{name='+名称+';pos='+位置+';col='+色+'}]\"'\n",
        "output = subprocess.check_output(cmd, shell=True, text=True)\n",
        "display_svg(SVG(出力ファイル名))"
      ]
    },
    {
      "cell_type": "markdown",
      "metadata": {
        "id": "IV2cFzTQOPWG"
      },
      "source": [
        "#### 使用例 (C.elegans)\n",
        "※さきにGenomeConverterとAnnotDBMakerで、バイナリゲノム配列と、アノテーション用データベースファイルを準備してください。   \n",
        "  \n",
        "  > 染色体Iの8323kから8329kまでの  \n",
        "  > 遺伝子と転写産物と変異のマップを  \n",
        "  > 幅640pxのSVGファイルとして、\"map_CE.svg\"に保存します。\n"
      ]
    },
    {
      "cell_type": "code",
      "execution_count": null,
      "metadata": {
        "cellView": "form",
        "id": "0rts-Tsljd3T"
      },
      "outputs": [],
      "source": [
        "from IPython.display import *\n",
        "#@markdown ###パラメータ \n",
        "画像サイズ = 640 #@param {type:'raw'}\n",
        "リファレンス = 'nematode.bin' #@param {type:'string'}\n",
        "アノテーション = 'nematode.db' #@param {type:'string'}\n",
        "対象範囲 = 'I:8323000..8329000' #@param {type:'string'}\n",
        "出力ファイル名 = 'map_CE.svg' #@param {type:'string'}\n",
        "#@markdown ####表示内容\n",
        "遺伝子 = True #@param {type:'boolean'}\n",
        "転写産物 = True #@param {type:'boolean'}\n",
        "変異 = True #@param {type:'boolean'}\n",
        "#@markdown #####オプション\n",
        "オリジナル領域の表示 = False #@param {type:'boolean'}\n",
        "名称 = '' #@param {type:'string'}\n",
        "位置 = '' #@param {type:'string'}\n",
        "色 = ' ' #@param [' ', 'black', 'red', 'blue', 'green']\n",
        "\n",
        "cmd = './GeneMapSVG -'\n",
        "if 遺伝子 == True:\n",
        "  cmd = cmd + 'g'\n",
        "if 転写産物 == True:\n",
        "  cmd = cmd + 't'\n",
        "if 変異 == True:\n",
        "  cmd = cmd + 'm'\n",
        "cmd = cmd + ' -r \"' + リファレンス +  '\" -a \"' + アノテーション + '\" -w ' + str(画像サイズ) + ' -p ' + 対象範囲 + ' -o \"' + 出力ファイル名 + '\"'\n",
        "if オリジナル領域の表示 == True:\n",
        "  cmd = cmd + ' --custom \"[{name='+名称+';pos='+位置+';col='+色+'}]\"'\n",
        "output = subprocess.check_output(cmd, shell=True, text=True)\n",
        "display_svg(SVG(出力ファイル名))"
      ]
    },
    {
      "cell_type": "markdown",
      "metadata": {
        "id": "pCrpmit2M_dJ"
      },
      "source": [
        "#### コマンドライン（CUI）アプリとして使用する場合\n",
        "以下のヘルプを参照に、コマンドを実行してください。"
      ]
    },
    {
      "cell_type": "code",
      "execution_count": null,
      "metadata": {
        "colab": {
          "base_uri": "https://localhost:8080/"
        },
        "id": "cRapooPgM_kI",
        "outputId": "930e3194-b47c-458d-9261-be8967e5770d"
      },
      "outputs": [
        {
          "name": "stdout",
          "output_type": "stream",
          "text": [
            "============================================================\n",
            "MapSVG v1.1.0\n",
            "Copyright (c) 2019 Yuji Suehiro. All rights reserved. \n",
            "MIT license.\n",
            ". . . . . . . . . . . . . . . . . . . . . . . . . . . . . . \n",
            "\n",
            "Usage:\n",
            "  MapSVG -r file -a file -p position -w value -o file { -tmgv } { --custom information }\n",
            ". . . . . . . . . . . . . . . . . . . . . . . . . . . . . . \n",
            "\n",
            "[Option]\n",
            "  --annot/-a          : \u001b[0m\u001b[31m*\u001b[0m\u001b[39m\u001b[49m\u001b[0m\u001b[39m\u001b[49mAnnotation database file path.\n",
            "  --custom            :  Show original features. \n",
            "Information should be defined as [{name=NNN;pos=1:12345..23456;col=red}, ...]\n",
            "  --gene/-g           :  Show genes positions.\n",
            "  --mut/-m            :  Show mutations positions.\n",
            "  --out/-o            : \u001b[0m\u001b[31m*\u001b[0m\u001b[39m\u001b[49m\u001b[0m\u001b[39m\u001b[49mFile path to export.\n",
            "  --pos/-p            : \u001b[0m\u001b[31m*\u001b[0m\u001b[39m\u001b[49m\u001b[0m\u001b[39m\u001b[49mPosition to obtain the map.\n",
            "  --ref/-r            : \u001b[0m\u001b[31m*\u001b[0m\u001b[39m\u001b[49m\u001b[0m\u001b[39m\u001b[49mReference file path.\n",
            "  --trs/-t            :  Show transcripts positions.\n",
            "  --var/-v            :  Show mutations positions.\n",
            "  --width/-w          : \u001b[0m\u001b[31m*\u001b[0m\u001b[39m\u001b[49m\u001b[0m\u001b[39m\u001b[49mWidth of viewport.\n",
            "\n",
            "  --version/-V        : Show version.\n",
            "  --help/-H           : Show help.\n",
            "  --info/-I           : Show app information.\n",
            "\n",
            "\u001b[0m\u001b[31m  * Required option.\u001b[0m\u001b[39m\u001b[49m\u001b[0m\u001b[39m\u001b[49m\n",
            "\u001b[0m\u001b[34m  # Choose one of the options.\u001b[0m\u001b[39m\u001b[49m\u001b[0m\u001b[39m\u001b[49m\n",
            "============================================================\n"
          ]
        }
      ],
      "source": [
        "!./GeneMapSVG --help"
      ]
    },
    {
      "cell_type": "markdown",
      "metadata": {
        "id": "xs9H1vgyKc_F"
      },
      "source": [
        "<a name=\"var-det\"></a>\n",
        "### 手順２-７ VariantDetectを使う\n",
        "<font color=\"red\">※注意  \n",
        "このアプリを使用するには、GenomeConverterを使って作成したゲノム配列のバイナリファイルが必要です。</font>  "
      ]
    },
    {
      "cell_type": "markdown",
      "metadata": {
        "id": "5yh3HR5WNYgp"
      },
      "source": [
        "####  インストール方法\n",
        "下セルを実行してください。"
      ]
    },
    {
      "cell_type": "code",
      "execution_count": null,
      "metadata": {
        "colab": {
          "base_uri": "https://localhost:8080/"
        },
        "id": "kJaI9L0pNYnD",
        "outputId": "7b040c56-1fe3-4686-ffb3-d91001884027"
      },
      "outputs": [
        {
          "name": "stdout",
          "output_type": "stream",
          "text": [
            "--2021-12-21 06:31:46--  https://raw.githubusercontent.com/YujiSue/BioInfoTools/master/VariantDetect/VariantDetect.cpp\n",
            "Resolving raw.githubusercontent.com (raw.githubusercontent.com)... 185.199.108.133, 185.199.109.133, 185.199.110.133, ...\n",
            "Connecting to raw.githubusercontent.com (raw.githubusercontent.com)|185.199.108.133|:443... connected.\n",
            "HTTP request sent, awaiting response... 200 OK\n",
            "Length: 8919 (8.7K) [text/plain]\n",
            "Saving to: ‘Codes/VariantDetect.cpp’\n",
            "\n",
            "\rCodes/VariantDetect   0%[                    ]       0  --.-KB/s               \rCodes/VariantDetect 100%[===================>]   8.71K  --.-KB/s    in 0s      \n",
            "\n",
            "2021-12-21 06:31:46 (79.8 MB/s) - ‘Codes/VariantDetect.cpp’ saved [8919/8919]\n",
            "\n",
            "--2021-12-21 06:31:46--  https://raw.githubusercontent.com/YujiSue/BioInfoTools/master/VariantDetect/VarAnalyzer.cpp\n",
            "Resolving raw.githubusercontent.com (raw.githubusercontent.com)... 185.199.109.133, 185.199.108.133, 185.199.111.133, ...\n",
            "Connecting to raw.githubusercontent.com (raw.githubusercontent.com)|185.199.109.133|:443... connected.\n",
            "HTTP request sent, awaiting response... 200 OK\n",
            "Length: 13514 (13K) [text/plain]\n",
            "Saving to: ‘Codes/VarAnalyzer.cpp’\n",
            "\n",
            "Codes/VarAnalyzer.c 100%[===================>]  13.20K  --.-KB/s    in 0s      \n",
            "\n",
            "2021-12-21 06:31:47 (76.4 MB/s) - ‘Codes/VarAnalyzer.cpp’ saved [13514/13514]\n",
            "\n",
            "--2021-12-21 06:31:47--  https://raw.githubusercontent.com/YujiSue/BioInfoTools/master/VariantDetect/VarAnalyzer.h\n",
            "Resolving raw.githubusercontent.com (raw.githubusercontent.com)... 185.199.110.133, 185.199.109.133, 185.199.108.133, ...\n",
            "Connecting to raw.githubusercontent.com (raw.githubusercontent.com)|185.199.110.133|:443... connected.\n",
            "HTTP request sent, awaiting response... 200 OK\n",
            "Length: 3197 (3.1K) [text/plain]\n",
            "Saving to: ‘Codes/VarAnalyzer.h’\n",
            "\n",
            "Codes/VarAnalyzer.h 100%[===================>]   3.12K  --.-KB/s    in 0s      \n",
            "\n",
            "2021-12-21 06:31:47 (19.2 MB/s) - ‘Codes/VarAnalyzer.h’ saved [3197/3197]\n",
            "\n",
            "--2021-12-21 06:31:47--  https://raw.githubusercontent.com/YujiSue/BioInfoTools/master/VariantDetect/VarSearch.cpp\n",
            "Resolving raw.githubusercontent.com (raw.githubusercontent.com)... 185.199.108.133, 185.199.109.133, 185.199.110.133, ...\n",
            "Connecting to raw.githubusercontent.com (raw.githubusercontent.com)|185.199.108.133|:443... connected.\n",
            "HTTP request sent, awaiting response... 200 OK\n",
            "Length: 17008 (17K) [text/plain]\n",
            "Saving to: ‘Codes/VarSearch.cpp’\n",
            "\n",
            "Codes/VarSearch.cpp 100%[===================>]  16.61K  --.-KB/s    in 0s      \n",
            "\n",
            "2021-12-21 06:31:47 (45.7 MB/s) - ‘Codes/VarSearch.cpp’ saved [17008/17008]\n",
            "\n"
          ]
        }
      ],
      "source": [
        "!mkdir -p Codes\n",
        "!wget https://raw.githubusercontent.com/YujiSue/BioInfoTools/master/VariantDetect/VariantDetect.cpp -O Codes/VariantDetect.cpp\n",
        "!wget https://raw.githubusercontent.com/YujiSue/BioInfoTools/master/VariantDetect/VarAnalyzer.cpp -O Codes/VarAnalyzer.cpp\n",
        "!wget https://raw.githubusercontent.com/YujiSue/BioInfoTools/master/VariantDetect/VarAnalyzer.h -O Codes/VarAnalyzer.h\n",
        "!wget https://raw.githubusercontent.com/YujiSue/BioInfoTools/master/VariantDetect/VarSearch.cpp -O Codes/VarSearch.cpp\n",
        "!g++ -std=c++11 -I/usr/local/include/slib -I./Codes -L/usr/local/lib -O2 -o VariantDetect Codes/VarAnalyzer.cpp Codes/VariantDetect.cpp Codes/VarSearch.cpp -lsapp -lsbioinfo -lsobj -lcurl"
      ]
    },
    {
      "cell_type": "markdown",
      "metadata": {
        "id": "8wDHcTF8RQwp"
      },
      "source": [
        "#### 使用方法\n",
        "下セルのパラメータ入力欄に必要事項を記入して、実行してください。  \n",
        "\n",
        "> サンガーシーケンスのデータ：サンガーシーケンスのデータファイルパスを入力してください。\n",
        "> <font color=\"blue\">* ファイル形式はFASTまたはAB1に対応しています。</font>  \n",
        "\n",
        "> リファレンス：GenomeConverterで作成したファイル名を入力してください。  \n"
      ]
    },
    {
      "cell_type": "code",
      "execution_count": null,
      "metadata": {
        "id": "55XR1uYjbUNB",
        "cellView": "form"
      },
      "outputs": [],
      "source": [
        "#@markdown ###パラメータ \n",
        "サンガーシーケンスのデータ = '' #@param {type:'string'}\n",
        "リファレンス = '' #@param {type:'string'}\n",
        "#@markdown #####オプション\n",
        "\n",
        "cmd = './VariantDetect' + ' -r \"' + リファレンス + '\" -i \"' + サンガーシーケンスのデータ + '\"'\n",
        "\n",
        "output = subprocess.check_output(cmd, shell=True, text=True)\n",
        "print(output)"
      ]
    },
    {
      "cell_type": "markdown",
      "metadata": {
        "id": "VBuBGg8pLcVX"
      },
      "source": [
        "#### 使用例 (H.sapiens)\n",
        " "
      ]
    },
    {
      "cell_type": "markdown",
      "metadata": {
        "id": "I9Q1Ddk2LiWu"
      },
      "source": [
        "i. テスト用のSNPシーケンス (.fa)をダウンロードしてください。"
      ]
    },
    {
      "cell_type": "code",
      "execution_count": null,
      "metadata": {
        "id": "9AdJm4xJLmcP"
      },
      "outputs": [],
      "source": [
        "!wget https://drive.google.com/uc?id=1fjPJHbnU-42G8EvVE-dVefzv5mBTQ67c -O test.fa"
      ]
    },
    {
      "cell_type": "markdown",
      "metadata": {
        "id": "4CkjLhsKLmrk"
      },
      "source": [
        "ii. パラメータを入力して、実行してください。\n",
        "\n",
        " > "
      ]
    },
    {
      "cell_type": "code",
      "execution_count": null,
      "metadata": {
        "cellView": "form",
        "colab": {
          "base_uri": "https://localhost:8080/"
        },
        "id": "Gzplna0Hlfpq",
        "outputId": "1195538c-94b4-4c90-9a46-eb146adebe09"
      },
      "outputs": [
        {
          "name": "stdout",
          "output_type": "stream",
          "text": [
            "8:19956191 (G->A substitution).\n",
            "\n"
          ]
        }
      ],
      "source": [
        "#@markdown ###パラメータ \n",
        "サンガーシーケンスのデータ = 'test.fa' #@param {type:'string'}\n",
        "リファレンス = 'human.bin' #@param {type:'string'}\n",
        "#@markdown #####オプション\n",
        "\n",
        "cmd = './VariantDetect' + ' -r \"' + リファレンス + '\" -i \"' + サンガーシーケンスのデータ + '\"'\n",
        "\n",
        "output = subprocess.check_output(cmd, shell=True, text=True)\n",
        "print(output)"
      ]
    },
    {
      "cell_type": "markdown",
      "metadata": {
        "id": "PlAavVeuNYsg"
      },
      "source": [
        "#### 使用例 (C.elegans)"
      ]
    },
    {
      "cell_type": "markdown",
      "metadata": {
        "id": "P0ZPbUtMGitD"
      },
      "source": [
        "i. テスト用のシーケンスファイル (.ab1)をダウンロード"
      ]
    },
    {
      "cell_type": "code",
      "execution_count": null,
      "metadata": {
        "id": "Dd8xMVD9Gk_q"
      },
      "outputs": [],
      "source": [
        "!wget https://drive.google.com/uc?id=1zD2uoiHrmVemxq_G18A0tHofQeyhGSVC -O test.ab1"
      ]
    },
    {
      "cell_type": "markdown",
      "metadata": {
        "id": "jEqKv70qGn4y"
      },
      "source": [
        "ii. 実行してください。"
      ]
    },
    {
      "cell_type": "code",
      "execution_count": null,
      "metadata": {
        "cellView": "form",
        "id": "oz61lb_yoRas"
      },
      "outputs": [],
      "source": [
        "#@markdown ###パラメータ \n",
        "サンガーシーケンスのデータ = '/content/test.ab1' #@param {type:'string'}\n",
        "リファレンス = 'nematode.bin' #@param {type:'string'}\n",
        "#@markdown #####オプション\n",
        "\n",
        "cmd = './VariantDetect --match 12' + ' -r \"' + リファレンス + '\" -i \"' + サンガーシーケンスのデータ + '\"'\n",
        "\n",
        "output = subprocess.check_output(cmd, shell=True, text=True)\n",
        "print(output)"
      ]
    },
    {
      "cell_type": "markdown",
      "metadata": {
        "id": "659xjN_JOCri"
      },
      "source": [
        "#### コマンドライン（CUI）アプリとして使用する場合\n",
        "以下のヘルプを参照に、コマンドを実行してください。"
      ]
    },
    {
      "cell_type": "code",
      "execution_count": null,
      "metadata": {
        "colab": {
          "base_uri": "https://localhost:8080/",
          "height": 460
        },
        "id": "BOJxApkYOCze",
        "outputId": "49737a13-6d55-44b5-85fb-d4d18a665f0c"
      },
      "outputs": [
        {
          "name": "stdout",
          "output_type": "stream",
          "text": [
            "============================================================\n",
            "VariantDetect v1.1.0\n",
            "Copyright (c) 2015 Yuji Suehiro. All rights reserved. \n",
            "MIT license.\n",
            ". . . . . . . . . . . . . . . . . . . . . . . . . . . . . . \n",
            "\n",
            "Usage:\n",
            "  VariantDetect -r file -i file(fa/txt/seq/ab1) { -m size } { -t value } { -g size } { -s size }\n",
            ". . . . . . . . . . . . . . . . . . . . . . . . . . . . . . \n",
            "\n",
            "[Option]\n",
            "  --gap/-g            :  Permissible gap size.\n",
            "  --input/-i          : \u001b[0m\u001b[31m*\u001b[0m\u001b[39m\u001b[49m\u001b[0m\u001b[39m\u001b[49mInput file path.\n",
            "  --match/-m          :  Minimum match size.\n",
            "  --ref/-r            : \u001b[0m\u001b[31m*\u001b[0m\u001b[39m\u001b[49m\u001b[0m\u001b[39m\u001b[49mReference file path.\n",
            "  --seed/-s           :  Seed size.\n",
            "  --threshold/-t      :  Threshold to extend alignemnt.\n",
            "\n",
            "  --help/-H           : Show help.\n",
            "  --version/-V        : Show version.\n",
            "  --info/-I           : Show app information.\n",
            "\n",
            "\u001b[0m\u001b[31m  * Required option.\u001b[0m\u001b[39m\u001b[49m\u001b[0m\u001b[39m\u001b[49m\n",
            "\u001b[0m\u001b[34m  # Choose one of the options.\u001b[0m\u001b[39m\u001b[49m\u001b[0m\u001b[39m\u001b[49m\n",
            "============================================================\n"
          ]
        }
      ],
      "source": [
        "!./VariantDetect --help"
      ]
    }
  ],
  "metadata": {
    "colab": {
      "collapsed_sections": [
        "qCr2AZY7OzZF",
        "SJ1MQcawDQ24",
        "fJX3Is8wzYER",
        "jNvG4KYqDTF1",
        "9FPooEBxI0nI",
        "2f33Bl-JbaIJ",
        "7CgNTT19okz_",
        "j2lVa0m5BMEk",
        "I3kNwXkRoldj",
        "_Lv9yz7-d-MJ",
        "-4aX-LGUchhv",
        "7kZ1J6mAE0wX",
        "pokeYokoE3BD",
        "ex_NiBG2pCVe",
        "2hq2fdlAE3Pz",
        "eVg9UQTa_xmL",
        "dm4ertBbBrJd",
        "HXfY9DVHFBhT",
        "HiA0cpo9n8t0",
        "jGw-MKVjoDik",
        "V-NQb7Unq8jU",
        "57zVmcBnFBz2",
        "sw57MYZpM0S7",
        "aW2ID7IUvOnM",
        "UogfWauQKqwW",
        "rGZU_sR8KrDq",
        "WzHy98GlMopg",
        "SmxZXgX2WqyL",
        "0sS5Zvb6Mo4M",
        "pCrpmit2M_dJ",
        "5yh3HR5WNYgp",
        "VBuBGg8pLcVX",
        "659xjN_JOCri"
      ],
      "name": "バイオインフォマティクスonGoogleColab",
      "provenance": [],
      "mount_file_id": "1MUloBUMUoUzaSqaJhPQ6ne1hEbCgcRwl",
      "authorship_tag": "ABX9TyOSl7xW3rq8HRvfobQCijGE",
      "include_colab_link": true
    },
    "kernelspec": {
      "display_name": "Python 3",
      "name": "python3"
    }
  },
  "nbformat": 4,
  "nbformat_minor": 0
}