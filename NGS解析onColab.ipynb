{
  "cells": [
    {
      "cell_type": "markdown",
      "metadata": {
        "id": "view-in-github",
        "colab_type": "text"
      },
      "source": [
        "<a href=\"https://colab.research.google.com/github/YujiSue/BioInfoTools/blob/master/NGS%E8%A7%A3%E6%9E%90onColab.ipynb\" target=\"_parent\"><img src=\"https://colab.research.google.com/assets/colab-badge.svg\" alt=\"Open In Colab\"/></a>"
      ]
    },
    {
      "cell_type": "markdown",
      "metadata": {
        "id": "fpvo4JBAKnG5"
      },
      "source": [
        "# NGS解析用ノート\n",
        "* このノートは、次世代シーケンス (NGS) のデータ解析をGoogle Colab上で行うためのノートです。  \n",
        "* 解析用のコンピュータがない、次世代シーケンスのデータ解析がどんなものか試してみたい、といった方が対象になります。  \n",
        "<font color=\"red\">※Colabで使えるリソースの制限上、大きなサイズのシーケンスデータの解析や、多量のメモリを必要とする解析などは、時間がかかったり途中でエラーが出る可能性があります。</font>  \n"
      ]
    },
    {
      "cell_type": "markdown",
      "source": [
        "## はじめに\n",
        "下のコードセルを実行してください。  \n",
        "各解析に必要なモジュールの導入などを行います。  "
      ],
      "metadata": {
        "id": "YbqdTB10y4mb"
      }
    },
    {
      "cell_type": "code",
      "source": [
        "#@title 左にある実行ボタンを押してください\n",
        "#@markdown * このノートで使用できるソフトとバージョン一覧<br>\n",
        "#@markdown >[SRAtools](https://github.com/ncbi/sra-tools): v2.11.2<br>\n",
        "#@markdown [fastp](https://github.com/OpenGene/fastp): v0.23.2<br>\n",
        "#@markdown [BWA](https://github.com/lh3/bwa): v0.7.17<br>\n",
        "#@markdown [TVC (TorrentSuite)](https://github.com/iontorrent/TS): v5.12.1<br>\n",
        "#@markdown [Samtools](http://www.htslib.org/): v1.14<br>\n",
        "#@markdown [BCFtools](http://www.htslib.org/): v1.14<br>\n",
        "#@markdown [Picard](https://github.com/broadinstitute/picard): v2.26.9<br>\n",
        "#@markdown [GATK](https://gatk.broadinstitute.org/hc/en-us): v4.2.4.0<br>\n",
        "#@markdown [Bowtie2](http://bowtie-bio.sourceforge.net/bowtie2/index.shtml): v2.4.4<br>\n",
        "#@markdown [STAR](https://github.com/alexdobin/STAR): v2.7.9a<br>\n",
        "#@markdown [Cufflinks](http://cole-trapnell-lab.github.io/cufflinks/): v2.2.1<br>\n",
        "#@markdown [MACS2](https://github.com/macs3-project/MACS): v2.2.7.1<br>\n",
        "#@markdown [MEME Suite](https://meme-suite.org/meme/index.html): v5.4.1<br>\n",
        "\n",
        "#!pip install -q git+https://github.com/YujiSue/ysngs.git\n",
        "#import ysngs\n",
        "#from ysngs import config\n",
        "#from ysngs import installer\n",
        "#from ysngs import apprun\n",
        "!wget https://raw.githubusercontent.com/YujiSue/ysngs/main/ysngs/common.py\n",
        "!wget https://raw.githubusercontent.com/YujiSue/ysngs/main/ysngs/install.py\n",
        "!wget https://raw.githubusercontent.com/YujiSue/ysngs/main/ysngs/run.py\n",
        "\n",
        "import os\n",
        "import common\n",
        "import install\n",
        "import run\n",
        "cfg = common.config()\n",
        "cfg.setWorkSpace('/content')\n",
        "cfg.setDefault()\n",
        "cfg.makeDirs()\n",
        "loader = install.installer(cfg)\n",
        "loader.install('SAM')\n",
        "app = run.apprun(cfg)"
      ],
      "metadata": {
        "id": "yH3aU4L0_Iyh",
        "colab": {
          "base_uri": "https://localhost:8080/"
        },
        "outputId": "16cf7e60-2305-4b43-9f9d-bba7a1b6db69"
      },
      "execution_count": 6,
      "outputs": [
        {
          "output_type": "stream",
          "name": "stdout",
          "text": [
            "--2022-02-09 05:00:31--  https://raw.githubusercontent.com/YujiSue/ysngs/main/ysngs/common.py\n",
            "Resolving raw.githubusercontent.com (raw.githubusercontent.com)... 185.199.108.133, 185.199.109.133, 185.199.110.133, ...\n",
            "Connecting to raw.githubusercontent.com (raw.githubusercontent.com)|185.199.108.133|:443... connected.\n",
            "HTTP request sent, awaiting response... 200 OK\n",
            "Length: 2146 (2.1K) [text/plain]\n",
            "Saving to: ‘common.py.2’\n",
            "\n",
            "\rcommon.py.2           0%[                    ]       0  --.-KB/s               \rcommon.py.2         100%[===================>]   2.10K  --.-KB/s    in 0s      \n",
            "\n",
            "2022-02-09 05:00:31 (40.9 MB/s) - ‘common.py.2’ saved [2146/2146]\n",
            "\n",
            "--2022-02-09 05:00:32--  https://raw.githubusercontent.com/YujiSue/ysngs/main/ysngs/install.py\n",
            "Resolving raw.githubusercontent.com (raw.githubusercontent.com)... 185.199.110.133, 185.199.108.133, 185.199.111.133, ...\n",
            "Connecting to raw.githubusercontent.com (raw.githubusercontent.com)|185.199.110.133|:443... connected.\n",
            "HTTP request sent, awaiting response... 200 OK\n",
            "Length: 25789 (25K) [text/plain]\n",
            "Saving to: ‘install.py.2’\n",
            "\n",
            "install.py.2        100%[===================>]  25.18K  --.-KB/s    in 0s      \n",
            "\n",
            "2022-02-09 05:00:32 (114 MB/s) - ‘install.py.2’ saved [25789/25789]\n",
            "\n",
            "--2022-02-09 05:00:32--  https://raw.githubusercontent.com/YujiSue/ysngs/main/ysngs/run.py\n",
            "Resolving raw.githubusercontent.com (raw.githubusercontent.com)... 185.199.110.133, 185.199.108.133, 185.199.109.133, ...\n",
            "Connecting to raw.githubusercontent.com (raw.githubusercontent.com)|185.199.110.133|:443... connected.\n",
            "HTTP request sent, awaiting response... 200 OK\n",
            "Length: 15487 (15K) [text/plain]\n",
            "Saving to: ‘run.py.2’\n",
            "\n",
            "run.py.2            100%[===================>]  15.12K  --.-KB/s    in 0s      \n",
            "\n",
            "2022-02-09 05:00:32 (53.4 MB/s) - ‘run.py.2’ saved [15487/15487]\n",
            "\n",
            "Check samtools ... Installed.\n"
          ]
        }
      ]
    },
    {
      "cell_type": "markdown",
      "source": [
        "# このノートで解析できること\n",
        "1. Variant Call (VCF出力)\n",
        "2. RNA seq (FPKM, TPM出力)\n",
        "3. ChIP seq (ピークコールとモチーフ検索)"
      ],
      "metadata": {
        "id": "pwf_1mQ4aw4H"
      }
    },
    {
      "cell_type": "markdown",
      "source": [
        "# 1. Variant Call"
      ],
      "metadata": {
        "id": "4nWMVBHIy4d_"
      }
    },
    {
      "cell_type": "markdown",
      "source": [
        "## 1-1. 解析対象のファイルを準備する\n",
        "以下の３つの方法のうち、どれか１つ選んで解析対象のファイルを用意してください"
      ],
      "metadata": {
        "id": "boDP5aY8ZZID"
      }
    },
    {
      "cell_type": "markdown",
      "source": [
        "### 1-1-1. Samtoolに付随するサンプルを利用する(チュートリアル)\n",
        "このまま1-2に進んでください。\n"
      ],
      "metadata": {
        "id": "3AJKky_9YrXe"
      }
    },
    {
      "cell_type": "markdown",
      "source": [
        "### 1-1-2. NCBI SRAから解析してみたいファイルをダウンロードする\n"
      ],
      "metadata": {
        "id": "sMBhDLvHY69c"
      }
    },
    {
      "cell_type": "code",
      "source": [
        "#@title ダウンロードしたいIDを指定して実行ボタンを押してください\n",
        "SRA_ID = 'SRR000001' #@param {type:'string'}\n",
        "loader.install('SRA')\n",
        "!vdb-config --interactive\n",
        "res = runner.downloadSRA(srid=SRA_ID, output='/content/Sample')"
      ],
      "metadata": {
        "id": "QMrOkejinJ5O",
        "colab": {
          "base_uri": "https://localhost:8080/"
        },
        "outputId": "1e41082b-7123-49a2-ea99-ba60498199f5"
      },
      "execution_count": null,
      "outputs": [
        {
          "output_type": "stream",
          "name": "stdout",
          "text": [
            "Check SRA ... Installed.\n",
            "\u001b[2J\u001b[?25l\u001b[?1000h\u001b[?1002h2022-01-31T08:17:09 vdb-config.2.11.2 fatal: SIGNAL - Segmentation fault \n",
            "Run: > fasterq-dump SRR000001 -O /content/Sample -e 8\n"
          ]
        }
      ]
    },
    {
      "cell_type": "markdown",
      "source": [
        "### 1-1-3. 自前のデータを利用する\n",
        "Google DriveやGoogle Cloud Storageにデータがある場合は、該当するファイルをColabのストレージにコピーしてください。  \n",
        "その他のクラウドストレージにあるファイルはwgetやcurlコマンドでコピーしてください。  \n",
        "ローカルマシン上のファイルのアップロードは時間がかかるのでお勧めしません。"
      ],
      "metadata": {
        "id": "brH8AWz8nLL2"
      }
    },
    {
      "cell_type": "markdown",
      "source": [
        "## 1-2. マッピングとVCFの出力\n"
      ],
      "metadata": {
        "id": "K6TQWugGzR7c"
      }
    },
    {
      "cell_type": "markdown",
      "source": [
        "### パイプライン図\n"
      ],
      "metadata": {
        "id": "SlCWMw9LmQLE"
      }
    },
    {
      "cell_type": "markdown",
      "source": [
        "![VC pipeline.png](https://github.com/YujiSue/BioInfoTools/blob/master/image/VC%20pipeline.png?raw=true)"
      ],
      "metadata": {
        "id": "MhWYw-C_mY4e"
      }
    },
    {
      "cell_type": "markdown",
      "source": [
        "### 実行プログラム"
      ],
      "metadata": {
        "id": "Moa3AsA0maXu"
      }
    },
    {
      "cell_type": "code",
      "source": [
        "#@title パラメータをセットして左の実行ボタンを押してください\n",
        "pref = {}\n",
        "pref['root'] = '/content'\n",
        "#@markdown * マッピングの設定\n",
        "マッピング = True #@param {type: 'boolean'}\n",
        "pref['mapping'] = マッピング\n",
        "マッピングソフト = 'BWA' #@param ['BWA', 'Bowtie2']\n",
        "pref['mapper'] = マッピングソフト\n",
        "if マッピングソフト == 'BWA':\n",
        "  loader.install('BWA')\n",
        "elif マッピングソフト == 'Bowtie2':\n",
        "  loader.install('Bowtie2')\n",
        "ターゲットシーケンス = False #@param {type: 'boolean'}\n",
        "pref['targeted_seq'] = ターゲットシーケンス\n",
        "ターゲット領域 = '' #@param {type: 'string'}\n",
        "pref['target'] = ターゲット領域\n",
        "リードグループ情報付加 = True #@param {type: 'boolean'}\n",
        "pref['add_rg'] = リードグループ情報付加\n",
        "リードグループID = 'TEST' #@param {type: 'string'}\n",
        "pref['read_group_id'] = リードグループID\n",
        "サンプル名 = 'sample' #@param {type: 'string'}\n",
        "pref['sample_name'] = サンプル名\n",
        "プラットフォーム = 'illumina' #@param {type: 'string'}\n",
        "pref['platform'] = プラットフォーム\n",
        "#@markdown * リファレンスの情報\n",
        "リファレンスファイル = 'ex1.fa' #@param {type: 'string'}\n",
        "リファレンス名 = 'ex1' #@param {type: 'string'}\n",
        "pref['refdir'] = '/content/Reference',\n",
        "pref['reference'] = os.path.join('/content/Reference', リファレンスファイル)\n",
        "pref['refname'] = リファレンス名\n",
        "#@markdown * バリアント検出\n",
        "バリアント検出ソフト = 'GATK' #@param ['GATK', 'BCF', 'TVC']\n",
        "if バリアント検出ソフト == 'GATK':\n",
        "  loader.install('GATK')\n",
        "elif バリアント検出ソフト == 'TVC':\n",
        "  loader.install('TVC')\n",
        "elif バリアント検出ソフト == 'BCF':\n",
        "  loader.install('BCF')\n",
        "パラメータセット = '' #@param {type: 'string'}\n",
        "モチーフファイル = '' #@param {type: 'string'}\n",
        "pref['paramdir'] = '/content/Preference'\n",
        "pref['vcaller'] = バリアント検出ソフト\n",
        "pref['vcparam'] = パラメータセット\n",
        "pref['vcmotif'] = モチーフファイル\n",
        "#@markdown * シーケンスデータの情報\n",
        "シーケンスデータの形式 = 'fastq' #@param['fastq', 'bam']\n",
        "シーケンスデータの種類 = 'single' #@param['single', 'paired']\n",
        "シーケンスファイル１ = '/content/Test/ex1.fq' #@param {type: 'string'}\n",
        "シーケンスファイル２ = '' #@param {type: 'string'}\n",
        "pref['iformat'] = シーケンスデータの形式\n",
        "pref['seqtype'] = シーケンスデータの種類\n",
        "if pref['seqtype'] == 'single':\n",
        "  pref['inputs'] = [シーケンスファイル１]\n",
        "else:\n",
        "  pref['inputs'] = [シーケンスファイル１,シーケンスファイル２]   \n",
        "#@markdown * 結果ファイルの情報\n",
        "出力ファイル名 = 'ex1' #@param {type: 'string'}\n",
        "pref['outdir'] = '/content/Output'\n",
        "pref['output_name'] = 出力ファイル名\n",
        "#@markdown オプション\n",
        "アダプター除去 = False #@param {type: 'boolean'}\n",
        "pref['cutadapt'] = アダプター除去\n",
        "pref['adapter_site'] = 'both'\n",
        "アダプター配列 = ''#@param {type: 'string'}\n",
        "pref['adapter_seq'] = アダプター配列\n",
        "クオリティチェック = False #@param {type: 'boolean'}\n",
        "pref['fqfliter'] = クオリティチェック\n",
        "シーケンス長下限値 = 20 #@param {type: 'raw'}\n",
        "pref['fq_minlen'] = シーケンス長下限値\n",
        "シーケンスクオリティ下限値 = 15 #@param {type: 'raw'}\n",
        "pref['fq_qual'] = シーケンスクオリティ下限値\n",
        "シーケンスの単調性 = 30 #@param {type: 'raw'}    \n",
        "pref['fq_complex'] = シーケンスの単調性\n",
        "重複リード検出 = True #@param {type: 'boolean'}\n",
        "pref['mark_dup'] = 重複リード検出\n",
        "スプリットリード検出 = True #@param {type: 'boolean'}\n",
        "pref['detect_sr'] = スプリットリード検出\n",
        "シーケンスクオリティの再計算 = False #@param {type: 'boolean'}\n",
        "pref['recal_seq'] = シーケンスクオリティの再計算\n",
        "pref['use_hotspot'] = False\n",
        "既知の変異 = '' #@param {type: 'string'}\n",
        "pref['known_site'] = 既知の変異\n",
        "バリアントクオリティの再計算 = False #@param {type: 'boolean'}\n",
        "pref['recal_var'] = バリアントクオリティの再計算\n",
        "pref['has_control'] = False\n",
        "pref['control_input'] = ''\n",
        "スレッド数 =  16 #@param {type: 'raw'}\n",
        "pref['thread_num'] = スレッド数\n",
        "使用RAM = 16 #@param {type: 'raw'}\n",
        "pref['use_ram'] = 使用RAM\n",
        "pref['gpgpu'] = False  \n",
        "#コマンドのみ出力 = False #@param {type: 'boolean'}\n",
        "pref['cmd_only'] = False\n",
        "pref['verbose'] = True\n",
        "pref['tmp'] = '',\n",
        "pref['mediates'] = []\n",
        "途中産物のファイルを削除 = True #@param {type: 'boolean'}\n",
        "pref['remove_mediates'] = 途中産物のファイルを削除\n",
        "\n",
        "%cd /content\n",
        "from common import config\n",
        "from run import apprun\n",
        "import getopt\n",
        "import os\n",
        "import sys\n",
        "\n",
        "def preprocess(pref, app):\n",
        "  # Cut adapter\n",
        "  if pref['cutadapt'] and pref['iformat'] == 'fastq':\n",
        "    for f in pref['inputs']:\n",
        "      name, ext = os.path.splitext(f)\n",
        "      ofile = name + '_cut' + ext\n",
        "      app.runCutter(adaptor = pref['adapter_seq'], site = pref['adapter_site'], input = f, output = ofile)\n",
        "      pref['mediates'].append(ofile)\n",
        "      f = ofile\n",
        "  if pref['fqfliter'] and pref['iformat'] == 'fastq':\n",
        "    for f in pref['inputs']:\n",
        "      name, ext = os.path.splitext(f)\n",
        "      ofile = name + '_filtered' + ext\n",
        "      app.runFastQFilter(input = f, output = ofile, param = {\n",
        "        'min_qual': pref['fq_qual'], 'min_len': pref['fq_minlen'], 'min_complex': pref['fq_complex'], 'thread': pref['thread_num']\n",
        "      })\n",
        "      pref['mediates'].append(ofile)\n",
        "      f = ofile\n",
        "\n",
        "def mapping(pref, app):\n",
        "  pref['rg_info'] = makeReadGroupInfo(pref)\n",
        "  \n",
        "  # BAM => Fastq\n",
        "  if pref['iformat'] == 'bam':\n",
        "    app.runSamtool2Fq(seqtype = pref['seqtype'], input = pref['inputs'][0], outdir = app.cfg.OUT_DIR, outname = pref['output_name'] + '_raw')\n",
        "    if pref['seqtype'] == 'single':\n",
        "      pref['inputs'][0] = os.path.join(app.cfg.OUT_DIR, pref['output_name'] + '_raw.fq')\n",
        "    elif pref['seqtype'] == 'paired':\n",
        "      pref['inputs'][0]= os.path.join(app.cfg.OUT_DIR, pref['output_name'] + '_raw_1.fq')\n",
        "      pref['inputs'].append(os.path.join(app.cfg.OUT_DIR, pref['output_name'] + '_raw_2.fq'))\n",
        "    for f in pref['inputs']:\n",
        "      pref['mediates'].append(f)\n",
        "  \n",
        "  # Fastq => SAM\n",
        "  pref['output'] = os.path.join(app.cfg.OUT_DIR, pref['output_name'] + '_mapped.sam')\n",
        "  if len(pref['refname']) == 0:\n",
        "      pref['refname'], ext = os.path.splitext(os.path.basename(pref['reference']))\n",
        "  \n",
        "  # BWA-MEM\n",
        "  if pref['mapper'] == 'BWA':\n",
        "    app.runBWA(seqtype = pref['seqtype'], input = pref['inputs'], ref = pref['refname'], output = pref['output'], \\\n",
        "             option={'thread':pref['thread_num'], 'checksr':pref['detect_sr'], 'refpath':pref['reference'], 'addRG':pref['add_rg'], 'rgroup':pref['rg_info']})\n",
        "  # Bowtie2\n",
        "  elif pref['mapper'] == 'Bowtie2':\n",
        "    app.runBowtie2(seqtype = pref['seqtype'], input = pref['inputs'], ref = pref['refname'], output = pref['output'], \\\n",
        "             option={'thread':pref['thread_num'], 'checksr':pref['detect_sr'], 'refpath':pref['reference'], 'addRG':pref['add_rg'], 'rgroup':pref['rg_info']})\n",
        "  # STAR\n",
        "  \n",
        "  pref['mediates'].append(pref['output'])\n",
        "  pref['input'] = pref['output']\n",
        "  os.chdir(app.cfg.WORK_SPACE)\n",
        "\n",
        "  # SAM -> BAM\n",
        "  pref['output'] = os.path.join(app.cfg.OUT_DIR, pref['output_name'] + '_mapped.bam')\n",
        "  app.runSamtool2BAM(input = pref['input'], output = pref['output'], option={\n",
        "    'thread':pref['thread_num']\n",
        "    })\n",
        "  pref['mediates'].append(pref['output'])\n",
        "\n",
        "  # Sort BAM\n",
        "  pref['input'] = pref['output']\n",
        "  pref['output'] = os.path.join(app.cfg.OUT_DIR, pref['output_name'] + '_sorted.bam')\n",
        "  app.runSamtoolSort(input = pref['input'], output = pref['output'], option={\n",
        "    'thread':pref['thread_num'], 'ram': pref['use_ram']/4\n",
        "    })\n",
        "  pref['mediates'].append(pref['output'])\n",
        "  pref['input'] = pref['output']\n",
        "\n",
        "  # Mark duplicate\n",
        "  if pref['mark_dup']:\n",
        "    pref['output'] = os.path.join(app.cfg.OUT_DIR, pref['output_name'] + '_marked.bam')\n",
        "    pref['metric'] = os.path.join(app.cfg.OUT_DIR, pref['output_name'] + '_metric.txt')\n",
        "    app.runPicardMD(input = pref['input'], output = pref['output'], metric = pref['metric'])\n",
        "    pref['mediates'].append(pref['output'])\n",
        "    pref['input'] = pref['output']\n",
        "\n",
        "  # Recalibration sequence quality\n",
        "  if pref['recal_seq']:\n",
        "    pref['output'] = os.path.join(app.cfg.OUT_DIR, pref['output_name'] + '.bam')\n",
        "    app.runGATKBRecal(input = pref['input'], output = pref['output'], ref = pref['reference'], known = pref['known_site'], option = {'ram': pref['use_ram'] })\n",
        "  else:\n",
        "    pref['output'] = os.path.join(app.cfg.OUT_DIR, pref['output_name'] + '.bam')\n",
        "    os.system('mv ' + pref['input'] + ' ' + pref['output'])\n",
        "  pref['input'] = pref['output']\n",
        "\n",
        "  # Make index\n",
        "  app.runSamtoolIndex(input = pref['input'])\n",
        "  \n",
        "def cleanup(pref):\n",
        "  for f in pref['mediates']:\n",
        "    os.system('rm ' + f)\n",
        "\n",
        "def varcall(pref, app):\n",
        "  # Preprocessing fastq\n",
        "  preprocess(pref, app)\n",
        "  \n",
        "  # Mapping fastq\n",
        "  if pref['mapping']:\n",
        "    mapping(pref, app)\n",
        "  else:\n",
        "    pref['input'] = pref['inputs'][0]\n",
        "  \n",
        "  # Variant call\n",
        "  if pref['recal_var']:\n",
        "    pref['output']  = os.path.join(app.cfg.OUT_DIR, pref['output_name'] + '_raw')\n",
        "  else:\n",
        "    pref['output'] = os.path.join(app.cfg.OUT_DIR, pref['output_name'])\n",
        "  # GATK HaplotypeCaller\n",
        "  if pref['vcaller'] == 'GATK':\n",
        "    app.runGATKVarCall(input = pref['input'], output = pref['output'], ref = pref['reference'], option = {'ram': pref['use_ram']})\n",
        "    pref['input'] = pref['output'] + '.vcf.gz'\n",
        "  # BCFtools mpileup and call\n",
        "  elif pref['vcaller'] == 'BCF':\n",
        "    app.runBCFVarCall(input = pref['input'], output = pref['output'], ref = pref['reference'])\n",
        "    pref['input'] = pref['output'] + '.vcf.gz'\n",
        "  # TorrentSuite variant caller\n",
        "  elif pref['vcaller'] == 'TVC':\n",
        "    tvcopt = {\n",
        "      'thread': pref['thread_num'],\n",
        "      'param' : os.path.join(app.cfg.PREFERENCE_DIR, pref['vcparam']), \n",
        "      'motif' : os.path.join(app.cfg.PREFERENCE_DIR, pref['vcmotif']) \n",
        "    }\n",
        "    if pref['targeted_seq']:\n",
        "      tvcopt['target'] = pref['target']\n",
        "    if pref['use_hotspot']:\n",
        "      tvcopt['hotspot'] = pref['known_site']\n",
        "    if pref['has_control']:\n",
        "      tvcopt['control'] = pref['control_input']\n",
        "    app.runTVC(input = pref['input'], output = cfg.OUT_DIR, ref = pref['reference'], option = tvcopt)\n",
        "  # google deep variant\n",
        "  elif pref['vcaller'] == 'GDV':\n",
        "    gdvopt = {\n",
        "      'gpu': pref['gpgpu'],\n",
        "      'processor': pref['thread_num']\n",
        "      }\n",
        "    if pref['targeted_seq']:\n",
        "      gdvopt['target'] = pref['target']\n",
        "    app.runGDVCall(input = pref['input'], output = pref['output'], ref = pref['reference'], option = gdvopt)\n",
        "  \n",
        "  # Recalibration variant quality\n",
        "  if pref['recal_var']:\n",
        "    pref['mediates'].append(pref['output'] + '.vcf.gz')\n",
        "    pref['mediates'].append(pref['output'] + '.vcf.gz.tbi')\n",
        "    pref['output'] = os.path.join(cfg.OUT_DIR, pref['output_name'])\n",
        "    app.runGATKVRecal(input = pref['input'], output = pref['output'], ref = pref['reference'], option = {'ram': pref['use_ram']})\n",
        "  \n",
        "  # Erase intermediate files\n",
        "  if pref['remove_mediates']:\n",
        "    cleanup(pref)\n",
        "\n",
        "def makeReadGroupInfo(pref):\n",
        "  return { \n",
        "    'ID': pref['read_group_id'], \n",
        "    'SM': pref['sample_name'],\n",
        "    'PL': pref['platform']\n",
        "  }\n",
        "\n",
        "varcall(pref, app)"
      ],
      "metadata": {
        "id": "Cd4KThlHG2sL",
        "colab": {
          "base_uri": "https://localhost:8080/"
        },
        "outputId": "affe4c6b-0367-4ca1-b107-caf39139afee"
      },
      "execution_count": null,
      "outputs": [
        {
          "output_type": "stream",
          "name": "stdout",
          "text": [
            "Check BWA ... Not installed.\n",
            "Install BWA  ...\n",
            "  Download source codes ...\n",
            "  Completed.\n",
            "  Compile completed.\n",
            "Installed.\n",
            ">  Program: bwa (alignment via Burrows-Wheeler transformation)\n",
            ">  Version: 0.7.17-r1188\n",
            "Check GATK ... Not installed.\n",
            "Install GATK ...\n",
            "  Downloads sources ...\n",
            "  Completed.\n",
            "Completed.\n",
            ">  Using GATK jar /content/MyApp/gatk/gatk-package-4.2.4.0-local.jar\n",
            "/content\n",
            "Run: > bwa index -p /content/Reference/ex1 /content/Reference/ex1.fa\n",
            " > Completed.\n",
            "\n",
            "Run: > bwa mem -t 16 -M -R \"@RG\\tID:TEST\\tSM:sample\\tPL:illumina\" ex1 /content/Test/ex1.fq > /content/Output/ex1_mapped.sam\n",
            " > Completed.\n",
            "\n",
            "Run: > samtools view -@ 16 -b -o /content/Output/ex1_mapped.bam /content/Output/ex1_mapped.sam\n",
            " > Completed.\n",
            "\n",
            "Run: > samtools sort -l1 -T tmp -@ 16 -m 4000.0M -O bam -o /content/Output/ex1_sorted.bam /content/Output/ex1_mapped.bam\n",
            "Error:\n",
            " > [bam_sort] -m setting (4000 bytes) is less than the minimum required (1M).\n",
            " > \n",
            " > Trying to run with -m too small can lead to the creation of a very large number\n",
            " > of temporary files.  This may make sort fail due to it exceeding limits on the\n",
            " > number of files it can have open at the same time.\n",
            " > \n",
            " > Please check your -m parameter.  It should be an integer followed by one of the\n",
            " > letters K (for kilobytes), M (megabytes) or G (gigabytes).  You should ensure it\n",
            " > is at least the minimum above, and much higher if you are sorting a large file.\n",
            "\n",
            "Run: > java -jar /content/MyApp/picard.jar MarkDuplicates -I /content/Output/ex1_sorted.bam -O /content/Output/ex1_marked.bam -M /content/Output/ex1_metric.txt\n",
            "Error:\n",
            " > Error: Unable to access jarfile /content/MyApp/picard.jar\n",
            "\n",
            "Run: > samtools index /content/Output/ex1.bam\n",
            "Error:\n",
            " > [E::hts_open_format] Failed to open file \"/content/Output/ex1.bam\" : No such file or directory\n",
            " > samtools index: failed to open \"/content/Output/ex1.bam\": No such file or directory\n",
            "\n",
            "Run: > gatk CreateSequenceDictionary -R /content/Reference/ex1.fa\n"
          ]
        }
      ]
    },
    {
      "cell_type": "markdown",
      "source": [
        "## RNA-seq"
      ],
      "metadata": {
        "id": "307p9JbAzSJE"
      }
    },
    {
      "cell_type": "markdown",
      "source": [
        ""
      ],
      "metadata": {
        "id": "jZvScTqWwjgJ"
      }
    },
    {
      "cell_type": "markdown",
      "source": [
        "## ChIP-seq"
      ],
      "metadata": {
        "id": "L0Ldh-wNioto"
      }
    },
    {
      "cell_type": "markdown",
      "source": [
        ""
      ],
      "metadata": {
        "id": "QmUTprOXio5y"
      }
    }
  ],
  "metadata": {
    "colab": {
      "collapsed_sections": [
        "sMBhDLvHY69c",
        "SlCWMw9LmQLE"
      ],
      "name": "NGS解析onColab.ipynb",
      "provenance": [],
      "include_colab_link": true
    },
    "kernelspec": {
      "display_name": "Python 3",
      "name": "python3"
    },
    "language_info": {
      "name": "python"
    }
  },
  "nbformat": 4,
  "nbformat_minor": 0
}