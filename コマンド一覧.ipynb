{
  "cells": [
    {
      "cell_type": "markdown",
      "metadata": {
        "id": "view-in-github",
        "colab_type": "text"
      },
      "source": [
        "<a href=\"https://colab.research.google.com/github/YujiSue/BioInfoTools/blob/master/%E3%82%B3%E3%83%9E%E3%83%B3%E3%83%89%E4%B8%80%E8%A6%A7.ipynb\" target=\"_parent\"><img src=\"https://colab.research.google.com/assets/colab-badge.svg\" alt=\"Open In Colab\"/></a>"
      ]
    },
    {
      "cell_type": "markdown",
      "metadata": {
        "id": "fpvo4JBAKnG5"
      },
      "source": [
        "# NGS解析用コマンド生成ノート (For UNIX/Linux/MacOS)\n",
        "* このノートは、次世代シーケンス (NGS) のデータ解析でよく使われるソフトのコマンドを簡単に生成するためのノートです。  \n",
        "<font color=\"red\">※解析を実行するノートではありません。Google Colab上でNGSデータ解析を実行したい方は[こちらのノート](https://colab.research.google.com/drive/1evNMlFYZITvpUBcFFENpz5mjnJKeK-kX)を参照してください。</font>\n",
        "* 実際にシーケンスした結果ファイルやリファレンス、パラメータなどを適宜自分の環境に合わせて書き換えて、実行（▶）するとコマンドが出力されます。  \n",
        "出力されたコマンドを解析用PCのターミナル画面にコピペして使用してください。  \n",
        "\n",
        "* 「既存のパイプラインで出来ない解析をマニュアルでやりたいけど、このソフトどんなコマンドを打てばいいんだっけ？」と思ったときに活用してみてください。\n",
        "基本的にバイオインフォ初心者や、まだ慣れていない学生などが対象です。"
      ]
    },
    {
      "cell_type": "markdown",
      "metadata": {
        "id": "PrRCrbk_GY-f"
      },
      "source": [
        "## IonTorrentSuite (ThermoFisherScientific) 関連"
      ]
    },
    {
      "cell_type": "markdown",
      "metadata": {
        "id": "ETYHIn-_He8x"
      },
      "source": [
        "### Run TMAP"
      ]
    },
    {
      "cell_type": "code",
      "execution_count": null,
      "metadata": {
        "id": "OVvjG8DipYzG",
        "colab": {
          "base_uri": "https://localhost:8080/"
        },
        "outputId": "eb7c4d68-e166-4a61-ff33-a1465698e399",
        "cellView": "form"
      },
      "outputs": [
        {
          "output_type": "stream",
          "name": "stdout",
          "text": [
            "tmap mapall -r ~/Reference/reference.fasta -i fastq -f ~/Test/seq.fq -v -Y -u --prefix-exclude 5 -o 2  stage1 map4 2\n"
          ]
        }
      ],
      "source": [
        "#@title 実行するとコマンド生成\n",
        "\n",
        "リファレンスファイルのパス = '~/Reference/reference.fasta' #@param {type:\"string\"}\n",
        "シーケンスファイルのパス = '~/Test/seq.fq' #@param {type:\"string\"}\n",
        "シーケンスファイルのタイプ = 'fastq' #@param ['fastq','fq','fasta','fa','sam','bam']\n",
        "cmd = 'tmap mapall'+\\\n",
        "' -r '+リファレンスファイルのパス+\\\n",
        "' -i '+シーケンスファイルのタイプ+\\\n",
        "' -f '+シーケンスファイルのパス+\\\n",
        "' -v -Y -u --prefix-exclude 5 -o 2  stage1 map4 2'\n",
        "print(cmd)"
      ]
    },
    {
      "cell_type": "markdown",
      "metadata": {
        "id": "HYYF3RYDHcnF"
      },
      "source": [
        "### Run VariantCall"
      ]
    },
    {
      "cell_type": "code",
      "execution_count": 3,
      "metadata": {
        "id": "D7zoUguJGYLu",
        "colab": {
          "base_uri": "https://localhost:8080/"
        },
        "outputId": "537d2efe-282a-47fc-a22c-25098e530b25",
        "cellView": "form"
      },
      "outputs": [
        {
          "output_type": "stream",
          "name": "stdout",
          "text": [
            "tvc --input-bam ~/Test/test.bam --reference ~/Reference/reference.fasta --num-threads 8 --parameters-file ~/Preferences/TSVC/parameters.json --error-motifs-dir ~/Preferences/TSVC --output-dir ~/Test/output/TSVC --output-vcf tsvc.vcf\n"
          ]
        }
      ],
      "source": [
        "#@title 実行するとコマンド生成\n",
        "スレッド数 = 8 #@param {type:\"number\"}\n",
        "リファレンスファイル = '~/Reference/reference.fasta' #@param {type:\"string\"}\n",
        "パラメータ類のある場所 = '~/Preferences/TSVC' #@param {type:\"string\"}\n",
        "パラメータファイル名 = 'parameters.json' #@param {type:\"string\"}\n",
        "エラーモチーフのある場所 = '~/Preferences/TSVC' #@param {type:\"string\"}\n",
        "BAMファイルの場所 = '~/Test' #@param {type:\"string\"}\n",
        "解析するBAMファイルの名前 = 'test.bam' #@param {type:\"string\"}\n",
        "出力先 = '~/Test/output/TSVC' #@param {type:\"string\"}\n",
        "出力ファイル名 = 'tsvc.vcf' #@param {type:\"string\"}\n",
        "cmd = 'tvc'+\\\n",
        "' --input-bam '+BAMファイルの場所+'/'+解析するBAMファイルの名前+\\\n",
        "' --reference '+リファレンスファイル+\\\n",
        "' --num-threads '+str(スレッド数)+\\\n",
        "' --parameters-file '+パラメータ類のある場所+'/'+パラメータファイル名+\\\n",
        "' --error-motifs-dir '+エラーモチーフのある場所+\\\n",
        "' --output-dir '+出力先+\\\n",
        "' --output-vcf '+出力ファイル名\n",
        "print(cmd)"
      ]
    },
    {
      "cell_type": "markdown",
      "source": [
        "### Reference  \n",
        " >   1. https://assets.thermofisher.com/TFS-Assets/LSG/manuals/MAN0017972_031419_TorrentSuite_5_12_UG_.pdf\n",
        "\n"
      ],
      "metadata": {
        "id": "-nKKEf8JCWC6"
      }
    },
    {
      "cell_type": "markdown",
      "metadata": {
        "id": "WkQkPj7YpYzJ"
      },
      "source": [
        "## BWAによるマッピング"
      ]
    },
    {
      "cell_type": "markdown",
      "source": [
        "### インデックス作成"
      ],
      "metadata": {
        "id": "iJqjra0X-8Zl"
      }
    },
    {
      "cell_type": "code",
      "execution_count": 5,
      "metadata": {
        "id": "GLMbqM6TGYVG",
        "colab": {
          "base_uri": "https://localhost:8080/"
        },
        "outputId": "96d674e6-e5a5-4806-ef17-bbb736926ad9",
        "cellView": "form"
      },
      "outputs": [
        {
          "output_type": "stream",
          "name": "stdout",
          "text": [
            "cd ~/Reference\n",
            "bwa index -p testref ./reference.fasta\n"
          ]
        }
      ],
      "source": [
        "import os\n",
        "#@title 実行するとコマンド生成\n",
        "リファレンスファイル = '~/Reference/reference.fasta' #@param {type:\"string\"}\n",
        "ディレクトリ = os.path.dirname(リファレンスファイル)\n",
        "ファイル = os.path.basename(リファレンスファイル)\n",
        "リファレンス名 = 'testref' #@param {type:\"string\"}\n",
        "cmd = 'cd '+ディレクトリ+'\\nbwa index -p '+リファレンス名+' ./'+ファイル\n",
        "print(cmd)"
      ]
    },
    {
      "cell_type": "markdown",
      "source": [
        "### マッピング"
      ],
      "metadata": {
        "id": "u5f8MOYE_E4x"
      }
    },
    {
      "cell_type": "code",
      "execution_count": null,
      "metadata": {
        "id": "xeCE_xhmpYzL",
        "colab": {
          "base_uri": "https://localhost:8080/"
        },
        "outputId": "de55a150-8fcd-4ae7-ee37-360843b82e89",
        "cellView": "form"
      },
      "outputs": [
        {
          "output_type": "stream",
          "name": "stdout",
          "text": [
            "cd ~/Reference\n",
            "bwa mem -t 8 -M testref ~/Test/seq1.fq > mapped.sam\n",
            "mkdir -p ~/Test/output/BWA\n",
            "mv ./mapped.sam ~/Test/output/BWA\n"
          ]
        }
      ],
      "source": [
        "#@title 実行するとコマンド生成\n",
        "方法 = 'mem' #@param ['aln', 'bwasw', 'mem']\n",
        "リードの種類 = 'short single' #@param ['short single', 'paired end', 'long read']\n",
        "リファレンスファイルの場所 = '~/Reference' #@param {type:'string'}\n",
        "リファレンス名 = 'testref' #@param {type:'string'}\n",
        "シーケンスデータ１ = '~/Test/seq1.fq' #@param {type:'string'}\n",
        "シーケンスデータ２ = '~/Test/seq2.fq' #@param {type:'string'}\n",
        "スプリットリードのマーク = True #@param {type:'boolean'}\n",
        "出力ファイル保存先 = '~/Test/output/BWA' #@param {type:'string'}\n",
        "出力ファイル名 = 'mapped' #@param {type:'string'}\n",
        "スレッド数 = 8 #@param {type:'number'}\n",
        "cmd = 'cd '+リファレンスファイルの場所\n",
        "cmd = cmd + '\\nbwa '+方法 + ' -t '+str(スレッド数)\n",
        "if スプリットリードのマーク == True:\n",
        "  cmd = cmd + ' -M'\n",
        "cmd = cmd + ' ' + リファレンス名 + ' ' + シーケンスデータ１\n",
        "if リードの種類 == 'paired end':\n",
        "  cmd = cmd + ' ' + シーケンスデータ２\n",
        "cmd = cmd + ' > '+出力ファイル名+'.sam'\n",
        "cmd = cmd + '\\nmkdir -p '+出力ファイル保存先+'\\nmv ./'+出力ファイル名+'.sam '+出力ファイル保存先\n",
        "print(cmd)"
      ]
    },
    {
      "cell_type": "markdown",
      "source": [
        "### Reference\n",
        " > 1. http://bio-bwa.sourceforge.net/bwa.shtml"
      ],
      "metadata": {
        "id": "OET7V1dos4do"
      }
    },
    {
      "cell_type": "markdown",
      "metadata": {
        "id": "lhII-AcMXuFi"
      },
      "source": [
        "## Samtools （よく使う機能のみ）"
      ]
    },
    {
      "cell_type": "markdown",
      "source": [
        "### index\n",
        "*.baiファイルの作成。"
      ],
      "metadata": {
        "id": "3Vx-LjLcIG6b"
      }
    },
    {
      "cell_type": "code",
      "execution_count": null,
      "metadata": {
        "id": "PqSB3kcUGYO6",
        "colab": {
          "base_uri": "https://localhost:8080/"
        },
        "outputId": "7ee7bf0c-dd21-46a2-e789-ce5d691b4b5a",
        "cellView": "form"
      },
      "outputs": [
        {
          "output_type": "stream",
          "name": "stdout",
          "text": [
            "samtools index ~/Test/test.bam\n"
          ]
        }
      ],
      "source": [
        "#@title 実行するとコマンド生成\n",
        "対象のファイルパス = '~/Test/test.bam' #@param {type:'string'}\n",
        "\n",
        "cmd = 'samtools index'+ ' ' + 対象のファイルパス\n",
        "print(cmd)"
      ]
    },
    {
      "cell_type": "markdown",
      "metadata": {
        "id": "dSXoa0MEE98J"
      },
      "source": [
        "###view\n",
        "リード情報の表示、部分抽出など。   "
      ]
    },
    {
      "cell_type": "code",
      "execution_count": null,
      "metadata": {
        "colab": {
          "base_uri": "https://localhost:8080/"
        },
        "outputId": "f7aa23ee-a559-4b0f-dd47-0138b5a54ec0",
        "cellView": "form",
        "id": "8VXD4jf8FCuv"
      },
      "outputs": [
        {
          "output_type": "stream",
          "name": "stdout",
          "text": [
            "samtools view -@8 -T ~/Reference/reference.fasta -h -o ~/Test/output/samtools/test.sam -L ~/Reference/region.bed ~/Test/test.bam\n"
          ]
        }
      ],
      "source": [
        "#@title 実行するとコマンド生成\n",
        "対象のファイルパス = '~/Test/test.bam' #@param {type:'string'}\n",
        "スレッド数 = 8 #@param {type:'number'}\n",
        "出力ファイル形式 = 'sam' #@param ['sam','bam','cram']\n",
        "出力ファイル名 = '~/Test/output/samtools/test' #@param {type:'string'}\n",
        "ヘッダあり = True #@param {type:'boolean'}\n",
        "ヘッダ情報のみ取得 = False #@param {type:'boolean'}\n",
        "リード数のみ取得 = False #@param {type:'boolean'}\n",
        "リファレンスファイル = '~/Reference/reference.fasta' #@param {type:'string'}\n",
        "領域指定 = '~/Reference/region.bed' #@param {type:'string'}\n",
        "\n",
        "cmd = 'samtools view'\n",
        "cmd = cmd + ' -@' + str(スレッド数) + ' -T ' +リファレンスファイル\n",
        "if リード数のみ取得 == True:\n",
        "  cmd = cmd + ' -c '\n",
        "elif ヘッダ情報のみ取得 == True:\n",
        "  cmd = cmd + ' -H '\n",
        "else:\n",
        "  if ヘッダあり == True:\n",
        "    cmd = cmd + ' -h'\n",
        "    if 出力ファイル形式 == 'bam':\n",
        "      cmd = cmd + ' -b ' + '-o '+出力ファイル名+'.bam'\n",
        "    elif 出力ファイル形式 == 'cram':\n",
        "      cmd = cmd + ' -C ' + '-o '+出力ファイル名+'.cram'\n",
        "    else:\n",
        "      cmd = cmd + ' -o '+出力ファイル名+'.sam'\n",
        "  if 領域指定 != '':\n",
        "    cmd = cmd + ' -L '+領域指定+''\n",
        "cmd = cmd +  ' ' + 対象のファイルパス  \n",
        "print(cmd)"
      ]
    },
    {
      "cell_type": "markdown",
      "source": [
        "### tview\n",
        "リード分布の可視化（SSH接続時の簡単な確認用）。  \n",
        "本格的な図示にはIGVを使う方が良い。"
      ],
      "metadata": {
        "id": "6Aw5QqspEeKm"
      }
    },
    {
      "cell_type": "code",
      "execution_count": null,
      "metadata": {
        "colab": {
          "base_uri": "https://localhost:8080/"
        },
        "outputId": "0850eba6-4419-475c-db51-3e2b5a45c1aa",
        "cellView": "form",
        "id": "RXdulKJqEbRs"
      },
      "outputs": [
        {
          "output_type": "stream",
          "name": "stdout",
          "text": [
            "samtools tview -d C  ~/Test/test.bam\n"
          ]
        }
      ],
      "source": [
        "import re\n",
        "#@title 実行するとコマンド生成\n",
        "対象のファイルパス = '~/Test/test.bam' #@param {type:'string'}\n",
        "表示形式 = 'Curses' #@param ['Curses','HTML','Text']\n",
        "位置指定 = '' #@param {type:'string'}\n",
        "cmd = 'samtools tview'\n",
        "if re.match('\\w+:\\d+',位置指定):\n",
        "  cmd = cmd + ' -d ' + 表示形式[0] + ' -p ' + 位置指定 + ' ' + 対象のファイルパス\n",
        "else:\n",
        "  cmd = cmd + ' -d ' + 表示形式[0]+ ' ' + ' ' + 対象のファイルパス\n",
        "print(cmd)"
      ]
    },
    {
      "cell_type": "markdown",
      "metadata": {
        "id": "k64X7LUWF92E"
      },
      "source": [
        "### sort\n",
        "BAMファイルのソート。  \n",
        "マッピング用のパイプラインスクリプトを使わず、マニュアルでマッピングした場合は個別にかける必要あり。"
      ]
    },
    {
      "cell_type": "code",
      "execution_count": null,
      "metadata": {
        "colab": {
          "base_uri": "https://localhost:8080/"
        },
        "outputId": "e4f732bc-d153-45bd-e462-7307700d908f",
        "cellView": "form",
        "id": "RNJUrsxdGGox"
      },
      "outputs": [
        {
          "output_type": "stream",
          "name": "stdout",
          "text": [
            "samtools sort -l1 -T tmp -@8 -m 1000M -O sam -o ~/Test/output/samtools/test.sam ~/Test/test.bam\n"
          ]
        }
      ],
      "source": [
        "#@title 実行するとコマンド生成\n",
        "対象のファイルパス = '~/Test/test.bam' #@param {type:'string'}\n",
        "スレッド数 = 8 #@param {type:'number'}\n",
        "メモリ使用量 = '1000M'  #@param {type:'string'}\n",
        "出力ファイル形式 = 'sam' #@param ['sam','bam','cram']\n",
        "出力ファイル名 = '~/Test/output/samtools/test' #@param {type:'string'}\n",
        "\n",
        "ソート順 = 'Position' #@param ['Position','Name']\n",
        "\n",
        "cmd = 'samtools sort'\n",
        "if ソート順 == 'Name':\n",
        "  cmd = cmd + ' -n'\n",
        "cmd = cmd + ' -l1 -T tmp -@'+str(スレッド数)+' -m '+メモリ使用量 +\\\n",
        "' -O '+出力ファイル形式 + ' -o '+出力ファイル名 + '.'+出力ファイル形式 + ' '+対象のファイルパス\n",
        "print(cmd)"
      ]
    },
    {
      "cell_type": "markdown",
      "metadata": {
        "id": "uswCui8mHRdR"
      },
      "source": [
        "### merge\n",
        "複数回に分けてシーケンスしたデータの結合。  \n",
        "※ionTorrent系で出力したBAMファイルの場合、catで繋ぐだけだとTorrent suiteに再読み込み出来ない。mergeでもヘッダ情報を書き換える必要があるので注意。  "
      ]
    },
    {
      "cell_type": "code",
      "execution_count": null,
      "metadata": {
        "colab": {
          "base_uri": "https://localhost:8080/"
        },
        "outputId": "98d73d62-d7a6-488d-92b0-5fd625c9eabc",
        "cellView": "form",
        "id": "DMyYpF_9HU3G"
      },
      "outputs": [
        {
          "output_type": "stream",
          "name": "stdout",
          "text": [
            "samtools merge -@8 -o ~/Test/output/samtools/test.bam ~/Test/test.bam ~/Test/test2.bam\n"
          ]
        }
      ],
      "source": [
        "#@title 実行するとコマンド生成\n",
        "対象のファイルパス = '~/Test/test.bam ~/Test/test2.bam' #@param {type:'string'}\n",
        "出力ファイル名 = '~/Test/output/samtools/test' #@param {type:'string'}\n",
        "\n",
        "cmd = 'samtools merge'\n",
        "cmd = cmd + ' -@' + str(スレッド数) +\\\n",
        "' -o '+出力ファイル名 +  '.bam ' + 対象のファイルパス\n",
        "print(cmd)"
      ]
    },
    {
      "cell_type": "markdown",
      "metadata": {
        "id": "DWQsA6ONHR6Q"
      },
      "source": [
        "### fastq\n",
        "BAMをfastqファイルに変換。再マッピングするときなどに使用。"
      ]
    },
    {
      "cell_type": "code",
      "execution_count": null,
      "metadata": {
        "colab": {
          "base_uri": "https://localhost:8080/"
        },
        "outputId": "41b27bb9-50ba-443d-d85d-2cc89571d3aa",
        "cellView": "form",
        "id": "5lykYzCIHViW"
      },
      "outputs": [
        {
          "output_type": "stream",
          "name": "stdout",
          "text": [
            "samtools fastq ~/Test/test.bam > ~/Test/output/samtools/test.fq \n"
          ]
        }
      ],
      "source": [
        "#@title 実行するとコマンド生成\n",
        "対象のファイルパス = '~/Test/test.bam' #@param {type:'string'}\n",
        "リードの種類 = 'single' #@param ['single', 'paired']\n",
        "出力ファイル名 = '~/Test/output/samtools/test' #@param {type:'string'}\n",
        "\n",
        "cmd = 'samtools fastq'\n",
        "if リードの種類 == 'single':\n",
        "  cmd = cmd + ' '+対象のファイルパス + ' > '+出力ファイル名 + '.fq '\n",
        "else :\n",
        "  cmd = cmd + ' -1 '+出力ファイル名 +  '1.fq ' + ' -2 '+出力ファイル名 +  '2.fq -0 /dev/null -s /dev/null ' + 対象のファイルパス\n",
        "print(cmd)"
      ]
    },
    {
      "cell_type": "markdown",
      "source": [
        "### Reference  \n",
        " > 1. http://www.htslib.org/doc/samtools.html"
      ],
      "metadata": {
        "id": "FIrWe0e4GWnr"
      }
    },
    {
      "cell_type": "markdown",
      "source": [
        "## BCFtools （よく使う機能のみ）"
      ],
      "metadata": {
        "id": "C6suK6CLRC_O"
      }
    },
    {
      "cell_type": "markdown",
      "source": [
        "### mpileup & call\n",
        "マッピング後の small variant call（主にillumina解析時）。  \n",
        "ionTorrent系でシーケンスした場合は、A/Tの連続領域などでミスが出やすいので、Torrent Suite 付属の variant call を使う方が良い。  "
      ],
      "metadata": {
        "id": "ukVahLLSGJp5"
      }
    },
    {
      "cell_type": "code",
      "source": [
        "#@title 実行するとコマンド生成\n",
        "対象のファイルパス = '~/Test/test.bam' #@param {type:'string'}\n",
        "出力ファイル形式 = 'vcf' #@param ['vcf','bcf']\n",
        "出力ファイル名 = '~/Test/output/samtools/test' #@param {type:'string'}\n",
        "リファレンスファイル = '~/Reference/reference.fasta' #@param {type:'string'}\n",
        "\n",
        "cmd = 'bcftools mpileup -Ou'+\\\n",
        "' -f '+リファレンスファイル+' '+対象のファイルパス+\\\n",
        "' | bcftools call -vm'\n",
        "if 出力ファイル形式 == 'vcf':\n",
        "  cmd = cmd + ' -O z'\n",
        "else:\n",
        "  cmd = cmd + ' -O b'\n",
        "cmd = cmd + ' -o '+出力ファイル名+'.gz'\n",
        "print(cmd)"
      ],
      "metadata": {
        "id": "EY7TDOaIRV7m",
        "colab": {
          "base_uri": "https://localhost:8080/"
        },
        "cellView": "form",
        "outputId": "8d679092-b423-47ba-9b91-01862ace2621"
      },
      "execution_count": null,
      "outputs": [
        {
          "output_type": "stream",
          "name": "stdout",
          "text": [
            "bcftools mpileup -Ou -f ~/Reference/reference.fasta ~/Test/test.bam | bcftools call -vm -O z -o ~/Test/output/samtools/test.gz\n"
          ]
        }
      ]
    },
    {
      "cell_type": "markdown",
      "source": [
        "### Reference\n",
        " > 1. http://www.htslib.org/doc/bcftools.html"
      ],
      "metadata": {
        "id": "0AQ60A8vRXCb"
      }
    },
    {
      "cell_type": "markdown",
      "metadata": {
        "id": "5x5YEDinpYzM"
      },
      "source": [
        "## Bowtie2によるマッピング"
      ]
    },
    {
      "cell_type": "markdown",
      "source": [
        "### インデックス作成"
      ],
      "metadata": {
        "id": "IpNFck44V6vH"
      }
    },
    {
      "cell_type": "code",
      "execution_count": 56,
      "metadata": {
        "colab": {
          "base_uri": "https://localhost:8080/"
        },
        "outputId": "bdc1e114-7670-4187-83b7-d5f57743c7da",
        "id": "Sh6PHgEBV6vN",
        "cellView": "form"
      },
      "outputs": [
        {
          "output_type": "stream",
          "name": "stdout",
          "text": [
            "cd ~/Reference\n",
            "bowtie2-build -f ./reference.fasta testref2\n"
          ]
        }
      ],
      "source": [
        "import os\n",
        "#@title 実行するとコマンド生成\n",
        "\n",
        "リファレンスファイル = '~/Reference/reference.fasta' #@param {type:\"string\"}\n",
        "ディレクトリ = os.path.dirname(リファレンスファイル)\n",
        "ファイル = os.path.basename(リファレンスファイル)\n",
        "リファレンス名 = 'testref2' #@param {type:\"string\"}\n",
        "cmd = 'cd '+ディレクトリ+'\\nbowtie2-build -f ./'+ファイル+' '+リファレンス名\n",
        "print(cmd)"
      ]
    },
    {
      "cell_type": "markdown",
      "source": [
        "### マッピング"
      ],
      "metadata": {
        "id": "GimiTdn86C6n"
      }
    },
    {
      "cell_type": "markdown",
      "source": [
        "### Reference\n",
        " > 1. http://bowtie-bio.sourceforge.net/bowtie2/manual.shtml"
      ],
      "metadata": {
        "id": "PRD7eUfw5pMw"
      }
    },
    {
      "cell_type": "markdown",
      "source": [
        "## STARによるマッピング for RNA Seq"
      ],
      "metadata": {
        "id": "e9WLhDssoQdW"
      }
    },
    {
      "cell_type": "markdown",
      "source": [
        "### インデックス作成"
      ],
      "metadata": {
        "id": "WQkyqdW4qI_S"
      }
    },
    {
      "cell_type": "code",
      "source": [
        "#@title 実行するとコマンド生成\n",
        "スレッド数 = 8  #@param {type:\"number\"}\n",
        "リファレンスファイル = '~/Reference/reference.fasta' #@param {type:\"string\"}\n",
        "ディレクトリ = os.path.dirname(リファレンスファイル)\n",
        "ファイル = os.path.basename(リファレンスファイル)\n",
        "リファレンス名 = 'testref3' #@param {type:\"string\"}\n",
        "cmd = 'cd '+ディレクトリ+'\\nSTAR --runMode genomeGenerate --genomeDir '+ リファレンス名+' --genomeFastaFiles ./'+ファイル\n",
        "print(cmd)"
      ],
      "metadata": {
        "id": "71y0Q_DioQo4",
        "colab": {
          "base_uri": "https://localhost:8080/"
        },
        "cellView": "form",
        "outputId": "536dd09a-1642-4b46-c00e-c73873e3b639"
      },
      "execution_count": 59,
      "outputs": [
        {
          "output_type": "stream",
          "name": "stdout",
          "text": [
            "cd ~/Reference\n",
            "STAR --runMode genomeGenerate --genomeDir testref3 --genomeFastaFiles ./reference.fasta\n"
          ]
        }
      ]
    },
    {
      "cell_type": "markdown",
      "source": [
        "### マッピング"
      ],
      "metadata": {
        "id": "xxUdisuFsBdD"
      }
    },
    {
      "cell_type": "markdown",
      "source": [
        "### Reference\n",
        " > 1. https://raw.githubusercontent.com/alexdobin/STAR/master/doc/STARmanual.pdf"
      ],
      "metadata": {
        "id": "Gos40DRroq21"
      }
    },
    {
      "cell_type": "markdown",
      "metadata": {
        "id": "aGd3IElzpYzN"
      },
      "source": [
        "## MACS2によるピーク検出 for ChIP Seq"
      ]
    },
    {
      "cell_type": "code",
      "execution_count": 4,
      "metadata": {
        "id": "9-DT5EWJpYzN",
        "colab": {
          "base_uri": "https://localhost:8080/"
        },
        "outputId": "6776699d-a610-41ac-a39e-1b53d573ce9f",
        "cellView": "form"
      },
      "outputs": [
        {
          "output_type": "stream",
          "name": "stdout",
          "text": [
            "macs2 callpeak -t ~Test/test.bam -c ~Test/control.bam -f BAM -g ce --broad --nomodel -n peaks\n"
          ]
        }
      ],
      "source": [
        "#@title 実行するとコマンド生成\n",
        "BAMファイルパス = '~Test/test.bam' #@param {type:\"string\"}\n",
        "コントロールファイルパス  = '~Test/control.bam' #@param {type:\"string\"}\n",
        "ゲノムスケール = 'ce' #@param['hs', 'mm', 'dm', 'ce', 'custom']\n",
        "ゲノムサイズ = 1.0e8 #@param {type:\"number\"}\n",
        "重複リード = '利用しない' #@param['利用しない', '利用する']\n",
        "ピーク特性 = 'broad' #@param['broad', 'narrow']\n",
        "p値 = 0 #@param {type:\"number\"}\n",
        "出力ファイル名 = 'peaks' #@param {type:\"string\"}\n",
        "\n",
        "cmd = 'macs2 callpeak'+\\\n",
        "' -t '+BAMファイルパス+\\\n",
        "' -c '+コントロールファイルパス+\\\n",
        "' -f BAM'\n",
        "if ゲノムスケール == 'custom':\n",
        "  cmd = cmd + ' -g '+ str(ゲノムサイズ)\n",
        "else:\n",
        "  cmd = cmd + ' -g '+ ゲノムスケール \n",
        "if 重複リード == '利用する':\n",
        "  cmd = cmd + ' -keep-dup'\n",
        "if ピーク特性 == 'broad':\n",
        "  cmd = cmd + ' --broad'\n",
        "if p値 > 0:\n",
        "  cmd = cmd + '-p '+str(p値)\n",
        "cmd = cmd + ' --nomodel -n '+出力ファイル名\n",
        "print(cmd)"
      ]
    }
  ],
  "metadata": {
    "colab": {
      "collapsed_sections": [
        "PrRCrbk_GY-f",
        "ETYHIn-_He8x",
        "HYYF3RYDHcnF",
        "WkQkPj7YpYzJ",
        "iJqjra0X-8Zl",
        "u5f8MOYE_E4x",
        "lhII-AcMXuFi",
        "3Vx-LjLcIG6b",
        "dSXoa0MEE98J",
        "6Aw5QqspEeKm",
        "k64X7LUWF92E",
        "uswCui8mHRdR",
        "DWQsA6ONHR6Q",
        "C6suK6CLRC_O",
        "ukVahLLSGJp5",
        "5x5YEDinpYzM",
        "IpNFck44V6vH",
        "e9WLhDssoQdW",
        "aGd3IElzpYzN"
      ],
      "name": "コマンド一覧.ipynb",
      "provenance": [],
      "toc_visible": true,
      "include_colab_link": true
    },
    "kernelspec": {
      "display_name": "Python 3",
      "name": "python3"
    },
    "language_info": {
      "name": "python"
    }
  },
  "nbformat": 4,
  "nbformat_minor": 0
}