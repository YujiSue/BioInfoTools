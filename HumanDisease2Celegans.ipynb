{
  "nbformat": 4,
  "nbformat_minor": 0,
  "metadata": {
    "colab": {
      "provenance": [],
      "authorship_tag": "ABX9TyNDXqD5F1vG8Wn80MESJPqn",
      "include_colab_link": true
    },
    "kernelspec": {
      "name": "python3",
      "display_name": "Python 3"
    },
    "language_info": {
      "name": "python"
    }
  },
  "cells": [
    {
      "cell_type": "markdown",
      "metadata": {
        "id": "view-in-github",
        "colab_type": "text"
      },
      "source": [
        "<a href=\"https://colab.research.google.com/github/YujiSue/BioInfoTools/blob/master/HumanDisease2Celegans.ipynb\" target=\"_parent\"><img src=\"https://colab.research.google.com/assets/colab-badge.svg\" alt=\"Open In Colab\"/></a>"
      ]
    },
    {
      "cell_type": "markdown",
      "source": [
        "# Ortholog and disease DB Trial"
      ],
      "metadata": {
        "id": "LNGSvy9oC2fB"
      }
    },
    {
      "cell_type": "code",
      "source": [
        "#@title Download dataset\n",
        "# Sqlite3 DB\n",
        "!curl -L -o ortho.db \"https://firebasestorage.googleapis.com/v0/b/publicstorage-3ef6a.appspot.com/o/ortho.db?alt=media&token=103137df-052d-4c07-b780-9ec745b58cd6\"\n",
        "!curl -L -o disease.db \"https://firebasestorage.googleapis.com/v0/b/publicstorage-3ef6a.appspot.com/o/disease.db?alt=media&token=44bfb52d-72cb-46f8-97fb-31e79affae74\"\n",
        "# C. elegans genome\n",
        "!curl -L -o nematode.bin \"https://firebasestorage.googleapis.com/v0/b/publicstorage-3ef6a.appspot.com/o/nematode.bin?alt=media&token=b5048edd-161f-47b7-91e1-3eb50be04ac3\"\n",
        "!curl -L -o nematode.db \"https://firebasestorage.googleapis.com/v0/b/publicstorage-3ef6a.appspot.com/o/nematode.db?alt=media&token=8cea64e6-39d7-4f6d-b02e-b2cd9cd382ae\""
      ],
      "metadata": {
        "cellView": "form",
        "id": "L_E4FPgtwoE0"
      },
      "execution_count": null,
      "outputs": []
    },
    {
      "cell_type": "code",
      "source": [
        "#@title Load database\n",
        "import sqlite3\n",
        "ocon = sqlite3.connect('/content/ortho.db')\n",
        "ocur = ocon.cursor()\n",
        "dcon = sqlite3.connect('/content/disease.db')\n",
        "dcur = dcon.cursor()\n",
        "cecon = sqlite3.connect('/content/nematode.db')\n",
        "cecur = cecon.cursor()"
      ],
      "metadata": {
        "cellView": "form",
        "id": "AIwRDZmixnGP"
      },
      "execution_count": 2,
      "outputs": []
    },
    {
      "cell_type": "code",
      "source": [
        "#@title Supported species\n",
        "from IPython.display import HTML\n",
        "sql = f\"select * from taxon\"\n",
        "ocur.execute(sql)\n",
        "taxons = ocur.fetchall()\n",
        "dataset = []\n",
        "for taxon in taxons:\n",
        "  dataset.append(f'<tr><td>{taxon[0]}</td><td>{taxon[1]}</td><td>{taxon[2]}</td></tr>')\n",
        "html = f'<table><tr><th>Taxon ID</th><th>Label</th><th>Species</th></tr>{\"\".join(dataset)}</table>'\n",
        "display(HTML(html))"
      ],
      "metadata": {
        "colab": {
          "base_uri": "https://localhost:8080/",
          "height": 233
        },
        "cellView": "form",
        "id": "WXs8Krg42v8s",
        "outputId": "7a6c2343-4206-4bdf-edec-d045b9911109"
      },
      "execution_count": null,
      "outputs": [
        {
          "output_type": "display_data",
          "data": {
            "text/plain": [
              "<IPython.core.display.HTML object>"
            ],
            "text/html": [
              "<table><tr><th>Taxon ID</th><th>Label</th><th>Species</th></tr><tr><td>6239</td><td>Nematode</td><td>Caenorhabditis elegans</td></tr><tr><td>7227</td><td>Fruit fly</td><td>Drosophila melanogaster</td></tr><tr><td>7955</td><td>Zebrafish</td><td>Danio rerio</td></tr><tr><td>8355</td><td>Common clawed frog</td><td>Xenopus laevis</td></tr><tr><td>8364</td><td>Western clawed frog</td><td>Xenopus tropicalis</td></tr><tr><td>9606</td><td>Human</td><td>Homo sapiens</td></tr><tr><td>10090</td><td>Mouse</td><td>Mus musculus</td></tr><tr><td>10116</td><td>Rat</td><td>Rattus norvegicus</td></tr><tr><td>559292</td><td>Yeast</td><td>Saccharomyces cerevisiae</td></tr></table>"
            ]
          },
          "metadata": {}
        }
      ]
    },
    {
      "cell_type": "code",
      "source": [
        "#@title Gene ID conversion\n",
        "#@markdown Set query for conversion to _C. elegans_ gene ID.<br>\n",
        "#@markdown Query format should be accroding to the below.<br>\n",
        "#@markdown - Human : Gene symbol (i.e. GAPDH) or HGNC prefixed ID (i.e. HGNC:4141)\n",
        "#@markdown - Mouse : Gene symbol (i.e. Gapdh) or MGI prefixed ID (i.e. MGI:95640)\n",
        "#@markdown - Rat : Gene symbol (i.e. Gapdh) or RGD prefixed ID (i.e. RGD:2661)\n",
        "#@markdown - Zebrafish : Gene symbol (i.e. gapdh) or ZFIN prefixed ID (i.e. ZDB-GENE-030115-1)\n",
        "#@markdown - Fruit fly : Gene symbol (i.e. Gapdh1) or Flybase prefixed ID (i.e. FBgn0001091)\n",
        "query = '' #@param {type: 'string'}\n",
        "sql = f\"SELECT gene2,gid1,gene1 from orthology where taxon1=6239 and (gid2 like '{query}' or gene2 like '{query}%') group by gid1 UNION SELECT gene1,gid2,gene2 from orthology where taxon2=6239 and (gid1 like '{query}' or gene1 like '{query}%') group by gid2\"\n",
        "ocur.execute(sql)\n",
        "genes = ocur.fetchall()\n",
        "if len(genes) == 0:\n",
        "  print(\"Not found.\")\n",
        "else:\n",
        "  for gene in genes:\n",
        "    print(gene[0],gene[1],gene[2])\n",
        "\n"
      ],
      "metadata": {
        "id": "MsG7rVHqwoP8",
        "cellView": "form"
      },
      "execution_count": null,
      "outputs": []
    },
    {
      "cell_type": "code",
      "source": [
        "#@title Gene ID conversion (from file)\n",
        "#@markdown Prepare gene symbol or prefixed ID list<br>\n",
        "#@markdown Check [sample file](https://github.com/YujiSue/BioInfoTools/blob/master/genelist_sample.txt)\n",
        "import pandas as pd\n",
        "from IPython.display import HTML\n",
        "import sqlite3\n",
        "file = '' #@param {type: 'string'}\n",
        "df = pd.read_csv(file, header=None)\n",
        "results = []\n",
        "for idx, row in df.iterrows():\n",
        "  query = row[0]\n",
        "  sql = f\"SELECT gid2,gene2,gid1,gene1 from orthology where taxon1=6239 and (gid2 like '{query}' or gene2 like '{query}%') UNION SELECT gid1,gene1,gid2,gene2 from orthology where taxon2=6239 and (gid1 like '{query}' or gene1 like '{query}%')\"\n",
        "  ocur.execute(sql)\n",
        "  genes = ocur.fetchall()\n",
        "  if len(genes) == 0:\n",
        "    results.append((query,\"\", \"Not found.\", \"\"))\n",
        "  else:\n",
        "    for gene in genes:\n",
        "      results.append((gene[0], gene[1], gene[2], gene[3]))\n",
        "\n",
        "# Output result\n",
        "content = []\n",
        "for res in results:\n",
        "  content.append(f'<tr><td style=\"border:1px solid black;\">{res[0]}</td><td style=\"border:1px solid black;\">{res[1]}</td><td style=\"border:1px solid black;\">{res[2]}</td><td style=\"border:1px solid black;\">{res[3]}</td></tr>')\n",
        "html = f'<table style=\"border-collapse: collapse;\"><tr><th style=\"border:1px solid black;\">Query ID</th><th style=\"border:1px solid black;\">Query Gene</th><th style=\"border:1px solid black;\">CE Gene ID</th><th style=\"border:1px solid black;\">CE Gene Name</th></tr>{\"\".join(content)}</table>'\n",
        "display(HTML(html))"
      ],
      "metadata": {
        "id": "EdBJ1ji3OMTO",
        "cellView": "form"
      },
      "execution_count": null,
      "outputs": []
    },
    {
      "cell_type": "code",
      "source": [
        "#@title Search c. elegans genes related to human disease\n",
        "import re\n",
        "import sqlite3\n",
        "from IPython.display import HTML\n",
        "#@markdown Set disease name or keywords<br>\n",
        "#@markdown (ex. \"type 1 diabetes\")\n",
        "query = '' #@param {type:'string'}\n",
        "#\n",
        "qlist = []\n",
        "words = query.split(' ')\n",
        "for wrd in words:\n",
        "  enc = wrd.replace(\"'\", \"''\")\n",
        "  qlist.append(f\"name like '%{enc}%'\")\n",
        "#\n",
        "sql = f\"SELECT id,name,gid,evidence,reference from disease where {' and '.join(qlist)} group by gid\"\n",
        "dcur.execute(sql)\n",
        "dislist = dcur.fetchall()\n",
        "\n",
        "# Extract disease names and gene list\n",
        "gids = []\n",
        "dids = {}\n",
        "for dis in dislist:\n",
        "  gids.append(f\"'{dis[2].strip()}'\")\n",
        "  dids[dis[0]] = dis[1]\n",
        "\n",
        "# Conversion to CE gene\n",
        "gconv = {}\n",
        "sql = f\"SELECT gid1,gid2 from orthology where taxon1=6239 and gid2 in ({','.join(gids)}) UNION SELECT gid2,gid1 from orthology where taxon2=6239 and gid1 in({','.join(gids)})\"\n",
        "ocur.execute(sql)\n",
        "orths = ocur.fetchall()\n",
        "for ort in orths:\n",
        "  if ort[1] in gconv:\n",
        "    gconv[ort[1].strip()].append(ort[0].strip())\n",
        "  else:\n",
        "    gconv[ort[1].strip()] = [ort[0].strip()]\n",
        "\n",
        "# Integrate\n",
        "def integrator(list, elem, content):\n",
        "  if content[0] in list:\n",
        "    if elem in list[content[0]]:\n",
        "      list[content[0]][elem].append(content[4])\n",
        "    else:\n",
        "      list[content[0]][elem] = [content[4]]\n",
        "  else:\n",
        "    list[content[0]] = {elem:[content[4]]}\n",
        "\n",
        "disgene = {}\n",
        "for dis in dislist:\n",
        "  if re.match('^WBGene[0-9]+$', dis[2].strip()):\n",
        "    integrator(disgene, dis[2].strip(), dis)\n",
        "  else:\n",
        "    if dis[2] in gconv:\n",
        "      for gc in gconv[dis[2].strip()]:\n",
        "        integrator(disgene, gc, dis)\n",
        "\n",
        "# Output result\n",
        "content = []\n",
        "for did in disgene:\n",
        "  for dg in disgene[did]:\n",
        "    content.append(f'<tr><td style=\"border:1px solid black;\">{dids[did]}</td><td style=\"border:1px solid black;\">{dg}</td><td style=\"border:1px solid black;\">{\",\".join(disgene[did][dg])}</td></tr>')\n",
        "    #print(f\"{dids[did]}\\t{dg}\\t{','.join(disgene[did][dg])}\")\n",
        "html = f'<table style=\"border-collapse: collapse;\"><tr><th style=\"border:1px solid black;\">Disease</th><th style=\"border:1px solid black;\">CE Gene ID</th><th style=\"border:1px solid black;\">Reference</th></tr>{\"\".join(content)}</table>'\n",
        "display(HTML(html))"
      ],
      "metadata": {
        "cellView": "form",
        "id": "Gn-PkJkEwoKP"
      },
      "execution_count": null,
      "outputs": []
    },
    {
      "cell_type": "code",
      "source": [
        "#@title CE gene details\n",
        "import sqlite3\n",
        "geneid = '' #@param {type: 'string'}\n",
        "sql = f\"select * from gene where gid='{geneid}'\"\n",
        "cecur.execute(sql)\n",
        "res = cecur.fetchall()\n",
        "if len(res) == 0:\n",
        "  print(\"Not found.\")\n",
        "else:\n",
        "  print(\"Gene name:\", res[0][1])\n",
        "  print(\"Gene synonyms:\", res[0][8])\n",
        "  print(\"Gene description:\", res[0][9])"
      ],
      "metadata": {
        "cellView": "form",
        "id": "I3TWGrcRJngz"
      },
      "execution_count": null,
      "outputs": []
    },
    {
      "cell_type": "markdown",
      "source": [
        "# Reference\n",
        "> The Alliance of Genome Resources: transforming comparative genomics. 2023. Bult CJ, Sternberg PW. Mamm Genome, 2023;34(4):531-44. doi: 10.1007/s00335-023-10015-2. PMID: 37666946.\n",
        "\n",
        "> WormBase: a comprehensive resource for nematode research. Nucleic Acids Res. 38 (Database issue): D463–7. doi:10.1093/nar/gkp952. PMC 2808986. PMID 19910365."
      ],
      "metadata": {
        "id": "YVVspB2rDDMV"
      }
    }
  ]
}