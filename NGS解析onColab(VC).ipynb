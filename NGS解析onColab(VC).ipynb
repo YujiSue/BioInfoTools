{
  "cells": [
    {
      "cell_type": "markdown",
      "metadata": {
        "id": "view-in-github",
        "colab_type": "text"
      },
      "source": [
        "<a href=\"https://colab.research.google.com/github/YujiSue/BioInfoTools/blob/master/NGS%E8%A7%A3%E6%9E%90onColab(VC).ipynb\" target=\"_parent\"><img src=\"https://colab.research.google.com/assets/colab-badge.svg\" alt=\"Open In Colab\"/></a>"
      ]
    },
    {
      "cell_type": "markdown",
      "metadata": {
        "id": "fpvo4JBAKnG5"
      },
      "source": [
        "# NGS解析用ノート(Variant Call編)\n",
        "* このノートは、次世代シーケンス (NGS) のデータ解析（主にVariant Call）をGoogle Colab上で行うためのノートです。  \n",
        "* 解析用のコンピュータがない、次世代シーケンスのデータ解析がどんなものか試してみたい、といった方が対象になります。  \n",
        "<font color=\"red\">※Colabで使えるリソースの制限上、大きなサイズのシーケンスデータの解析や、多量のメモリを必要とする解析などは、時間がかかったり途中でエラーが出る可能性があります。</font>  \n"
      ]
    },
    {
      "cell_type": "markdown",
      "metadata": {
        "id": "YbqdTB10y4mb"
      },
      "source": [
        "## はじめに\n",
        "GoogleColabの詳しい使用法などは、[本家](https://colab.research.google.com/notebooks/welcome.ipynb)を参照してください。  \n",
        "簡潔に言うと左下に見えているような![](https://drive.google.com/uc?id=1XWYv4yXxFkzyzxvurd04FT6Qld3-v83O)ボタン(実行ボタン)を押すと、プログラムが実行されます。  \n",
        "無料でそれなりの性能が利用できるので、お試しにはちょうど良いです。   \n",
        "さすがにヒトゲノムを対象にあれこれ詳細な解析しようとすると厳しいですが、筆者が良く使う線虫くらいのゲノムサイズ(~100Mb)なら、Google Colabだけで完結して論文に使えるデータを出すことも可能です。"
      ]
    },
    {
      "cell_type": "code",
      "execution_count": null,
      "metadata": {
        "cellView": "form",
        "id": "yH3aU4L0_Iyh"
      },
      "outputs": [],
      "source": [
        "#@title まずは左にある実行ボタンを押して、必要なファイルを読み込んでください\n",
        "#@markdown * このノートで使用できるソフトとバージョン一覧<br>\n",
        "#@markdown >[SRAtools](https://github.com/ncbi/sra-tools): v2.11.2<br>\n",
        "#@markdown [FastQC](https://www.bioinformatics.babraham.ac.uk/projects/fastqc/): v0.11.9<br>\n",
        "#@markdown [fastp](https://github.com/OpenGene/fastp): v0.23.2<br>\n",
        "#@markdown [BWA](https://github.com/lh3/bwa): v0.7.17<br>\n",
        "#@markdown [TVC (TorrentSuite)](https://github.com/iontorrent/TS): v5.12.1<br>\n",
        "#@markdown [Samtools](http://www.htslib.org/): v1.14<br>\n",
        "#@markdown [BCFtools](http://www.htslib.org/): v1.14<br>\n",
        "#@markdown [Picard](https://github.com/broadinstitute/picard): v2.26.9<br>\n",
        "#@markdown [GATK](https://gatk.broadinstitute.org/hc/en-us): v4.2.4.0<br>\n",
        "#@markdown [Bowtie2](http://bowtie-bio.sourceforge.net/bowtie2/index.shtml): v2.4.4<br>\n",
        "#@markdown [IVC (Illumina strelka)](https://github.com/Illumina/strelka): v2.9.x<br>\n",
        "#@markdown [STAR](https://github.com/alexdobin/STAR): v2.7.9a<br>\n",
        "\n",
        "#!pip install -q git+https://github.com/YujiSue/ysngs.git\n",
        "#import ysngs\n",
        "#from ysngs import config\n",
        "#from ysngs import installer\n",
        "#from ysngs import apprun\n",
        "!wget https://raw.githubusercontent.com/YujiSue/ysngs/main/ysngs/common.py\n",
        "!wget https://raw.githubusercontent.com/YujiSue/ysngs/main/ysngs/install.py\n",
        "!wget https://raw.githubusercontent.com/YujiSue/ysngs/main/ysngs/run.py\n",
        "\n",
        "import os\n",
        "import common\n",
        "import install\n",
        "import run\n",
        "cfg = common.config()\n",
        "cfg.setWorkSpace('/content')\n",
        "cfg.setDefault()\n",
        "cfg.makeDirs()\n",
        "loader = install.installer(cfg)\n",
        "loader.install('SAM')\n",
        "app = run.apprun(cfg)"
      ]
    },
    {
      "cell_type": "markdown",
      "metadata": {
        "id": "4nWMVBHIy4d_"
      },
      "source": [
        "## 使用方法"
      ]
    },
    {
      "cell_type": "markdown",
      "metadata": {
        "id": "boDP5aY8ZZID"
      },
      "source": [
        "### 1. 解析対象のファイルを準備する\n",
        "以下の３つの方法のうち、どれか１つ選んで解析対象のファイルを用意してください"
      ]
    },
    {
      "cell_type": "markdown",
      "metadata": {
        "id": "3AJKky_9YrXe"
      },
      "source": [
        "#### 1-1. Samtoolに付随するサンプルを利用する（チュートリアル）\n",
        "【2. リファレンスファイルを準備する】をスキップして、【3. マッピングとVCFの出力】まで進んでください。\n"
      ]
    },
    {
      "cell_type": "markdown",
      "metadata": {
        "id": "sMBhDLvHY69c"
      },
      "source": [
        "#### 1-2. NCBI SRAから解析してみたいファイルをダウンロードする\n"
      ]
    },
    {
      "cell_type": "code",
      "execution_count": null,
      "metadata": {
        "cellView": "form",
        "id": "QMrOkejinJ5O"
      },
      "outputs": [],
      "source": [
        "#@title ダウンロードしたいIDを指定して実行ボタンを押してください\n",
        "SRA_ID = 'SRR000001' #@param {type:'string'}\n",
        "loader.install('SRA')\n",
        "!vdb-config --interactive\n",
        "res = app.downloadSRA(srid=SRA_ID, output='/content/Sample')"
      ]
    },
    {
      "cell_type": "markdown",
      "metadata": {
        "id": "brH8AWz8nLL2"
      },
      "source": [
        "#### 1-3. 自前のデータを利用する\n"
      ]
    },
    {
      "cell_type": "markdown",
      "source": [
        "Google DriveやGoogle Cloud Storageにデータがある場合は、該当するファイルをColabのストレージにコピーしてください。  \n",
        "その他のクラウドストレージや、サーバ上にあるファイルはwgetやcurlコマンドでコピーしてください。  \n",
        "ローカルマシン上のファイルのアップロードは時間がかかるのでお勧めしません。"
      ],
      "metadata": {
        "id": "oDpmjjsIVLGw"
      }
    },
    {
      "cell_type": "markdown",
      "metadata": {
        "id": "JozWcwXCCKZm"
      },
      "source": [
        "### 2. リファレンスファイルを準備する\n",
        "NCBIのRefSeqなどからゲノム配列を入手してください。  \n",
        "ヒト、マウス、線虫のゲノムは下セルのプルダウンから選択することで、ダウンロードできます。  "
      ]
    },
    {
      "cell_type": "code",
      "execution_count": 3,
      "metadata": {
        "cellView": "form",
        "id": "yc62OUnTCTfN"
      },
      "outputs": [],
      "source": [
        "import os\n",
        "#@title \n",
        "生物種 = '\\u7DDA\\u866B' #@param['ヒト','マウス','線虫']\n",
        "その他 = '' #@param {type:'string'}\n",
        "染色体名の接頭辞 = '' #@param {type:'string'}\n",
        "染色体名の置換 = False #@param {type:'boolean'}\n",
        "if 生物種 == 'ヒト':\n",
        "  os.system('wget https://ftp.ebi.ac.uk/pub/databases/gencode/Gencode_human/release_39/GRCh38.primary_assembly.genome.fa.gz -O '+os.path.join(cfg.REFERENCE_DIR, 'GRCh38.p13.fna.gz'))\n",
        "  os.system('gunzip '+os.path.join(cfg.REFERENCE_DIR, 'GRCh38.p13.fna.gz'))\n",
        "elif 生物種 == 'マウス':\n",
        "  os.system('wget https://ftp.ncbi.nlm.nih.gov/genomes/refseq/vertebrate_mammalian/Mus_musculus/latest_assembly_versions/GCF_000001635.27_GRCm39/GCF_000001635.27_GRCm39_genomic.fna.gz -O '+os.path.join(cfg.REFERENCE_DIR, 'GRCm39.fna.gz'))\n",
        "  os.system('gunzip '+os.path.join(cfg.REFERENCE_DIR, 'GRCm39.fna.gz'))\n",
        "elif 生物種 == '線虫':\n",
        "  os.system('wget ftp://ftp.wormbase.org/pub/wormbase/releases/WS283/species/c_elegans/PRJNA13758/c_elegans.PRJNA13758.WS283.genomic.fa.gz -O '+os.path.join(cfg.REFERENCE_DIR, 'WS283.fa.gz'))\n",
        "  os.system('gunzip '+os.path.join(cfg.REFERENCE_DIR, 'WS283.fa.gz'))\n",
        "else:\n",
        "  os.system('wget '+その他)\n"
      ]
    },
    {
      "cell_type": "markdown",
      "metadata": {
        "id": "K6TQWugGzR7c"
      },
      "source": [
        "### 3. マッピングとVCFの出力\n",
        "いよいよ、実際にバリアントのリスト（VCFファイル）を出力します。  \n",
        "一般的な次世代シーケンスの生データ、FastQ (.fq/.fastq)ファイルに保存された配列をリファレンスゲノムにマッピングし、BAMと呼ばれるファイルを生成、さらにバリアントを検出して保存します。"
      ]
    },
    {
      "cell_type": "markdown",
      "metadata": {
        "id": "SlCWMw9LmQLE"
      },
      "source": [
        "#### パイプライン図\n",
        "流れとしては以下の図のようになります。"
      ]
    },
    {
      "cell_type": "markdown",
      "metadata": {
        "id": "MhWYw-C_mY4e"
      },
      "source": [
        "<img src=\"https://github.com/YujiSue/BioInfoTools/blob/master/image/VC%20pipeline.png?raw=true\" width=\"50%\">"
      ]
    },
    {
      "cell_type": "markdown",
      "metadata": {
        "id": "Moa3AsA0maXu"
      },
      "source": [
        "#### 実行プログラム\n",
        "以下のエリアで個別にパラメータをセットしていきます。  \n",
        "上で1-1 (チュートリアル)を選んだ人は、とくに何もせずに下の実行ボタンを押してください。\n"
      ]
    },
    {
      "cell_type": "code",
      "execution_count": null,
      "metadata": {
        "id": "Cd4KThlHG2sL",
        "cellView": "form"
      },
      "outputs": [],
      "source": [
        "#@title パラメータをセットして左の実行ボタンを押してください\n",
        "pref = {}\n",
        "pref['root'] = '/content'\n",
        "#@markdown * マッピングの設定\n",
        "マッピング = True #@param {type: 'boolean'}\n",
        "pref['mapping'] = マッピング\n",
        "マッピングソフト = 'BWA' #@param ['BWA', 'Bowtie2']\n",
        "pref['mapper'] = マッピングソフト\n",
        "if マッピングソフト == 'BWA':\n",
        "  loader.install('BWA')\n",
        "elif マッピングソフト == 'Bowtie2':\n",
        "  loader.install('Bowtie2')\n",
        "ターゲットシーケンス = False #@param {type: 'boolean'}\n",
        "pref['targeted_seq'] = ターゲットシーケンス\n",
        "ターゲット領域 = '' #@param {type: 'string'}\n",
        "pref['target'] = ターゲット領域\n",
        "リードグループ情報付加 = True #@param {type: 'boolean'}\n",
        "pref['add_rg'] = リードグループ情報付加\n",
        "リードグループID = 'test' #@param {type: 'string'}\n",
        "pref['read_group_id'] = リードグループID\n",
        "サンプル名 = 'ex1' #@param {type: 'string'}\n",
        "pref['sample_name'] = サンプル名\n",
        "プラットフォーム = 'illumina' #@param {type: 'string'}\n",
        "pref['platform'] = プラットフォーム\n",
        "#@markdown * リファレンスの情報\n",
        "リファレンスファイル = 'ex1.fa' #@param {type: 'string'}\n",
        "リファレンス名 = 'ex1' #@param {type: 'string'}\n",
        "pref['refdir'] = '/content/Reference',\n",
        "pref['reference'] = os.path.join('/content/Reference', リファレンスファイル)\n",
        "pref['refname'] = リファレンス名\n",
        "#@markdown * バリアント検出\n",
        "バリアント検出ソフト = 'GATK' #@param ['GATK', 'BCF', 'TVC']\n",
        "if バリアント検出ソフト == 'GATK':\n",
        "  loader.install('GATK')\n",
        "elif バリアント検出ソフト == 'TVC':\n",
        "  loader.install('TVC')\n",
        "elif バリアント検出ソフト == 'BCF':\n",
        "  loader.install('BCF')\n",
        "パラメータセット = '' #@param {type: 'string'}\n",
        "モチーフファイル = '' #@param {type: 'string'}\n",
        "pref['paramdir'] = '/content/Preference'\n",
        "pref['vcaller'] = バリアント検出ソフト\n",
        "pref['vcparam'] = パラメータセット\n",
        "pref['vcmotif'] = モチーフファイル\n",
        "#@markdown * シーケンスデータの情報\n",
        "シーケンスデータの形式 = 'fastq' #@param['fastq', 'bam']\n",
        "シーケンスデータの種類 = 'single' #@param['single', 'paired']\n",
        "シーケンスファイル１ = '/content/Test/ex1.fq' #@param {type: 'string'}\n",
        "シーケンスファイル２ = '' #@param {type: 'string'}\n",
        "pref['iformat'] = シーケンスデータの形式\n",
        "pref['seqtype'] = シーケンスデータの種類\n",
        "if pref['seqtype'] == 'single':\n",
        "  pref['inputs'] = [シーケンスファイル１]\n",
        "else:\n",
        "  pref['inputs'] = [シーケンスファイル１,シーケンスファイル２]   \n",
        "#@markdown * 結果ファイルの情報\n",
        "出力ファイル名 = 'test' #@param {type: 'string'}\n",
        "pref['outdir'] = '/content/Output'\n",
        "pref['output_name'] = 出力ファイル名\n",
        "#@markdown オプション\n",
        "アダプター除去 = False #@param {type: 'boolean'}\n",
        "pref['cutadapt'] = アダプター除去\n",
        "pref['adapter_site'] = 'both'\n",
        "アダプター配列 = ''#@param {type: 'string'}\n",
        "pref['adapter_seq'] = アダプター配列\n",
        "クオリティチェック = True #@param {type: 'boolean'}\n",
        "pref['fqvisualize'] = クオリティチェック\n",
        "if pref['fqvisualize']:\n",
        "  loader.install('FQC')\n",
        "クオリティフィルタ = True #@param {type: 'boolean'}\n",
        "pref['fqfliter'] = クオリティフィルタ\n",
        "if pref['fqfliter']:\n",
        "  loader.install('FP')\n",
        "シーケンス長下限値 = 20 #@param {type: 'raw'}\n",
        "pref['fq_minlen'] = シーケンス長下限値\n",
        "シーケンスクオリティ下限値 = 15 #@param {type: 'raw'}\n",
        "pref['fq_qual'] = シーケンスクオリティ下限値\n",
        "シーケンスの単調性 = 30 #@param {type: 'raw'}    \n",
        "pref['fq_complex'] = シーケンスの単調性\n",
        "重複リード検出 = True #@param {type: 'boolean'}\n",
        "pref['mark_dup'] = 重複リード検出\n",
        "if pref['mark_dup']:\n",
        "  loader.install('Picard')\n",
        "スプリットリード検出 = True #@param {type: 'boolean'}\n",
        "pref['detect_sr'] = スプリットリード検出\n",
        "シーケンスクオリティの再計算 = False #@param {type: 'boolean'}\n",
        "pref['recal_seq'] = シーケンスクオリティの再計算\n",
        "if pref['recal_seq']:\n",
        "  loader.install('GATK')\n",
        "pref['use_hotspot'] = False\n",
        "既知の変異 = '' #@param {type: 'string'}\n",
        "pref['known_site'] = 既知の変異\n",
        "バリアントクオリティの再計算 = False #@param {type: 'boolean'}\n",
        "pref['recal_var'] = バリアントクオリティの再計算\n",
        "if pref['recal_var']:\n",
        "  loader.install('Picard')\n",
        "  loader.install('GATK')\n",
        "  pref['resources'] = [\n",
        "                      'hapmap,known=false,training=true,truth=true,prior=15.0:hapmap_3.3.hg38.sites.vcf.gz',\n",
        "                      'omni,known=false,training=true,truth=false,prior=12.0:1000G_omni2.5.hg38.sites.vcf.gz',\n",
        "                      '1000G,known=false,training=true,truth=false,prior=10.0:1000G_phase1.snps.high_confidence.hg38.vcf.gz',\n",
        "                      'dbsnp,known=true,training=false,truth=false,prior=2.0:Homo_sapiens_assembly38.dbsnp138.vcf'\n",
        "                      ]\n",
        "  os.system('gsutil cp gs://genomics-public-data/resources/broad/hg38/v0/hapmap_3.3.hg38.vcf.gz /content/Reference')\n",
        "  os.system('gsutil cp gs://genomics-public-data/resources/broad/hg38/v0/1000G_omni2.5.hg38.vcf.gz /content/Reference')\n",
        "  os.system('gsutil cp gs://genomics-public-data/resources/broad/hg38/v0/1000G_phase1.snps.high_confidence.hg38.vcf.gz /content/Reference')\n",
        "  os.system('gsutil cp gs://genomics-public-data/resources/broad/hg38/v0/Homo_sapiens_assembly38.dbsnp138.vcf /content/Reference')\n",
        "pref['has_control'] = False\n",
        "pref['control_input'] = ''\n",
        "スレッド数 =   16#@param {type: 'raw'}\n",
        "pref['thread_num'] = スレッド数\n",
        "使用RAM =  8#@param {type: 'raw'}\n",
        "pref['use_ram'] = 使用RAM\n",
        "pref['gpgpu'] = False  \n",
        "#コマンドのみ出力 = False #@param {type: 'boolean'}\n",
        "pref['cmd_only'] = False\n",
        "pref['verbose'] = True\n",
        "pref['tmp'] = '',\n",
        "pref['mediates'] = []\n",
        "pref['run_my_script'] = False\n",
        "途中産物のファイルを削除 = True #@param {type: 'boolean'}\n",
        "pref['remove_mediates'] = 途中産物のファイルを削除\n",
        "\n",
        "%cd /content\n",
        "from common import config\n",
        "from run import apprun\n",
        "import getopt\n",
        "import os\n",
        "import sys\n",
        "\n",
        "def makeReadGroupInfo(pref):\n",
        "  return { \n",
        "    'ID': pref['read_group_id'], \n",
        "    'SM': pref['sample_name'],\n",
        "    'PL': pref['platform']\n",
        "  }\n",
        "\n",
        "def preprocess(pref, app):\n",
        "  # Visualize QC\n",
        "  if pref['fqvisualize']:\n",
        "    for f in pref['inputs']:\n",
        "      name, ext = os.path.splitext(f)\n",
        "      odir = os.path.join(name + '_QC')\n",
        "      os.makedirs(odir, exist_ok=True)\n",
        "      app.runFastQC(input = f, output = odir)\n",
        "  # Cut adapter\n",
        "  if pref['cutadapt'] and pref['iformat'] == 'fastq':\n",
        "    newinputs = []\n",
        "    for f in pref['inputs']:\n",
        "      name, ext = os.path.splitext(f)\n",
        "      ofile = name + '_cut' + ext\n",
        "      app.runCutter(adaptor = pref['adapter_seq'], site = pref['adapter_site'], input = f, output = ofile)\n",
        "      pref['mediates'].append(ofile)\n",
        "      newinputs.append(ofile)\n",
        "    pref['inputs'] = newinputs\n",
        "  # Quality filter\n",
        "  if pref['fqfliter'] and pref['iformat'] == 'fastq':\n",
        "    newinputs = []\n",
        "    for f in pref['inputs']:\n",
        "      name, ext = os.path.splitext(f)\n",
        "      ofile = name + '_filtered' + ext\n",
        "      app.runFastQFilter(input = f, output = ofile, param = {\n",
        "        'min_qual': pref['fq_qual'], 'min_len': pref['fq_minlen'], 'min_complex': pref['fq_complex'], 'thread': pref['thread_num']\n",
        "      })\n",
        "      newinputs.append(ofile)\n",
        "    pref['inputs'] = newinputs\n",
        "  # Visualize QC\n",
        "  if pref['fqvisualize']:\n",
        "    for f in pref['inputs']:\n",
        "      name, ext = os.path.splitext(f)\n",
        "      odir = os.path.join(name + '_QC')\n",
        "      os.makedirs(odir, exist_ok=True)\n",
        "      app.runFastQC(input = f, output = odir)\n",
        "\n",
        "def mapping(pref, app):\n",
        "  pref['rg_info'] = makeReadGroupInfo(pref)\n",
        "  \n",
        "  # BAM => Fastq\n",
        "  if pref['iformat'] == 'bam':\n",
        "    app.runSamtool2Fq(seqtype = pref['seqtype'], input = pref['inputs'][0], outdir = app.cfg.OUT_DIR, outname = pref['output_name'] + '_raw')\n",
        "    if pref['seqtype'] == 'single':\n",
        "      pref['inputs'][0] = os.path.join(app.cfg.OUT_DIR, pref['output_name'] + '_raw.fq')\n",
        "    elif pref['seqtype'] == 'paired':\n",
        "      pref['inputs'][0]= os.path.join(app.cfg.OUT_DIR, pref['output_name'] + '_raw_1.fq')\n",
        "      pref['inputs'].append(os.path.join(app.cfg.OUT_DIR, pref['output_name'] + '_raw_2.fq'))\n",
        "    for f in pref['inputs']:\n",
        "      pref['mediates'].append(f)\n",
        "  \n",
        "  # Fastq => SAM\n",
        "  if len(pref['refname']) == 0:\n",
        "      pref['refname'], ext = os.path.splitext(os.path.basename(pref['reference']))\n",
        "  \n",
        "  # BWA-MEM\n",
        "  if pref['mapper'] == 'BWA':\n",
        "    pref['output'] = os.path.join(app.cfg.OUT_DIR, pref['output_name'] + '_mapped.sam')\n",
        "    app.runBWA(seqtype = pref['seqtype'], input = pref['inputs'], ref = pref['refname'], output = pref['output'], \\\n",
        "             option={'thread':pref['thread_num'], 'checksr':pref['detect_sr'], 'refpath':pref['reference'], 'addRG':pref['add_rg'], 'rgroup':pref['rg_info']})\n",
        "    pref['mediates'].append(pref['output'])\n",
        "  # Bowtie2\n",
        "  elif pref['mapper'] == 'Bowtie2':\n",
        "    pref['output'] = os.path.join(app.cfg.OUT_DIR, pref['output_name'] + '_mapped.sam')\n",
        "    app.runBowtie2(seqtype = pref['seqtype'], input = pref['inputs'], ref = pref['refname'], output = pref['output'], \\\n",
        "             option={'thread':pref['thread_num'], 'checksr':pref['detect_sr'], 'refpath':pref['reference'], 'addRG':pref['add_rg'], 'rgroup':pref['rg_info']})\n",
        "    pref['mediates'].append(pref['output'])\n",
        "  # STAR\n",
        "  elif pref['mapper'] == 'STAR':\n",
        "    pref['output'] = os.path.join(app.cfg.OUT_DIR, pref['output_name'])\n",
        "    app.runSTAR(seqtype = pref['seqtype'], input = pref['inputs'], ref = pref['refname'], output = pref['output'], \\\n",
        "             option={'thread':pref['thread_num'], 'refpath':pref['reference'], 'annotate':pref['annotate'], 'annotation':pref['annotation']})\n",
        "    pref['output'] += '.bam'\n",
        "  pref['input'] = pref['output']\n",
        "  os.chdir(app.cfg.WORK_SPACE)\n",
        "\n",
        "  # SAM -> BAM\n",
        "  if pref['mapper'] == 'STAR':\n",
        "    if pref['verbose']:\n",
        "      print('STAR export sorted BAM.')\n",
        "  else:  \n",
        "    pref['output'] = os.path.join(app.cfg.OUT_DIR, pref['output_name'] + '_mapped.bam')\n",
        "    app.runSamtool2BAM(input = pref['input'], output = pref['output'], option={ 'thread':pref['thread_num'] })\n",
        "    pref['mediates'].append(pref['output'])\n",
        "\n",
        "    # Sort BAM\n",
        "    pref['input'] = pref['output']\n",
        "    pref['output'] = os.path.join(app.cfg.OUT_DIR, pref['output_name'] + '_sorted.bam')\n",
        "    app.runSamtoolSort(input = pref['input'], output = pref['output'], option={\n",
        "      'thread':pref['thread_num'], 'ram': pref['use_ram']/4\n",
        "    })\n",
        "    pref['mediates'].append(pref['output'])\n",
        "    pref['input'] = pref['output']\n",
        "\n",
        "  # Mark duplicate\n",
        "  if pref['mark_dup']:\n",
        "    pref['output'] = os.path.join(app.cfg.OUT_DIR, pref['output_name'] + '_marked.bam')\n",
        "    pref['metric'] = os.path.join(app.cfg.OUT_DIR, pref['output_name'] + '_metric.txt')\n",
        "    app.runPicardMD(input = pref['input'], output = pref['output'], metric = pref['metric'])\n",
        "    pref['mediates'].append(pref['output'])\n",
        "    pref['input'] = pref['output']\n",
        "\n",
        "  # Recalibration sequence quality\n",
        "  if pref['recal_seq']:\n",
        "    pref['output'] = os.path.join(app.cfg.OUT_DIR, pref['output_name'] + '.bam')\n",
        "    app.runGATKBRecal(input = pref['input'], output = pref['output'], ref = pref['reference'], known = pref['known_site'], option = {'ram': pref['use_ram'] })\n",
        "  else:\n",
        "    pref['output'] = os.path.join(app.cfg.OUT_DIR, pref['output_name'] + '.bam')\n",
        "    os.system('mv ' + pref['input'] + ' ' + pref['output'])\n",
        "  pref['input'] = pref['output']\n",
        "\n",
        "  # Make index\n",
        "  app.runSamtoolIndex(input = pref['input'])\n",
        "def cleanup(pref):\n",
        "  for f in pref['mediates']:\n",
        "    os.system('rm ' + f)\n",
        "\n",
        "def varcall(pref, app):\n",
        "  # Preprocessing of fastq files\n",
        "  preprocess(pref, app)\n",
        "  \n",
        "  # Mapping\n",
        "  if pref['mapping']:\n",
        "    mapping(pref, app)\n",
        "  else:\n",
        "    pref['input'] = pref['inputs'][0]\n",
        "  \n",
        "  # Variant call\n",
        "  if pref['recal_var']:\n",
        "    pref['output']  = os.path.join(app.cfg.OUT_DIR, pref['output_name'] + '_raw')\n",
        "  else:\n",
        "    pref['output'] = os.path.join(app.cfg.OUT_DIR, pref['output_name'])\n",
        "  # GATK HaplotypeCaller\n",
        "  if pref['vcaller'] == 'GATK':\n",
        "    gatkopt = {\n",
        "      #'thread': pref['thread_num'],\n",
        "      'ram': pref['use_ram']\n",
        "    }\n",
        "    if pref['targeted_seq']:\n",
        "      gatkopt['target'] = pref['target']\n",
        "    app.runGATKVarCall(input = pref['input'], output = pref['output'], ref = pref['reference'], option = gatkopt)\n",
        "    pref['input'] = pref['output'] + '.vcf.gz'\n",
        "  # BCFtools mpileup and call\n",
        "  elif pref['vcaller'] == 'BCF':\n",
        "    app.runBCFVarCall(input = pref['input'], output = pref['output'], ref = pref['reference'])\n",
        "    pref['input'] = pref['output'] + '.vcf.gz'\n",
        "  # TorrentSuite variant caller\n",
        "  elif pref['vcaller'] == 'TVC':\n",
        "    tvcopt = {\n",
        "      'thread': pref['thread_num'],\n",
        "      'param' : os.path.join(app.cfg.PREFERENCE_DIR, pref['vcparam']), \n",
        "      'motif' : os.path.join(app.cfg.PREFERENCE_DIR, pref['vcmotif']) \n",
        "    }\n",
        "    if pref['targeted_seq']:\n",
        "      tvcopt['target'] = pref['target']\n",
        "    if pref['use_hotspot']:\n",
        "      tvcopt['hotspot'] = pref['known_site']\n",
        "    if pref['has_control']:\n",
        "      tvcopt['control'] = pref['control_input']\n",
        "    app.runTVC(input = pref['input'], output = app.cfg.OUT_DIR, ref = pref['reference'], option = tvcopt)\n",
        "  # google deep variant\n",
        "  elif pref['vcaller'] == 'GDV':\n",
        "    gdvopt = {\n",
        "      'gpu': pref['gpgpu'],\n",
        "      'processor': pref['thread_num']\n",
        "      }\n",
        "    if pref['targeted_seq']:\n",
        "      gdvopt['target'] = pref['target']\n",
        "    app.runGDVCall(input = pref['input'], output = pref['output'], ref = pref['reference'], option = gdvopt)\n",
        "  \n",
        "  # Recalibration of variant qualities\n",
        "  if pref['recal_var']:\n",
        "    pref['mediates'].append(pref['output'] + '.vcf.gz')\n",
        "    pref['mediates'].append(pref['output'] + '.vcf.gz.tbi')\n",
        "    pref['output'] = os.path.join(app.cfg.OUT_DIR, pref['output_name'])\n",
        "    app.runGATKVRecal(input = pref['input'], output = pref['output'], ref = pref['reference'], resources = pref['resources'], option = {'ram': pref['use_ram']})\n",
        "    pref['mediates'].append(pref['output'] + '_snp.vcf')\n",
        "    pref['mediates'].append(pref['output'] + '_indel.vcf')\n",
        "    os.system('mv ' + pref['output'] + '_recal.vcf ' + pref['output'] + '.vcf')\n",
        "  \n",
        "  # Run an additional script\n",
        "  if pref['run_my_script']:\n",
        "    os.system('python ' + os.path.join(app.cfg.SCRIPT_DIR, pref['myscript']) + ' ' + pref['myargs'])\n",
        "\n",
        "  # Erase intermediate files\n",
        "  if pref['remove_mediates']:\n",
        "    cleanup(pref)\n",
        "\n",
        "varcall(pref, app)"
      ]
    },
    {
      "cell_type": "code",
      "source": [
        "#@title　チュートリアルとして進めてきた人は、左の実行ボタンを押すと出力されたバリアントが確認できます\n",
        "!gunzip /content/Output/test.vcf.gz\n",
        "!cat /content/Output/test.vcf"
      ],
      "metadata": {
        "cellView": "form",
        "id": "d7DRgP1nWjGF"
      },
      "execution_count": null,
      "outputs": []
    },
    {
      "cell_type": "markdown",
      "source": [
        "### 4. それ以降の処理"
      ],
      "metadata": {
        "id": "5MqOxPgaPPNb"
      }
    },
    {
      "cell_type": "markdown",
      "source": [
        "このあと、さらに出力されたVCFに対して  \n",
        "> - コントロール群（バックグラウンド系統）との差分をとる\n",
        "> - 既知のSNPとの連鎖解析に基づいた絞り込みをかける\n",
        "> - 遺伝子アノテーションをする\n",
        "> - タンパク質機能へ与える影響の重篤度を判定する\n",
        "> - 解析結果のまとめ図を生成・出力する  \n",
        "  \n",
        "などなどの処理を行っていくことになります。  \n",
        "この辺りは、個々に使用するデータやソフト、スクリプトがさらに細分化されていくので、このノートでは紹介していません。  \n"
      ],
      "metadata": {
        "id": "N_pTJWlLPV3B"
      }
    },
    {
      "cell_type": "markdown",
      "source": [
        "## さいごに\n",
        "今や、お金を出して高性能のコンピュータを購入したり、複雑なプログラムを書かなくても、その気になれば誰でもボタン１つ（+パラメータ設定を少し）で、次世代シーケンスの生データからバリアントの一覧(VCFファイル)を出力できる時代です。  \n",
        "もちろん実際に論文化しようと思ったら、もう少し後処理が必要なわけですが、それを考慮してもゲノム解析の敷居は急速に低くなっています。  \n",
        "まだまだこうした解析に躊躇する方もいるとは思いますが、本ノートブックのような手軽な解析プラットフォームが広まることで、生物学・医学とインフォマティクスの協調による成果が増えていくことを願っています。"
      ],
      "metadata": {
        "id": "SuukDqFRRiwl"
      }
    },
    {
      "cell_type": "markdown",
      "source": [
        "# 参考にしたサイト  \n",
        "> - http://bio-bwa.sourceforge.net/bwa.shtml\n",
        "> - http://www.htslib.org/doc/samtools.html\n",
        "> - http://www.htslib.org/doc/bcftools.html\n",
        "> - https://gatk.broadinstitute.org/hc/en-us/articles/360037225632-HaplotypeCaller\n",
        "> - http://bowtie-bio.sourceforge.net/bowtie2/manual.shtml\n",
        "> - https://github.com/broadinstitute/picard\n",
        "> - https://assets.thermofisher.com/TFS-Assets/LSG/manuals/MAN0017972_031419_TorrentSuite_5_12_UG_.pdf\n",
        "\n"
      ],
      "metadata": {
        "id": "zfDVcR9CXfew"
      }
    },
    {
      "cell_type": "markdown",
      "source": [
        "# このノートについて\n",
        "* [<b><u>Suehiro Y</u></b>, Yoshina S, Motohashi T, Iwata S, Dejima K, Mitani S. Efficient collection of a large number of mutations by mutagenesis of DNA damage response defective animals. Sci Rep. 2021 Apr 7;11(1):7630.](https://pubmed.ncbi.nlm.nih.gov/33828169/)  \n",
        "\n",
        "* 現在作成中の別の論文中で、このノートの英語版かつ完全版のリンクを公開予定\n"
      ],
      "metadata": {
        "id": "y856NXN0PWN6"
      }
    }
  ],
  "metadata": {
    "colab": {
      "collapsed_sections": [
        "3AJKky_9YrXe",
        "sMBhDLvHY69c",
        "brH8AWz8nLL2",
        "JozWcwXCCKZm",
        "SuukDqFRRiwl",
        "zfDVcR9CXfew",
        "y856NXN0PWN6"
      ],
      "name": "NGS解析onColab(VC).ipynb",
      "provenance": [],
      "include_colab_link": true
    },
    "kernelspec": {
      "display_name": "Python 3",
      "name": "python3"
    },
    "language_info": {
      "name": "python"
    }
  },
  "nbformat": 4,
  "nbformat_minor": 0
}