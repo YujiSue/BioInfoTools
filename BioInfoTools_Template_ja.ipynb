{
  "nbformat": 4,
  "nbformat_minor": 0,
  "metadata": {
    "colab": {
      "name": "BioInfoTools_Template_ja.ipynb",
      "provenance": [],
      "collapsed_sections": [
        "lOVAFsuuqFEJ",
        "qCr2AZY7OzZF",
        "64E92VECCOOJ",
        "jNvG4KYqDTF1",
        "9FPooEBxI0nI",
        "2f33Bl-JbaIJ",
        "HfocWqchod6A",
        "7CgNTT19okz_",
        "I3kNwXkRoldj",
        "_Lv9yz7-d-MJ",
        "-4aX-LGUchhv",
        "7kZ1J6mAE0wX",
        "pokeYokoE3BD",
        "2hq2fdlAE3Pz",
        "b_bNuVYhE4UX",
        "HXfY9DVHFBhT",
        "iS7DOEM9FgMU",
        "57zVmcBnFBz2",
        "sw57MYZpM0S7",
        "GmAaIE7jtjd5",
        "p6OM3aYxKM3J",
        "UogfWauQKqwW",
        "rGZU_sR8KrDq",
        "BaGCRdpGIXlZ",
        "og38QDSYe3Cx",
        "pCrpmit2M_dJ",
        "xs9H1vgyKc_F",
        "5yh3HR5WNYgp",
        "VBuBGg8pLcVX",
        "PlAavVeuNYsg",
        "659xjN_JOCri"
      ],
      "toc_visible": true,
      "authorship_tag": "ABX9TyMMfgv3hJ60vBUcEr1RYf0T",
      "include_colab_link": true
    },
    "kernelspec": {
      "name": "python3",
      "display_name": "Python 3"
    }
  },
  "cells": [
    {
      "cell_type": "markdown",
      "metadata": {
        "id": "view-in-github",
        "colab_type": "text"
      },
      "source": [
        "<a href=\"https://colab.research.google.com/github/YujiSue/BioInfoTools/blob/master/BioInfoTools_Template_ja.ipynb\" target=\"_parent\"><img src=\"https://colab.research.google.com/assets/colab-badge.svg\" alt=\"Open In Colab\"/></a>"
      ]
    },
    {
      "cell_type": "markdown",
      "metadata": {
        "id": "lOVAFsuuqFEJ"
      },
      "source": [
        "English version is [here](https://github.com/YujiSue/BioInfoTools/blob/master/BioInfoTools_Template.ipynb).   \n",
        "# このノートブックについて\n",
        "このノートは私が研究用にC++で書いたバイオインフォマティクスのプログラムを、Google Colab上で利用するためのものです。"
      ]
    },
    {
      "cell_type": "markdown",
      "metadata": {
        "id": "sMR0-9xwqSQl"
      },
      "source": [
        "# 使用手順\n",
        "1. 必要なライブラリをインストールします。  \n",
        "※一度インストールしたライブラリは、Colabのセッション終了時に消えてしまいます。  \n",
        "  Google Colabにアクセスして新規セッションを始める場合は、必ずこのステップを実行してください。\n",
        "  \n",
        "2. それぞれのセクションに記載した手順に従って、各アプリをインストールし、実行してください。"
      ]
    },
    {
      "cell_type": "markdown",
      "metadata": {
        "id": "qCr2AZY7OzZF"
      },
      "source": [
        "# 1. 必要なライブラリのインストール\n",
        "下セルを実行してください。"
      ]
    },
    {
      "cell_type": "code",
      "metadata": {
        "id": "tlB_pq-T9Uxq"
      },
      "source": [
        "!wget https://raw.githubusercontent.com/YujiSue/slib/master/include/sconfig.h\n",
        "!wget https://raw.githubusercontent.com/YujiSue/slib/master/include/sobj.h\n",
        "!wget https://raw.githubusercontent.com/YujiSue/Lemegeton/master/Goetia.h\n",
        "!wget https://raw.githubusercontent.com/YujiSue/Lemegeton/master/Goetia.cpp\n",
        "!g++ -std=c++11 -Wall -O2 -o ./Goetia Goetia.cpp\n",
        "import os\n",
        "os.environ['PATH'] += ':/usr/local/lib' \n",
        "os.environ['LD_LIBRARY_PATH'] += ':/usr/local/lib'\n",
        "os.system('./Goetia -sOAI')"
      ],
      "execution_count": null,
      "outputs": []
    },
    {
      "cell_type": "markdown",
      "metadata": {
        "id": "64E92VECCOOJ"
      },
      "source": [
        "# 2-1. GenomeConverterを使う"
      ]
    },
    {
      "cell_type": "markdown",
      "metadata": {
        "id": "SJ1MQcawDQ24"
      },
      "source": [
        "##  インストール\n",
        "下セルを実行してください。\n"
      ]
    },
    {
      "cell_type": "code",
      "metadata": {
        "id": "cZ0FP6I3DNIE"
      },
      "source": [
        "!mkdir -p Codes\n",
        "!wget https://raw.githubusercontent.com/YujiSue/BioInfoTools/master/GenomeConverter/GenomeConverter.cpp -O Codes/GenomeConverter.cpp\n",
        "!g++ -std=c++11 -I/usr/local/include/slib -L/usr/local/lib -O2 -o GenomeConverter Codes/GenomeConverter.cpp -lsapp -lsbioinfo -lsobj -lcurl"
      ],
      "execution_count": null,
      "outputs": []
    },
    {
      "cell_type": "markdown",
      "metadata": {
        "id": "jNvG4KYqDTF1"
      },
      "source": [
        "## 使用例 (H.sapiens)"
      ]
    },
    {
      "cell_type": "markdown",
      "metadata": {
        "id": "npq1tgZNHCWb"
      },
      "source": [
        "i. ゲノム配列(FASTA形式)をダウンロードして展開します。"
      ]
    },
    {
      "cell_type": "code",
      "metadata": {
        "id": "JRD8OhU9HFXw"
      },
      "source": [
        "!curl -O ftp://ftp.ncbi.nlm.nih.gov/genomes/all/GCF/000/001/405/GCF_000001405.39_GRCh38.p13/GCF_000001405.39_GRCh38.p13_genomic.fna.gz\n",
        "!gzip -d GCF_000001405.39_GRCh38.p13_genomic.fna.gz"
      ],
      "execution_count": null,
      "outputs": []
    },
    {
      "cell_type": "markdown",
      "metadata": {
        "id": "c-utcTD2HHgp"
      },
      "source": [
        "ii. アプリを実行します。\n",
        "\n",
        "> ファイル\"GCF_000001405.39_GRCh38.p13_genomic.fna\"  \n",
        "> を以下の設定で変換します。  \n",
        ">> 種名：H. sapiens  \n",
        ">> バージョン：GRCh38.p13  \n",
        ">> 染色体（リンケージグループ）のみを対象  \n",
        ">> \"human.bin\"として保存  "
      ]
    },
    {
      "cell_type": "code",
      "metadata": {
        "id": "__m8ttNPDVUv",
        "outputId": "e22c8a33-5b21-4635-8e0d-b1fd673b0fb9",
        "colab": {
          "base_uri": "https://localhost:8080/",
          "height": 70
        }
      },
      "source": [
        "!./GenomeConverter -l -s \"H. sapiens\" -r GRCh38.p13 -o human.bin GCF_000001405.39_GRCh38.p13_genomic.fna"
      ],
      "execution_count": null,
      "outputs": [
        {
          "output_type": "stream",
          "text": [
            "loading 'GCF_000001405.39_GRCh38.p13_genomic.fna'\n",
            "exporting... 'human.bin'\n",
            "Completed.\n"
          ],
          "name": "stdout"
        }
      ]
    },
    {
      "cell_type": "markdown",
      "metadata": {
        "id": "9FPooEBxI0nI"
      },
      "source": [
        "## 使用例 (C.elegans)"
      ]
    },
    {
      "cell_type": "markdown",
      "metadata": {
        "id": "ySUg9i-mIHAu"
      },
      "source": [
        "i. ゲノム配列(FASTA形式)をダウンロードして展開します。"
      ]
    },
    {
      "cell_type": "code",
      "metadata": {
        "id": "WK-psvXGIH2v"
      },
      "source": [
        "!curl -O ftp://ftp.wormbase.org/pub/wormbase/species/c_elegans/sequence/genomic/c_elegans.PRJNA13758.current.genomic.fa.gz\n",
        "!gzip -d c_elegans.PRJNA13758.current.genomic.fa.gz"
      ],
      "execution_count": null,
      "outputs": []
    },
    {
      "cell_type": "markdown",
      "metadata": {
        "id": "pCI9rd93IJgt"
      },
      "source": [
        "ii. アプリを実行します。\n",
        "\n",
        "> ファイル\"c_elegans.PRJNA13758.current.genomic.fa\"  \n",
        "> を以下の設定で変換します。 \n",
        ">> 種名：C. elegans  \n",
        ">> バージョン：WS274  \n",
        ">> 染色体（リンケージグループ）のみを対象  \n",
        ">> \"nematode.bin\"として保存   "
      ]
    },
    {
      "cell_type": "code",
      "metadata": {
        "id": "jcH1ZdMqLQHi",
        "outputId": "4be80945-7c02-4d5e-af2e-2200000fa7a6",
        "colab": {
          "base_uri": "https://localhost:8080/",
          "height": 70
        }
      },
      "source": [
        "!./GenomeConverter -l -s \"C. elegans\" -r WS274 -o nematode.bin c_elegans.PRJNA13758.current.genomic.fa"
      ],
      "execution_count": null,
      "outputs": [
        {
          "output_type": "stream",
          "text": [
            "loading 'c_elegans.PRJNA13758.current.genomic.fa'\n",
            "exporting... 'nematode.bin'\n",
            "Completed.\n"
          ],
          "name": "stdout"
        }
      ]
    },
    {
      "cell_type": "markdown",
      "metadata": {
        "id": "2f33Bl-JbaIJ"
      },
      "source": [
        "## ヘルプコマンド"
      ]
    },
    {
      "cell_type": "code",
      "metadata": {
        "id": "rjfXeyO6bcOi",
        "outputId": "28ba8e83-f348-4c09-886a-1d9e4ad473a5",
        "colab": {
          "base_uri": "https://localhost:8080/",
          "height": 424
        }
      },
      "source": [
        "!./GenomeConverter --help"
      ],
      "execution_count": null,
      "outputs": [
        {
          "output_type": "stream",
          "text": [
            "============================================================\n",
            "GenomeConverter v1.1.0\n",
            "Copyright (c) 2015 Yuji Suehiro. All rights reserved. \n",
            "MIT license.\n",
            ". . . . . . . . . . . . . . . . . . . . . . . . . . . . . . \n",
            "\n",
            "Usage:\n",
            "  GenomeConverter -o 'output' \u001b[3m\u001b[39minput(s)\u001b[0m\u001b[39m\u001b[49m\u001b[0m\u001b[39m\u001b[49m { -l } { -s name } { -r version }\n",
            ". . . . . . . . . . . . . . . . . . . . . . . . . . . . . . \n",
            "\n",
            "[Option]\n",
            "  --linkage/-l        :  Select only linkaged sequence.\n",
            "  --out/-o            : \u001b[0m\u001b[31m*\u001b[0m\u001b[39m\u001b[49m\u001b[0m\u001b[39m\u001b[49mOutput file path.\n",
            "  --refver/-r         :  Reference version.\n",
            "  --species/-s        :  Species.\n",
            "\n",
            "  --help/-H           : Show help.\n",
            "  --version/-V        : Show version.\n",
            "  --info/-I           : Show app information.\n",
            "\n",
            "\u001b[0m\u001b[31m  * Required option.\u001b[0m\u001b[39m\u001b[49m\u001b[0m\u001b[39m\u001b[49m\n",
            "\u001b[0m\u001b[34m  # Choose one of the options.\u001b[0m\u001b[39m\u001b[49m\u001b[0m\u001b[39m\u001b[49m\n",
            "============================================================\n"
          ],
          "name": "stdout"
        }
      ]
    },
    {
      "cell_type": "markdown",
      "metadata": {
        "id": "HfocWqchod6A"
      },
      "source": [
        "# 2-2. Use GenomeExtract"
      ]
    },
    {
      "cell_type": "markdown",
      "metadata": {
        "id": "7CgNTT19okz_"
      },
      "source": [
        "##  Installation\n",
        "Execute the following commands."
      ]
    },
    {
      "cell_type": "code",
      "metadata": {
        "id": "0dLfnLJQolSk"
      },
      "source": [
        "!mkdir -p Codes\n",
        "!wget https://raw.githubusercontent.com/YujiSue/BioInfoTools/master/GenomeExtract/GenomeExtract.cpp -O Codes/GenomeExtract.cpp\n",
        "!g++ -std=c++11 -I/usr/local/include/slib -L/usr/local/lib -O2 -o GenomeExtract Codes/GenomeExtract.cpp -lsapp -lsbioinfo -lsobj -lcurl"
      ],
      "execution_count": null,
      "outputs": []
    },
    {
      "cell_type": "markdown",
      "metadata": {
        "id": "I3kNwXkRoldj"
      },
      "source": [
        "## Usage example (H.sapiens)\n",
        "* Prepare the encoded genomic sequence file using the GenomeConverter.  \n",
        "  \n",
        "> From human genome,   \n",
        "> extract complemented sequence  \n",
        "> from 7687k to 7688k  \n",
        "> in the 17th chromosome  \n",
        "> as fasta format."
      ]
    },
    {
      "cell_type": "code",
      "metadata": {
        "id": "D-UDOktcolnF",
        "outputId": "37efc882-3045-4245-aa65-2f67e42c934c",
        "colab": {
          "base_uri": "https://localhost:8080/",
          "height": 336
        }
      },
      "source": [
        "!./GenomeExtract -r human.bin -f fa --rev 17:7687000..7688000"
      ],
      "execution_count": null,
      "outputs": [
        {
          "output_type": "stream",
          "text": [
            ">17:7687000..7688000\n",
            "TTTCGAGATCCAAAAGTCTCAGACCTCAATGCTTTGTGCATCTTTTATTTCAGGGATTCC\n",
            "CTACGCCCAGCACCGGGTGGATGTGCAAAGAAGTACGCTTTAGGCCGGCTCAAGGTTCCC\n",
            "CAAAGCTCCACTCCTCTGCCTAGGCGTTCAACTTTGAGTTCGGATGGTCCTAACATCCCC\n",
            "ATCATCTACACCCAGGTCTCCCAACAATGCAACTCCTATGATGATCCCTCTAGCCAAGCT\n",
            "TCCATCCCACTCACCCCCAAACTCGCTAAGTCCCCACTGCCCCACCCCCAGCCCCAGCGA\n",
            "TTTTCCCGAGCTGAAAATACACGGAGCCGAGAGCCCGTGACTCAGAGAGGACTCATCAAG\n",
            "TTCAGTCAGGAGCTTACCCAATCCAGGGAAGCGTGTCACCGTCGTGGAAAGCACGCTCCC\n",
            "AGCCCGAACGCAAAGTGTCCCCGGAGCCCAGCAGCTACCTGCTCCCTGGACGGTGGCTCT\n",
            "AGACTTTTGAGAAGCTCAAAACTTTTAGCGCCAGTCTTGAGCACATGGGAGGGGAAAACC\n",
            "CCAATCCCATCAACCCCTGCGAGGCTCCTGGCACAAAGCTGGACAGTCGCCATGACAAGT\n",
            "AAGGGCAAGTAATCCGCCTGCCGGAGGAAGCAAAGGAAATGGAGTTGGGGAGGAGGGTGC\n",
            "AGAGTCAGGATTCTCGCCGACCTGGTGCCGTAGATACTAACATTTTGGGGTGGAAAATTC\n",
            "TGCAAGCCAGAGCTGTGAGGGCAGAATTGGTGGAAATCATTTTGGAGGAATCCTGCATTG\n",
            "TGTCAAATATGAAGGGTGGAAGGAAGAAAGCTTTTGCGTTTGCTCTCAGCTGGATCCTTT\n",
            "CTTCTCATCAGTTAAAATGTCATTTTTTAGGAAGGCTTTCCGTAATATCACACCCTAACG\n",
            "TTTTCTCCCAGATACTTTATATCACACCATCTTATTTAATCTCCTTCACAACCCTTATCA\n",
            "CTCTGATAAGATTTATTTGTTCATTGCTTTCAGTACATGGA\n"
          ],
          "name": "stdout"
        }
      ]
    },
    {
      "cell_type": "markdown",
      "metadata": {
        "id": "_Lv9yz7-d-MJ"
      },
      "source": [
        "## Usage example (C.elegans)\n",
        "* Prepare the encoded genomic sequence file using the GenomeConverter.  \n",
        "  \n",
        "> From nematode genome,   \n",
        "> extract sequence  \n",
        "> from 1234567 to 1234789  \n",
        "> in the chromosome III  \n",
        "> as text format."
      ]
    },
    {
      "cell_type": "code",
      "metadata": {
        "id": "8EfFO2cueff6",
        "outputId": "fac0ca1b-b8c8-4333-b03f-0d17a60cde59",
        "colab": {
          "base_uri": "https://localhost:8080/",
          "height": 55
        }
      },
      "source": [
        "!./GenomeExtract -r nematode.bin -f txt III:1234567..1234789"
      ],
      "execution_count": null,
      "outputs": [
        {
          "output_type": "stream",
          "text": [
            "AAAAATTCACATTGAAAATTTTGGGTCCTACCACGAACACTTACGGGGTACTGTAGACTTGACAAAGCAACTAGATCATACGTTTTTTTTTCTACAGTAATCCAAAAAAAATCAAAAATCTTTATTCAAAAAAATCTCAAATCTAAAAACAACAAACTCAAAAAATTAATCGAATTTTATTTTTAACCTTAAATTAATTTTTTTTTCCAATTACCCCACATAC\n"
          ],
          "name": "stdout"
        }
      ]
    },
    {
      "cell_type": "markdown",
      "metadata": {
        "id": "-4aX-LGUchhv"
      },
      "source": [
        "## Help"
      ]
    },
    {
      "cell_type": "code",
      "metadata": {
        "id": "LKlpFAoKcjXz",
        "outputId": "af61f23d-edf4-45a3-833a-4f04dbb24a7e",
        "colab": {
          "base_uri": "https://localhost:8080/",
          "height": 406
        }
      },
      "source": [
        "!./GenomeExtract --help"
      ],
      "execution_count": null,
      "outputs": [
        {
          "output_type": "stream",
          "text": [
            "============================================================\n",
            "GenomeExtract v1.1.0\n",
            "Copyright (c) 2015 Yuji Suehiro. All rights reserved. \n",
            "MIT license\n",
            ". . . . . . . . . . . . . . . . . . . . . . . . . . . . . . \n",
            "\n",
            "Usage:\n",
            "  GenomeExtract -r file \u001b[3m\u001b[39mposition(s)\u001b[0m\u001b[39m\u001b[49m\u001b[0m\u001b[39m\u001b[49m { -f txt/fa } { --rev }\n",
            ". . . . . . . . . . . . . . . . . . . . . . . . . . . . . . \n",
            "\n",
            "[Option]\n",
            "  --format/-f         :  File format to display or export.\n",
            "  --ref/-r            : \u001b[0m\u001b[31m*\u001b[0m\u001b[39m\u001b[49m\u001b[0m\u001b[39m\u001b[49mReference file path.\n",
            "  --rev               :  Get reverse strand seq.\n",
            "\n",
            "  --help/-H           : Show help.\n",
            "  --version/-V        : Show version.\n",
            "  --info/-I           : Show app information.\n",
            "\n",
            "\u001b[0m\u001b[31m  * Required option.\u001b[0m\u001b[39m\u001b[49m\u001b[0m\u001b[39m\u001b[49m\n",
            "\u001b[0m\u001b[34m  # Choose one of the options.\u001b[0m\u001b[39m\u001b[49m\u001b[0m\u001b[39m\u001b[49m\n",
            "============================================================\n"
          ],
          "name": "stdout"
        }
      ]
    },
    {
      "cell_type": "markdown",
      "metadata": {
        "id": "7kZ1J6mAE0wX"
      },
      "source": [
        "# 2-3. Use GFFParser"
      ]
    },
    {
      "cell_type": "markdown",
      "metadata": {
        "id": "pokeYokoE3BD"
      },
      "source": [
        "##  Installation\n",
        "Execute the following commands."
      ]
    },
    {
      "cell_type": "code",
      "metadata": {
        "id": "IqxXn0fkE3Hv"
      },
      "source": [
        "!mkdir -p Codes\n",
        "!wget https://raw.githubusercontent.com/YujiSue/BioInfoTools/master/GFFParser/GFFParser.cpp -O Codes/GFFParser.cpp\n",
        "!g++ -std=c++11 -I/usr/local/include/slib -L/usr/local/lib -O2 -o GFFParser Codes/GFFParser.cpp -lsapp -lsbioinfo -lsobj -lcurl"
      ],
      "execution_count": null,
      "outputs": []
    },
    {
      "cell_type": "markdown",
      "metadata": {
        "id": "2hq2fdlAE3Pz"
      },
      "source": [
        "## Usage example (H.sapiens)"
      ]
    },
    {
      "cell_type": "markdown",
      "metadata": {
        "id": "G67ZH6OWJOvP"
      },
      "source": [
        "1. Download gff3 file"
      ]
    },
    {
      "cell_type": "code",
      "metadata": {
        "id": "WkQDt2iFJSPa"
      },
      "source": [
        "!curl -O ftp://ftp.ensembl.org/pub/release-99/gff3/homo_sapiens/Homo_sapiens.GRCh38.99.chr.gff3.gz\n",
        "!gzip -d Homo_sapiens.GRCh38.99.chr.gff3.gz"
      ],
      "execution_count": null,
      "outputs": []
    },
    {
      "cell_type": "markdown",
      "metadata": {
        "id": "yOir3axIJVF-"
      },
      "source": [
        "2. Execute the app."
      ]
    },
    {
      "cell_type": "code",
      "metadata": {
        "id": "3JtkAcWRE3XL",
        "outputId": "af65b9d1-23be-49eb-e3ee-afb27bf58cbe",
        "colab": {
          "base_uri": "https://localhost:8080/",
          "height": 1000
        }
      },
      "source": [
        "!./GFFParser Homo_sapiens.GRCh38.99.chr.gff3"
      ],
      "execution_count": null,
      "outputs": [
        {
          "output_type": "stream",
          "text": [
            "  % Total    % Received % Xferd  Average Speed   Time    Time     Time  Current\n",
            "                                 Dload  Upload   Total   Spent    Left  Speed\n",
            "100 39.3M  100 39.3M    0     0  11.2M      0  0:00:03  0:00:03 --:--:-- 11.2M\n",
            "gzip: Homo_sapiens.GRCh38.99.chr.gff3 already exists; do you wish to overwrite (y or n)? y\n",
            "havana\tgene\t[\"description\",\"logic_name\",\"ID\",\"gene_id\",\"biotype\",\"version\"]\n",
            "havana\tthree_prime_UTR\t[\"Parent\"]\n",
            "havana\tunconfirmed_transcript\t[\"ID\",\"Parent\",\"tag\",\"Name\",\"biotype\",\"transcript_support_level\",\"version\",\"transcript_id\"]\n",
            "havana\tC_gene_segment\t[\"ID\",\"Parent\",\"tag\",\"Name\",\"biotype\",\"transcript_support_level\",\"version\",\"transcript_id\"]\n",
            "havana\tV_gene_segment\t[\"ID\",\"Parent\",\"tag\",\"Name\",\"biotype\",\"transcript_support_level\",\"version\",\"transcript_id\"]\n",
            "havana\tsnoRNA\t[\"ID\",\"Parent\",\"tag\",\"Name\",\"biotype\",\"transcript_support_level\",\"version\",\"transcript_id\"]\n",
            "havana\tpseudogenic_transcript\t[\"ID\",\"Parent\",\"tag\",\"Name\",\"biotype\",\"transcript_support_level\",\"version\",\"transcript_id\"]\n",
            "havana\tvaultRNA_primary_transcript\t[\"ID\",\"Parent\",\"tag\",\"Name\",\"biotype\",\"transcript_support_level\",\"version\",\"transcript_id\"]\n",
            "havana\tfive_prime_UTR\t[\"Parent\"]\n",
            "havana\tCDS\t[\"protein_id\",\"Parent\"]\n",
            "havana\tD_gene_segment\t[\"ID\",\"Parent\",\"tag\",\"Name\",\"biotype\",\"transcript_support_level\",\"version\",\"transcript_id\"]\n",
            "havana\tpseudogene\t[\"description\",\"logic_name\",\"ID\",\"gene_id\",\"biotype\",\"version\"]\n",
            "havana\tncRNA_gene\t[\"description\",\"logic_name\",\"ID\",\"gene_id\",\"biotype\",\"version\"]\n",
            "havana\tsnRNA\t[\"ID\",\"Parent\",\"tag\",\"Name\",\"biotype\",\"version\",\"transcript_id\",\"transcript_support_level\"]\n",
            "havana\tmRNA\t[\"ID\",\"Parent\",\"tag\",\"Name\",\"biotype\",\"version\",\"transcript_id\",\"transcript_support_level\",\"ccdsid\"]\n",
            "havana\tJ_gene_segment\t[\"ID\",\"Parent\",\"tag\",\"Name\",\"biotype\",\"transcript_support_level\",\"version\",\"transcript_id\"]\n",
            "havana\tscRNA\t[\"ID\",\"Parent\",\"tag\",\"Name\",\"biotype\",\"transcript_support_level\",\"version\",\"transcript_id\"]\n",
            "havana\tlnc_RNA\t[\"ID\",\"Parent\",\"tag\",\"Name\",\"biotype\",\"transcript_support_level\",\"version\",\"transcript_id\"]\n",
            "havana\texon\t[\"Parent\",\"constitutive\",\"ensembl_end_phase\",\"exon_id\",\"Name\",\"ensembl_phase\",\"rank\",\"version\"]\n",
            "ensembl\tgene\t[\"description\",\"logic_name\",\"ID\",\"gene_id\",\"biotype\",\"version\"]\n",
            "ensembl\ttRNA\t[\"ID\",\"Parent\",\"tag\",\"Name\",\"biotype\",\"transcript_support_level\",\"version\",\"transcript_id\"]\n",
            "ensembl\tthree_prime_UTR\t[\"Parent\"]\n",
            "ensembl\tunconfirmed_transcript\t[\"ID\",\"Parent\",\"Name\",\"biotype\",\"transcript_support_level\",\"version\",\"transcript_id\",\"tag\"]\n",
            "ensembl\tsnoRNA\t[\"ID\",\"Parent\",\"tag\",\"Name\",\"biotype\",\"transcript_support_level\",\"version\",\"transcript_id\"]\n",
            "ensembl\tfive_prime_UTR\t[\"Parent\"]\n",
            "ensembl\tCDS\t[\"protein_id\",\"Parent\"]\n",
            "ensembl\tpseudogenic_transcript\t[\"ID\",\"Parent\",\"tag\",\"Name\",\"biotype\",\"transcript_support_level\",\"version\",\"transcript_id\"]\n",
            "ensembl\tncRNA\t[\"ID\",\"Parent\",\"tag\",\"Name\",\"biotype\",\"transcript_support_level\",\"version\",\"transcript_id\"]\n",
            "ensembl\tpseudogene\t[\"description\",\"logic_name\",\"ID\",\"gene_id\",\"biotype\",\"version\"]\n",
            "ensembl\tncRNA_gene\t[\"description\",\"logic_name\",\"ID\",\"gene_id\",\"biotype\",\"version\"]\n",
            "ensembl\tsnRNA\t[\"ID\",\"Parent\",\"tag\",\"Name\",\"biotype\",\"transcript_support_level\",\"version\",\"transcript_id\"]\n",
            "ensembl\trRNA\t[\"ID\",\"Parent\",\"tag\",\"Name\",\"biotype\",\"transcript_support_level\",\"version\",\"transcript_id\"]\n",
            "ensembl\tmRNA\t[\"ID\",\"Parent\",\"ccdsid\",\"tag\",\"Name\",\"biotype\",\"transcript_support_level\",\"version\",\"transcript_id\"]\n",
            "ensembl\tscRNA\t[\"ID\",\"Parent\",\"tag\",\"Name\",\"biotype\",\"transcript_support_level\",\"version\",\"transcript_id\"]\n",
            "ensembl\texon\t[\"Parent\",\"constitutive\",\"ensembl_end_phase\",\"exon_id\",\"Name\",\"ensembl_phase\",\"rank\",\"version\"]\n",
            "ensembl\tlnc_RNA\t[\"ID\",\"Parent\",\"tag\",\"Name\",\"biotype\",\"transcript_support_level\",\"version\",\"transcript_id\"]\n",
            "ensembl_havana\tgene\t[\"description\",\"logic_name\",\"ID\",\"gene_id\",\"biotype\",\"version\"]\n",
            "ensembl_havana\tncRNA_gene\t[\"description\",\"logic_name\",\"ID\",\"gene_id\",\"biotype\",\"version\"]\n",
            "ensembl_havana\tpseudogene\t[\"description\",\"logic_name\",\"ID\",\"gene_id\",\"biotype\",\"version\"]\n",
            "ensembl_havana\tthree_prime_UTR\t[\"Parent\"]\n",
            "ensembl_havana\tunconfirmed_transcript\t[\"ID\",\"Parent\",\"tag\",\"Name\",\"biotype\",\"transcript_support_level\",\"version\",\"transcript_id\"]\n",
            "ensembl_havana\tC_gene_segment\t[\"ID\",\"Parent\",\"Name\",\"biotype\",\"transcript_support_level\",\"version\",\"transcript_id\"]\n",
            "ensembl_havana\tmRNA\t[\"ID\",\"Parent\",\"ccdsid\",\"tag\",\"Name\",\"biotype\",\"transcript_support_level\",\"version\",\"transcript_id\"]\n",
            "ensembl_havana\tV_gene_segment\t[\"ID\",\"Parent\",\"tag\",\"Name\",\"biotype\",\"transcript_support_level\",\"version\",\"transcript_id\"]\n",
            "ensembl_havana\tCDS\t[\"protein_id\",\"Parent\"]\n",
            "ensembl_havana\tpseudogenic_transcript\t[\"ID\",\"Parent\",\"tag\",\"Name\",\"biotype\",\"transcript_support_level\",\"version\",\"transcript_id\"]\n",
            "ensembl_havana\tfive_prime_UTR\t[\"Parent\"]\n",
            "ensembl_havana\texon\t[\"Parent\",\"constitutive\",\"ensembl_end_phase\",\"exon_id\",\"Name\",\"ensembl_phase\",\"rank\",\"version\"]\n",
            "ensembl_havana\tlnc_RNA\t[\"ID\",\"Parent\",\"Name\",\"biotype\",\"transcript_support_level\",\"version\",\"transcript_id\",\"tag\"]\n",
            "mirbase\tncRNA_gene\t[\"description\",\"logic_name\",\"ID\",\"gene_id\",\"biotype\",\"version\"]\n",
            "mirbase\tmiRNA\t[\"ID\",\"Parent\",\"tag\",\"Name\",\"biotype\",\"transcript_support_level\",\"version\",\"transcript_id\"]\n",
            "mirbase\texon\t[\"Parent\",\"constitutive\",\"ensembl_end_phase\",\"exon_id\",\"Name\",\"ensembl_phase\",\"rank\",\"version\"]\n",
            "insdc\tgene\t[\"description\",\"logic_name\",\"ID\",\"gene_id\",\"biotype\",\"version\"]\n",
            "insdc\tncRNA_gene\t[\"description\",\"logic_name\",\"ID\",\"gene_id\",\"biotype\",\"version\"]\n",
            "Ensembl\tchromosome\t[\"ID\",\"Alias\"]\n",
            "havana_tagene\tncRNA_gene\t[\"description\",\"logic_name\",\"ID\",\"gene_id\",\"biotype\",\"version\"]\n",
            "havana_tagene\tlnc_RNA\t[\"ID\",\"Parent\",\"tag\",\"Name\",\"biotype\",\"version\",\"transcript_id\",\"transcript_support_level\"]\n",
            "havana_tagene\texon\t[\"Parent\",\"constitutive\",\"ensembl_end_phase\",\"exon_id\",\"Name\",\"ensembl_phase\",\"rank\",\"version\"]\n",
            ".\tbiological_region\t[\"logic_name\",\"external_name\"]\n",
            "ensembl_havana_tagene\tlnc_RNA\t[\"ID\",\"Parent\",\"tag\",\"Name\",\"biotype\",\"version\",\"transcript_id\",\"transcript_support_level\"]\n",
            "ensembl_havana_tagene\texon\t[\"Parent\",\"constitutive\",\"ensembl_end_phase\",\"exon_id\",\"Name\",\"ensembl_phase\",\"rank\",\"version\"]\n"
          ],
          "name": "stdout"
        }
      ]
    },
    {
      "cell_type": "markdown",
      "metadata": {
        "id": "b_bNuVYhE4UX"
      },
      "source": [
        "# 2-4. Use AnnotDBMaker"
      ]
    },
    {
      "cell_type": "markdown",
      "metadata": {
        "id": "HXfY9DVHFBhT"
      },
      "source": [
        "## Installation of main program"
      ]
    },
    {
      "cell_type": "code",
      "metadata": {
        "id": "Nf4A65OVFBr_"
      },
      "source": [
        "!mkdir -p Codes\n",
        "!wget https://raw.githubusercontent.com/YujiSue/BioInfoTools/master/AnnotDBMaker/AnnotDBMake.cpp -O Codes/AnnotDBMake.cpp\n",
        "!wget https://raw.githubusercontent.com/YujiSue/BioInfoTools/master/AnnotDBMaker/DBMaker.cpp -O Codes/DBMaker.cpp\n",
        "!wget https://raw.githubusercontent.com/YujiSue/BioInfoTools/master/AnnotDBMaker/DBMaker.h -O Codes/DBMaker.h\n",
        "!g++ -std=c++11 -I/usr/local/include/slib -I. -L/usr/local/lib -O2 -o AnnotDBMake Codes/AnnotDBMake.cpp Codes/DBMaker.cpp -lsapp -lsbioinfo -lsobj -lcurl -ldl"
      ],
      "execution_count": null,
      "outputs": []
    },
    {
      "cell_type": "markdown",
      "metadata": {
        "id": "iS7DOEM9FgMU"
      },
      "source": [
        "## Installation of Plug-ins"
      ]
    },
    {
      "cell_type": "code",
      "metadata": {
        "id": "DYjJx_CNFhuj"
      },
      "source": [
        "## For human\n",
        "!wget https://raw.githubusercontent.com/YujiSue/BioInfoTools/master/AnnotDBMaker/HSDBMaker/HSDBMaker.cpp -O Codes/HSDBMaker.cpp\n",
        "!g++ -std=c++11 -I/usr/local/include/slib -fPIC -ldl -lpthread -O2 -c Codes/HSDBMaker.cpp\n",
        "!g++ -std=c++11 -shared -o human.plugin HSDBMaker.o\n",
        "!rm HSDBMaker.o"
      ],
      "execution_count": null,
      "outputs": []
    },
    {
      "cell_type": "code",
      "metadata": {
        "id": "4eJkbk3oFrLy"
      },
      "source": [
        "## For nematode (C.elegans)\n",
        "!wget https://raw.githubusercontent.com/YujiSue/BioInfoTools/master/AnnotDBMaker/CEDBMaker/CEDBMaker.cpp -O Codes/CEDBMaker.cpp\n",
        "!g++ -std=c++11 -I/usr/local/include/slib -fPIC -ldl -lpthread -O2 -c Codes/CEDBMaker.cpp\n",
        "!g++ -std=c++11 -shared -o nematode.plugin CEDBMaker.o\n",
        "!rm CEDBMaker.o"
      ],
      "execution_count": null,
      "outputs": []
    },
    {
      "cell_type": "markdown",
      "metadata": {
        "id": "57zVmcBnFBz2"
      },
      "source": [
        "## Usage example (H.sapiens)\n",
        "* Prepare the binary genome reference encoded by GenomeConverter, GFF3 file, and other additional information files.\n",
        "* This app also require a Plug-in (shared library / dynamic link library) tailored to each species' dataset."
      ]
    },
    {
      "cell_type": "markdown",
      "metadata": {
        "id": "-OZ0nSFbJsEz"
      },
      "source": [
        "i. Download gff3 annotation file."
      ]
    },
    {
      "cell_type": "code",
      "metadata": {
        "id": "W7rkk3bwJuwA"
      },
      "source": [
        "!curl -O ftp://ftp.ensembl.org/pub/release-99/gff3/homo_sapiens/Homo_sapiens.GRCh38.99.chr.gff3.gz\n",
        "!gzip -d Homo_sapiens.GRCh38.99.chr.gff3.gz"
      ],
      "execution_count": null,
      "outputs": []
    },
    {
      "cell_type": "markdown",
      "metadata": {
        "id": "WNxe_XBAJxDJ"
      },
      "source": [
        "ii. Execute the app.  \n",
        "  \n",
        "> Create database from GFF3 file \"Homo_sapiens.GRCh38.99.chr.gff3\"  \n",
        "> using human's genomic sequence  \n",
        "> and Plug-in \"human.plugin\" generated in the above code  \n",
        "> with the following properties.  \n",
        ">> Database version is GRCh38.99.  \n",
        ">> Species is Homo sapiens.  \n",
        ">> Saved as human.db."
      ]
    },
    {
      "cell_type": "code",
      "metadata": {
        "id": "uc1jRqkGvGPC"
      },
      "source": [
        "!./AnnotDBMake -r human.bin -p ./human.plugin -g Homo_sapiens.GRCh38.99.chr.gff3 -d GRCh38.99 -s \"Homo sapiens\" -o human.db"
      ],
      "execution_count": null,
      "outputs": []
    },
    {
      "cell_type": "markdown",
      "metadata": {
        "id": "sw57MYZpM0S7"
      },
      "source": [
        "## Usage example (C.elegans)\n",
        "* Prepare the binary genome reference encoded by GenomeConverter, GFF3 file, and other additional information files.\n",
        "* This app also require a Plug-in (shared library / dynamic link library) tailored to each species' dataset."
      ]
    },
    {
      "cell_type": "markdown",
      "metadata": {
        "id": "s9cegLPsNyw9"
      },
      "source": [
        "i. Download gff3 annotation file and some additional files."
      ]
    },
    {
      "cell_type": "code",
      "metadata": {
        "id": "vHaT9Za8N50O"
      },
      "source": [
        "!curl -O ftp://ftp.wormbase.org/pub/wormbase/species/c_elegans/PRJNA13758/gff/c_elegans.PRJNA13758.WS274.annotations.gff3.gz\n",
        "!curl -O ftp://ftp.wormbase.org/pub/wormbase/species/c_elegans/PRJNA13758/annotation/geneIDs/c_elegans.PRJNA13758.WS274.geneIDs.txt.gz\n",
        "!curl -O ftp://ftp.wormbase.org/pub/wormbase/species/c_elegans/PRJNA13758/annotation/functional_descriptions/c_elegans.PRJNA13758.WS274.functional_descriptions.txt.gz\n",
        "!gzip -d c_elegans.PRJNA13758.WS274.annotations.gff3.gz\n",
        "!gzip -d c_elegans.PRJNA13758.WS274.geneIDs.txt.gz\n",
        "!gzip -d c_elegans.PRJNA13758.WS274.functional_descriptions.txt.gz"
      ],
      "execution_count": null,
      "outputs": []
    },
    {
      "cell_type": "markdown",
      "metadata": {
        "id": "k5GL_pOEN59V"
      },
      "source": [
        "ii. Execute the app.\n",
        "  \n",
        "> Create database from GFF3 file \"c_elegans.PRJNA13758.WS274.annotations.gff3\"  \n",
        "> using nematode's genomic sequence  \n",
        "> and Plug-in \"nematode.plugin\" generated in the above code  \n",
        "> with the following properties.  \n",
        ">> Database version is WS274.  \n",
        ">> Species is Caenorhabditis elegans.  \n",
        ">> Use additional files  \n",
        ">> \"c_elegans.PRJNA13758.WS274.geneIDs.txt\"  \n",
        ">> and \"c_elegans.PRJNA13758.WS274.functional_descriptions.txt\".  \n",
        ">> Saved as nematode.db."
      ]
    },
    {
      "cell_type": "code",
      "metadata": {
        "id": "ZWU1OKP_N7aE"
      },
      "source": [
        "!./AnnotDBMake -r nematode.bin -p ./nematode.plugin -g c_elegans.PRJNA13758.WS274.annotations.gff3 -d WS274 -s \"Caenorhabditis elegans\" -e \"gene:c_elegans.PRJNA13758.WS274.geneIDs.txt,description:c_elegans.PRJNA13758.WS274.functional_descriptions.txt\" -o nematode.db"
      ],
      "execution_count": null,
      "outputs": []
    },
    {
      "cell_type": "markdown",
      "metadata": {
        "id": "GmAaIE7jtjd5"
      },
      "source": [
        "## Help"
      ]
    },
    {
      "cell_type": "code",
      "metadata": {
        "id": "vCccA2BpKYAI",
        "outputId": "04562ce9-2ede-4325-9f82-a51974d13962",
        "colab": {
          "base_uri": "https://localhost:8080/",
          "height": 533
        }
      },
      "source": [
        "!./AnnotDBMaker --help"
      ],
      "execution_count": null,
      "outputs": [
        {
          "output_type": "stream",
          "text": [
            "============================================================\n",
            "AnnotDBMake v1.1.0\n",
            "Copyright (c) 2015 Yuji Suehiro. All rights reserved. \n",
            "MIT License\n",
            ". . . . . . . . . . . . . . . . . . . . . . . . . . . . . . \n",
            "\n",
            "Usage:\n",
            "  AnnotDBMake -r file -p prog. -o output { -c creator } { -s name } { -e files } { -d version } { -a attribute } { -g file }\n",
            ". . . . . . . . . . . . . . . . . . . . . . . . . . . . . . \n",
            "\n",
            "[Option]\n",
            "  --attribute/-a      :  Database attribute (key1=value1;key2=value2;...).\n",
            "  --creator/-c        :  Creator's name.\n",
            "  --dbver/-d          :  Database version.\n",
            "  --extra/-e          :  Extra data resource(tag1:file1,tag2:file2,...).\n",
            "  --gff/-g            :  GFF3 file.\n",
            "  --out/-o            : \u001b[0m\u001b[31m*\u001b[0m\u001b[39m\u001b[49m\u001b[0m\u001b[39m\u001b[49mOutput file path.\n",
            "  --program/-p        : \u001b[0m\u001b[31m*\u001b[0m\u001b[39m\u001b[49m\u001b[0m\u001b[39m\u001b[49mDynamic library(.so/.dll) to make database for each species.\n",
            "  --reference/-r      : \u001b[0m\u001b[31m*\u001b[0m\u001b[39m\u001b[49m\u001b[0m\u001b[39m\u001b[49mReference file prepared by 'GenomeConverter'.\n",
            "  --species/-s        :  Name of the species.\n",
            "\n",
            "  --version/-V        : Show version.\n",
            "  --info/-I           : Show app information.\n",
            "  --help/-H           : Show help.\n",
            "\n",
            "\u001b[0m\u001b[31m  * Required option.\u001b[0m\u001b[39m\u001b[49m\u001b[0m\u001b[39m\u001b[49m\n",
            "\u001b[0m\u001b[34m  # Choose one of the options.\u001b[0m\u001b[39m\u001b[49m\u001b[0m\u001b[39m\u001b[49m\n",
            "============================================================\n"
          ],
          "name": "stdout"
        }
      ]
    },
    {
      "cell_type": "markdown",
      "metadata": {
        "id": "p6OM3aYxKM3J"
      },
      "source": [
        "# 2-5. Use BioAnnotation"
      ]
    },
    {
      "cell_type": "markdown",
      "metadata": {
        "id": "UogfWauQKqwW"
      },
      "source": [
        "##  Installation\n",
        "Execute the following commands."
      ]
    },
    {
      "cell_type": "code",
      "metadata": {
        "id": "mxZB819VKq-D"
      },
      "source": [
        "!mkdir -p Codes\n",
        "!wget https://raw.githubusercontent.com/YujiSue/BioInfoTools/master/BioAnnotation/BioAnnotation.cpp -O Codes/BioAnnotation.cpp\n",
        "!g++ -std=c++11 -I/usr/local/include/slib -L/usr/local/lib -O2 -o BioAnnotation Codes/BioAnnotation.cpp -lsapp -lsbioinfo -lsobj -lcurl"
      ],
      "execution_count": null,
      "outputs": []
    },
    {
      "cell_type": "markdown",
      "metadata": {
        "id": "rGZU_sR8KrDq"
      },
      "source": [
        "## Usage example (H.sapiens)\n",
        "* Prepare the database for annotation by AnnotDBMake  \n",
        "  \n",
        "> Using human.db as annotation database,\n",
        "> get infotmation of chromosomal position\n",
        "> from the gene name \"TP53\""
      ]
    },
    {
      "cell_type": "code",
      "metadata": {
        "id": "0YpOE-4cKrKf",
        "outputId": "f9f79c7f-94f3-4af7-95a1-968b2f681194",
        "colab": {
          "base_uri": "https://localhost:8080/",
          "height": 35
        }
      },
      "source": [
        "!./BioAnnotation -d human.db -f gene -t pos TP53"
      ],
      "execution_count": null,
      "outputs": [
        {
          "output_type": "stream",
          "text": [
            "TP53\t>>\t17:7661779..7687550(-)\n"
          ],
          "name": "stdout"
        }
      ]
    },
    {
      "cell_type": "markdown",
      "metadata": {
        "id": "BaGCRdpGIXlZ"
      },
      "source": [
        "## Usage example (C.elegans)\n",
        "* Prepare the database for annotation by AnnotDBMake  \n",
        "  \n",
        "> Using nematode.db as annotation database,  \n",
        "> get infotmation of mutants  \n",
        "> from the gene name."
      ]
    },
    {
      "cell_type": "code",
      "metadata": {
        "id": "SIMJe0MlI8CH",
        "outputId": "34627e99-5087-436d-a59f-a0fd1920fe1b",
        "colab": {
          "base_uri": "https://localhost:8080/",
          "height": 35
        }
      },
      "source": [
        "!./BioAnnotation -d nematode.db -f gene -t mut cep-1"
      ],
      "execution_count": null,
      "outputs": [
        {
          "output_type": "stream",
          "text": [
            "cep-1\t>>\tw40,gk138,ep347\n"
          ],
          "name": "stdout"
        }
      ]
    },
    {
      "cell_type": "markdown",
      "metadata": {
        "id": "og38QDSYe3Cx"
      },
      "source": [
        "## Help"
      ]
    },
    {
      "cell_type": "code",
      "metadata": {
        "id": "CPK4zz_Fe42Z",
        "outputId": "26e82a90-e6fe-4b85-b875-681ced53516d",
        "colab": {
          "base_uri": "https://localhost:8080/",
          "height": 442
        }
      },
      "source": [
        "!./BioAnnotation --help"
      ],
      "execution_count": null,
      "outputs": [
        {
          "output_type": "stream",
          "text": [
            "============================================================\n",
            "BioAnnot v1.1.0\n",
            "Copyright (c) 2015 Yuji Suehiro. All rights reserved. \n",
            "MIT license.\n",
            ". . . . . . . . . . . . . . . . . . . . . . . . . . . . . . \n",
            "\n",
            "Usage:\n",
            "  BioAnnot -d database -f source(pos/gene/trs/mut) -t output(pos/gene/trs/mut) \u001b[3m\u001b[39minput\u001b[0m\u001b[39m\u001b[49m\u001b[0m\u001b[39m\u001b[49m { -s } { -g id/name }\n",
            ". . . . . . . . . . . . . . . . . . . . . . . . . . . . . . \n",
            "\n",
            "[Option]\n",
            "  --db/-d             : \u001b[0m\u001b[31m*\u001b[0m\u001b[39m\u001b[49m\u001b[0m\u001b[39m\u001b[49mAnnotation database file path.\n",
            "  --from/-f           : \u001b[0m\u001b[31m*\u001b[0m\u001b[39m\u001b[49m\u001b[0m\u001b[39m\u001b[49mGenomic position([Chr]:[Start]..[End]), Gene name, Transcript name, or Mutant name.\n",
            "  --gtype/-g          :  Type of gene output(Unique gene ID, or Gene name.\n",
            "  --to/-t             : \u001b[0m\u001b[31m*\u001b[0m\u001b[39m\u001b[49m\u001b[0m\u001b[39m\u001b[49mGenomic position([Chr]:[Start]..[End]), Gene name, Transcript name, or Mutant name.\n",
            "  --tsite/-s          :  Show sites of transcripts (CDS/exon/intron/5'UTR/3'UTR).\n",
            "\n",
            "  --help/-H           : Show help.\n",
            "  --version/-V        : Show version.\n",
            "  --info/-I           : Show app information.\n",
            "\n",
            "\u001b[0m\u001b[31m  * Required option.\u001b[0m\u001b[39m\u001b[49m\u001b[0m\u001b[39m\u001b[49m\n",
            "\u001b[0m\u001b[34m  # Choose one of the options.\u001b[0m\u001b[39m\u001b[49m\u001b[0m\u001b[39m\u001b[49m\n",
            "============================================================\n"
          ],
          "name": "stdout"
        }
      ]
    },
    {
      "cell_type": "markdown",
      "metadata": {
        "id": "MSGiw5GbKWHV"
      },
      "source": [
        "# 2-6. Use GeneMapSVG"
      ]
    },
    {
      "cell_type": "markdown",
      "metadata": {
        "id": "WzHy98GlMopg"
      },
      "source": [
        "##  Installation\n",
        "Execute the following commands."
      ]
    },
    {
      "cell_type": "code",
      "metadata": {
        "id": "kiyExshCMoxh"
      },
      "source": [
        "!mkdir -p Codes\n",
        "!wget https://raw.githubusercontent.com/YujiSue/BioInfoTools/master/GeneMapSVG/GeneMapSVG.cpp -O Codes/GeneMapSVG.cpp\n",
        "!wget https://raw.githubusercontent.com/YujiSue/BioInfoTools/master/GeneMapSVG/MakeMap.cpp -O Codes/MakeMap.cpp\n",
        "!wget https://raw.githubusercontent.com/YujiSue/BioInfoTools/master/GeneMapSVG/MakeMap.h -O Codes/MakeMap.h\n",
        "!g++ -std=c++11 -I/usr/local/include/slib -I./Codes -L/usr/local/lib -O2 -o GeneMapSVG Codes/GeneMapSVG.cpp Codes/MakeMap.cpp -lsapp -lsbioinfo -lsobj -lcurl"
      ],
      "execution_count": null,
      "outputs": []
    },
    {
      "cell_type": "markdown",
      "metadata": {
        "id": "0sS5Zvb6Mo4M"
      },
      "source": [
        "## Usage example (H.sapiens)\n",
        "* Prepare the encoded genomic sequence and the annotation database generated by GenomeConverter and AnnotDBMaker, respectively."
      ]
    },
    {
      "cell_type": "code",
      "metadata": {
        "id": "mp3HZnVIMo-f",
        "outputId": "2997117c-8a32-4260-8e16-00f724c34616",
        "colab": {
          "base_uri": "https://localhost:8080/",
          "height": 959
        }
      },
      "source": [
        "!./GeneMapSVG -gt -a human.db -r human.bin -w 640 -p 17:7660000..7690000 -o map_HS.svg\n",
        "from IPython.display import *\n",
        "display_svg(SVG('map_HS.svg'))"
      ],
      "execution_count": null,
      "outputs": [
        {
          "output_type": "display_data",
          "data": {
            "image/svg+xml": "<svg height=\"938px\" id=\"svg\" version=\"1.1\" viewBox=\"0 0 640 938\" width=\"640px\" x=\"0px\" xml:space=\"preserve\" xmlns=\"http://www.w3.org/2000/svg\" xmlns:xlink=\"http://www.w3.org/1999/xlink\" y=\"0px\">\n\t<g fill=\"none\" name=\"chromosome\" stroke=\"#000000\" stroke-opacity=\"1.000000\" stroke-width=\"1.000000\">\n\t\t<line stroke=\"#000000\" stroke-opacity=\"1.000000\" stroke-width=\"2.000000\" x1=\"0.000000\" x2=\"640.000000\" y1=\"20.000000\" y2=\"20.000000\"/>\n\t\t<text style=\"font-family: Arial; font-size: 12.000000px; stroke: none; fill: #000000; \" x=\"0.000000\" y=\"12.000000\">17</text>\n\t\t<g fill=\"none\" stroke=\"#000000\" stroke-opacity=\"1.000000\" stroke-width=\"1.000000\">\n\t\t\t<text style=\"font-family: Arial; font-size: 9.000000px; stroke: none; fill: #000000; \" x=\"-2.500000\" y=\"10.000000\">7660K</text>\n\t\t\t<text style=\"font-family: Arial; font-size: 9.000000px; stroke: none; fill: #000000; \" x=\"210.826218\" y=\"10.000000\">7670K</text>\n\t\t\t<text style=\"font-family: Arial; font-size: 9.000000px; stroke: none; fill: #000000; \" x=\"424.152435\" y=\"10.000000\">7680K</text>\n\t\t\t<path d=\"M0.000000,12.500000 L0.000000,27.500000M213.326218,12.500000 L213.326218,27.500000M426.652435,12.500000 L426.652435,27.500000M0.000000,15.000000 L0.000000,25.000000M21.332623,15.000000 L21.332623,25.000000M42.665245,15.000000 L42.665245,25.000000M63.997864,15.000000 L63.997864,25.000000M85.330490,15.000000 L85.330490,25.000000M106.663109,15.000000 L106.663109,25.000000M127.995728,15.000000 L127.995728,25.000000M149.328354,15.000000 L149.328354,25.000000M170.660980,15.000000 L170.660980,25.000000M191.993591,15.000000 L191.993591,25.000000M213.326218,15.000000 L213.326218,25.000000M234.658844,15.000000 L234.658844,25.000000M255.991455,15.000000 L255.991455,25.000000M277.324066,15.000000 L277.324066,25.000000M298.656708,15.000000 L298.656708,25.000000M319.989319,15.000000 L319.989319,25.000000M341.321960,15.000000 L341.321960,25.000000M362.654572,15.000000 L362.654572,25.000000M383.987183,15.000000 L383.987183,25.000000M405.319824,15.000000 L405.319824,25.000000M426.652435,15.000000 L426.652435,25.000000M447.985046,15.000000 L447.985046,25.000000M469.317688,15.000000 L469.317688,25.000000M490.650299,15.000000 L490.650299,25.000000M511.982910,15.000000 L511.982910,25.000000M533.315552,15.000000 L533.315552,25.000000M554.648132,15.000000 L554.648132,25.000000M575.980774,15.000000 L575.980774,25.000000M597.313416,15.000000 L597.313416,25.000000M618.645996,15.000000 L618.645996,25.000000\" fill=\"none\" stroke=\"#000000\" stroke-opacity=\"1.000000\" stroke-width=\"1.000000\"/>\n\t\t</g>\n\t</g>\n\t<g fill=\"none\" name=\"genes\" stroke=\"#000000\" stroke-opacity=\"1.000000\" stroke-width=\"1.000000\">\n\t\t<g fill=\"none\" name=\"ENSG00000141510\" stroke=\"#000000\" stroke-opacity=\"1.000000\" stroke-width=\"1.000000\">\n\t\t\t<rect fill=\"#000080\" fill-opacity=\"1.000000\" height=\"5.000000\" stroke=\"#000000\" stroke-opacity=\"1.000000\" stroke-width=\"1.000000\" width=\"549.784302\" x=\"37.950733\" y=\"62.500000\"/>\n\t\t\t<text style=\"font-family: Arial; font-size: 10.000000px; stroke: none; fill: #000000; \" x=\"37.950733\" y=\"59.500000\">TP53</text>\n\t\t</g>\n\t\t<g fill=\"none\" name=\"ENSG00000141499\" stroke=\"#000000\" stroke-opacity=\"1.000000\" stroke-width=\"1.000000\">\n\t\t\t<rect fill=\"#000080\" fill-opacity=\"1.000000\" height=\"5.000000\" stroke=\"#000000\" stroke-opacity=\"1.000000\" stroke-width=\"1.000000\" width=\"371.870300\" x=\"556.162781\" y=\"105.500000\"/>\n\t\t\t<text style=\"font-family: Arial; font-size: 10.000000px; stroke: none; fill: #000000; \" x=\"556.162781\" y=\"102.500000\">WRAP53</text>\n\t\t</g>\n\t</g>\n\t<g fill=\"none\" name=\"transcripts\" stroke=\"#000000\" stroke-opacity=\"1.000000\" stroke-width=\"1.000000\">\n\t\t<g fill=\"none\" name=\"TP53\" stroke=\"#000000\" stroke-opacity=\"1.000000\" stroke-width=\"1.000000\">\n\t\t\t<g fill=\"none\" name=\"TP53-203\" stroke=\"#000000\" stroke-opacity=\"1.000000\" stroke-width=\"1.000000\">\n\t\t\t\t<text style=\"font-family: Arial; font-size: 10.000000px; stroke: none; fill: #000000; \" x=\"313.993530\" y=\"140.500000\">TP53-203</text>\n\t\t\t\t<line stroke=\"#000000\" stroke-opacity=\"1.000000\" stroke-width=\"1.000000\" x1=\"37.950733\" x2=\"353.993530\" y1=\"145.500000\" y2=\"145.500000\"/>\n\t\t\t\t<polygon fill=\"#000000\" fill-opacity=\"1.000000\" points=\"37.950733 143.000000 37.950733 148.000000 32.950733 145.500000\" stroke=\"#000000\" stroke-opacity=\"1.000000\" stroke-width=\"1.000000\"/>\n\t\t\t\t<rect fill=\"#00FF7F\" fill-opacity=\"1.000000\" height=\"5.000000\" stroke=\"#000000\" stroke-opacity=\"1.000000\" stroke-width=\"1.000000\" width=\"1.621281\" x=\"41.363953\" y=\"143.000000\"/>\n\t\t\t\t<rect fill=\"#00FF7F\" fill-opacity=\"1.000000\" height=\"5.000000\" stroke=\"#000000\" stroke-opacity=\"1.000000\" stroke-width=\"1.000000\" width=\"2.346588\" x=\"302.517914\" y=\"143.000000\"/>\n\t\t\t\t<rect fill=\"#00FF7F\" fill-opacity=\"1.000000\" height=\"5.000000\" stroke=\"#000000\" stroke-opacity=\"1.000000\" stroke-width=\"1.000000\" width=\"2.410583\" x=\"316.981415\" y=\"143.000000\"/>\n\t\t\t\t<rect fill=\"#00FF7F\" fill-opacity=\"1.000000\" height=\"5.000000\" stroke=\"#000000\" stroke-opacity=\"1.000000\" stroke-width=\"1.000000\" width=\"3.925201\" x=\"321.119965\" y=\"143.000000\"/>\n\t\t\t\t<rect fill=\"#00FF7F\" fill-opacity=\"1.000000\" height=\"5.000000\" stroke=\"#000000\" stroke-opacity=\"1.000000\" stroke-width=\"1.000000\" width=\"5.951813\" x=\"341.193939\" y=\"143.000000\"/>\n\t\t\t\t<rect fill=\"#00FF7F\" fill-opacity=\"1.000000\" height=\"5.000000\" stroke=\"#000000\" stroke-opacity=\"1.000000\" stroke-width=\"1.000000\" width=\"1.000000\" x=\"349.471008\" y=\"143.000000\"/>\n\t\t\t\t<rect fill=\"#00FF7F\" fill-opacity=\"1.000000\" height=\"5.000000\" stroke=\"#000000\" stroke-opacity=\"1.000000\" stroke-width=\"1.000000\" width=\"1.578613\" x=\"352.436249\" y=\"143.000000\"/>\n\t\t\t</g>\n\t\t\t<g fill=\"none\" name=\"TP53-229\" stroke=\"#000000\" stroke-opacity=\"1.000000\" stroke-width=\"1.000000\">\n\t\t\t\t<text style=\"font-family: Arial; font-size: 10.000000px; stroke: none; fill: #000000; \" x=\"546.455078\" y=\"160.500000\">TP53-229</text>\n\t\t\t\t<line stroke=\"#000000\" stroke-opacity=\"1.000000\" stroke-width=\"1.000000\" x1=\"115.537476\" x2=\"586.455078\" y1=\"165.500000\" y2=\"165.500000\"/>\n\t\t\t\t<polygon fill=\"#000000\" fill-opacity=\"1.000000\" points=\"115.537476 163.000000 115.537476 168.000000 110.537476 165.500000\" stroke=\"#000000\" stroke-opacity=\"1.000000\" stroke-width=\"1.000000\"/>\n\t\t\t\t<rect fill=\"#FFFFFF\" fill-opacity=\"1.000000\" height=\"5.000000\" stroke=\"#000000\" stroke-opacity=\"1.000000\" stroke-width=\"1.000000\" width=\"2.474586\" x=\"115.537476\" y=\"163.000000\"/>\n\t\t\t\t<rect fill=\"#FFFFFF\" fill-opacity=\"1.000000\" height=\"5.000000\" stroke=\"#000000\" stroke-opacity=\"1.000000\" stroke-width=\"1.000000\" width=\"5.845139\" x=\"147.237747\" y=\"163.000000\"/>\n\t\t\t\t<rect fill=\"#00FF7F\" fill-opacity=\"1.000000\" height=\"5.000000\" stroke=\"#000000\" stroke-opacity=\"1.000000\" stroke-width=\"1.000000\" width=\"5.333160\" x=\"153.082886\" y=\"163.000000\"/>\n\t\t\t\t<rect fill=\"#00FF7F\" fill-opacity=\"1.000000\" height=\"5.000000\" stroke=\"#000000\" stroke-opacity=\"1.000000\" stroke-width=\"1.000000\" width=\"2.282593\" x=\"226.317780\" y=\"163.000000\"/>\n\t\t\t\t<rect fill=\"#00FF7F\" fill-opacity=\"1.000000\" height=\"5.000000\" stroke=\"#000000\" stroke-opacity=\"1.000000\" stroke-width=\"1.000000\" width=\"1.578613\" x=\"288.737030\" y=\"163.000000\"/>\n\t\t\t\t<rect fill=\"#00FF7F\" fill-opacity=\"1.000000\" height=\"5.000000\" stroke=\"#000000\" stroke-opacity=\"1.000000\" stroke-width=\"1.000000\" width=\"2.922577\" x=\"292.278259\" y=\"163.000000\"/>\n\t\t\t\t<rect fill=\"#00FF7F\" fill-opacity=\"1.000000\" height=\"5.000000\" stroke=\"#000000\" stroke-opacity=\"1.000000\" stroke-width=\"1.000000\" width=\"2.346588\" x=\"302.517914\" y=\"163.000000\"/>\n\t\t\t\t<rect fill=\"#00FF7F\" fill-opacity=\"1.000000\" height=\"5.000000\" stroke=\"#000000\" stroke-opacity=\"1.000000\" stroke-width=\"1.000000\" width=\"2.410583\" x=\"316.981415\" y=\"163.000000\"/>\n\t\t\t\t<rect fill=\"#00FF7F\" fill-opacity=\"1.000000\" height=\"5.000000\" stroke=\"#000000\" stroke-opacity=\"1.000000\" stroke-width=\"1.000000\" width=\"3.925201\" x=\"321.119965\" y=\"163.000000\"/>\n\t\t\t\t<rect fill=\"#00FF7F\" fill-opacity=\"1.000000\" height=\"5.000000\" stroke=\"#000000\" stroke-opacity=\"1.000000\" stroke-width=\"1.000000\" width=\"5.503815\" x=\"341.193939\" y=\"163.000000\"/>\n\t\t\t\t<rect fill=\"#FFFFFF\" fill-opacity=\"1.000000\" height=\"5.000000\" stroke=\"#000000\" stroke-opacity=\"1.000000\" stroke-width=\"1.000000\" width=\"1.000000\" x=\"346.697754\" y=\"163.000000\"/>\n\t\t\t\t<rect fill=\"#FFFFFF\" fill-opacity=\"1.000000\" height=\"5.000000\" stroke=\"#000000\" stroke-opacity=\"1.000000\" stroke-width=\"1.000000\" width=\"1.000000\" x=\"349.471008\" y=\"163.000000\"/>\n\t\t\t\t<rect fill=\"#FFFFFF\" fill-opacity=\"1.000000\" height=\"5.000000\" stroke=\"#000000\" stroke-opacity=\"1.000000\" stroke-width=\"1.000000\" width=\"2.175934\" x=\"352.436249\" y=\"163.000000\"/>\n\t\t\t\t<rect fill=\"#FFFFFF\" fill-opacity=\"1.000000\" height=\"5.000000\" stroke=\"#000000\" stroke-opacity=\"1.000000\" stroke-width=\"1.000000\" width=\"2.453247\" x=\"584.023193\" y=\"163.000000\"/>\n\t\t\t</g>\n\t\t\t<g fill=\"none\" name=\"TP53-202\" stroke=\"#000000\" stroke-opacity=\"1.000000\" stroke-width=\"1.000000\">\n\t\t\t\t<text style=\"font-family: Arial; font-size: 10.000000px; stroke: none; fill: #000000; \" x=\"313.993530\" y=\"180.500000\">TP53-202</text>\n\t\t\t\t<line stroke=\"#000000\" stroke-opacity=\"1.000000\" stroke-width=\"1.000000\" x1=\"129.830338\" x2=\"353.993530\" y1=\"185.500000\" y2=\"185.500000\"/>\n\t\t\t\t<polygon fill=\"#000000\" fill-opacity=\"1.000000\" points=\"129.830338 183.000000 129.830338 188.000000 124.830338 185.500000\" stroke=\"#000000\" stroke-opacity=\"1.000000\" stroke-width=\"1.000000\"/>\n\t\t\t\t<rect fill=\"#00FF7F\" fill-opacity=\"1.000000\" height=\"5.000000\" stroke=\"#000000\" stroke-opacity=\"1.000000\" stroke-width=\"1.000000\" width=\"1.000000\" x=\"132.390244\" y=\"183.000000\"/>\n\t\t\t\t<rect fill=\"#00FF7F\" fill-opacity=\"1.000000\" height=\"5.000000\" stroke=\"#000000\" stroke-opacity=\"1.000000\" stroke-width=\"1.000000\" width=\"1.578613\" x=\"288.737030\" y=\"183.000000\"/>\n\t\t\t\t<rect fill=\"#00FF7F\" fill-opacity=\"1.000000\" height=\"5.000000\" stroke=\"#000000\" stroke-opacity=\"1.000000\" stroke-width=\"1.000000\" width=\"2.922577\" x=\"292.278259\" y=\"183.000000\"/>\n\t\t\t\t<rect fill=\"#00FF7F\" fill-opacity=\"1.000000\" height=\"5.000000\" stroke=\"#000000\" stroke-opacity=\"1.000000\" stroke-width=\"1.000000\" width=\"2.346588\" x=\"302.517914\" y=\"183.000000\"/>\n\t\t\t\t<rect fill=\"#00FF7F\" fill-opacity=\"1.000000\" height=\"5.000000\" stroke=\"#000000\" stroke-opacity=\"1.000000\" stroke-width=\"1.000000\" width=\"2.410583\" x=\"316.981415\" y=\"183.000000\"/>\n\t\t\t\t<rect fill=\"#00FF7F\" fill-opacity=\"1.000000\" height=\"5.000000\" stroke=\"#000000\" stroke-opacity=\"1.000000\" stroke-width=\"1.000000\" width=\"3.925201\" x=\"321.119965\" y=\"183.000000\"/>\n\t\t\t\t<rect fill=\"#00FF7F\" fill-opacity=\"1.000000\" height=\"5.000000\" stroke=\"#000000\" stroke-opacity=\"1.000000\" stroke-width=\"1.000000\" width=\"5.951813\" x=\"341.193939\" y=\"183.000000\"/>\n\t\t\t\t<rect fill=\"#00FF7F\" fill-opacity=\"1.000000\" height=\"5.000000\" stroke=\"#000000\" stroke-opacity=\"1.000000\" stroke-width=\"1.000000\" width=\"1.000000\" x=\"349.471008\" y=\"183.000000\"/>\n\t\t\t\t<rect fill=\"#00FF7F\" fill-opacity=\"1.000000\" height=\"5.000000\" stroke=\"#000000\" stroke-opacity=\"1.000000\" stroke-width=\"1.000000\" width=\"1.578613\" x=\"352.436249\" y=\"183.000000\"/>\n\t\t\t</g>\n\t\t\t<g fill=\"none\" name=\"TP53-208\" stroke=\"#000000\" stroke-opacity=\"1.000000\" stroke-width=\"1.000000\">\n\t\t\t\t<text style=\"font-family: Arial; font-size: 10.000000px; stroke: none; fill: #000000; \" x=\"290.506317\" y=\"200.500000\">TP53-208</text>\n\t\t\t\t<line stroke=\"#000000\" stroke-opacity=\"1.000000\" stroke-width=\"1.000000\" x1=\"179.236679\" x2=\"330.506317\" y1=\"205.500000\" y2=\"205.500000\"/>\n\t\t\t\t<polygon fill=\"#000000\" fill-opacity=\"1.000000\" points=\"179.236679 203.000000 179.236679 208.000000 174.236679 205.500000\" stroke=\"#000000\" stroke-opacity=\"1.000000\" stroke-width=\"1.000000\"/>\n\t\t\t\t<rect fill=\"#FFFFFF\" fill-opacity=\"1.000000\" height=\"5.000000\" stroke=\"#000000\" stroke-opacity=\"1.000000\" stroke-width=\"1.000000\" width=\"27.497757\" x=\"179.236679\" y=\"203.000000\"/>\n\t\t\t\t<rect fill=\"#FFFFFF\" fill-opacity=\"1.000000\" height=\"5.000000\" stroke=\"#000000\" stroke-opacity=\"1.000000\" stroke-width=\"1.000000\" width=\"2.282593\" x=\"226.317780\" y=\"203.000000\"/>\n\t\t\t\t<rect fill=\"#FFFFFF\" fill-opacity=\"1.000000\" height=\"5.000000\" stroke=\"#000000\" stroke-opacity=\"1.000000\" stroke-width=\"1.000000\" width=\"1.000000\" x=\"281.739929\" y=\"203.000000\"/>\n\t\t\t\t<rect fill=\"#00FF7F\" fill-opacity=\"1.000000\" height=\"5.000000\" stroke=\"#000000\" stroke-opacity=\"1.000000\" stroke-width=\"1.000000\" width=\"1.023956\" x=\"281.995911\" y=\"203.000000\"/>\n\t\t\t\t<rect fill=\"#00FF7F\" fill-opacity=\"1.000000\" height=\"5.000000\" stroke=\"#000000\" stroke-opacity=\"1.000000\" stroke-width=\"1.000000\" width=\"1.578613\" x=\"288.737030\" y=\"203.000000\"/>\n\t\t\t\t<rect fill=\"#00FF7F\" fill-opacity=\"1.000000\" height=\"5.000000\" stroke=\"#000000\" stroke-opacity=\"1.000000\" stroke-width=\"1.000000\" width=\"2.922577\" x=\"292.278259\" y=\"203.000000\"/>\n\t\t\t\t<rect fill=\"#00FF7F\" fill-opacity=\"1.000000\" height=\"5.000000\" stroke=\"#000000\" stroke-opacity=\"1.000000\" stroke-width=\"1.000000\" width=\"2.346588\" x=\"302.517914\" y=\"203.000000\"/>\n\t\t\t\t<rect fill=\"#00FF7F\" fill-opacity=\"1.000000\" height=\"5.000000\" stroke=\"#000000\" stroke-opacity=\"1.000000\" stroke-width=\"1.000000\" width=\"2.410583\" x=\"316.981415\" y=\"203.000000\"/>\n\t\t\t\t<rect fill=\"#00FF7F\" fill-opacity=\"1.000000\" height=\"5.000000\" stroke=\"#000000\" stroke-opacity=\"1.000000\" stroke-width=\"1.000000\" width=\"3.477203\" x=\"321.119965\" y=\"203.000000\"/>\n\t\t\t\t<rect fill=\"#FFFFFF\" fill-opacity=\"1.000000\" height=\"5.000000\" stroke=\"#000000\" stroke-opacity=\"1.000000\" stroke-width=\"1.000000\" width=\"5.930481\" x=\"324.597168\" y=\"203.000000\"/>\n\t\t\t</g>\n\t\t\t<g fill=\"none\" name=\"TP53-213\" stroke=\"#000000\" stroke-opacity=\"1.000000\" stroke-width=\"1.000000\">\n\t\t\t\t<text style=\"font-family: Arial; font-size: 10.000000px; stroke: none; fill: #000000; \" x=\"290.506317\" y=\"220.500000\">TP53-213</text>\n\t\t\t\t<line stroke=\"#000000\" stroke-opacity=\"1.000000\" stroke-width=\"1.000000\" x1=\"179.236679\" x2=\"330.506317\" y1=\"225.500000\" y2=\"225.500000\"/>\n\t\t\t\t<polygon fill=\"#000000\" fill-opacity=\"1.000000\" points=\"179.236679 223.000000 179.236679 228.000000 174.236679 225.500000\" stroke=\"#000000\" stroke-opacity=\"1.000000\" stroke-width=\"1.000000\"/>\n\t\t\t\t<rect fill=\"#FFFFFF\" fill-opacity=\"1.000000\" height=\"5.000000\" stroke=\"#000000\" stroke-opacity=\"1.000000\" stroke-width=\"1.000000\" width=\"27.497757\" x=\"179.236679\" y=\"223.000000\"/>\n\t\t\t\t<rect fill=\"#FFFFFF\" fill-opacity=\"1.000000\" height=\"5.000000\" stroke=\"#000000\" stroke-opacity=\"1.000000\" stroke-width=\"1.000000\" width=\"2.282593\" x=\"226.317780\" y=\"223.000000\"/>\n\t\t\t\t<rect fill=\"#FFFFFF\" fill-opacity=\"1.000000\" height=\"5.000000\" stroke=\"#000000\" stroke-opacity=\"1.000000\" stroke-width=\"1.000000\" width=\"2.133270\" x=\"281.739929\" y=\"223.000000\"/>\n\t\t\t\t<rect fill=\"#00FF7F\" fill-opacity=\"1.000000\" height=\"5.000000\" stroke=\"#000000\" stroke-opacity=\"1.000000\" stroke-width=\"1.000000\" width=\"1.000000\" x=\"283.873199\" y=\"223.000000\"/>\n\t\t\t\t<rect fill=\"#00FF7F\" fill-opacity=\"1.000000\" height=\"5.000000\" stroke=\"#000000\" stroke-opacity=\"1.000000\" stroke-width=\"1.000000\" width=\"1.578613\" x=\"288.737030\" y=\"223.000000\"/>\n\t\t\t\t<rect fill=\"#00FF7F\" fill-opacity=\"1.000000\" height=\"5.000000\" stroke=\"#000000\" stroke-opacity=\"1.000000\" stroke-width=\"1.000000\" width=\"2.922577\" x=\"292.278259\" y=\"223.000000\"/>\n\t\t\t\t<rect fill=\"#00FF7F\" fill-opacity=\"1.000000\" height=\"5.000000\" stroke=\"#000000\" stroke-opacity=\"1.000000\" stroke-width=\"1.000000\" width=\"2.346588\" x=\"302.517914\" y=\"223.000000\"/>\n\t\t\t\t<rect fill=\"#00FF7F\" fill-opacity=\"1.000000\" height=\"5.000000\" stroke=\"#000000\" stroke-opacity=\"1.000000\" stroke-width=\"1.000000\" width=\"2.410583\" x=\"316.981415\" y=\"223.000000\"/>\n\t\t\t\t<rect fill=\"#00FF7F\" fill-opacity=\"1.000000\" height=\"5.000000\" stroke=\"#000000\" stroke-opacity=\"1.000000\" stroke-width=\"1.000000\" width=\"3.477203\" x=\"321.119965\" y=\"223.000000\"/>\n\t\t\t\t<rect fill=\"#FFFFFF\" fill-opacity=\"1.000000\" height=\"5.000000\" stroke=\"#000000\" stroke-opacity=\"1.000000\" stroke-width=\"1.000000\" width=\"5.930481\" x=\"324.597168\" y=\"223.000000\"/>\n\t\t\t</g>\n\t\t\t<g fill=\"none\" name=\"TP53-209\" stroke=\"#000000\" stroke-opacity=\"1.000000\" stroke-width=\"1.000000\">\n\t\t\t\t<text style=\"font-family: Arial; font-size: 10.000000px; stroke: none; fill: #000000; \" x=\"290.506317\" y=\"240.500000\">TP53-209</text>\n\t\t\t\t<line stroke=\"#000000\" stroke-opacity=\"1.000000\" stroke-width=\"1.000000\" x1=\"179.236679\" x2=\"330.506317\" y1=\"245.500000\" y2=\"245.500000\"/>\n\t\t\t\t<polygon fill=\"#000000\" fill-opacity=\"1.000000\" points=\"179.236679 243.000000 179.236679 248.000000 174.236679 245.500000\" stroke=\"#000000\" stroke-opacity=\"1.000000\" stroke-width=\"1.000000\"/>\n\t\t\t\t<rect fill=\"#00FF7F\" fill-opacity=\"1.000000\" height=\"5.000000\" stroke=\"#000000\" stroke-opacity=\"1.000000\" stroke-width=\"1.000000\" width=\"1.749268\" x=\"204.985153\" y=\"243.000000\"/>\n\t\t\t\t<rect fill=\"#00FF7F\" fill-opacity=\"1.000000\" height=\"5.000000\" stroke=\"#000000\" stroke-opacity=\"1.000000\" stroke-width=\"1.000000\" width=\"2.282593\" x=\"226.317780\" y=\"243.000000\"/>\n\t\t\t\t<rect fill=\"#00FF7F\" fill-opacity=\"1.000000\" height=\"5.000000\" stroke=\"#000000\" stroke-opacity=\"1.000000\" stroke-width=\"1.000000\" width=\"1.578613\" x=\"288.737030\" y=\"243.000000\"/>\n\t\t\t\t<rect fill=\"#00FF7F\" fill-opacity=\"1.000000\" height=\"5.000000\" stroke=\"#000000\" stroke-opacity=\"1.000000\" stroke-width=\"1.000000\" width=\"2.922577\" x=\"292.278259\" y=\"243.000000\"/>\n\t\t\t\t<rect fill=\"#00FF7F\" fill-opacity=\"1.000000\" height=\"5.000000\" stroke=\"#000000\" stroke-opacity=\"1.000000\" stroke-width=\"1.000000\" width=\"2.346588\" x=\"302.517914\" y=\"243.000000\"/>\n\t\t\t\t<rect fill=\"#00FF7F\" fill-opacity=\"1.000000\" height=\"5.000000\" stroke=\"#000000\" stroke-opacity=\"1.000000\" stroke-width=\"1.000000\" width=\"2.410583\" x=\"316.981415\" y=\"243.000000\"/>\n\t\t\t\t<rect fill=\"#00FF7F\" fill-opacity=\"1.000000\" height=\"5.000000\" stroke=\"#000000\" stroke-opacity=\"1.000000\" stroke-width=\"1.000000\" width=\"3.477203\" x=\"321.119965\" y=\"243.000000\"/>\n\t\t\t\t<rect fill=\"#FFFFFF\" fill-opacity=\"1.000000\" height=\"5.000000\" stroke=\"#000000\" stroke-opacity=\"1.000000\" stroke-width=\"1.000000\" width=\"5.930481\" x=\"324.597168\" y=\"243.000000\"/>\n\t\t\t</g>\n\t\t\t<g fill=\"none\" name=\"TP53-225\" stroke=\"#000000\" stroke-opacity=\"1.000000\" stroke-width=\"1.000000\">\n\t\t\t\t<text style=\"font-family: Arial; font-size: 10.000000px; stroke: none; fill: #000000; \" x=\"290.506317\" y=\"260.500000\">TP53-225</text>\n\t\t\t\t<line stroke=\"#000000\" stroke-opacity=\"1.000000\" stroke-width=\"1.000000\" x1=\"179.236679\" x2=\"330.506317\" y1=\"265.500000\" y2=\"265.500000\"/>\n\t\t\t\t<polygon fill=\"#000000\" fill-opacity=\"1.000000\" points=\"179.236679 263.000000 179.236679 268.000000 174.236679 265.500000\" stroke=\"#000000\" stroke-opacity=\"1.000000\" stroke-width=\"1.000000\"/>\n\t\t\t\t<rect fill=\"#00FF7F\" fill-opacity=\"1.000000\" height=\"5.000000\" stroke=\"#000000\" stroke-opacity=\"1.000000\" stroke-width=\"1.000000\" width=\"1.749268\" x=\"204.985153\" y=\"263.000000\"/>\n\t\t\t\t<rect fill=\"#00FF7F\" fill-opacity=\"1.000000\" height=\"5.000000\" stroke=\"#000000\" stroke-opacity=\"1.000000\" stroke-width=\"1.000000\" width=\"2.282593\" x=\"226.317780\" y=\"263.000000\"/>\n\t\t\t\t<rect fill=\"#00FF7F\" fill-opacity=\"1.000000\" height=\"5.000000\" stroke=\"#000000\" stroke-opacity=\"1.000000\" stroke-width=\"1.000000\" width=\"1.578613\" x=\"288.737030\" y=\"263.000000\"/>\n\t\t\t\t<rect fill=\"#00FF7F\" fill-opacity=\"1.000000\" height=\"5.000000\" stroke=\"#000000\" stroke-opacity=\"1.000000\" stroke-width=\"1.000000\" width=\"2.922577\" x=\"292.278259\" y=\"263.000000\"/>\n\t\t\t\t<rect fill=\"#00FF7F\" fill-opacity=\"1.000000\" height=\"5.000000\" stroke=\"#000000\" stroke-opacity=\"1.000000\" stroke-width=\"1.000000\" width=\"2.346588\" x=\"302.517914\" y=\"263.000000\"/>\n\t\t\t\t<rect fill=\"#00FF7F\" fill-opacity=\"1.000000\" height=\"5.000000\" stroke=\"#000000\" stroke-opacity=\"1.000000\" stroke-width=\"1.000000\" width=\"2.410583\" x=\"316.981415\" y=\"263.000000\"/>\n\t\t\t\t<rect fill=\"#00FF7F\" fill-opacity=\"1.000000\" height=\"5.000000\" stroke=\"#000000\" stroke-opacity=\"1.000000\" stroke-width=\"1.000000\" width=\"1.749268\" x=\"321.119965\" y=\"263.000000\"/>\n\t\t\t\t<rect fill=\"#FFFFFF\" fill-opacity=\"1.000000\" height=\"5.000000\" stroke=\"#000000\" stroke-opacity=\"1.000000\" stroke-width=\"1.000000\" width=\"7.658417\" x=\"322.869232\" y=\"263.000000\"/>\n\t\t\t</g>\n\t\t\t<g fill=\"none\" name=\"TP53-224\" stroke=\"#000000\" stroke-opacity=\"1.000000\" stroke-width=\"1.000000\">\n\t\t\t\t<text style=\"font-family: Arial; font-size: 10.000000px; stroke: none; fill: #000000; \" x=\"290.506317\" y=\"280.500000\">TP53-224</text>\n\t\t\t\t<line stroke=\"#000000\" stroke-opacity=\"1.000000\" stroke-width=\"1.000000\" x1=\"179.236679\" x2=\"330.506317\" y1=\"285.500000\" y2=\"285.500000\"/>\n\t\t\t\t<polygon fill=\"#000000\" fill-opacity=\"1.000000\" points=\"179.236679 283.000000 179.236679 288.000000 174.236679 285.500000\" stroke=\"#000000\" stroke-opacity=\"1.000000\" stroke-width=\"1.000000\"/>\n\t\t\t\t<rect fill=\"#FFFFFF\" fill-opacity=\"1.000000\" height=\"5.000000\" stroke=\"#000000\" stroke-opacity=\"1.000000\" stroke-width=\"1.000000\" width=\"27.497757\" x=\"179.236679\" y=\"283.000000\"/>\n\t\t\t\t<rect fill=\"#FFFFFF\" fill-opacity=\"1.000000\" height=\"5.000000\" stroke=\"#000000\" stroke-opacity=\"1.000000\" stroke-width=\"1.000000\" width=\"2.282593\" x=\"226.317780\" y=\"283.000000\"/>\n\t\t\t\t<rect fill=\"#FFFFFF\" fill-opacity=\"1.000000\" height=\"5.000000\" stroke=\"#000000\" stroke-opacity=\"1.000000\" stroke-width=\"1.000000\" width=\"2.133270\" x=\"281.739929\" y=\"283.000000\"/>\n\t\t\t\t<rect fill=\"#00FF7F\" fill-opacity=\"1.000000\" height=\"5.000000\" stroke=\"#000000\" stroke-opacity=\"1.000000\" stroke-width=\"1.000000\" width=\"1.000000\" x=\"283.873199\" y=\"283.000000\"/>\n\t\t\t\t<rect fill=\"#00FF7F\" fill-opacity=\"1.000000\" height=\"5.000000\" stroke=\"#000000\" stroke-opacity=\"1.000000\" stroke-width=\"1.000000\" width=\"1.578613\" x=\"288.737030\" y=\"283.000000\"/>\n\t\t\t\t<rect fill=\"#00FF7F\" fill-opacity=\"1.000000\" height=\"5.000000\" stroke=\"#000000\" stroke-opacity=\"1.000000\" stroke-width=\"1.000000\" width=\"2.922577\" x=\"292.278259\" y=\"283.000000\"/>\n\t\t\t\t<rect fill=\"#00FF7F\" fill-opacity=\"1.000000\" height=\"5.000000\" stroke=\"#000000\" stroke-opacity=\"1.000000\" stroke-width=\"1.000000\" width=\"2.346588\" x=\"302.517914\" y=\"283.000000\"/>\n\t\t\t\t<rect fill=\"#00FF7F\" fill-opacity=\"1.000000\" height=\"5.000000\" stroke=\"#000000\" stroke-opacity=\"1.000000\" stroke-width=\"1.000000\" width=\"2.410583\" x=\"316.981415\" y=\"283.000000\"/>\n\t\t\t\t<rect fill=\"#00FF7F\" fill-opacity=\"1.000000\" height=\"5.000000\" stroke=\"#000000\" stroke-opacity=\"1.000000\" stroke-width=\"1.000000\" width=\"1.749268\" x=\"321.119965\" y=\"283.000000\"/>\n\t\t\t\t<rect fill=\"#FFFFFF\" fill-opacity=\"1.000000\" height=\"5.000000\" stroke=\"#000000\" stroke-opacity=\"1.000000\" stroke-width=\"1.000000\" width=\"7.658417\" x=\"322.869232\" y=\"283.000000\"/>\n\t\t\t</g>\n\t\t\t<g fill=\"none\" name=\"TP53-221\" stroke=\"#000000\" stroke-opacity=\"1.000000\" stroke-width=\"1.000000\">\n\t\t\t\t<text style=\"font-family: Arial; font-size: 10.000000px; stroke: none; fill: #000000; \" x=\"290.506317\" y=\"300.500000\">TP53-221</text>\n\t\t\t\t<line stroke=\"#000000\" stroke-opacity=\"1.000000\" stroke-width=\"1.000000\" x1=\"179.236679\" x2=\"330.506317\" y1=\"305.500000\" y2=\"305.500000\"/>\n\t\t\t\t<polygon fill=\"#000000\" fill-opacity=\"1.000000\" points=\"179.236679 303.000000 179.236679 308.000000 174.236679 305.500000\" stroke=\"#000000\" stroke-opacity=\"1.000000\" stroke-width=\"1.000000\"/>\n\t\t\t\t<rect fill=\"#FFFFFF\" fill-opacity=\"1.000000\" height=\"5.000000\" stroke=\"#000000\" stroke-opacity=\"1.000000\" stroke-width=\"1.000000\" width=\"27.497757\" x=\"179.236679\" y=\"303.000000\"/>\n\t\t\t\t<rect fill=\"#FFFFFF\" fill-opacity=\"1.000000\" height=\"5.000000\" stroke=\"#000000\" stroke-opacity=\"1.000000\" stroke-width=\"1.000000\" width=\"2.282593\" x=\"226.317780\" y=\"303.000000\"/>\n\t\t\t\t<rect fill=\"#FFFFFF\" fill-opacity=\"1.000000\" height=\"5.000000\" stroke=\"#000000\" stroke-opacity=\"1.000000\" stroke-width=\"1.000000\" width=\"1.000000\" x=\"281.739929\" y=\"303.000000\"/>\n\t\t\t\t<rect fill=\"#00FF7F\" fill-opacity=\"1.000000\" height=\"5.000000\" stroke=\"#000000\" stroke-opacity=\"1.000000\" stroke-width=\"1.000000\" width=\"1.023956\" x=\"281.995911\" y=\"303.000000\"/>\n\t\t\t\t<rect fill=\"#00FF7F\" fill-opacity=\"1.000000\" height=\"5.000000\" stroke=\"#000000\" stroke-opacity=\"1.000000\" stroke-width=\"1.000000\" width=\"1.578613\" x=\"288.737030\" y=\"303.000000\"/>\n\t\t\t\t<rect fill=\"#00FF7F\" fill-opacity=\"1.000000\" height=\"5.000000\" stroke=\"#000000\" stroke-opacity=\"1.000000\" stroke-width=\"1.000000\" width=\"2.922577\" x=\"292.278259\" y=\"303.000000\"/>\n\t\t\t\t<rect fill=\"#00FF7F\" fill-opacity=\"1.000000\" height=\"5.000000\" stroke=\"#000000\" stroke-opacity=\"1.000000\" stroke-width=\"1.000000\" width=\"2.346588\" x=\"302.517914\" y=\"303.000000\"/>\n\t\t\t\t<rect fill=\"#00FF7F\" fill-opacity=\"1.000000\" height=\"5.000000\" stroke=\"#000000\" stroke-opacity=\"1.000000\" stroke-width=\"1.000000\" width=\"2.410583\" x=\"316.981415\" y=\"303.000000\"/>\n\t\t\t\t<rect fill=\"#00FF7F\" fill-opacity=\"1.000000\" height=\"5.000000\" stroke=\"#000000\" stroke-opacity=\"1.000000\" stroke-width=\"1.000000\" width=\"1.749268\" x=\"321.119965\" y=\"303.000000\"/>\n\t\t\t\t<rect fill=\"#FFFFFF\" fill-opacity=\"1.000000\" height=\"5.000000\" stroke=\"#000000\" stroke-opacity=\"1.000000\" stroke-width=\"1.000000\" width=\"7.658417\" x=\"322.869232\" y=\"303.000000\"/>\n\t\t\t</g>\n\t\t\t<g fill=\"none\" name=\"TP53-219\" stroke=\"#000000\" stroke-opacity=\"1.000000\" stroke-width=\"1.000000\">\n\t\t\t\t<text style=\"font-family: Arial; font-size: 10.000000px; stroke: none; fill: #000000; \" x=\"546.241760\" y=\"320.500000\">TP53-219</text>\n\t\t\t\t<line stroke=\"#000000\" stroke-opacity=\"1.000000\" stroke-width=\"1.000000\" x1=\"179.236679\" x2=\"586.241760\" y1=\"325.500000\" y2=\"325.500000\"/>\n\t\t\t\t<polygon fill=\"#000000\" fill-opacity=\"1.000000\" points=\"179.236679 323.000000 179.236679 328.000000 174.236679 325.500000\" stroke=\"#000000\" stroke-opacity=\"1.000000\" stroke-width=\"1.000000\"/>\n\t\t\t\t<rect fill=\"#00FF7F\" fill-opacity=\"1.000000\" height=\"5.000000\" stroke=\"#000000\" stroke-opacity=\"1.000000\" stroke-width=\"1.000000\" width=\"1.749268\" x=\"204.985153\" y=\"323.000000\"/>\n\t\t\t\t<rect fill=\"#00FF7F\" fill-opacity=\"1.000000\" height=\"5.000000\" stroke=\"#000000\" stroke-opacity=\"1.000000\" stroke-width=\"1.000000\" width=\"2.282593\" x=\"226.317780\" y=\"323.000000\"/>\n\t\t\t\t<rect fill=\"#00FF7F\" fill-opacity=\"1.000000\" height=\"5.000000\" stroke=\"#000000\" stroke-opacity=\"1.000000\" stroke-width=\"1.000000\" width=\"1.578613\" x=\"288.737030\" y=\"323.000000\"/>\n\t\t\t\t<rect fill=\"#00FF7F\" fill-opacity=\"1.000000\" height=\"5.000000\" stroke=\"#000000\" stroke-opacity=\"1.000000\" stroke-width=\"1.000000\" width=\"2.922577\" x=\"292.278259\" y=\"323.000000\"/>\n\t\t\t\t<rect fill=\"#00FF7F\" fill-opacity=\"1.000000\" height=\"5.000000\" stroke=\"#000000\" stroke-opacity=\"1.000000\" stroke-width=\"1.000000\" width=\"2.346588\" x=\"302.517914\" y=\"323.000000\"/>\n\t\t\t\t<rect fill=\"#00FF7F\" fill-opacity=\"1.000000\" height=\"5.000000\" stroke=\"#000000\" stroke-opacity=\"1.000000\" stroke-width=\"1.000000\" width=\"2.410583\" x=\"316.981415\" y=\"323.000000\"/>\n\t\t\t\t<rect fill=\"#00FF7F\" fill-opacity=\"1.000000\" height=\"5.000000\" stroke=\"#000000\" stroke-opacity=\"1.000000\" stroke-width=\"1.000000\" width=\"3.925201\" x=\"321.119965\" y=\"323.000000\"/>\n\t\t\t\t<rect fill=\"#00FF7F\" fill-opacity=\"1.000000\" height=\"5.000000\" stroke=\"#000000\" stroke-opacity=\"1.000000\" stroke-width=\"1.000000\" width=\"5.503815\" x=\"341.193939\" y=\"323.000000\"/>\n\t\t\t\t<rect fill=\"#FFFFFF\" fill-opacity=\"1.000000\" height=\"5.000000\" stroke=\"#000000\" stroke-opacity=\"1.000000\" stroke-width=\"1.000000\" width=\"1.000000\" x=\"346.697754\" y=\"323.000000\"/>\n\t\t\t\t<rect fill=\"#FFFFFF\" fill-opacity=\"1.000000\" height=\"5.000000\" stroke=\"#000000\" stroke-opacity=\"1.000000\" stroke-width=\"1.000000\" width=\"5.141174\" x=\"349.471008\" y=\"323.000000\"/>\n\t\t\t\t<rect fill=\"#FFFFFF\" fill-opacity=\"1.000000\" height=\"5.000000\" stroke=\"#000000\" stroke-opacity=\"1.000000\" stroke-width=\"1.000000\" width=\"2.239929\" x=\"584.023193\" y=\"323.000000\"/>\n\t\t\t</g>\n\t\t\t<g fill=\"none\" name=\"TP53-201\" stroke=\"#000000\" stroke-opacity=\"1.000000\" stroke-width=\"1.000000\">\n\t\t\t\t<text style=\"font-family: Arial; font-size: 10.000000px; stroke: none; fill: #000000; \" x=\"547.457703\" y=\"340.500000\">TP53-201</text>\n\t\t\t\t<line stroke=\"#000000\" stroke-opacity=\"1.000000\" stroke-width=\"1.000000\" x1=\"179.236679\" x2=\"587.457703\" y1=\"345.500000\" y2=\"345.500000\"/>\n\t\t\t\t<polygon fill=\"#000000\" fill-opacity=\"1.000000\" points=\"179.236679 343.000000 179.236679 348.000000 174.236679 345.500000\" stroke=\"#000000\" stroke-opacity=\"1.000000\" stroke-width=\"1.000000\"/>\n\t\t\t\t<rect fill=\"#00FF7F\" fill-opacity=\"1.000000\" height=\"5.000000\" stroke=\"#000000\" stroke-opacity=\"1.000000\" stroke-width=\"1.000000\" width=\"1.749268\" x=\"204.985153\" y=\"343.000000\"/>\n\t\t\t\t<rect fill=\"#00FF7F\" fill-opacity=\"1.000000\" height=\"5.000000\" stroke=\"#000000\" stroke-opacity=\"1.000000\" stroke-width=\"1.000000\" width=\"2.282593\" x=\"226.317780\" y=\"343.000000\"/>\n\t\t\t\t<rect fill=\"#00FF7F\" fill-opacity=\"1.000000\" height=\"5.000000\" stroke=\"#000000\" stroke-opacity=\"1.000000\" stroke-width=\"1.000000\" width=\"1.578613\" x=\"288.737030\" y=\"343.000000\"/>\n\t\t\t\t<rect fill=\"#00FF7F\" fill-opacity=\"1.000000\" height=\"5.000000\" stroke=\"#000000\" stroke-opacity=\"1.000000\" stroke-width=\"1.000000\" width=\"2.922577\" x=\"292.278259\" y=\"343.000000\"/>\n\t\t\t\t<rect fill=\"#00FF7F\" fill-opacity=\"1.000000\" height=\"5.000000\" stroke=\"#000000\" stroke-opacity=\"1.000000\" stroke-width=\"1.000000\" width=\"2.346588\" x=\"302.517914\" y=\"343.000000\"/>\n\t\t\t\t<rect fill=\"#00FF7F\" fill-opacity=\"1.000000\" height=\"5.000000\" stroke=\"#000000\" stroke-opacity=\"1.000000\" stroke-width=\"1.000000\" width=\"2.410583\" x=\"316.981415\" y=\"343.000000\"/>\n\t\t\t\t<rect fill=\"#00FF7F\" fill-opacity=\"1.000000\" height=\"5.000000\" stroke=\"#000000\" stroke-opacity=\"1.000000\" stroke-width=\"1.000000\" width=\"3.925201\" x=\"321.119965\" y=\"343.000000\"/>\n\t\t\t\t<rect fill=\"#00FF7F\" fill-opacity=\"1.000000\" height=\"5.000000\" stroke=\"#000000\" stroke-opacity=\"1.000000\" stroke-width=\"1.000000\" width=\"5.951813\" x=\"341.193939\" y=\"343.000000\"/>\n\t\t\t\t<rect fill=\"#00FF7F\" fill-opacity=\"1.000000\" height=\"5.000000\" stroke=\"#000000\" stroke-opacity=\"1.000000\" stroke-width=\"1.000000\" width=\"1.000000\" x=\"349.471008\" y=\"343.000000\"/>\n\t\t\t\t<rect fill=\"#00FF7F\" fill-opacity=\"1.000000\" height=\"5.000000\" stroke=\"#000000\" stroke-opacity=\"1.000000\" stroke-width=\"1.000000\" width=\"1.578613\" x=\"352.436249\" y=\"343.000000\"/>\n\t\t\t\t<rect fill=\"#FFFFFF\" fill-opacity=\"1.000000\" height=\"5.000000\" stroke=\"#000000\" stroke-opacity=\"1.000000\" stroke-width=\"1.000000\" width=\"1.000000\" x=\"354.014862\" y=\"343.000000\"/>\n\t\t\t\t<rect fill=\"#FFFFFF\" fill-opacity=\"1.000000\" height=\"5.000000\" stroke=\"#000000\" stroke-opacity=\"1.000000\" stroke-width=\"1.000000\" width=\"3.455872\" x=\"584.023193\" y=\"343.000000\"/>\n\t\t\t</g>\n\t\t\t<g fill=\"none\" name=\"TP53-227\" stroke=\"#000000\" stroke-opacity=\"1.000000\" stroke-width=\"1.000000\">\n\t\t\t\t<text style=\"font-family: Arial; font-size: 10.000000px; stroke: none; fill: #000000; \" x=\"547.457703\" y=\"360.500000\">TP53-227</text>\n\t\t\t\t<line stroke=\"#000000\" stroke-opacity=\"1.000000\" stroke-width=\"1.000000\" x1=\"179.236679\" x2=\"587.457703\" y1=\"365.500000\" y2=\"365.500000\"/>\n\t\t\t\t<polygon fill=\"#000000\" fill-opacity=\"1.000000\" points=\"179.236679 363.000000 179.236679 368.000000 174.236679 365.500000\" stroke=\"#000000\" stroke-opacity=\"1.000000\" stroke-width=\"1.000000\"/>\n\t\t\t\t<rect fill=\"#00FF7F\" fill-opacity=\"1.000000\" height=\"5.000000\" stroke=\"#000000\" stroke-opacity=\"1.000000\" stroke-width=\"1.000000\" width=\"1.749268\" x=\"204.985153\" y=\"363.000000\"/>\n\t\t\t\t<rect fill=\"#00FF7F\" fill-opacity=\"1.000000\" height=\"5.000000\" stroke=\"#000000\" stroke-opacity=\"1.000000\" stroke-width=\"1.000000\" width=\"2.282593\" x=\"226.317780\" y=\"363.000000\"/>\n\t\t\t\t<rect fill=\"#00FF7F\" fill-opacity=\"1.000000\" height=\"5.000000\" stroke=\"#000000\" stroke-opacity=\"1.000000\" stroke-width=\"1.000000\" width=\"1.578613\" x=\"288.737030\" y=\"363.000000\"/>\n\t\t\t\t<rect fill=\"#00FF7F\" fill-opacity=\"1.000000\" height=\"5.000000\" stroke=\"#000000\" stroke-opacity=\"1.000000\" stroke-width=\"1.000000\" width=\"2.922577\" x=\"292.278259\" y=\"363.000000\"/>\n\t\t\t\t<rect fill=\"#00FF7F\" fill-opacity=\"1.000000\" height=\"5.000000\" stroke=\"#000000\" stroke-opacity=\"1.000000\" stroke-width=\"1.000000\" width=\"2.346588\" x=\"302.517914\" y=\"363.000000\"/>\n\t\t\t\t<rect fill=\"#00FF7F\" fill-opacity=\"1.000000\" height=\"5.000000\" stroke=\"#000000\" stroke-opacity=\"1.000000\" stroke-width=\"1.000000\" width=\"2.410583\" x=\"316.981415\" y=\"363.000000\"/>\n\t\t\t\t<rect fill=\"#00FF7F\" fill-opacity=\"1.000000\" height=\"5.000000\" stroke=\"#000000\" stroke-opacity=\"1.000000\" stroke-width=\"1.000000\" width=\"3.925201\" x=\"321.119965\" y=\"363.000000\"/>\n\t\t\t\t<rect fill=\"#00FF7F\" fill-opacity=\"1.000000\" height=\"5.000000\" stroke=\"#000000\" stroke-opacity=\"1.000000\" stroke-width=\"1.000000\" width=\"5.503815\" x=\"341.193939\" y=\"363.000000\"/>\n\t\t\t\t<rect fill=\"#FFFFFF\" fill-opacity=\"1.000000\" height=\"5.000000\" stroke=\"#000000\" stroke-opacity=\"1.000000\" stroke-width=\"1.000000\" width=\"1.000000\" x=\"346.697754\" y=\"363.000000\"/>\n\t\t\t\t<rect fill=\"#FFFFFF\" fill-opacity=\"1.000000\" height=\"5.000000\" stroke=\"#000000\" stroke-opacity=\"1.000000\" stroke-width=\"1.000000\" width=\"1.000000\" x=\"349.471008\" y=\"363.000000\"/>\n\t\t\t\t<rect fill=\"#FFFFFF\" fill-opacity=\"1.000000\" height=\"5.000000\" stroke=\"#000000\" stroke-opacity=\"1.000000\" stroke-width=\"1.000000\" width=\"2.175934\" x=\"352.436249\" y=\"363.000000\"/>\n\t\t\t\t<rect fill=\"#FFFFFF\" fill-opacity=\"1.000000\" height=\"5.000000\" stroke=\"#000000\" stroke-opacity=\"1.000000\" stroke-width=\"1.000000\" width=\"3.455872\" x=\"584.023193\" y=\"363.000000\"/>\n\t\t\t</g>\n\t\t\t<g fill=\"none\" name=\"TP53-223\" stroke=\"#000000\" stroke-opacity=\"1.000000\" stroke-width=\"1.000000\">\n\t\t\t\t<text style=\"font-family: Arial; font-size: 10.000000px; stroke: none; fill: #000000; \" x=\"547.713745\" y=\"380.500000\">TP53-223</text>\n\t\t\t\t<line stroke=\"#000000\" stroke-opacity=\"1.000000\" stroke-width=\"1.000000\" x1=\"179.236679\" x2=\"587.713745\" y1=\"385.500000\" y2=\"385.500000\"/>\n\t\t\t\t<polygon fill=\"#000000\" fill-opacity=\"1.000000\" points=\"179.236679 383.000000 179.236679 388.000000 174.236679 385.500000\" stroke=\"#000000\" stroke-opacity=\"1.000000\" stroke-width=\"1.000000\"/>\n\t\t\t\t<rect fill=\"#FFFFFF\" fill-opacity=\"1.000000\" height=\"5.000000\" stroke=\"#000000\" stroke-opacity=\"1.000000\" stroke-width=\"1.000000\" width=\"27.497757\" x=\"179.236679\" y=\"383.000000\"/>\n\t\t\t\t<rect fill=\"#FFFFFF\" fill-opacity=\"1.000000\" height=\"5.000000\" stroke=\"#000000\" stroke-opacity=\"1.000000\" stroke-width=\"1.000000\" width=\"2.282593\" x=\"226.317780\" y=\"383.000000\"/>\n\t\t\t\t<rect fill=\"#FFFFFF\" fill-opacity=\"1.000000\" height=\"5.000000\" stroke=\"#000000\" stroke-opacity=\"1.000000\" stroke-width=\"1.000000\" width=\"2.133270\" x=\"281.739929\" y=\"383.000000\"/>\n\t\t\t\t<rect fill=\"#00FF7F\" fill-opacity=\"1.000000\" height=\"5.000000\" stroke=\"#000000\" stroke-opacity=\"1.000000\" stroke-width=\"1.000000\" width=\"1.000000\" x=\"283.873199\" y=\"383.000000\"/>\n\t\t\t\t<rect fill=\"#00FF7F\" fill-opacity=\"1.000000\" height=\"5.000000\" stroke=\"#000000\" stroke-opacity=\"1.000000\" stroke-width=\"1.000000\" width=\"1.578613\" x=\"288.737030\" y=\"383.000000\"/>\n\t\t\t\t<rect fill=\"#00FF7F\" fill-opacity=\"1.000000\" height=\"5.000000\" stroke=\"#000000\" stroke-opacity=\"1.000000\" stroke-width=\"1.000000\" width=\"2.922577\" x=\"292.278259\" y=\"383.000000\"/>\n\t\t\t\t<rect fill=\"#00FF7F\" fill-opacity=\"1.000000\" height=\"5.000000\" stroke=\"#000000\" stroke-opacity=\"1.000000\" stroke-width=\"1.000000\" width=\"2.346588\" x=\"302.517914\" y=\"383.000000\"/>\n\t\t\t\t<rect fill=\"#00FF7F\" fill-opacity=\"1.000000\" height=\"5.000000\" stroke=\"#000000\" stroke-opacity=\"1.000000\" stroke-width=\"1.000000\" width=\"2.410583\" x=\"316.981415\" y=\"383.000000\"/>\n\t\t\t\t<rect fill=\"#00FF7F\" fill-opacity=\"1.000000\" height=\"5.000000\" stroke=\"#000000\" stroke-opacity=\"1.000000\" stroke-width=\"1.000000\" width=\"3.925201\" x=\"321.119965\" y=\"383.000000\"/>\n\t\t\t\t<rect fill=\"#00FF7F\" fill-opacity=\"1.000000\" height=\"5.000000\" stroke=\"#000000\" stroke-opacity=\"1.000000\" stroke-width=\"1.000000\" width=\"5.951813\" x=\"341.193939\" y=\"383.000000\"/>\n\t\t\t\t<rect fill=\"#00FF7F\" fill-opacity=\"1.000000\" height=\"5.000000\" stroke=\"#000000\" stroke-opacity=\"1.000000\" stroke-width=\"1.000000\" width=\"1.000000\" x=\"349.471008\" y=\"383.000000\"/>\n\t\t\t\t<rect fill=\"#00FF7F\" fill-opacity=\"1.000000\" height=\"5.000000\" stroke=\"#000000\" stroke-opacity=\"1.000000\" stroke-width=\"1.000000\" width=\"1.578613\" x=\"352.436249\" y=\"383.000000\"/>\n\t\t\t\t<rect fill=\"#FFFFFF\" fill-opacity=\"1.000000\" height=\"5.000000\" stroke=\"#000000\" stroke-opacity=\"1.000000\" stroke-width=\"1.000000\" width=\"1.000000\" x=\"354.014862\" y=\"383.000000\"/>\n\t\t\t\t<rect fill=\"#FFFFFF\" fill-opacity=\"1.000000\" height=\"5.000000\" stroke=\"#000000\" stroke-opacity=\"1.000000\" stroke-width=\"1.000000\" width=\"3.711853\" x=\"584.023193\" y=\"383.000000\"/>\n\t\t\t</g>\n\t\t\t<g fill=\"none\" name=\"TP53-206\" stroke=\"#000000\" stroke-opacity=\"1.000000\" stroke-width=\"1.000000\">\n\t\t\t\t<text style=\"font-family: Arial; font-size: 10.000000px; stroke: none; fill: #000000; \" x=\"546.241760\" y=\"400.500000\">TP53-206</text>\n\t\t\t\t<line stroke=\"#000000\" stroke-opacity=\"1.000000\" stroke-width=\"1.000000\" x1=\"179.279358\" x2=\"586.241760\" y1=\"405.500000\" y2=\"405.500000\"/>\n\t\t\t\t<polygon fill=\"#000000\" fill-opacity=\"1.000000\" points=\"179.279358 403.000000 179.279358 408.000000 174.279358 405.500000\" stroke=\"#000000\" stroke-opacity=\"1.000000\" stroke-width=\"1.000000\"/>\n\t\t\t\t<rect fill=\"#FFFFFF\" fill-opacity=\"1.000000\" height=\"5.000000\" stroke=\"#000000\" stroke-opacity=\"1.000000\" stroke-width=\"1.000000\" width=\"27.455078\" x=\"179.279358\" y=\"403.000000\"/>\n\t\t\t\t<rect fill=\"#FFFFFF\" fill-opacity=\"1.000000\" height=\"5.000000\" stroke=\"#000000\" stroke-opacity=\"1.000000\" stroke-width=\"1.000000\" width=\"2.282593\" x=\"226.317780\" y=\"403.000000\"/>\n\t\t\t\t<rect fill=\"#FFFFFF\" fill-opacity=\"1.000000\" height=\"5.000000\" stroke=\"#000000\" stroke-opacity=\"1.000000\" stroke-width=\"1.000000\" width=\"1.000000\" x=\"281.739929\" y=\"403.000000\"/>\n\t\t\t\t<rect fill=\"#00FF7F\" fill-opacity=\"1.000000\" height=\"5.000000\" stroke=\"#000000\" stroke-opacity=\"1.000000\" stroke-width=\"1.000000\" width=\"1.023956\" x=\"281.995911\" y=\"403.000000\"/>\n\t\t\t\t<rect fill=\"#00FF7F\" fill-opacity=\"1.000000\" height=\"5.000000\" stroke=\"#000000\" stroke-opacity=\"1.000000\" stroke-width=\"1.000000\" width=\"1.578613\" x=\"288.737030\" y=\"403.000000\"/>\n\t\t\t\t<rect fill=\"#00FF7F\" fill-opacity=\"1.000000\" height=\"5.000000\" stroke=\"#000000\" stroke-opacity=\"1.000000\" stroke-width=\"1.000000\" width=\"2.922577\" x=\"292.278259\" y=\"403.000000\"/>\n\t\t\t\t<rect fill=\"#00FF7F\" fill-opacity=\"1.000000\" height=\"5.000000\" stroke=\"#000000\" stroke-opacity=\"1.000000\" stroke-width=\"1.000000\" width=\"2.346588\" x=\"302.517914\" y=\"403.000000\"/>\n\t\t\t\t<rect fill=\"#00FF7F\" fill-opacity=\"1.000000\" height=\"5.000000\" stroke=\"#000000\" stroke-opacity=\"1.000000\" stroke-width=\"1.000000\" width=\"2.410583\" x=\"316.981415\" y=\"403.000000\"/>\n\t\t\t\t<rect fill=\"#00FF7F\" fill-opacity=\"1.000000\" height=\"5.000000\" stroke=\"#000000\" stroke-opacity=\"1.000000\" stroke-width=\"1.000000\" width=\"3.925201\" x=\"321.119965\" y=\"403.000000\"/>\n\t\t\t\t<rect fill=\"#00FF7F\" fill-opacity=\"1.000000\" height=\"5.000000\" stroke=\"#000000\" stroke-opacity=\"1.000000\" stroke-width=\"1.000000\" width=\"5.951813\" x=\"341.193939\" y=\"403.000000\"/>\n\t\t\t\t<rect fill=\"#00FF7F\" fill-opacity=\"1.000000\" height=\"5.000000\" stroke=\"#000000\" stroke-opacity=\"1.000000\" stroke-width=\"1.000000\" width=\"1.000000\" x=\"349.471008\" y=\"403.000000\"/>\n\t\t\t\t<rect fill=\"#00FF7F\" fill-opacity=\"1.000000\" height=\"5.000000\" stroke=\"#000000\" stroke-opacity=\"1.000000\" stroke-width=\"1.000000\" width=\"1.578613\" x=\"352.436249\" y=\"403.000000\"/>\n\t\t\t\t<rect fill=\"#FFFFFF\" fill-opacity=\"1.000000\" height=\"5.000000\" stroke=\"#000000\" stroke-opacity=\"1.000000\" stroke-width=\"1.000000\" width=\"1.000000\" x=\"354.014862\" y=\"403.000000\"/>\n\t\t\t\t<rect fill=\"#FFFFFF\" fill-opacity=\"1.000000\" height=\"5.000000\" stroke=\"#000000\" stroke-opacity=\"1.000000\" stroke-width=\"1.000000\" width=\"2.239929\" x=\"584.023193\" y=\"403.000000\"/>\n\t\t\t</g>\n\t\t\t<g fill=\"none\" name=\"TP53-204\" stroke=\"#000000\" stroke-opacity=\"1.000000\" stroke-width=\"1.000000\">\n\t\t\t\t<text style=\"font-family: Arial; font-size: 10.000000px; stroke: none; fill: #000000; \" x=\"546.241760\" y=\"420.500000\">TP53-204</text>\n\t\t\t\t<line stroke=\"#000000\" stroke-opacity=\"1.000000\" stroke-width=\"1.000000\" x1=\"179.279358\" x2=\"586.241760\" y1=\"425.500000\" y2=\"425.500000\"/>\n\t\t\t\t<polygon fill=\"#000000\" fill-opacity=\"1.000000\" points=\"179.279358 423.000000 179.279358 428.000000 174.279358 425.500000\" stroke=\"#000000\" stroke-opacity=\"1.000000\" stroke-width=\"1.000000\"/>\n\t\t\t\t<rect fill=\"#FFFFFF\" fill-opacity=\"1.000000\" height=\"5.000000\" stroke=\"#000000\" stroke-opacity=\"1.000000\" stroke-width=\"1.000000\" width=\"27.455078\" x=\"179.279358\" y=\"423.000000\"/>\n\t\t\t\t<rect fill=\"#FFFFFF\" fill-opacity=\"1.000000\" height=\"5.000000\" stroke=\"#000000\" stroke-opacity=\"1.000000\" stroke-width=\"1.000000\" width=\"2.282593\" x=\"226.317780\" y=\"423.000000\"/>\n\t\t\t\t<rect fill=\"#FFFFFF\" fill-opacity=\"1.000000\" height=\"5.000000\" stroke=\"#000000\" stroke-opacity=\"1.000000\" stroke-width=\"1.000000\" width=\"2.133270\" x=\"281.739929\" y=\"423.000000\"/>\n\t\t\t\t<rect fill=\"#00FF7F\" fill-opacity=\"1.000000\" height=\"5.000000\" stroke=\"#000000\" stroke-opacity=\"1.000000\" stroke-width=\"1.000000\" width=\"1.000000\" x=\"283.873199\" y=\"423.000000\"/>\n\t\t\t\t<rect fill=\"#00FF7F\" fill-opacity=\"1.000000\" height=\"5.000000\" stroke=\"#000000\" stroke-opacity=\"1.000000\" stroke-width=\"1.000000\" width=\"1.578613\" x=\"288.737030\" y=\"423.000000\"/>\n\t\t\t\t<rect fill=\"#00FF7F\" fill-opacity=\"1.000000\" height=\"5.000000\" stroke=\"#000000\" stroke-opacity=\"1.000000\" stroke-width=\"1.000000\" width=\"2.922577\" x=\"292.278259\" y=\"423.000000\"/>\n\t\t\t\t<rect fill=\"#00FF7F\" fill-opacity=\"1.000000\" height=\"5.000000\" stroke=\"#000000\" stroke-opacity=\"1.000000\" stroke-width=\"1.000000\" width=\"2.346588\" x=\"302.517914\" y=\"423.000000\"/>\n\t\t\t\t<rect fill=\"#00FF7F\" fill-opacity=\"1.000000\" height=\"5.000000\" stroke=\"#000000\" stroke-opacity=\"1.000000\" stroke-width=\"1.000000\" width=\"2.410583\" x=\"316.981415\" y=\"423.000000\"/>\n\t\t\t\t<rect fill=\"#00FF7F\" fill-opacity=\"1.000000\" height=\"5.000000\" stroke=\"#000000\" stroke-opacity=\"1.000000\" stroke-width=\"1.000000\" width=\"3.925201\" x=\"321.119965\" y=\"423.000000\"/>\n\t\t\t\t<rect fill=\"#00FF7F\" fill-opacity=\"1.000000\" height=\"5.000000\" stroke=\"#000000\" stroke-opacity=\"1.000000\" stroke-width=\"1.000000\" width=\"5.951813\" x=\"341.193939\" y=\"423.000000\"/>\n\t\t\t\t<rect fill=\"#00FF7F\" fill-opacity=\"1.000000\" height=\"5.000000\" stroke=\"#000000\" stroke-opacity=\"1.000000\" stroke-width=\"1.000000\" width=\"1.000000\" x=\"349.471008\" y=\"423.000000\"/>\n\t\t\t\t<rect fill=\"#00FF7F\" fill-opacity=\"1.000000\" height=\"5.000000\" stroke=\"#000000\" stroke-opacity=\"1.000000\" stroke-width=\"1.000000\" width=\"1.578613\" x=\"352.436249\" y=\"423.000000\"/>\n\t\t\t\t<rect fill=\"#FFFFFF\" fill-opacity=\"1.000000\" height=\"5.000000\" stroke=\"#000000\" stroke-opacity=\"1.000000\" stroke-width=\"1.000000\" width=\"1.000000\" x=\"354.014862\" y=\"423.000000\"/>\n\t\t\t\t<rect fill=\"#FFFFFF\" fill-opacity=\"1.000000\" height=\"5.000000\" stroke=\"#000000\" stroke-opacity=\"1.000000\" stroke-width=\"1.000000\" width=\"2.239929\" x=\"584.023193\" y=\"423.000000\"/>\n\t\t\t</g>\n\t\t\t<g fill=\"none\" name=\"TP53-228\" stroke=\"#000000\" stroke-opacity=\"1.000000\" stroke-width=\"1.000000\">\n\t\t\t\t<text style=\"font-family: Arial; font-size: 10.000000px; stroke: none; fill: #000000; \" x=\"546.241760\" y=\"440.500000\">TP53-228</text>\n\t\t\t\t<line stroke=\"#000000\" stroke-opacity=\"1.000000\" stroke-width=\"1.000000\" x1=\"179.279358\" x2=\"586.241760\" y1=\"445.500000\" y2=\"445.500000\"/>\n\t\t\t\t<polygon fill=\"#000000\" fill-opacity=\"1.000000\" points=\"179.279358 443.000000 179.279358 448.000000 174.279358 445.500000\" stroke=\"#000000\" stroke-opacity=\"1.000000\" stroke-width=\"1.000000\"/>\n\t\t\t\t<rect fill=\"#FFFFFF\" fill-opacity=\"1.000000\" height=\"5.000000\" stroke=\"#000000\" stroke-opacity=\"1.000000\" stroke-width=\"1.000000\" width=\"27.455078\" x=\"179.279358\" y=\"443.000000\"/>\n\t\t\t\t<rect fill=\"#FFFFFF\" fill-opacity=\"1.000000\" height=\"5.000000\" stroke=\"#000000\" stroke-opacity=\"1.000000\" stroke-width=\"1.000000\" width=\"2.282593\" x=\"226.317780\" y=\"443.000000\"/>\n\t\t\t\t<rect fill=\"#FFFFFF\" fill-opacity=\"1.000000\" height=\"5.000000\" stroke=\"#000000\" stroke-opacity=\"1.000000\" stroke-width=\"1.000000\" width=\"2.133270\" x=\"281.739929\" y=\"443.000000\"/>\n\t\t\t\t<rect fill=\"#00FF7F\" fill-opacity=\"1.000000\" height=\"5.000000\" stroke=\"#000000\" stroke-opacity=\"1.000000\" stroke-width=\"1.000000\" width=\"1.000000\" x=\"283.873199\" y=\"443.000000\"/>\n\t\t\t\t<rect fill=\"#00FF7F\" fill-opacity=\"1.000000\" height=\"5.000000\" stroke=\"#000000\" stroke-opacity=\"1.000000\" stroke-width=\"1.000000\" width=\"1.578613\" x=\"288.737030\" y=\"443.000000\"/>\n\t\t\t\t<rect fill=\"#00FF7F\" fill-opacity=\"1.000000\" height=\"5.000000\" stroke=\"#000000\" stroke-opacity=\"1.000000\" stroke-width=\"1.000000\" width=\"2.922577\" x=\"292.278259\" y=\"443.000000\"/>\n\t\t\t\t<rect fill=\"#00FF7F\" fill-opacity=\"1.000000\" height=\"5.000000\" stroke=\"#000000\" stroke-opacity=\"1.000000\" stroke-width=\"1.000000\" width=\"2.346588\" x=\"302.517914\" y=\"443.000000\"/>\n\t\t\t\t<rect fill=\"#00FF7F\" fill-opacity=\"1.000000\" height=\"5.000000\" stroke=\"#000000\" stroke-opacity=\"1.000000\" stroke-width=\"1.000000\" width=\"2.410583\" x=\"316.981415\" y=\"443.000000\"/>\n\t\t\t\t<rect fill=\"#00FF7F\" fill-opacity=\"1.000000\" height=\"5.000000\" stroke=\"#000000\" stroke-opacity=\"1.000000\" stroke-width=\"1.000000\" width=\"3.925201\" x=\"321.119965\" y=\"443.000000\"/>\n\t\t\t\t<rect fill=\"#00FF7F\" fill-opacity=\"1.000000\" height=\"5.000000\" stroke=\"#000000\" stroke-opacity=\"1.000000\" stroke-width=\"1.000000\" width=\"5.503815\" x=\"341.193939\" y=\"443.000000\"/>\n\t\t\t\t<rect fill=\"#FFFFFF\" fill-opacity=\"1.000000\" height=\"5.000000\" stroke=\"#000000\" stroke-opacity=\"1.000000\" stroke-width=\"1.000000\" width=\"1.000000\" x=\"346.697754\" y=\"443.000000\"/>\n\t\t\t\t<rect fill=\"#FFFFFF\" fill-opacity=\"1.000000\" height=\"5.000000\" stroke=\"#000000\" stroke-opacity=\"1.000000\" stroke-width=\"1.000000\" width=\"1.000000\" x=\"349.471008\" y=\"443.000000\"/>\n\t\t\t\t<rect fill=\"#FFFFFF\" fill-opacity=\"1.000000\" height=\"5.000000\" stroke=\"#000000\" stroke-opacity=\"1.000000\" stroke-width=\"1.000000\" width=\"2.175934\" x=\"352.436249\" y=\"443.000000\"/>\n\t\t\t\t<rect fill=\"#FFFFFF\" fill-opacity=\"1.000000\" height=\"5.000000\" stroke=\"#000000\" stroke-opacity=\"1.000000\" stroke-width=\"1.000000\" width=\"2.239929\" x=\"584.023193\" y=\"443.000000\"/>\n\t\t\t</g>\n\t\t\t<g fill=\"none\" name=\"TP53-220\" stroke=\"#000000\" stroke-opacity=\"1.000000\" stroke-width=\"1.000000\">\n\t\t\t\t<text style=\"font-family: Arial; font-size: 10.000000px; stroke: none; fill: #000000; \" x=\"546.241760\" y=\"460.500000\">TP53-220</text>\n\t\t\t\t<line stroke=\"#000000\" stroke-opacity=\"1.000000\" stroke-width=\"1.000000\" x1=\"179.279358\" x2=\"586.241760\" y1=\"465.500000\" y2=\"465.500000\"/>\n\t\t\t\t<polygon fill=\"#000000\" fill-opacity=\"1.000000\" points=\"179.279358 463.000000 179.279358 468.000000 174.279358 465.500000\" stroke=\"#000000\" stroke-opacity=\"1.000000\" stroke-width=\"1.000000\"/>\n\t\t\t\t<rect fill=\"#FFFFFF\" fill-opacity=\"1.000000\" height=\"5.000000\" stroke=\"#000000\" stroke-opacity=\"1.000000\" stroke-width=\"1.000000\" width=\"27.455078\" x=\"179.279358\" y=\"463.000000\"/>\n\t\t\t\t<rect fill=\"#FFFFFF\" fill-opacity=\"1.000000\" height=\"5.000000\" stroke=\"#000000\" stroke-opacity=\"1.000000\" stroke-width=\"1.000000\" width=\"2.282593\" x=\"226.317780\" y=\"463.000000\"/>\n\t\t\t\t<rect fill=\"#FFFFFF\" fill-opacity=\"1.000000\" height=\"5.000000\" stroke=\"#000000\" stroke-opacity=\"1.000000\" stroke-width=\"1.000000\" width=\"1.000000\" x=\"281.739929\" y=\"463.000000\"/>\n\t\t\t\t<rect fill=\"#00FF7F\" fill-opacity=\"1.000000\" height=\"5.000000\" stroke=\"#000000\" stroke-opacity=\"1.000000\" stroke-width=\"1.000000\" width=\"1.023956\" x=\"281.995911\" y=\"463.000000\"/>\n\t\t\t\t<rect fill=\"#00FF7F\" fill-opacity=\"1.000000\" height=\"5.000000\" stroke=\"#000000\" stroke-opacity=\"1.000000\" stroke-width=\"1.000000\" width=\"1.578613\" x=\"288.737030\" y=\"463.000000\"/>\n\t\t\t\t<rect fill=\"#00FF7F\" fill-opacity=\"1.000000\" height=\"5.000000\" stroke=\"#000000\" stroke-opacity=\"1.000000\" stroke-width=\"1.000000\" width=\"2.922577\" x=\"292.278259\" y=\"463.000000\"/>\n\t\t\t\t<rect fill=\"#00FF7F\" fill-opacity=\"1.000000\" height=\"5.000000\" stroke=\"#000000\" stroke-opacity=\"1.000000\" stroke-width=\"1.000000\" width=\"2.346588\" x=\"302.517914\" y=\"463.000000\"/>\n\t\t\t\t<rect fill=\"#00FF7F\" fill-opacity=\"1.000000\" height=\"5.000000\" stroke=\"#000000\" stroke-opacity=\"1.000000\" stroke-width=\"1.000000\" width=\"2.410583\" x=\"316.981415\" y=\"463.000000\"/>\n\t\t\t\t<rect fill=\"#00FF7F\" fill-opacity=\"1.000000\" height=\"5.000000\" stroke=\"#000000\" stroke-opacity=\"1.000000\" stroke-width=\"1.000000\" width=\"3.925201\" x=\"321.119965\" y=\"463.000000\"/>\n\t\t\t\t<rect fill=\"#00FF7F\" fill-opacity=\"1.000000\" height=\"5.000000\" stroke=\"#000000\" stroke-opacity=\"1.000000\" stroke-width=\"1.000000\" width=\"5.503815\" x=\"341.193939\" y=\"463.000000\"/>\n\t\t\t\t<rect fill=\"#FFFFFF\" fill-opacity=\"1.000000\" height=\"5.000000\" stroke=\"#000000\" stroke-opacity=\"1.000000\" stroke-width=\"1.000000\" width=\"1.000000\" x=\"346.697754\" y=\"463.000000\"/>\n\t\t\t\t<rect fill=\"#FFFFFF\" fill-opacity=\"1.000000\" height=\"5.000000\" stroke=\"#000000\" stroke-opacity=\"1.000000\" stroke-width=\"1.000000\" width=\"1.000000\" x=\"349.471008\" y=\"463.000000\"/>\n\t\t\t\t<rect fill=\"#FFFFFF\" fill-opacity=\"1.000000\" height=\"5.000000\" stroke=\"#000000\" stroke-opacity=\"1.000000\" stroke-width=\"1.000000\" width=\"2.175934\" x=\"352.436249\" y=\"463.000000\"/>\n\t\t\t\t<rect fill=\"#FFFFFF\" fill-opacity=\"1.000000\" height=\"5.000000\" stroke=\"#000000\" stroke-opacity=\"1.000000\" stroke-width=\"1.000000\" width=\"2.239929\" x=\"584.023193\" y=\"463.000000\"/>\n\t\t\t</g>\n\t\t\t<g fill=\"none\" name=\"TP53-205\" stroke=\"#000000\" stroke-opacity=\"1.000000\" stroke-width=\"1.000000\">\n\t\t\t\t<text style=\"font-family: Arial; font-size: 10.000000px; stroke: none; fill: #000000; \" x=\"546.369751\" y=\"480.500000\">TP53-205</text>\n\t\t\t\t<line stroke=\"#000000\" stroke-opacity=\"1.000000\" stroke-width=\"1.000000\" x1=\"179.642014\" x2=\"586.369751\" y1=\"485.500000\" y2=\"485.500000\"/>\n\t\t\t\t<polygon fill=\"#000000\" fill-opacity=\"1.000000\" points=\"179.642014 483.000000 179.642014 488.000000 174.642014 485.500000\" stroke=\"#000000\" stroke-opacity=\"1.000000\" stroke-width=\"1.000000\"/>\n\t\t\t\t<rect fill=\"#00FF7F\" fill-opacity=\"1.000000\" height=\"5.000000\" stroke=\"#000000\" stroke-opacity=\"1.000000\" stroke-width=\"1.000000\" width=\"1.749268\" x=\"204.985153\" y=\"483.000000\"/>\n\t\t\t\t<rect fill=\"#00FF7F\" fill-opacity=\"1.000000\" height=\"5.000000\" stroke=\"#000000\" stroke-opacity=\"1.000000\" stroke-width=\"1.000000\" width=\"2.282593\" x=\"226.317780\" y=\"483.000000\"/>\n\t\t\t\t<rect fill=\"#00FF7F\" fill-opacity=\"1.000000\" height=\"5.000000\" stroke=\"#000000\" stroke-opacity=\"1.000000\" stroke-width=\"1.000000\" width=\"1.578613\" x=\"288.737030\" y=\"483.000000\"/>\n\t\t\t\t<rect fill=\"#00FF7F\" fill-opacity=\"1.000000\" height=\"5.000000\" stroke=\"#000000\" stroke-opacity=\"1.000000\" stroke-width=\"1.000000\" width=\"2.922577\" x=\"292.278259\" y=\"483.000000\"/>\n\t\t\t\t<rect fill=\"#00FF7F\" fill-opacity=\"1.000000\" height=\"5.000000\" stroke=\"#000000\" stroke-opacity=\"1.000000\" stroke-width=\"1.000000\" width=\"2.346588\" x=\"302.517914\" y=\"483.000000\"/>\n\t\t\t\t<rect fill=\"#00FF7F\" fill-opacity=\"1.000000\" height=\"5.000000\" stroke=\"#000000\" stroke-opacity=\"1.000000\" stroke-width=\"1.000000\" width=\"2.410583\" x=\"316.981415\" y=\"483.000000\"/>\n\t\t\t\t<rect fill=\"#00FF7F\" fill-opacity=\"1.000000\" height=\"5.000000\" stroke=\"#000000\" stroke-opacity=\"1.000000\" stroke-width=\"1.000000\" width=\"3.925201\" x=\"321.119965\" y=\"483.000000\"/>\n\t\t\t\t<rect fill=\"#00FF7F\" fill-opacity=\"1.000000\" height=\"5.000000\" stroke=\"#000000\" stroke-opacity=\"1.000000\" stroke-width=\"1.000000\" width=\"5.951813\" x=\"341.193939\" y=\"483.000000\"/>\n\t\t\t\t<rect fill=\"#00FF7F\" fill-opacity=\"1.000000\" height=\"5.000000\" stroke=\"#000000\" stroke-opacity=\"1.000000\" stroke-width=\"1.000000\" width=\"1.000000\" x=\"349.471008\" y=\"483.000000\"/>\n\t\t\t\t<rect fill=\"#00FF7F\" fill-opacity=\"1.000000\" height=\"5.000000\" stroke=\"#000000\" stroke-opacity=\"1.000000\" stroke-width=\"1.000000\" width=\"1.578613\" x=\"352.436249\" y=\"483.000000\"/>\n\t\t\t\t<rect fill=\"#FFFFFF\" fill-opacity=\"1.000000\" height=\"5.000000\" stroke=\"#000000\" stroke-opacity=\"1.000000\" stroke-width=\"1.000000\" width=\"1.000000\" x=\"354.014862\" y=\"483.000000\"/>\n\t\t\t\t<rect fill=\"#FFFFFF\" fill-opacity=\"1.000000\" height=\"5.000000\" stroke=\"#000000\" stroke-opacity=\"1.000000\" stroke-width=\"1.000000\" width=\"2.367920\" x=\"584.023193\" y=\"483.000000\"/>\n\t\t\t</g>\n\t\t\t<g fill=\"none\" name=\"TP53-226\" stroke=\"#000000\" stroke-opacity=\"1.000000\" stroke-width=\"1.000000\">\n\t\t\t\t<text style=\"font-family: Arial; font-size: 10.000000px; stroke: none; fill: #000000; \" x=\"546.369751\" y=\"500.500000\">TP53-226</text>\n\t\t\t\t<line stroke=\"#000000\" stroke-opacity=\"1.000000\" stroke-width=\"1.000000\" x1=\"179.642014\" x2=\"586.369751\" y1=\"505.500000\" y2=\"505.500000\"/>\n\t\t\t\t<polygon fill=\"#000000\" fill-opacity=\"1.000000\" points=\"179.642014 503.000000 179.642014 508.000000 174.642014 505.500000\" stroke=\"#000000\" stroke-opacity=\"1.000000\" stroke-width=\"1.000000\"/>\n\t\t\t\t<rect fill=\"#00FF7F\" fill-opacity=\"1.000000\" height=\"5.000000\" stroke=\"#000000\" stroke-opacity=\"1.000000\" stroke-width=\"1.000000\" width=\"1.749268\" x=\"204.985153\" y=\"503.000000\"/>\n\t\t\t\t<rect fill=\"#00FF7F\" fill-opacity=\"1.000000\" height=\"5.000000\" stroke=\"#000000\" stroke-opacity=\"1.000000\" stroke-width=\"1.000000\" width=\"2.282593\" x=\"226.317780\" y=\"503.000000\"/>\n\t\t\t\t<rect fill=\"#00FF7F\" fill-opacity=\"1.000000\" height=\"5.000000\" stroke=\"#000000\" stroke-opacity=\"1.000000\" stroke-width=\"1.000000\" width=\"1.578613\" x=\"288.737030\" y=\"503.000000\"/>\n\t\t\t\t<rect fill=\"#00FF7F\" fill-opacity=\"1.000000\" height=\"5.000000\" stroke=\"#000000\" stroke-opacity=\"1.000000\" stroke-width=\"1.000000\" width=\"2.922577\" x=\"292.278259\" y=\"503.000000\"/>\n\t\t\t\t<rect fill=\"#00FF7F\" fill-opacity=\"1.000000\" height=\"5.000000\" stroke=\"#000000\" stroke-opacity=\"1.000000\" stroke-width=\"1.000000\" width=\"2.346588\" x=\"302.517914\" y=\"503.000000\"/>\n\t\t\t\t<rect fill=\"#00FF7F\" fill-opacity=\"1.000000\" height=\"5.000000\" stroke=\"#000000\" stroke-opacity=\"1.000000\" stroke-width=\"1.000000\" width=\"2.410583\" x=\"316.981415\" y=\"503.000000\"/>\n\t\t\t\t<rect fill=\"#00FF7F\" fill-opacity=\"1.000000\" height=\"5.000000\" stroke=\"#000000\" stroke-opacity=\"1.000000\" stroke-width=\"1.000000\" width=\"3.925201\" x=\"321.119965\" y=\"503.000000\"/>\n\t\t\t\t<rect fill=\"#00FF7F\" fill-opacity=\"1.000000\" height=\"5.000000\" stroke=\"#000000\" stroke-opacity=\"1.000000\" stroke-width=\"1.000000\" width=\"5.503815\" x=\"341.193939\" y=\"503.000000\"/>\n\t\t\t\t<rect fill=\"#FFFFFF\" fill-opacity=\"1.000000\" height=\"5.000000\" stroke=\"#000000\" stroke-opacity=\"1.000000\" stroke-width=\"1.000000\" width=\"1.000000\" x=\"346.697754\" y=\"503.000000\"/>\n\t\t\t\t<rect fill=\"#FFFFFF\" fill-opacity=\"1.000000\" height=\"5.000000\" stroke=\"#000000\" stroke-opacity=\"1.000000\" stroke-width=\"1.000000\" width=\"1.000000\" x=\"349.471008\" y=\"503.000000\"/>\n\t\t\t\t<rect fill=\"#FFFFFF\" fill-opacity=\"1.000000\" height=\"5.000000\" stroke=\"#000000\" stroke-opacity=\"1.000000\" stroke-width=\"1.000000\" width=\"2.111938\" x=\"352.436249\" y=\"503.000000\"/>\n\t\t\t\t<rect fill=\"#FFFFFF\" fill-opacity=\"1.000000\" height=\"5.000000\" stroke=\"#000000\" stroke-opacity=\"1.000000\" stroke-width=\"1.000000\" width=\"2.367920\" x=\"584.023193\" y=\"503.000000\"/>\n\t\t\t</g>\n\t\t\t<g fill=\"none\" name=\"TP53-217\" stroke=\"#000000\" stroke-opacity=\"1.000000\" stroke-width=\"1.000000\">\n\t\t\t\t<text style=\"font-family: Arial; font-size: 10.000000px; stroke: none; fill: #000000; \" x=\"249.846344\" y=\"520.500000\">TP53-217</text>\n\t\t\t\t<line stroke=\"#000000\" stroke-opacity=\"1.000000\" stroke-width=\"1.000000\" x1=\"204.131851\" x2=\"289.846344\" y1=\"525.500000\" y2=\"525.500000\"/>\n\t\t\t\t<polygon fill=\"#000000\" fill-opacity=\"1.000000\" points=\"204.131851 523.000000 204.131851 528.000000 199.131851 525.500000\" stroke=\"#000000\" stroke-opacity=\"1.000000\" stroke-width=\"1.000000\"/>\n\t\t\t\t<rect fill=\"#00FF7F\" fill-opacity=\"1.000000\" height=\"5.000000\" stroke=\"#000000\" stroke-opacity=\"1.000000\" stroke-width=\"1.000000\" width=\"1.000000\" x=\"205.838470\" y=\"523.000000\"/>\n\t\t\t\t<rect fill=\"#00FF7F\" fill-opacity=\"1.000000\" height=\"5.000000\" stroke=\"#000000\" stroke-opacity=\"1.000000\" stroke-width=\"1.000000\" width=\"1.130615\" x=\"288.737030\" y=\"523.000000\"/>\n\t\t\t</g>\n\t\t\t<g fill=\"none\" name=\"TP53-222\" stroke=\"#000000\" stroke-opacity=\"1.000000\" stroke-width=\"1.000000\">\n\t\t\t\t<text style=\"font-family: Arial; font-size: 10.000000px; stroke: none; fill: #000000; \" x=\"313.993530\" y=\"540.500000\">TP53-222</text>\n\t\t\t\t<line stroke=\"#000000\" stroke-opacity=\"1.000000\" stroke-width=\"1.000000\" x1=\"204.985153\" x2=\"353.993530\" y1=\"545.500000\" y2=\"545.500000\"/>\n\t\t\t\t<polygon fill=\"#000000\" fill-opacity=\"1.000000\" points=\"204.985153 543.000000 204.985153 548.000000 199.985153 545.500000\" stroke=\"#000000\" stroke-opacity=\"1.000000\" stroke-width=\"1.000000\"/>\n\t\t\t\t<rect fill=\"#00FF7F\" fill-opacity=\"1.000000\" height=\"5.000000\" stroke=\"#000000\" stroke-opacity=\"1.000000\" stroke-width=\"1.000000\" width=\"1.749268\" x=\"204.985153\" y=\"543.000000\"/>\n\t\t\t\t<rect fill=\"#00FF7F\" fill-opacity=\"1.000000\" height=\"5.000000\" stroke=\"#000000\" stroke-opacity=\"1.000000\" stroke-width=\"1.000000\" width=\"2.282593\" x=\"226.317780\" y=\"543.000000\"/>\n\t\t\t\t<rect fill=\"#00FF7F\" fill-opacity=\"1.000000\" height=\"5.000000\" stroke=\"#000000\" stroke-opacity=\"1.000000\" stroke-width=\"1.000000\" width=\"1.578613\" x=\"288.737030\" y=\"543.000000\"/>\n\t\t\t\t<rect fill=\"#00FF7F\" fill-opacity=\"1.000000\" height=\"5.000000\" stroke=\"#000000\" stroke-opacity=\"1.000000\" stroke-width=\"1.000000\" width=\"2.922577\" x=\"292.278259\" y=\"543.000000\"/>\n\t\t\t\t<rect fill=\"#00FF7F\" fill-opacity=\"1.000000\" height=\"5.000000\" stroke=\"#000000\" stroke-opacity=\"1.000000\" stroke-width=\"1.000000\" width=\"2.346588\" x=\"302.517914\" y=\"543.000000\"/>\n\t\t\t\t<rect fill=\"#00FF7F\" fill-opacity=\"1.000000\" height=\"5.000000\" stroke=\"#000000\" stroke-opacity=\"1.000000\" stroke-width=\"1.000000\" width=\"2.410583\" x=\"316.981415\" y=\"543.000000\"/>\n\t\t\t\t<rect fill=\"#00FF7F\" fill-opacity=\"1.000000\" height=\"5.000000\" stroke=\"#000000\" stroke-opacity=\"1.000000\" stroke-width=\"1.000000\" width=\"3.967865\" x=\"321.119965\" y=\"543.000000\"/>\n\t\t\t\t<rect fill=\"#00FF7F\" fill-opacity=\"1.000000\" height=\"5.000000\" stroke=\"#000000\" stroke-opacity=\"1.000000\" stroke-width=\"1.000000\" width=\"1.000000\" x=\"341.855255\" y=\"543.000000\"/>\n\t\t\t\t<rect fill=\"#00FF7F\" fill-opacity=\"1.000000\" height=\"5.000000\" stroke=\"#000000\" stroke-opacity=\"1.000000\" stroke-width=\"1.000000\" width=\"5.055817\" x=\"342.089905\" y=\"543.000000\"/>\n\t\t\t\t<rect fill=\"#00FF7F\" fill-opacity=\"1.000000\" height=\"5.000000\" stroke=\"#000000\" stroke-opacity=\"1.000000\" stroke-width=\"1.000000\" width=\"1.000000\" x=\"349.471008\" y=\"543.000000\"/>\n\t\t\t\t<rect fill=\"#00FF7F\" fill-opacity=\"1.000000\" height=\"5.000000\" stroke=\"#000000\" stroke-opacity=\"1.000000\" stroke-width=\"1.000000\" width=\"1.578613\" x=\"352.436249\" y=\"543.000000\"/>\n\t\t\t</g>\n\t\t\t<g fill=\"none\" name=\"TP53-212\" stroke=\"#000000\" stroke-opacity=\"1.000000\" stroke-width=\"1.000000\">\n\t\t\t\t<text style=\"font-family: Arial; font-size: 10.000000px; stroke: none; fill: #000000; \" x=\"546.369751\" y=\"560.500000\">TP53-212</text>\n\t\t\t\t<line stroke=\"#000000\" stroke-opacity=\"1.000000\" stroke-width=\"1.000000\" x1=\"288.737030\" x2=\"586.369751\" y1=\"565.500000\" y2=\"565.500000\"/>\n\t\t\t\t<polygon fill=\"#000000\" fill-opacity=\"1.000000\" points=\"288.737030 563.000000 288.737030 568.000000 283.737030 565.500000\" stroke=\"#000000\" stroke-opacity=\"1.000000\" stroke-width=\"1.000000\"/>\n\t\t\t\t<rect fill=\"#00FF7F\" fill-opacity=\"1.000000\" height=\"5.000000\" stroke=\"#000000\" stroke-opacity=\"1.000000\" stroke-width=\"1.000000\" width=\"1.578613\" x=\"288.737030\" y=\"563.000000\"/>\n\t\t\t\t<rect fill=\"#00FF7F\" fill-opacity=\"1.000000\" height=\"5.000000\" stroke=\"#000000\" stroke-opacity=\"1.000000\" stroke-width=\"1.000000\" width=\"2.922577\" x=\"292.278259\" y=\"563.000000\"/>\n\t\t\t\t<rect fill=\"#00FF7F\" fill-opacity=\"1.000000\" height=\"5.000000\" stroke=\"#000000\" stroke-opacity=\"1.000000\" stroke-width=\"1.000000\" width=\"2.346588\" x=\"302.517914\" y=\"563.000000\"/>\n\t\t\t\t<rect fill=\"#00FF7F\" fill-opacity=\"1.000000\" height=\"5.000000\" stroke=\"#000000\" stroke-opacity=\"1.000000\" stroke-width=\"1.000000\" width=\"2.410583\" x=\"316.981415\" y=\"563.000000\"/>\n\t\t\t\t<rect fill=\"#00FF7F\" fill-opacity=\"1.000000\" height=\"5.000000\" stroke=\"#000000\" stroke-opacity=\"1.000000\" stroke-width=\"1.000000\" width=\"3.477203\" x=\"321.119965\" y=\"563.000000\"/>\n\t\t\t\t<rect fill=\"#FFFFFF\" fill-opacity=\"1.000000\" height=\"5.000000\" stroke=\"#000000\" stroke-opacity=\"1.000000\" stroke-width=\"1.000000\" width=\"1.000000\" x=\"324.597168\" y=\"563.000000\"/>\n\t\t\t\t<rect fill=\"#FFFFFF\" fill-opacity=\"1.000000\" height=\"5.000000\" stroke=\"#000000\" stroke-opacity=\"1.000000\" stroke-width=\"1.000000\" width=\"2.367920\" x=\"584.023193\" y=\"563.000000\"/>\n\t\t\t</g>\n\t\t\t<g fill=\"none\" name=\"TP53-214\" stroke=\"#000000\" stroke-opacity=\"1.000000\" stroke-width=\"1.000000\">\n\t\t\t\t<text style=\"font-family: Arial; font-size: 10.000000px; stroke: none; fill: #000000; \" x=\"545.089783\" y=\"580.500000\">TP53-214</text>\n\t\t\t\t<line stroke=\"#000000\" stroke-opacity=\"1.000000\" stroke-width=\"1.000000\" x1=\"303.285889\" x2=\"585.089783\" y1=\"585.500000\" y2=\"585.500000\"/>\n\t\t\t\t<polygon fill=\"#000000\" fill-opacity=\"1.000000\" points=\"303.285889 583.000000 303.285889 588.000000 298.285889 585.500000\" stroke=\"#000000\" stroke-opacity=\"1.000000\" stroke-width=\"1.000000\"/>\n\t\t\t\t<rect fill=\"#00FF7F\" fill-opacity=\"1.000000\" height=\"5.000000\" stroke=\"#000000\" stroke-opacity=\"1.000000\" stroke-width=\"1.000000\" width=\"1.578613\" x=\"303.285889\" y=\"583.000000\"/>\n\t\t\t\t<rect fill=\"#00FF7F\" fill-opacity=\"1.000000\" height=\"5.000000\" stroke=\"#000000\" stroke-opacity=\"1.000000\" stroke-width=\"1.000000\" width=\"2.410583\" x=\"316.981415\" y=\"583.000000\"/>\n\t\t\t\t<rect fill=\"#00FF7F\" fill-opacity=\"1.000000\" height=\"5.000000\" stroke=\"#000000\" stroke-opacity=\"1.000000\" stroke-width=\"1.000000\" width=\"3.925201\" x=\"321.119965\" y=\"583.000000\"/>\n\t\t\t\t<rect fill=\"#00FF7F\" fill-opacity=\"1.000000\" height=\"5.000000\" stroke=\"#000000\" stroke-opacity=\"1.000000\" stroke-width=\"1.000000\" width=\"1.000000\" x=\"349.471008\" y=\"583.000000\"/>\n\t\t\t\t<rect fill=\"#00FF7F\" fill-opacity=\"1.000000\" height=\"5.000000\" stroke=\"#000000\" stroke-opacity=\"1.000000\" stroke-width=\"1.000000\" width=\"1.578613\" x=\"352.436249\" y=\"583.000000\"/>\n\t\t\t\t<rect fill=\"#FFFFFF\" fill-opacity=\"1.000000\" height=\"5.000000\" stroke=\"#000000\" stroke-opacity=\"1.000000\" stroke-width=\"1.000000\" width=\"1.000000\" x=\"354.014862\" y=\"583.000000\"/>\n\t\t\t\t<rect fill=\"#FFFFFF\" fill-opacity=\"1.000000\" height=\"5.000000\" stroke=\"#000000\" stroke-opacity=\"1.000000\" stroke-width=\"1.000000\" width=\"1.087952\" x=\"584.023193\" y=\"583.000000\"/>\n\t\t\t</g>\n\t\t\t<g fill=\"none\" name=\"TP53-216\" stroke=\"#000000\" stroke-opacity=\"1.000000\" stroke-width=\"1.000000\">\n\t\t\t\t<text style=\"font-family: Arial; font-size: 10.000000px; stroke: none; fill: #000000; \" x=\"282.527893\" y=\"600.500000\">TP53-216</text>\n\t\t\t\t<line stroke=\"#000000\" stroke-opacity=\"1.000000\" stroke-width=\"1.000000\" x1=\"304.075195\" x2=\"322.527893\" y1=\"605.500000\" y2=\"605.500000\"/>\n\t\t\t\t<polygon fill=\"#000000\" fill-opacity=\"1.000000\" points=\"304.075195 603.000000 304.075195 608.000000 299.075195 605.500000\" stroke=\"#000000\" stroke-opacity=\"1.000000\" stroke-width=\"1.000000\"/>\n\t\t\t\t<rect fill=\"#006400\" fill-opacity=\"1.000000\" height=\"5.000000\" stroke=\"#000000\" stroke-opacity=\"1.000000\" stroke-width=\"1.000000\" width=\"1.429291\" x=\"321.119965\" y=\"603.000000\"/>\n\t\t\t</g>\n\t\t\t<g fill=\"none\" name=\"TP53-210\" stroke=\"#000000\" stroke-opacity=\"1.000000\" stroke-width=\"1.000000\">\n\t\t\t\t<text style=\"font-family: Arial; font-size: 10.000000px; stroke: none; fill: #000000; \" x=\"546.369751\" y=\"620.500000\">TP53-210</text>\n\t\t\t\t<line stroke=\"#000000\" stroke-opacity=\"1.000000\" stroke-width=\"1.000000\" x1=\"309.877655\" x2=\"586.369751\" y1=\"625.500000\" y2=\"625.500000\"/>\n\t\t\t\t<polygon fill=\"#000000\" fill-opacity=\"1.000000\" points=\"309.877655 623.000000 309.877655 628.000000 304.877655 625.500000\" stroke=\"#000000\" stroke-opacity=\"1.000000\" stroke-width=\"1.000000\"/>\n\t\t\t\t<rect fill=\"#006400\" fill-opacity=\"1.000000\" height=\"5.000000\" stroke=\"#000000\" stroke-opacity=\"1.000000\" stroke-width=\"1.000000\" width=\"3.925201\" x=\"321.119965\" y=\"623.000000\"/>\n\t\t\t\t<rect fill=\"#006400\" fill-opacity=\"1.000000\" height=\"5.000000\" stroke=\"#000000\" stroke-opacity=\"1.000000\" stroke-width=\"1.000000\" width=\"5.951813\" x=\"341.193939\" y=\"623.000000\"/>\n\t\t\t\t<rect fill=\"#006400\" fill-opacity=\"1.000000\" height=\"5.000000\" stroke=\"#000000\" stroke-opacity=\"1.000000\" stroke-width=\"1.000000\" width=\"5.141174\" x=\"349.471008\" y=\"623.000000\"/>\n\t\t\t\t<rect fill=\"#006400\" fill-opacity=\"1.000000\" height=\"5.000000\" stroke=\"#000000\" stroke-opacity=\"1.000000\" stroke-width=\"1.000000\" width=\"2.367920\" x=\"584.023193\" y=\"623.000000\"/>\n\t\t\t</g>\n\t\t\t<g fill=\"none\" name=\"TP53-211\" stroke=\"#000000\" stroke-opacity=\"1.000000\" stroke-width=\"1.000000\">\n\t\t\t\t<text style=\"font-family: Arial; font-size: 10.000000px; stroke: none; fill: #000000; \" x=\"331.912933\" y=\"640.500000\">TP53-211</text>\n\t\t\t\t<line stroke=\"#000000\" stroke-opacity=\"1.000000\" stroke-width=\"1.000000\" x1=\"322.463898\" x2=\"371.912933\" y1=\"645.500000\" y2=\"645.500000\"/>\n\t\t\t\t<polygon fill=\"#000000\" fill-opacity=\"1.000000\" points=\"322.463898 643.000000 322.463898 648.000000 317.463898 645.500000\" stroke=\"#000000\" stroke-opacity=\"1.000000\" stroke-width=\"1.000000\"/>\n\t\t\t\t<rect fill=\"#00FF7F\" fill-opacity=\"1.000000\" height=\"5.000000\" stroke=\"#000000\" stroke-opacity=\"1.000000\" stroke-width=\"1.000000\" width=\"2.581238\" x=\"322.463898\" y=\"643.000000\"/>\n\t\t\t\t<rect fill=\"#00FF7F\" fill-opacity=\"1.000000\" height=\"5.000000\" stroke=\"#000000\" stroke-opacity=\"1.000000\" stroke-width=\"1.000000\" width=\"5.951813\" x=\"341.193939\" y=\"643.000000\"/>\n\t\t\t\t<rect fill=\"#00FF7F\" fill-opacity=\"1.000000\" height=\"5.000000\" stroke=\"#000000\" stroke-opacity=\"1.000000\" stroke-width=\"1.000000\" width=\"1.000000\" x=\"349.471008\" y=\"643.000000\"/>\n\t\t\t\t<rect fill=\"#00FF7F\" fill-opacity=\"1.000000\" height=\"5.000000\" stroke=\"#000000\" stroke-opacity=\"1.000000\" stroke-width=\"1.000000\" width=\"1.578613\" x=\"352.436249\" y=\"643.000000\"/>\n\t\t\t\t<rect fill=\"#FFFFFF\" fill-opacity=\"1.000000\" height=\"5.000000\" stroke=\"#000000\" stroke-opacity=\"1.000000\" stroke-width=\"1.000000\" width=\"1.000000\" x=\"354.014862\" y=\"643.000000\"/>\n\t\t\t\t<rect fill=\"#FFFFFF\" fill-opacity=\"1.000000\" height=\"5.000000\" stroke=\"#000000\" stroke-opacity=\"1.000000\" stroke-width=\"1.000000\" width=\"2.346588\" x=\"369.587677\" y=\"643.000000\"/>\n\t\t\t</g>\n\t\t\t<g fill=\"none\" name=\"TP53-218\" stroke=\"#000000\" stroke-opacity=\"1.000000\" stroke-width=\"1.000000\">\n\t\t\t\t<text style=\"font-family: Arial; font-size: 10.000000px; stroke: none; fill: #000000; \" x=\"546.369751\" y=\"660.500000\">TP53-218</text>\n\t\t\t\t<line stroke=\"#000000\" stroke-opacity=\"1.000000\" stroke-width=\"1.000000\" x1=\"323.445221\" x2=\"586.369751\" y1=\"665.500000\" y2=\"665.500000\"/>\n\t\t\t\t<polygon fill=\"#000000\" fill-opacity=\"1.000000\" points=\"323.445221 663.000000 323.445221 668.000000 318.445221 665.500000\" stroke=\"#000000\" stroke-opacity=\"1.000000\" stroke-width=\"1.000000\"/>\n\t\t\t\t<rect fill=\"#00FF7F\" fill-opacity=\"1.000000\" height=\"5.000000\" stroke=\"#000000\" stroke-opacity=\"1.000000\" stroke-width=\"1.000000\" width=\"1.151947\" x=\"323.445221\" y=\"663.000000\"/>\n\t\t\t\t<rect fill=\"#00FF7F\" fill-opacity=\"1.000000\" height=\"5.000000\" stroke=\"#000000\" stroke-opacity=\"1.000000\" stroke-width=\"1.000000\" width=\"5.951813\" x=\"341.193939\" y=\"663.000000\"/>\n\t\t\t\t<rect fill=\"#00FF7F\" fill-opacity=\"1.000000\" height=\"5.000000\" stroke=\"#000000\" stroke-opacity=\"1.000000\" stroke-width=\"1.000000\" width=\"1.000000\" x=\"349.471008\" y=\"663.000000\"/>\n\t\t\t\t<rect fill=\"#00FF7F\" fill-opacity=\"1.000000\" height=\"5.000000\" stroke=\"#000000\" stroke-opacity=\"1.000000\" stroke-width=\"1.000000\" width=\"1.578613\" x=\"352.436249\" y=\"663.000000\"/>\n\t\t\t\t<rect fill=\"#FFFFFF\" fill-opacity=\"1.000000\" height=\"5.000000\" stroke=\"#000000\" stroke-opacity=\"1.000000\" stroke-width=\"1.000000\" width=\"1.000000\" x=\"354.014862\" y=\"663.000000\"/>\n\t\t\t\t<rect fill=\"#FFFFFF\" fill-opacity=\"1.000000\" height=\"5.000000\" stroke=\"#000000\" stroke-opacity=\"1.000000\" stroke-width=\"1.000000\" width=\"2.367920\" x=\"584.023193\" y=\"663.000000\"/>\n\t\t\t</g>\n\t\t\t<g fill=\"none\" name=\"TP53-207\" stroke=\"#000000\" stroke-opacity=\"1.000000\" stroke-width=\"1.000000\">\n\t\t\t\t<text style=\"font-family: Arial; font-size: 10.000000px; stroke: none; fill: #000000; \" x=\"545.089783\" y=\"680.500000\">TP53-207</text>\n\t\t\t\t<line stroke=\"#000000\" stroke-opacity=\"1.000000\" stroke-width=\"1.000000\" x1=\"324.874481\" x2=\"585.089783\" y1=\"685.500000\" y2=\"685.500000\"/>\n\t\t\t\t<polygon fill=\"#000000\" fill-opacity=\"1.000000\" points=\"324.874481 683.000000 324.874481 688.000000 319.874481 685.500000\" stroke=\"#000000\" stroke-opacity=\"1.000000\" stroke-width=\"1.000000\"/>\n\t\t\t\t<rect fill=\"#00FF7F\" fill-opacity=\"1.000000\" height=\"5.000000\" stroke=\"#000000\" stroke-opacity=\"1.000000\" stroke-width=\"1.000000\" width=\"1.000000\" x=\"324.874481\" y=\"683.000000\"/>\n\t\t\t\t<rect fill=\"#00FF7F\" fill-opacity=\"1.000000\" height=\"5.000000\" stroke=\"#000000\" stroke-opacity=\"1.000000\" stroke-width=\"1.000000\" width=\"5.951813\" x=\"341.193939\" y=\"683.000000\"/>\n\t\t\t\t<rect fill=\"#00FF7F\" fill-opacity=\"1.000000\" height=\"5.000000\" stroke=\"#000000\" stroke-opacity=\"1.000000\" stroke-width=\"1.000000\" width=\"1.000000\" x=\"349.471008\" y=\"683.000000\"/>\n\t\t\t\t<rect fill=\"#00FF7F\" fill-opacity=\"1.000000\" height=\"5.000000\" stroke=\"#000000\" stroke-opacity=\"1.000000\" stroke-width=\"1.000000\" width=\"1.578613\" x=\"352.436249\" y=\"683.000000\"/>\n\t\t\t\t<rect fill=\"#FFFFFF\" fill-opacity=\"1.000000\" height=\"5.000000\" stroke=\"#000000\" stroke-opacity=\"1.000000\" stroke-width=\"1.000000\" width=\"1.000000\" x=\"354.014862\" y=\"683.000000\"/>\n\t\t\t\t<rect fill=\"#FFFFFF\" fill-opacity=\"1.000000\" height=\"5.000000\" stroke=\"#000000\" stroke-opacity=\"1.000000\" stroke-width=\"1.000000\" width=\"2.197266\" x=\"369.587677\" y=\"683.000000\"/>\n\t\t\t\t<rect fill=\"#FFFFFF\" fill-opacity=\"1.000000\" height=\"5.000000\" stroke=\"#000000\" stroke-opacity=\"1.000000\" stroke-width=\"1.000000\" width=\"1.087952\" x=\"584.023193\" y=\"683.000000\"/>\n\t\t\t</g>\n\t\t\t<g fill=\"none\" name=\"TP53-215\" stroke=\"#000000\" stroke-opacity=\"1.000000\" stroke-width=\"1.000000\">\n\t\t\t\t<text style=\"font-family: Arial; font-size: 10.000000px; stroke: none; fill: #000000; \" x=\"522.562561\" y=\"700.500000\">TP53-215</text>\n\t\t\t\t<line stroke=\"#000000\" stroke-opacity=\"1.000000\" stroke-width=\"1.000000\" x1=\"538.862000\" x2=\"562.562561\" y1=\"705.500000\" y2=\"705.500000\"/>\n\t\t\t\t<polygon fill=\"#000000\" fill-opacity=\"1.000000\" points=\"538.862000 703.000000 538.862000 708.000000 533.862000 705.500000\" stroke=\"#000000\" stroke-opacity=\"1.000000\" stroke-width=\"1.000000\"/>\n\t\t\t</g>\n\t\t</g>\n\t\t<g fill=\"none\" name=\"WRAP53\" stroke=\"#000000\" stroke-opacity=\"1.000000\" stroke-width=\"1.000000\">\n\t\t\t<g fill=\"none\" name=\"WRAP53-203\" stroke=\"#000000\" stroke-opacity=\"1.000000\" stroke-width=\"1.000000\">\n\t\t\t\t<text style=\"font-family: Arial; font-size: 10.000000px; stroke: none; fill: #000000; \" x=\"556.162781\" y=\"745.500000\">WRAP53-203</text>\n\t\t\t\t<line stroke=\"#000000\" stroke-opacity=\"1.000000\" stroke-width=\"1.000000\" x1=\"556.162781\" x2=\"928.011719\" y1=\"750.500000\" y2=\"750.500000\"/>\n\t\t\t\t<polygon fill=\"#000000\" fill-opacity=\"1.000000\" points=\"928.011719 748.000000 928.011719 753.000000 933.011719 750.500000\" stroke=\"#000000\" stroke-opacity=\"1.000000\" stroke-width=\"1.000000\"/>\n\t\t\t\t<rect fill=\"#FFFFFF\" fill-opacity=\"1.000000\" height=\"5.000000\" stroke=\"#000000\" stroke-opacity=\"1.000000\" stroke-width=\"1.000000\" width=\"3.285217\" x=\"556.162781\" y=\"748.000000\"/>\n\t\t\t\t<rect fill=\"#FFFFFF\" fill-opacity=\"1.000000\" height=\"5.000000\" stroke=\"#000000\" stroke-opacity=\"1.000000\" stroke-width=\"1.000000\" width=\"1.000000\" x=\"611.136963\" y=\"748.000000\"/>\n\t\t\t\t<rect fill=\"#FF00FF\" fill-opacity=\"1.000000\" height=\"5.000000\" stroke=\"#000000\" stroke-opacity=\"1.000000\" stroke-width=\"1.000000\" width=\"9.194336\" x=\"611.158264\" y=\"748.000000\"/>\n\t\t\t\t<rect fill=\"#FF00FF\" fill-opacity=\"1.000000\" height=\"5.000000\" stroke=\"#000000\" stroke-opacity=\"1.000000\" stroke-width=\"1.000000\" width=\"2.111938\" x=\"623.424561\" y=\"748.000000\"/>\n\t\t\t\t<rect fill=\"#FF00FF\" fill-opacity=\"1.000000\" height=\"5.000000\" stroke=\"#000000\" stroke-opacity=\"1.000000\" stroke-width=\"1.000000\" width=\"2.389282\" x=\"631.232300\" y=\"748.000000\"/>\n\t\t\t\t<rect fill=\"#FF00FF\" fill-opacity=\"1.000000\" height=\"5.000000\" stroke=\"#000000\" stroke-opacity=\"1.000000\" stroke-width=\"1.000000\" width=\"1.898621\" x=\"869.112366\" y=\"748.000000\"/>\n\t\t\t\t<rect fill=\"#FF00FF\" fill-opacity=\"1.000000\" height=\"5.000000\" stroke=\"#000000\" stroke-opacity=\"1.000000\" stroke-width=\"1.000000\" width=\"1.941284\" x=\"884.429138\" y=\"748.000000\"/>\n\t\t\t\t<rect fill=\"#FF00FF\" fill-opacity=\"1.000000\" height=\"5.000000\" stroke=\"#000000\" stroke-opacity=\"1.000000\" stroke-width=\"1.000000\" width=\"2.837219\" x=\"888.653015\" y=\"748.000000\"/>\n\t\t\t\t<rect fill=\"#FF00FF\" fill-opacity=\"1.000000\" height=\"5.000000\" stroke=\"#000000\" stroke-opacity=\"1.000000\" stroke-width=\"1.000000\" width=\"4.458496\" x=\"903.308533\" y=\"748.000000\"/>\n\t\t\t\t<rect fill=\"#FF00FF\" fill-opacity=\"1.000000\" height=\"5.000000\" stroke=\"#000000\" stroke-opacity=\"1.000000\" stroke-width=\"1.000000\" width=\"2.218567\" x=\"911.820251\" y=\"748.000000\"/>\n\t\t\t\t<rect fill=\"#FF00FF\" fill-opacity=\"1.000000\" height=\"5.000000\" stroke=\"#000000\" stroke-opacity=\"1.000000\" stroke-width=\"1.000000\" width=\"2.879883\" x=\"917.153381\" y=\"748.000000\"/>\n\t\t\t\t<rect fill=\"#FF00FF\" fill-opacity=\"1.000000\" height=\"5.000000\" stroke=\"#000000\" stroke-opacity=\"1.000000\" stroke-width=\"1.000000\" width=\"5.205139\" x=\"922.486572\" y=\"748.000000\"/>\n\t\t\t\t<rect fill=\"#FFFFFF\" fill-opacity=\"1.000000\" height=\"5.000000\" stroke=\"#000000\" stroke-opacity=\"1.000000\" stroke-width=\"1.000000\" width=\"1.000000\" x=\"927.691711\" y=\"748.000000\"/>\n\t\t\t</g>\n\t\t\t<g fill=\"none\" name=\"WRAP53-201\" stroke=\"#000000\" stroke-opacity=\"1.000000\" stroke-width=\"1.000000\">\n\t\t\t\t<text style=\"font-family: Arial; font-size: 10.000000px; stroke: none; fill: #000000; \" x=\"561.069275\" y=\"765.500000\">WRAP53-201</text>\n\t\t\t\t<line stroke=\"#000000\" stroke-opacity=\"1.000000\" stroke-width=\"1.000000\" x1=\"561.069275\" x2=\"928.011719\" y1=\"770.500000\" y2=\"770.500000\"/>\n\t\t\t\t<polygon fill=\"#000000\" fill-opacity=\"1.000000\" points=\"928.011719 768.000000 928.011719 773.000000 933.011719 770.500000\" stroke=\"#000000\" stroke-opacity=\"1.000000\" stroke-width=\"1.000000\"/>\n\t\t\t\t<rect fill=\"#FF00FF\" fill-opacity=\"1.000000\" height=\"5.000000\" stroke=\"#000000\" stroke-opacity=\"1.000000\" stroke-width=\"1.000000\" width=\"9.194336\" x=\"611.158264\" y=\"768.000000\"/>\n\t\t\t\t<rect fill=\"#FF00FF\" fill-opacity=\"1.000000\" height=\"5.000000\" stroke=\"#000000\" stroke-opacity=\"1.000000\" stroke-width=\"1.000000\" width=\"2.111938\" x=\"623.424561\" y=\"768.000000\"/>\n\t\t\t\t<rect fill=\"#FF00FF\" fill-opacity=\"1.000000\" height=\"5.000000\" stroke=\"#000000\" stroke-opacity=\"1.000000\" stroke-width=\"1.000000\" width=\"2.389282\" x=\"631.232300\" y=\"768.000000\"/>\n\t\t\t\t<rect fill=\"#FF00FF\" fill-opacity=\"1.000000\" height=\"5.000000\" stroke=\"#000000\" stroke-opacity=\"1.000000\" stroke-width=\"1.000000\" width=\"1.898621\" x=\"869.112366\" y=\"768.000000\"/>\n\t\t\t\t<rect fill=\"#FF00FF\" fill-opacity=\"1.000000\" height=\"5.000000\" stroke=\"#000000\" stroke-opacity=\"1.000000\" stroke-width=\"1.000000\" width=\"1.941284\" x=\"884.429138\" y=\"768.000000\"/>\n\t\t\t\t<rect fill=\"#FF00FF\" fill-opacity=\"1.000000\" height=\"5.000000\" stroke=\"#000000\" stroke-opacity=\"1.000000\" stroke-width=\"1.000000\" width=\"2.837219\" x=\"888.653015\" y=\"768.000000\"/>\n\t\t\t\t<rect fill=\"#FF00FF\" fill-opacity=\"1.000000\" height=\"5.000000\" stroke=\"#000000\" stroke-opacity=\"1.000000\" stroke-width=\"1.000000\" width=\"4.458496\" x=\"903.308533\" y=\"768.000000\"/>\n\t\t\t\t<rect fill=\"#FF00FF\" fill-opacity=\"1.000000\" height=\"5.000000\" stroke=\"#000000\" stroke-opacity=\"1.000000\" stroke-width=\"1.000000\" width=\"2.218567\" x=\"911.820251\" y=\"768.000000\"/>\n\t\t\t\t<rect fill=\"#FF00FF\" fill-opacity=\"1.000000\" height=\"5.000000\" stroke=\"#000000\" stroke-opacity=\"1.000000\" stroke-width=\"1.000000\" width=\"2.879883\" x=\"917.153381\" y=\"768.000000\"/>\n\t\t\t\t<rect fill=\"#FF00FF\" fill-opacity=\"1.000000\" height=\"5.000000\" stroke=\"#000000\" stroke-opacity=\"1.000000\" stroke-width=\"1.000000\" width=\"5.205139\" x=\"922.486572\" y=\"768.000000\"/>\n\t\t\t\t<rect fill=\"#FFFFFF\" fill-opacity=\"1.000000\" height=\"5.000000\" stroke=\"#000000\" stroke-opacity=\"1.000000\" stroke-width=\"1.000000\" width=\"1.000000\" x=\"927.691711\" y=\"768.000000\"/>\n\t\t\t</g>\n\t\t\t<g fill=\"none\" name=\"WRAP53-204\" stroke=\"#000000\" stroke-opacity=\"1.000000\" stroke-width=\"1.000000\">\n\t\t\t\t<text style=\"font-family: Arial; font-size: 10.000000px; stroke: none; fill: #000000; \" x=\"585.367126\" y=\"785.500000\">WRAP53-204</text>\n\t\t\t\t<line stroke=\"#000000\" stroke-opacity=\"1.000000\" stroke-width=\"1.000000\" x1=\"585.367126\" x2=\"928.011719\" y1=\"790.500000\" y2=\"790.500000\"/>\n\t\t\t\t<polygon fill=\"#000000\" fill-opacity=\"1.000000\" points=\"928.011719 788.000000 928.011719 793.000000 933.011719 790.500000\" stroke=\"#000000\" stroke-opacity=\"1.000000\" stroke-width=\"1.000000\"/>\n\t\t\t\t<rect fill=\"#FFFFFF\" fill-opacity=\"1.000000\" height=\"5.000000\" stroke=\"#000000\" stroke-opacity=\"1.000000\" stroke-width=\"1.000000\" width=\"3.498535\" x=\"585.367126\" y=\"788.000000\"/>\n\t\t\t\t<rect fill=\"#FFFFFF\" fill-opacity=\"1.000000\" height=\"5.000000\" stroke=\"#000000\" stroke-opacity=\"1.000000\" stroke-width=\"1.000000\" width=\"1.000000\" x=\"611.136963\" y=\"788.000000\"/>\n\t\t\t\t<rect fill=\"#FF00FF\" fill-opacity=\"1.000000\" height=\"5.000000\" stroke=\"#000000\" stroke-opacity=\"1.000000\" stroke-width=\"1.000000\" width=\"9.194336\" x=\"611.158264\" y=\"788.000000\"/>\n\t\t\t\t<rect fill=\"#FF00FF\" fill-opacity=\"1.000000\" height=\"5.000000\" stroke=\"#000000\" stroke-opacity=\"1.000000\" stroke-width=\"1.000000\" width=\"2.111938\" x=\"623.424561\" y=\"788.000000\"/>\n\t\t\t\t<rect fill=\"#FF00FF\" fill-opacity=\"1.000000\" height=\"5.000000\" stroke=\"#000000\" stroke-opacity=\"1.000000\" stroke-width=\"1.000000\" width=\"2.389282\" x=\"631.232300\" y=\"788.000000\"/>\n\t\t\t\t<rect fill=\"#FF00FF\" fill-opacity=\"1.000000\" height=\"5.000000\" stroke=\"#000000\" stroke-opacity=\"1.000000\" stroke-width=\"1.000000\" width=\"1.898621\" x=\"869.112366\" y=\"788.000000\"/>\n\t\t\t\t<rect fill=\"#FF00FF\" fill-opacity=\"1.000000\" height=\"5.000000\" stroke=\"#000000\" stroke-opacity=\"1.000000\" stroke-width=\"1.000000\" width=\"1.941284\" x=\"884.429138\" y=\"788.000000\"/>\n\t\t\t\t<rect fill=\"#FF00FF\" fill-opacity=\"1.000000\" height=\"5.000000\" stroke=\"#000000\" stroke-opacity=\"1.000000\" stroke-width=\"1.000000\" width=\"2.837219\" x=\"888.653015\" y=\"788.000000\"/>\n\t\t\t\t<rect fill=\"#FF00FF\" fill-opacity=\"1.000000\" height=\"5.000000\" stroke=\"#000000\" stroke-opacity=\"1.000000\" stroke-width=\"1.000000\" width=\"4.458496\" x=\"903.308533\" y=\"788.000000\"/>\n\t\t\t\t<rect fill=\"#FF00FF\" fill-opacity=\"1.000000\" height=\"5.000000\" stroke=\"#000000\" stroke-opacity=\"1.000000\" stroke-width=\"1.000000\" width=\"2.218567\" x=\"911.820251\" y=\"788.000000\"/>\n\t\t\t\t<rect fill=\"#FF00FF\" fill-opacity=\"1.000000\" height=\"5.000000\" stroke=\"#000000\" stroke-opacity=\"1.000000\" stroke-width=\"1.000000\" width=\"2.879883\" x=\"917.153381\" y=\"788.000000\"/>\n\t\t\t\t<rect fill=\"#FF00FF\" fill-opacity=\"1.000000\" height=\"5.000000\" stroke=\"#000000\" stroke-opacity=\"1.000000\" stroke-width=\"1.000000\" width=\"5.205139\" x=\"922.486572\" y=\"788.000000\"/>\n\t\t\t\t<rect fill=\"#FFFFFF\" fill-opacity=\"1.000000\" height=\"5.000000\" stroke=\"#000000\" stroke-opacity=\"1.000000\" stroke-width=\"1.000000\" width=\"1.000000\" x=\"927.691711\" y=\"788.000000\"/>\n\t\t\t</g>\n\t\t\t<g fill=\"none\" name=\"WRAP53-209\" stroke=\"#000000\" stroke-opacity=\"1.000000\" stroke-width=\"1.000000\">\n\t\t\t\t<text style=\"font-family: Arial; font-size: 10.000000px; stroke: none; fill: #000000; \" x=\"588.780334\" y=\"805.500000\">WRAP53-209</text>\n\t\t\t\t<line stroke=\"#000000\" stroke-opacity=\"1.000000\" stroke-width=\"1.000000\" x1=\"588.780334\" x2=\"927.990356\" y1=\"810.500000\" y2=\"810.500000\"/>\n\t\t\t\t<polygon fill=\"#000000\" fill-opacity=\"1.000000\" points=\"927.990356 808.000000 927.990356 813.000000 932.990356 810.500000\" stroke=\"#000000\" stroke-opacity=\"1.000000\" stroke-width=\"1.000000\"/>\n\t\t\t\t<rect fill=\"#FFFFFF\" fill-opacity=\"1.000000\" height=\"5.000000\" stroke=\"#000000\" stroke-opacity=\"1.000000\" stroke-width=\"1.000000\" width=\"20.521973\" x=\"588.780334\" y=\"808.000000\"/>\n\t\t\t\t<rect fill=\"#FFFFFF\" fill-opacity=\"1.000000\" height=\"5.000000\" stroke=\"#000000\" stroke-opacity=\"1.000000\" stroke-width=\"1.000000\" width=\"1.000000\" x=\"611.136963\" y=\"808.000000\"/>\n\t\t\t\t<rect fill=\"#FF00FF\" fill-opacity=\"1.000000\" height=\"5.000000\" stroke=\"#000000\" stroke-opacity=\"1.000000\" stroke-width=\"1.000000\" width=\"9.194336\" x=\"611.158264\" y=\"808.000000\"/>\n\t\t\t\t<rect fill=\"#FF00FF\" fill-opacity=\"1.000000\" height=\"5.000000\" stroke=\"#000000\" stroke-opacity=\"1.000000\" stroke-width=\"1.000000\" width=\"2.111938\" x=\"623.424561\" y=\"808.000000\"/>\n\t\t\t\t<rect fill=\"#FF00FF\" fill-opacity=\"1.000000\" height=\"5.000000\" stroke=\"#000000\" stroke-opacity=\"1.000000\" stroke-width=\"1.000000\" width=\"2.389282\" x=\"631.232300\" y=\"808.000000\"/>\n\t\t\t\t<rect fill=\"#FF00FF\" fill-opacity=\"1.000000\" height=\"5.000000\" stroke=\"#000000\" stroke-opacity=\"1.000000\" stroke-width=\"1.000000\" width=\"1.898621\" x=\"869.112366\" y=\"808.000000\"/>\n\t\t\t\t<rect fill=\"#FF00FF\" fill-opacity=\"1.000000\" height=\"5.000000\" stroke=\"#000000\" stroke-opacity=\"1.000000\" stroke-width=\"1.000000\" width=\"2.623901\" x=\"883.746521\" y=\"808.000000\"/>\n\t\t\t\t<rect fill=\"#FF00FF\" fill-opacity=\"1.000000\" height=\"5.000000\" stroke=\"#000000\" stroke-opacity=\"1.000000\" stroke-width=\"1.000000\" width=\"1.000000\" x=\"888.653015\" y=\"808.000000\"/>\n\t\t\t\t<rect fill=\"#FFFFFF\" fill-opacity=\"1.000000\" height=\"5.000000\" stroke=\"#000000\" stroke-opacity=\"1.000000\" stroke-width=\"1.000000\" width=\"2.623901\" x=\"888.866333\" y=\"808.000000\"/>\n\t\t\t\t<rect fill=\"#FFFFFF\" fill-opacity=\"1.000000\" height=\"5.000000\" stroke=\"#000000\" stroke-opacity=\"1.000000\" stroke-width=\"1.000000\" width=\"4.458496\" x=\"903.308533\" y=\"808.000000\"/>\n\t\t\t\t<rect fill=\"#FFFFFF\" fill-opacity=\"1.000000\" height=\"5.000000\" stroke=\"#000000\" stroke-opacity=\"1.000000\" stroke-width=\"1.000000\" width=\"2.218567\" x=\"911.820251\" y=\"808.000000\"/>\n\t\t\t\t<rect fill=\"#FFFFFF\" fill-opacity=\"1.000000\" height=\"5.000000\" stroke=\"#000000\" stroke-opacity=\"1.000000\" stroke-width=\"1.000000\" width=\"2.879883\" x=\"917.153381\" y=\"808.000000\"/>\n\t\t\t\t<rect fill=\"#FFFFFF\" fill-opacity=\"1.000000\" height=\"5.000000\" stroke=\"#000000\" stroke-opacity=\"1.000000\" stroke-width=\"1.000000\" width=\"5.525146\" x=\"922.486572\" y=\"808.000000\"/>\n\t\t\t</g>\n\t\t\t<g fill=\"none\" name=\"WRAP53-202\" stroke=\"#000000\" stroke-opacity=\"1.000000\" stroke-width=\"1.000000\">\n\t\t\t\t<text style=\"font-family: Arial; font-size: 10.000000px; stroke: none; fill: #000000; \" x=\"604.161194\" y=\"825.500000\">WRAP53-202</text>\n\t\t\t\t<line stroke=\"#000000\" stroke-opacity=\"1.000000\" stroke-width=\"1.000000\" x1=\"604.161194\" x2=\"928.011719\" y1=\"830.500000\" y2=\"830.500000\"/>\n\t\t\t\t<polygon fill=\"#000000\" fill-opacity=\"1.000000\" points=\"928.011719 828.000000 928.011719 833.000000 933.011719 830.500000\" stroke=\"#000000\" stroke-opacity=\"1.000000\" stroke-width=\"1.000000\"/>\n\t\t\t\t<rect fill=\"#FFFFFF\" fill-opacity=\"1.000000\" height=\"5.000000\" stroke=\"#000000\" stroke-opacity=\"1.000000\" stroke-width=\"1.000000\" width=\"5.141174\" x=\"604.161194\" y=\"828.000000\"/>\n\t\t\t\t<rect fill=\"#FFFFFF\" fill-opacity=\"1.000000\" height=\"5.000000\" stroke=\"#000000\" stroke-opacity=\"1.000000\" stroke-width=\"1.000000\" width=\"1.000000\" x=\"611.136963\" y=\"828.000000\"/>\n\t\t\t\t<rect fill=\"#FF00FF\" fill-opacity=\"1.000000\" height=\"5.000000\" stroke=\"#000000\" stroke-opacity=\"1.000000\" stroke-width=\"1.000000\" width=\"9.194336\" x=\"611.158264\" y=\"828.000000\"/>\n\t\t\t\t<rect fill=\"#FF00FF\" fill-opacity=\"1.000000\" height=\"5.000000\" stroke=\"#000000\" stroke-opacity=\"1.000000\" stroke-width=\"1.000000\" width=\"2.111938\" x=\"623.424561\" y=\"828.000000\"/>\n\t\t\t\t<rect fill=\"#FF00FF\" fill-opacity=\"1.000000\" height=\"5.000000\" stroke=\"#000000\" stroke-opacity=\"1.000000\" stroke-width=\"1.000000\" width=\"2.389282\" x=\"631.232300\" y=\"828.000000\"/>\n\t\t\t\t<rect fill=\"#FF00FF\" fill-opacity=\"1.000000\" height=\"5.000000\" stroke=\"#000000\" stroke-opacity=\"1.000000\" stroke-width=\"1.000000\" width=\"1.898621\" x=\"869.112366\" y=\"828.000000\"/>\n\t\t\t\t<rect fill=\"#FF00FF\" fill-opacity=\"1.000000\" height=\"5.000000\" stroke=\"#000000\" stroke-opacity=\"1.000000\" stroke-width=\"1.000000\" width=\"1.941284\" x=\"884.429138\" y=\"828.000000\"/>\n\t\t\t\t<rect fill=\"#FF00FF\" fill-opacity=\"1.000000\" height=\"5.000000\" stroke=\"#000000\" stroke-opacity=\"1.000000\" stroke-width=\"1.000000\" width=\"2.837219\" x=\"888.653015\" y=\"828.000000\"/>\n\t\t\t\t<rect fill=\"#FF00FF\" fill-opacity=\"1.000000\" height=\"5.000000\" stroke=\"#000000\" stroke-opacity=\"1.000000\" stroke-width=\"1.000000\" width=\"4.458496\" x=\"903.308533\" y=\"828.000000\"/>\n\t\t\t\t<rect fill=\"#FF00FF\" fill-opacity=\"1.000000\" height=\"5.000000\" stroke=\"#000000\" stroke-opacity=\"1.000000\" stroke-width=\"1.000000\" width=\"2.218567\" x=\"911.820251\" y=\"828.000000\"/>\n\t\t\t\t<rect fill=\"#FF00FF\" fill-opacity=\"1.000000\" height=\"5.000000\" stroke=\"#000000\" stroke-opacity=\"1.000000\" stroke-width=\"1.000000\" width=\"2.879883\" x=\"917.153381\" y=\"828.000000\"/>\n\t\t\t\t<rect fill=\"#FF00FF\" fill-opacity=\"1.000000\" height=\"5.000000\" stroke=\"#000000\" stroke-opacity=\"1.000000\" stroke-width=\"1.000000\" width=\"5.205139\" x=\"922.486572\" y=\"828.000000\"/>\n\t\t\t\t<rect fill=\"#FFFFFF\" fill-opacity=\"1.000000\" height=\"5.000000\" stroke=\"#000000\" stroke-opacity=\"1.000000\" stroke-width=\"1.000000\" width=\"1.000000\" x=\"927.691711\" y=\"828.000000\"/>\n\t\t\t</g>\n\t\t\t<g fill=\"none\" name=\"WRAP53-206\" stroke=\"#000000\" stroke-opacity=\"1.000000\" stroke-width=\"1.000000\">\n\t\t\t\t<text style=\"font-family: Arial; font-size: 10.000000px; stroke: none; fill: #000000; \" x=\"607.489075\" y=\"845.500000\">WRAP53-206</text>\n\t\t\t\t<line stroke=\"#000000\" stroke-opacity=\"1.000000\" stroke-width=\"1.000000\" x1=\"607.489075\" x2=\"928.011719\" y1=\"850.500000\" y2=\"850.500000\"/>\n\t\t\t\t<polygon fill=\"#000000\" fill-opacity=\"1.000000\" points=\"928.011719 848.000000 928.011719 853.000000 933.011719 850.500000\" stroke=\"#000000\" stroke-opacity=\"1.000000\" stroke-width=\"1.000000\"/>\n\t\t\t\t<rect fill=\"#8B0000\" fill-opacity=\"1.000000\" height=\"5.000000\" stroke=\"#000000\" stroke-opacity=\"1.000000\" stroke-width=\"1.000000\" width=\"9.215698\" x=\"611.136963\" y=\"848.000000\"/>\n\t\t\t\t<rect fill=\"#8B0000\" fill-opacity=\"1.000000\" height=\"5.000000\" stroke=\"#000000\" stroke-opacity=\"1.000000\" stroke-width=\"1.000000\" width=\"2.111938\" x=\"623.424561\" y=\"848.000000\"/>\n\t\t\t\t<rect fill=\"#8B0000\" fill-opacity=\"1.000000\" height=\"5.000000\" stroke=\"#000000\" stroke-opacity=\"1.000000\" stroke-width=\"1.000000\" width=\"2.389282\" x=\"631.232300\" y=\"848.000000\"/>\n\t\t\t\t<rect fill=\"#8B0000\" fill-opacity=\"1.000000\" height=\"5.000000\" stroke=\"#000000\" stroke-opacity=\"1.000000\" stroke-width=\"1.000000\" width=\"1.898621\" x=\"869.112366\" y=\"848.000000\"/>\n\t\t\t\t<rect fill=\"#8B0000\" fill-opacity=\"1.000000\" height=\"5.000000\" stroke=\"#000000\" stroke-opacity=\"1.000000\" stroke-width=\"1.000000\" width=\"2.623901\" x=\"883.746521\" y=\"848.000000\"/>\n\t\t\t\t<rect fill=\"#8B0000\" fill-opacity=\"1.000000\" height=\"5.000000\" stroke=\"#000000\" stroke-opacity=\"1.000000\" stroke-width=\"1.000000\" width=\"25.385803\" x=\"888.653015\" y=\"848.000000\"/>\n\t\t\t\t<rect fill=\"#8B0000\" fill-opacity=\"1.000000\" height=\"5.000000\" stroke=\"#000000\" stroke-opacity=\"1.000000\" stroke-width=\"1.000000\" width=\"2.879883\" x=\"917.153381\" y=\"848.000000\"/>\n\t\t\t\t<rect fill=\"#8B0000\" fill-opacity=\"1.000000\" height=\"5.000000\" stroke=\"#000000\" stroke-opacity=\"1.000000\" stroke-width=\"1.000000\" width=\"5.546509\" x=\"922.486572\" y=\"848.000000\"/>\n\t\t\t</g>\n\t\t\t<g fill=\"none\" name=\"WRAP53-210\" stroke=\"#000000\" stroke-opacity=\"1.000000\" stroke-width=\"1.000000\">\n\t\t\t\t<text style=\"font-family: Arial; font-size: 10.000000px; stroke: none; fill: #000000; \" x=\"607.489075\" y=\"865.500000\">WRAP53-210</text>\n\t\t\t\t<line stroke=\"#000000\" stroke-opacity=\"1.000000\" stroke-width=\"1.000000\" x1=\"607.489075\" x2=\"928.011719\" y1=\"870.500000\" y2=\"870.500000\"/>\n\t\t\t\t<polygon fill=\"#000000\" fill-opacity=\"1.000000\" points=\"928.011719 868.000000 928.011719 873.000000 933.011719 870.500000\" stroke=\"#000000\" stroke-opacity=\"1.000000\" stroke-width=\"1.000000\"/>\n\t\t\t\t<rect fill=\"#FF00FF\" fill-opacity=\"1.000000\" height=\"5.000000\" stroke=\"#000000\" stroke-opacity=\"1.000000\" stroke-width=\"1.000000\" width=\"9.194336\" x=\"611.158264\" y=\"868.000000\"/>\n\t\t\t\t<rect fill=\"#FF00FF\" fill-opacity=\"1.000000\" height=\"5.000000\" stroke=\"#000000\" stroke-opacity=\"1.000000\" stroke-width=\"1.000000\" width=\"2.389282\" x=\"631.232300\" y=\"868.000000\"/>\n\t\t\t\t<rect fill=\"#FF00FF\" fill-opacity=\"1.000000\" height=\"5.000000\" stroke=\"#000000\" stroke-opacity=\"1.000000\" stroke-width=\"1.000000\" width=\"1.898621\" x=\"869.112366\" y=\"868.000000\"/>\n\t\t\t\t<rect fill=\"#FF00FF\" fill-opacity=\"1.000000\" height=\"5.000000\" stroke=\"#000000\" stroke-opacity=\"1.000000\" stroke-width=\"1.000000\" width=\"1.941284\" x=\"884.429138\" y=\"868.000000\"/>\n\t\t\t\t<rect fill=\"#FF00FF\" fill-opacity=\"1.000000\" height=\"5.000000\" stroke=\"#000000\" stroke-opacity=\"1.000000\" stroke-width=\"1.000000\" width=\"2.837219\" x=\"888.653015\" y=\"868.000000\"/>\n\t\t\t\t<rect fill=\"#FF00FF\" fill-opacity=\"1.000000\" height=\"5.000000\" stroke=\"#000000\" stroke-opacity=\"1.000000\" stroke-width=\"1.000000\" width=\"4.458496\" x=\"903.308533\" y=\"868.000000\"/>\n\t\t\t\t<rect fill=\"#FF00FF\" fill-opacity=\"1.000000\" height=\"5.000000\" stroke=\"#000000\" stroke-opacity=\"1.000000\" stroke-width=\"1.000000\" width=\"2.218567\" x=\"911.820251\" y=\"868.000000\"/>\n\t\t\t\t<rect fill=\"#FF00FF\" fill-opacity=\"1.000000\" height=\"5.000000\" stroke=\"#000000\" stroke-opacity=\"1.000000\" stroke-width=\"1.000000\" width=\"2.879883\" x=\"917.153381\" y=\"868.000000\"/>\n\t\t\t\t<rect fill=\"#FF00FF\" fill-opacity=\"1.000000\" height=\"5.000000\" stroke=\"#000000\" stroke-opacity=\"1.000000\" stroke-width=\"1.000000\" width=\"5.205139\" x=\"922.486572\" y=\"868.000000\"/>\n\t\t\t\t<rect fill=\"#FFFFFF\" fill-opacity=\"1.000000\" height=\"5.000000\" stroke=\"#000000\" stroke-opacity=\"1.000000\" stroke-width=\"1.000000\" width=\"1.000000\" x=\"927.691711\" y=\"868.000000\"/>\n\t\t\t</g>\n\t\t\t<g fill=\"none\" name=\"WRAP53-205\" stroke=\"#000000\" stroke-opacity=\"1.000000\" stroke-width=\"1.000000\">\n\t\t\t\t<text style=\"font-family: Arial; font-size: 10.000000px; stroke: none; fill: #000000; \" x=\"0.000000\" y=\"885.500000\">WRAP53-205</text>\n\t\t\t\t<line stroke=\"#000000\" stroke-opacity=\"1.000000\" stroke-width=\"1.000000\" x1=\"888.653015\" x2=\"925.281128\" y1=\"890.500000\" y2=\"890.500000\"/>\n\t\t\t\t<polygon fill=\"#000000\" fill-opacity=\"1.000000\" points=\"925.281128 888.000000 925.281128 893.000000 930.281128 890.500000\" stroke=\"#000000\" stroke-opacity=\"1.000000\" stroke-width=\"1.000000\"/>\n\t\t\t\t<rect fill=\"#FF00FF\" fill-opacity=\"1.000000\" height=\"5.000000\" stroke=\"#000000\" stroke-opacity=\"1.000000\" stroke-width=\"1.000000\" width=\"2.837219\" x=\"888.653015\" y=\"888.000000\"/>\n\t\t\t\t<rect fill=\"#FF00FF\" fill-opacity=\"1.000000\" height=\"5.000000\" stroke=\"#000000\" stroke-opacity=\"1.000000\" stroke-width=\"1.000000\" width=\"1.000000\" x=\"911.820251\" y=\"888.000000\"/>\n\t\t\t\t<rect fill=\"#FFFFFF\" fill-opacity=\"1.000000\" height=\"5.000000\" stroke=\"#000000\" stroke-opacity=\"1.000000\" stroke-width=\"1.000000\" width=\"2.047913\" x=\"911.990906\" y=\"888.000000\"/>\n\t\t\t\t<rect fill=\"#FFFFFF\" fill-opacity=\"1.000000\" height=\"5.000000\" stroke=\"#000000\" stroke-opacity=\"1.000000\" stroke-width=\"1.000000\" width=\"2.879883\" x=\"917.153381\" y=\"888.000000\"/>\n\t\t\t\t<rect fill=\"#FFFFFF\" fill-opacity=\"1.000000\" height=\"5.000000\" stroke=\"#000000\" stroke-opacity=\"1.000000\" stroke-width=\"1.000000\" width=\"2.815918\" x=\"922.486572\" y=\"888.000000\"/>\n\t\t\t</g>\n\t\t\t<g fill=\"none\" name=\"WRAP53-207\" stroke=\"#000000\" stroke-opacity=\"1.000000\" stroke-width=\"1.000000\">\n\t\t\t\t<text style=\"font-family: Arial; font-size: 10.000000px; stroke: none; fill: #000000; \" x=\"0.000000\" y=\"905.500000\">WRAP53-207</text>\n\t\t\t\t<line stroke=\"#000000\" stroke-opacity=\"1.000000\" stroke-width=\"1.000000\" x1=\"898.487366\" x2=\"928.011719\" y1=\"910.500000\" y2=\"910.500000\"/>\n\t\t\t\t<polygon fill=\"#000000\" fill-opacity=\"1.000000\" points=\"928.011719 908.000000 928.011719 913.000000 933.011719 910.500000\" stroke=\"#000000\" stroke-opacity=\"1.000000\" stroke-width=\"1.000000\"/>\n\t\t\t\t<rect fill=\"#8B0000\" fill-opacity=\"1.000000\" height=\"5.000000\" stroke=\"#000000\" stroke-opacity=\"1.000000\" stroke-width=\"1.000000\" width=\"3.583862\" x=\"911.820251\" y=\"908.000000\"/>\n\t\t\t\t<rect fill=\"#8B0000\" fill-opacity=\"1.000000\" height=\"5.000000\" stroke=\"#000000\" stroke-opacity=\"1.000000\" stroke-width=\"1.000000\" width=\"2.879883\" x=\"917.153381\" y=\"908.000000\"/>\n\t\t\t\t<rect fill=\"#8B0000\" fill-opacity=\"1.000000\" height=\"5.000000\" stroke=\"#000000\" stroke-opacity=\"1.000000\" stroke-width=\"1.000000\" width=\"5.546509\" x=\"922.486572\" y=\"908.000000\"/>\n\t\t\t</g>\n\t\t\t<g fill=\"none\" name=\"WRAP53-208\" stroke=\"#000000\" stroke-opacity=\"1.000000\" stroke-width=\"1.000000\">\n\t\t\t\t<text style=\"font-family: Arial; font-size: 10.000000px; stroke: none; fill: #000000; \" x=\"0.000000\" y=\"925.500000\">WRAP53-208</text>\n\t\t\t\t<line stroke=\"#000000\" stroke-opacity=\"1.000000\" stroke-width=\"1.000000\" x1=\"914.764160\" x2=\"928.011719\" y1=\"930.500000\" y2=\"930.500000\"/>\n\t\t\t\t<polygon fill=\"#000000\" fill-opacity=\"1.000000\" points=\"928.011719 928.000000 928.011719 933.000000 933.011719 930.500000\" stroke=\"#000000\" stroke-opacity=\"1.000000\" stroke-width=\"1.000000\"/>\n\t\t\t\t<rect fill=\"#8B0000\" fill-opacity=\"1.000000\" height=\"5.000000\" stroke=\"#000000\" stroke-opacity=\"1.000000\" stroke-width=\"1.000000\" width=\"5.546509\" x=\"922.486572\" y=\"928.000000\"/>\n\t\t\t</g>\n\t\t</g>\n\t</g>\n</svg>"
          },
          "metadata": {
            "tags": []
          }
        }
      ]
    },
    {
      "cell_type": "markdown",
      "metadata": {
        "id": "pCrpmit2M_dJ"
      },
      "source": [
        "## Help"
      ]
    },
    {
      "cell_type": "code",
      "metadata": {
        "id": "cRapooPgM_kI",
        "outputId": "2d69071b-2956-41a4-b779-85bdd45dd919",
        "colab": {
          "base_uri": "https://localhost:8080/",
          "height": 495
        }
      },
      "source": [
        "!./GeneMapSVG --help"
      ],
      "execution_count": null,
      "outputs": [
        {
          "output_type": "stream",
          "text": [
            "============================================================\n",
            "MapSVG v1.1.0\n",
            "Copyright (c) 2019 Yuji Suehiro. All rights reserved. \n",
            "MIT license\n",
            ". . . . . . . . . . . . . . . . . . . . . . . . . . . . . . \n",
            "\n",
            "Usage:\n",
            "  MapSVG -r file -a file -p position -w value -o file { -gmt }\n",
            ". . . . . . . . . . . . . . . . . . . . . . . . . . . . . . \n",
            "\n",
            "[Option]\n",
            "  --annot/-a          : \u001b[0m\u001b[31m*\u001b[0m\u001b[39m\u001b[49m\u001b[0m\u001b[39m\u001b[49mAnnotation database file path.\n",
            "  --gene/-g           :  Show genes positions.\n",
            "  --mut/-m            :  Show mutations positions.\n",
            "  --out/-o            : \u001b[0m\u001b[31m*\u001b[0m\u001b[39m\u001b[49m\u001b[0m\u001b[39m\u001b[49mFile path to export.\n",
            "  --pos/-p            : \u001b[0m\u001b[31m*\u001b[0m\u001b[39m\u001b[49m\u001b[0m\u001b[39m\u001b[49mPosition to obtain the map.\n",
            "  --ref/-r            : \u001b[0m\u001b[31m*\u001b[0m\u001b[39m\u001b[49m\u001b[0m\u001b[39m\u001b[49mReference file path.\n",
            "  --trs/-t            :  Show transcripts positions.\n",
            "  --width/-w          : \u001b[0m\u001b[31m*\u001b[0m\u001b[39m\u001b[49m\u001b[0m\u001b[39m\u001b[49mWidth of viewport.\n",
            "\n",
            "  --help/-H           : Show help.\n",
            "  --version/-V        : Show version.\n",
            "  --info/-I           : Show app information.\n",
            "\n",
            "\u001b[0m\u001b[31m  * Required option.\u001b[0m\u001b[39m\u001b[49m\u001b[0m\u001b[39m\u001b[49m\n",
            "\u001b[0m\u001b[34m  # Choose one of the options.\u001b[0m\u001b[39m\u001b[49m\u001b[0m\u001b[39m\u001b[49m\n",
            "============================================================\n"
          ],
          "name": "stdout"
        }
      ]
    },
    {
      "cell_type": "markdown",
      "metadata": {
        "id": "xs9H1vgyKc_F"
      },
      "source": [
        "# 2-7. Use VariantDetect"
      ]
    },
    {
      "cell_type": "markdown",
      "metadata": {
        "id": "5yh3HR5WNYgp"
      },
      "source": [
        "##  Installation\n",
        "Execute the following commands."
      ]
    },
    {
      "cell_type": "code",
      "metadata": {
        "id": "kJaI9L0pNYnD"
      },
      "source": [
        "!mkdir -p Codes\n",
        "!wget https://raw.githubusercontent.com/YujiSue/BioInfoTools/master/VariantDetect/VariantDetect.cpp -O Codes/VariantDetect.cpp\n",
        "!wget https://raw.githubusercontent.com/YujiSue/BioInfoTools/master/VariantDetect/VarAnalyzer.cpp -O Codes/VarAnalyzer.cpp\n",
        "!wget https://raw.githubusercontent.com/YujiSue/BioInfoTools/master/VariantDetect/VarAnalyzer.h -O Codes/VarAnalyzer.h\n",
        "!wget https://raw.githubusercontent.com/YujiSue/BioInfoTools/master/VariantDetect/VarSearch.cpp -O Codes/VarSearch.cpp\n",
        "!g++ -std=c++11 -I/usr/local/include/slib -I./Codes -L/usr/local/lib -O2 -o VariantDetect Codes/VarAnalyzer.cpp Codes/VariantDetect.cpp Codes/VarSearch.cpp -lsapp -lsbioinfo -lsobj -lcurl"
      ],
      "execution_count": null,
      "outputs": []
    },
    {
      "cell_type": "markdown",
      "metadata": {
        "id": "VBuBGg8pLcVX"
      },
      "source": [
        "## Usage example (H.sapiens)\n",
        "* Prepare the encoded genomic sequence by GenomeConverter"
      ]
    },
    {
      "cell_type": "markdown",
      "metadata": {
        "id": "I9Q1Ddk2LiWu"
      },
      "source": [
        "i. Get a test sequence (.fa)"
      ]
    },
    {
      "cell_type": "code",
      "metadata": {
        "id": "9AdJm4xJLmcP"
      },
      "source": [
        "!wget https://drive.google.com/uc?id=1fjPJHbnU-42G8EvVE-dVefzv5mBTQ67c -O test.fa"
      ],
      "execution_count": null,
      "outputs": []
    },
    {
      "cell_type": "markdown",
      "metadata": {
        "id": "4CkjLhsKLmrk"
      },
      "source": [
        "ii. Execute the app.\n",
        "\n",
        " > "
      ]
    },
    {
      "cell_type": "code",
      "metadata": {
        "id": "0ReSD4bTLmzx",
        "outputId": "e9079dca-96a0-4c90-ce5a-c8d5da876029",
        "colab": {
          "base_uri": "https://localhost:8080/",
          "height": 35
        }
      },
      "source": [
        "!./VariantDetect -r human.bin -i test.fa"
      ],
      "execution_count": null,
      "outputs": [
        {
          "output_type": "stream",
          "text": [
            "8:19956191 (G->A substitution).\n"
          ],
          "name": "stdout"
        }
      ]
    },
    {
      "cell_type": "markdown",
      "metadata": {
        "id": "PlAavVeuNYsg"
      },
      "source": [
        "## Usage example (C.elegans)\n",
        "* Prepare the encoded genomic sequence by GenomeConverter"
      ]
    },
    {
      "cell_type": "markdown",
      "metadata": {
        "id": "P0ZPbUtMGitD"
      },
      "source": [
        "i. Get a test sequence (.ab1)"
      ]
    },
    {
      "cell_type": "code",
      "metadata": {
        "id": "Dd8xMVD9Gk_q"
      },
      "source": [
        "!wget https://drive.google.com/uc?id=1zD2uoiHrmVemxq_G18A0tHofQeyhGSVC -O test.ab1"
      ],
      "execution_count": null,
      "outputs": []
    },
    {
      "cell_type": "markdown",
      "metadata": {
        "id": "jEqKv70qGn4y"
      },
      "source": [
        "ii. Execute the app."
      ]
    },
    {
      "cell_type": "code",
      "metadata": {
        "id": "3DdWoBGANYy0",
        "outputId": "24ca8274-2951-4431-95b0-c4cea0b1800e",
        "colab": {
          "base_uri": "https://localhost:8080/",
          "height": 35
        }
      },
      "source": [
        "!./VariantDetect -r nematode.bin -i test.ab1"
      ],
      "execution_count": null,
      "outputs": [
        {
          "output_type": "stream",
          "text": [
            "V:3937069-3937272 (204 bp deletion).\n"
          ],
          "name": "stdout"
        }
      ]
    },
    {
      "cell_type": "markdown",
      "metadata": {
        "id": "659xjN_JOCri"
      },
      "source": [
        "## Help"
      ]
    },
    {
      "cell_type": "code",
      "metadata": {
        "id": "BOJxApkYOCze",
        "outputId": "49737a13-6d55-44b5-85fb-d4d18a665f0c",
        "colab": {
          "base_uri": "https://localhost:8080/",
          "height": 460
        }
      },
      "source": [
        "!./VariantDetect --help"
      ],
      "execution_count": null,
      "outputs": [
        {
          "output_type": "stream",
          "text": [
            "============================================================\n",
            "VariantDetect v1.1.0\n",
            "Copyright (c) 2015 Yuji Suehiro. All rights reserved. \n",
            "MIT license.\n",
            ". . . . . . . . . . . . . . . . . . . . . . . . . . . . . . \n",
            "\n",
            "Usage:\n",
            "  VariantDetect -r file -i file(fa/txt/seq/ab1) { -m size } { -t value } { -g size } { -s size }\n",
            ". . . . . . . . . . . . . . . . . . . . . . . . . . . . . . \n",
            "\n",
            "[Option]\n",
            "  --gap/-g            :  Permissible gap size.\n",
            "  --input/-i          : \u001b[0m\u001b[31m*\u001b[0m\u001b[39m\u001b[49m\u001b[0m\u001b[39m\u001b[49mInput file path.\n",
            "  --match/-m          :  Minimum match size.\n",
            "  --ref/-r            : \u001b[0m\u001b[31m*\u001b[0m\u001b[39m\u001b[49m\u001b[0m\u001b[39m\u001b[49mReference file path.\n",
            "  --seed/-s           :  Seed size.\n",
            "  --threshold/-t      :  Threshold to extend alignemnt.\n",
            "\n",
            "  --help/-H           : Show help.\n",
            "  --version/-V        : Show version.\n",
            "  --info/-I           : Show app information.\n",
            "\n",
            "\u001b[0m\u001b[31m  * Required option.\u001b[0m\u001b[39m\u001b[49m\u001b[0m\u001b[39m\u001b[49m\n",
            "\u001b[0m\u001b[34m  # Choose one of the options.\u001b[0m\u001b[39m\u001b[49m\u001b[0m\u001b[39m\u001b[49m\n",
            "============================================================\n"
          ],
          "name": "stdout"
        }
      ]
    }
  ]
}